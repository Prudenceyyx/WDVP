{
 "cells": [
  {
   "cell_type": "markdown",
   "metadata": {},
   "source": [
    "## Multi subplots"
   ]
  },
  {
   "cell_type": "code",
   "execution_count": 19,
   "metadata": {},
   "outputs": [
    {
     "data": {
      "text/html": [
       "<script>requirejs.config({paths: { 'plotly': ['https://cdn.plot.ly/plotly-latest.min']},});if(!window.Plotly) {{require(['plotly'],function(plotly) {window.Plotly=plotly;});}}</script>"
      ],
      "text/vnd.plotly.v1+html": [
       "<script>requirejs.config({paths: { 'plotly': ['https://cdn.plot.ly/plotly-latest.min']},});if(!window.Plotly) {{require(['plotly'],function(plotly) {window.Plotly=plotly;});}}</script>"
      ]
     },
     "metadata": {},
     "output_type": "display_data"
    },
    {
     "name": "stdout",
     "output_type": "stream",
     "text": [
      "This is the format of your plot grid:\n",
      "[ (1,1) x1,y1 ]  [ (1,2) x2,y2 ]\n",
      "[ (2,1) x3,y3 ]  [ (2,2) x4,y4 ]\n",
      "\n"
     ]
    },
    {
     "data": {
      "application/vnd.plotly.v1+json": {
       "data": [
        {
         "type": "scatter",
         "x": [
          1,
          2,
          3
         ],
         "xaxis": "x1",
         "y": [
          4,
          5,
          6
         ],
         "yaxis": "y1"
        },
        {
         "type": "scatter",
         "x": [
          20,
          30,
          40
         ],
         "xaxis": "x2",
         "y": [
          50,
          60,
          70
         ],
         "yaxis": "y2"
        },
        {
         "type": "scatter",
         "x": [
          300,
          400,
          500
         ],
         "xaxis": "x3",
         "y": [
          600,
          700,
          800
         ],
         "yaxis": "y3"
        },
        {
         "type": "scatter",
         "x": [
          4000,
          5000,
          6000
         ],
         "xaxis": "x4",
         "y": [
          7000,
          8000,
          9000
         ],
         "yaxis": "y4"
        }
       ],
       "layout": {
        "annotations": [
         {
          "font": {
           "size": 16
          },
          "showarrow": false,
          "text": "Plot 1",
          "x": 0.225,
          "xanchor": "center",
          "xref": "paper",
          "y": 1,
          "yanchor": "bottom",
          "yref": "paper"
         },
         {
          "font": {
           "size": 16
          },
          "showarrow": false,
          "text": "Plot 2",
          "x": 0.775,
          "xanchor": "center",
          "xref": "paper",
          "y": 1,
          "yanchor": "bottom",
          "yref": "paper"
         },
         {
          "font": {
           "size": 16
          },
          "showarrow": false,
          "text": "Plot 3",
          "x": 0.225,
          "xanchor": "center",
          "xref": "paper",
          "y": 0.375,
          "yanchor": "bottom",
          "yref": "paper"
         },
         {
          "font": {
           "size": 16
          },
          "showarrow": false,
          "text": "Plot 4",
          "x": 0.775,
          "xanchor": "center",
          "xref": "paper",
          "y": 0.375,
          "yanchor": "bottom",
          "yref": "paper"
         }
        ],
        "height": 600,
        "title": "Multiple Subplots with Titles",
        "width": 600,
        "xaxis1": {
         "anchor": "y1",
         "domain": [
          0,
          0.45
         ]
        },
        "xaxis2": {
         "anchor": "y2",
         "domain": [
          0.55,
          1
         ]
        },
        "xaxis3": {
         "anchor": "y3",
         "domain": [
          0,
          0.45
         ]
        },
        "xaxis4": {
         "anchor": "y4",
         "domain": [
          0.55,
          1
         ]
        },
        "yaxis1": {
         "anchor": "x1",
         "domain": [
          0.625,
          1
         ]
        },
        "yaxis2": {
         "anchor": "x2",
         "domain": [
          0.625,
          1
         ]
        },
        "yaxis3": {
         "anchor": "x3",
         "domain": [
          0,
          0.375
         ]
        },
        "yaxis4": {
         "anchor": "x4",
         "domain": [
          0,
          0.375
         ]
        }
       }
      },
      "text/html": [
       "<div id=\"339314ac-a57e-46e8-b6a8-0a24766ff074\" style=\"height: 600px; width: 600px;\" class=\"plotly-graph-div\"></div><script type=\"text/javascript\">require([\"plotly\"], function(Plotly) { window.PLOTLYENV=window.PLOTLYENV || {};window.PLOTLYENV.BASE_URL=\"https://plot.ly\";Plotly.newPlot(\"339314ac-a57e-46e8-b6a8-0a24766ff074\", [{\"type\": \"scatter\", \"x\": [1, 2, 3], \"y\": [4, 5, 6], \"xaxis\": \"x1\", \"yaxis\": \"y1\"}, {\"type\": \"scatter\", \"x\": [20, 30, 40], \"y\": [50, 60, 70], \"xaxis\": \"x2\", \"yaxis\": \"y2\"}, {\"type\": \"scatter\", \"x\": [300, 400, 500], \"y\": [600, 700, 800], \"xaxis\": \"x3\", \"yaxis\": \"y3\"}, {\"type\": \"scatter\", \"x\": [4000, 5000, 6000], \"y\": [7000, 8000, 9000], \"xaxis\": \"x4\", \"yaxis\": \"y4\"}], {\"xaxis1\": {\"domain\": [0.0, 0.45], \"anchor\": \"y1\"}, \"yaxis1\": {\"domain\": [0.625, 1.0], \"anchor\": \"x1\"}, \"xaxis2\": {\"domain\": [0.55, 1.0], \"anchor\": \"y2\"}, \"yaxis2\": {\"domain\": [0.625, 1.0], \"anchor\": \"x2\"}, \"xaxis3\": {\"domain\": [0.0, 0.45], \"anchor\": \"y3\"}, \"yaxis3\": {\"domain\": [0.0, 0.375], \"anchor\": \"x3\"}, \"xaxis4\": {\"domain\": [0.55, 1.0], \"anchor\": \"y4\"}, \"yaxis4\": {\"domain\": [0.0, 0.375], \"anchor\": \"x4\"}, \"annotations\": [{\"y\": 1.0, \"xref\": \"paper\", \"x\": 0.225, \"yref\": \"paper\", \"text\": \"Plot 1\", \"showarrow\": false, \"font\": {\"size\": 16}, \"xanchor\": \"center\", \"yanchor\": \"bottom\"}, {\"y\": 1.0, \"xref\": \"paper\", \"x\": 0.775, \"yref\": \"paper\", \"text\": \"Plot 2\", \"showarrow\": false, \"font\": {\"size\": 16}, \"xanchor\": \"center\", \"yanchor\": \"bottom\"}, {\"y\": 0.375, \"xref\": \"paper\", \"x\": 0.225, \"yref\": \"paper\", \"text\": \"Plot 3\", \"showarrow\": false, \"font\": {\"size\": 16}, \"xanchor\": \"center\", \"yanchor\": \"bottom\"}, {\"y\": 0.375, \"xref\": \"paper\", \"x\": 0.775, \"yref\": \"paper\", \"text\": \"Plot 4\", \"showarrow\": false, \"font\": {\"size\": 16}, \"xanchor\": \"center\", \"yanchor\": \"bottom\"}], \"height\": 600, \"width\": 600, \"title\": \"Multiple Subplots with Titles\"}, {\"showLink\": true, \"linkText\": \"Export to plot.ly\"})});</script>"
      ],
      "text/vnd.plotly.v1+html": [
       "<div id=\"339314ac-a57e-46e8-b6a8-0a24766ff074\" style=\"height: 600px; width: 600px;\" class=\"plotly-graph-div\"></div><script type=\"text/javascript\">require([\"plotly\"], function(Plotly) { window.PLOTLYENV=window.PLOTLYENV || {};window.PLOTLYENV.BASE_URL=\"https://plot.ly\";Plotly.newPlot(\"339314ac-a57e-46e8-b6a8-0a24766ff074\", [{\"type\": \"scatter\", \"x\": [1, 2, 3], \"y\": [4, 5, 6], \"xaxis\": \"x1\", \"yaxis\": \"y1\"}, {\"type\": \"scatter\", \"x\": [20, 30, 40], \"y\": [50, 60, 70], \"xaxis\": \"x2\", \"yaxis\": \"y2\"}, {\"type\": \"scatter\", \"x\": [300, 400, 500], \"y\": [600, 700, 800], \"xaxis\": \"x3\", \"yaxis\": \"y3\"}, {\"type\": \"scatter\", \"x\": [4000, 5000, 6000], \"y\": [7000, 8000, 9000], \"xaxis\": \"x4\", \"yaxis\": \"y4\"}], {\"xaxis1\": {\"domain\": [0.0, 0.45], \"anchor\": \"y1\"}, \"yaxis1\": {\"domain\": [0.625, 1.0], \"anchor\": \"x1\"}, \"xaxis2\": {\"domain\": [0.55, 1.0], \"anchor\": \"y2\"}, \"yaxis2\": {\"domain\": [0.625, 1.0], \"anchor\": \"x2\"}, \"xaxis3\": {\"domain\": [0.0, 0.45], \"anchor\": \"y3\"}, \"yaxis3\": {\"domain\": [0.0, 0.375], \"anchor\": \"x3\"}, \"xaxis4\": {\"domain\": [0.55, 1.0], \"anchor\": \"y4\"}, \"yaxis4\": {\"domain\": [0.0, 0.375], \"anchor\": \"x4\"}, \"annotations\": [{\"y\": 1.0, \"xref\": \"paper\", \"x\": 0.225, \"yref\": \"paper\", \"text\": \"Plot 1\", \"showarrow\": false, \"font\": {\"size\": 16}, \"xanchor\": \"center\", \"yanchor\": \"bottom\"}, {\"y\": 1.0, \"xref\": \"paper\", \"x\": 0.775, \"yref\": \"paper\", \"text\": \"Plot 2\", \"showarrow\": false, \"font\": {\"size\": 16}, \"xanchor\": \"center\", \"yanchor\": \"bottom\"}, {\"y\": 0.375, \"xref\": \"paper\", \"x\": 0.225, \"yref\": \"paper\", \"text\": \"Plot 3\", \"showarrow\": false, \"font\": {\"size\": 16}, \"xanchor\": \"center\", \"yanchor\": \"bottom\"}, {\"y\": 0.375, \"xref\": \"paper\", \"x\": 0.775, \"yref\": \"paper\", \"text\": \"Plot 4\", \"showarrow\": false, \"font\": {\"size\": 16}, \"xanchor\": \"center\", \"yanchor\": \"bottom\"}], \"height\": 600, \"width\": 600, \"title\": \"Multiple Subplots with Titles\"}, {\"showLink\": true, \"linkText\": \"Export to plot.ly\"})});</script>"
      ]
     },
     "metadata": {},
     "output_type": "display_data"
    }
   ],
   "source": [
    "from plotly import tools\n",
    "# import plotly.plotly as py\n",
    "import plotly.graph_objs as go\n",
    "from plotly.offline import download_plotlyjs, init_notebook_mode, plot, iplot\n",
    "\n",
    "init_notebook_mode(connected=True)\n",
    "\n",
    "trace1 = go.Scatter(x=[1, 2, 3], y=[4, 5, 6])\n",
    "trace2 = go.Scatter(x=[20, 30, 40], y=[50, 60, 70])\n",
    "trace3 = go.Scatter(x=[300, 400, 500], y=[600, 700, 800])\n",
    "trace4 = go.Scatter(x=[4000, 5000, 6000], y=[7000, 8000, 9000])\n",
    "\n",
    "fig = tools.make_subplots(rows=2, cols=2, subplot_titles=('Plot 1', 'Plot 2',\n",
    "                                                          'Plot 3', 'Plot 4'))\n",
    "\n",
    "fig.append_trace(trace1, 1, 1)\n",
    "fig.append_trace(trace2, 1, 2)\n",
    "fig.append_trace(trace3, 2, 1)\n",
    "fig.append_trace(trace4, 2, 2)\n",
    "\n",
    "fig['layout'].update(height=600, width=600, title='Multiple Subplots' +\n",
    "                                                  ' with Titles')\n",
    "\n",
    "iplot(fig)"
   ]
  },
  {
   "cell_type": "code",
   "execution_count": 23,
   "metadata": {},
   "outputs": [
    {
     "name": "stdout",
     "output_type": "stream",
     "text": [
      "This is the format of your plot grid:\n",
      "[ (1,1) x1,y1 ]    [ (1,2) x2,y2 ]    [ (1,3) x3,y3 ]    [ (1,4) x4,y4 ]  \n",
      "[ (2,1) x5,y5 ]    [ (2,2) x6,y6 ]    [ (2,3) x7,y7 ]    [ (2,4) x8,y8 ]  \n",
      "[ (3,1) x9,y9 ]    [ (3,2) x10,y10 ]  [ (3,3) x11,y11 ]  [ (3,4) x12,y12 ]\n",
      "[ (4,1) x13,y13 ]  [ (4,2) x14,y14 ]  [ (4,3) x15,y15 ]  [ (4,4) x16,y16 ]\n",
      "\n"
     ]
    },
    {
     "data": {
      "application/vnd.plotly.v1+json": {
       "data": [
        {
         "type": "scatter",
         "x": [
          8,
          7,
          7
         ],
         "xaxis": "x1",
         "y": [
          6,
          4,
          7
         ],
         "yaxis": "y1"
        },
        {
         "type": "scatter",
         "x": [
          5,
          2,
          1
         ],
         "xaxis": "x2",
         "y": [
          2,
          9,
          6
         ],
         "yaxis": "y2"
        },
        {
         "type": "scatter",
         "x": [
          4,
          6,
          2
         ],
         "xaxis": "x3",
         "y": [
          4,
          5,
          10
         ],
         "yaxis": "y3"
        },
        {
         "type": "scatter",
         "x": [
          2,
          3,
          5
         ],
         "xaxis": "x4",
         "y": [
          9,
          2,
          4
         ],
         "yaxis": "y4"
        },
        {
         "type": "scatter",
         "x": [
          3,
          8,
          9
         ],
         "xaxis": "x5",
         "y": [
          10,
          5,
          4
         ],
         "yaxis": "y5"
        },
        {
         "type": "scatter",
         "x": [
          9,
          5,
          4
         ],
         "xaxis": "x6",
         "y": [
          8,
          7,
          9
         ],
         "yaxis": "y6"
        },
        {
         "type": "scatter",
         "x": [
          7,
          10,
          5
         ],
         "xaxis": "x7",
         "y": [
          4,
          5,
          4
         ],
         "yaxis": "y7"
        },
        {
         "type": "scatter",
         "x": [
          8,
          1,
          9
         ],
         "xaxis": "x8",
         "y": [
          10,
          10,
          1
         ],
         "yaxis": "y8"
        },
        {
         "type": "scatter",
         "x": [
          4,
          7,
          10
         ],
         "xaxis": "x9",
         "y": [
          10,
          5,
          10
         ],
         "yaxis": "y9"
        },
        {
         "type": "scatter",
         "x": [
          3,
          10,
          7
         ],
         "xaxis": "x10",
         "y": [
          4,
          9,
          4
         ],
         "yaxis": "y10"
        },
        {
         "type": "scatter",
         "x": [
          4,
          5,
          8
         ],
         "xaxis": "x11",
         "y": [
          3,
          7,
          4
         ],
         "yaxis": "y11"
        },
        {
         "type": "scatter",
         "x": [
          1,
          3,
          10
         ],
         "xaxis": "x12",
         "y": [
          10,
          7,
          6
         ],
         "yaxis": "y12"
        },
        {
         "type": "scatter",
         "x": [
          4,
          10,
          3
         ],
         "xaxis": "x13",
         "y": [
          8,
          6,
          4
         ],
         "yaxis": "y13"
        }
       ],
       "layout": {
        "annotations": [
         {
          "font": {
           "size": 16
          },
          "showarrow": false,
          "text": "Plot 0",
          "x": 0.10625,
          "xanchor": "center",
          "xref": "paper",
          "y": 1,
          "yanchor": "bottom",
          "yref": "paper"
         },
         {
          "font": {
           "size": 16
          },
          "showarrow": false,
          "text": "Plot 1",
          "x": 0.36875,
          "xanchor": "center",
          "xref": "paper",
          "y": 1,
          "yanchor": "bottom",
          "yref": "paper"
         },
         {
          "font": {
           "size": 16
          },
          "showarrow": false,
          "text": "Plot 2",
          "x": 0.6312500000000001,
          "xanchor": "center",
          "xref": "paper",
          "y": 1,
          "yanchor": "bottom",
          "yref": "paper"
         },
         {
          "font": {
           "size": 16
          },
          "showarrow": false,
          "text": "Plot 3",
          "x": 0.89375,
          "xanchor": "center",
          "xref": "paper",
          "y": 1,
          "yanchor": "bottom",
          "yref": "paper"
         },
         {
          "font": {
           "size": 16
          },
          "showarrow": false,
          "text": "Plot 4",
          "x": 0.10625,
          "xanchor": "center",
          "xref": "paper",
          "y": 0.71875,
          "yanchor": "bottom",
          "yref": "paper"
         },
         {
          "font": {
           "size": 16
          },
          "showarrow": false,
          "text": "Plot 5",
          "x": 0.36875,
          "xanchor": "center",
          "xref": "paper",
          "y": 0.71875,
          "yanchor": "bottom",
          "yref": "paper"
         },
         {
          "font": {
           "size": 16
          },
          "showarrow": false,
          "text": "Plot 6",
          "x": 0.6312500000000001,
          "xanchor": "center",
          "xref": "paper",
          "y": 0.71875,
          "yanchor": "bottom",
          "yref": "paper"
         },
         {
          "font": {
           "size": 16
          },
          "showarrow": false,
          "text": "Plot 7",
          "x": 0.89375,
          "xanchor": "center",
          "xref": "paper",
          "y": 0.71875,
          "yanchor": "bottom",
          "yref": "paper"
         },
         {
          "font": {
           "size": 16
          },
          "showarrow": false,
          "text": "Plot 8",
          "x": 0.10625,
          "xanchor": "center",
          "xref": "paper",
          "y": 0.4375,
          "yanchor": "bottom",
          "yref": "paper"
         },
         {
          "font": {
           "size": 16
          },
          "showarrow": false,
          "text": "Plot 9",
          "x": 0.36875,
          "xanchor": "center",
          "xref": "paper",
          "y": 0.4375,
          "yanchor": "bottom",
          "yref": "paper"
         },
         {
          "font": {
           "size": 16
          },
          "showarrow": false,
          "text": "Plot 10",
          "x": 0.6312500000000001,
          "xanchor": "center",
          "xref": "paper",
          "y": 0.4375,
          "yanchor": "bottom",
          "yref": "paper"
         },
         {
          "font": {
           "size": 16
          },
          "showarrow": false,
          "text": "Plot 11",
          "x": 0.89375,
          "xanchor": "center",
          "xref": "paper",
          "y": 0.4375,
          "yanchor": "bottom",
          "yref": "paper"
         },
         {
          "font": {
           "size": 16
          },
          "showarrow": false,
          "text": "Plot 12",
          "x": 0.10625,
          "xanchor": "center",
          "xref": "paper",
          "y": 0.15625,
          "yanchor": "bottom",
          "yref": "paper"
         }
        ],
        "height": 600,
        "title": "Multiple Subplots with Titles",
        "width": 600,
        "xaxis1": {
         "anchor": "y1",
         "domain": [
          0,
          0.2125
         ]
        },
        "xaxis10": {
         "anchor": "y10",
         "domain": [
          0.2625,
          0.475
         ]
        },
        "xaxis11": {
         "anchor": "y11",
         "domain": [
          0.525,
          0.7375
         ]
        },
        "xaxis12": {
         "anchor": "y12",
         "domain": [
          0.7875,
          1
         ]
        },
        "xaxis13": {
         "anchor": "y13",
         "domain": [
          0,
          0.2125
         ]
        },
        "xaxis14": {
         "anchor": "y14",
         "domain": [
          0.2625,
          0.475
         ]
        },
        "xaxis15": {
         "anchor": "y15",
         "domain": [
          0.525,
          0.7375
         ]
        },
        "xaxis16": {
         "anchor": "y16",
         "domain": [
          0.7875,
          1
         ]
        },
        "xaxis2": {
         "anchor": "y2",
         "domain": [
          0.2625,
          0.475
         ]
        },
        "xaxis3": {
         "anchor": "y3",
         "domain": [
          0.525,
          0.7375
         ]
        },
        "xaxis4": {
         "anchor": "y4",
         "domain": [
          0.7875,
          1
         ]
        },
        "xaxis5": {
         "anchor": "y5",
         "domain": [
          0,
          0.2125
         ]
        },
        "xaxis6": {
         "anchor": "y6",
         "domain": [
          0.2625,
          0.475
         ]
        },
        "xaxis7": {
         "anchor": "y7",
         "domain": [
          0.525,
          0.7375
         ]
        },
        "xaxis8": {
         "anchor": "y8",
         "domain": [
          0.7875,
          1
         ]
        },
        "xaxis9": {
         "anchor": "y9",
         "domain": [
          0,
          0.2125
         ]
        },
        "yaxis1": {
         "anchor": "x1",
         "domain": [
          0.84375,
          1
         ]
        },
        "yaxis10": {
         "anchor": "x10",
         "domain": [
          0.28125,
          0.4375
         ]
        },
        "yaxis11": {
         "anchor": "x11",
         "domain": [
          0.28125,
          0.4375
         ]
        },
        "yaxis12": {
         "anchor": "x12",
         "domain": [
          0.28125,
          0.4375
         ]
        },
        "yaxis13": {
         "anchor": "x13",
         "domain": [
          0,
          0.15625
         ]
        },
        "yaxis14": {
         "anchor": "x14",
         "domain": [
          0,
          0.15625
         ]
        },
        "yaxis15": {
         "anchor": "x15",
         "domain": [
          0,
          0.15625
         ]
        },
        "yaxis16": {
         "anchor": "x16",
         "domain": [
          0,
          0.15625
         ]
        },
        "yaxis2": {
         "anchor": "x2",
         "domain": [
          0.84375,
          1
         ]
        },
        "yaxis3": {
         "anchor": "x3",
         "domain": [
          0.84375,
          1
         ]
        },
        "yaxis4": {
         "anchor": "x4",
         "domain": [
          0.84375,
          1
         ]
        },
        "yaxis5": {
         "anchor": "x5",
         "domain": [
          0.5625,
          0.71875
         ]
        },
        "yaxis6": {
         "anchor": "x6",
         "domain": [
          0.5625,
          0.71875
         ]
        },
        "yaxis7": {
         "anchor": "x7",
         "domain": [
          0.5625,
          0.71875
         ]
        },
        "yaxis8": {
         "anchor": "x8",
         "domain": [
          0.5625,
          0.71875
         ]
        },
        "yaxis9": {
         "anchor": "x9",
         "domain": [
          0.28125,
          0.4375
         ]
        }
       }
      },
      "text/html": [
       "<div id=\"cadb8e67-c376-4143-a1c9-6525df0b64b6\" style=\"height: 600px; width: 600px;\" class=\"plotly-graph-div\"></div><script type=\"text/javascript\">require([\"plotly\"], function(Plotly) { window.PLOTLYENV=window.PLOTLYENV || {};window.PLOTLYENV.BASE_URL=\"https://plot.ly\";Plotly.newPlot(\"cadb8e67-c376-4143-a1c9-6525df0b64b6\", [{\"type\": \"scatter\", \"x\": [8, 7, 7], \"y\": [6, 4, 7], \"xaxis\": \"x1\", \"yaxis\": \"y1\"}, {\"type\": \"scatter\", \"x\": [5, 2, 1], \"y\": [2, 9, 6], \"xaxis\": \"x2\", \"yaxis\": \"y2\"}, {\"type\": \"scatter\", \"x\": [4, 6, 2], \"y\": [4, 5, 10], \"xaxis\": \"x3\", \"yaxis\": \"y3\"}, {\"type\": \"scatter\", \"x\": [2, 3, 5], \"y\": [9, 2, 4], \"xaxis\": \"x4\", \"yaxis\": \"y4\"}, {\"type\": \"scatter\", \"x\": [3, 8, 9], \"y\": [10, 5, 4], \"xaxis\": \"x5\", \"yaxis\": \"y5\"}, {\"type\": \"scatter\", \"x\": [9, 5, 4], \"y\": [8, 7, 9], \"xaxis\": \"x6\", \"yaxis\": \"y6\"}, {\"type\": \"scatter\", \"x\": [7, 10, 5], \"y\": [4, 5, 4], \"xaxis\": \"x7\", \"yaxis\": \"y7\"}, {\"type\": \"scatter\", \"x\": [8, 1, 9], \"y\": [10, 10, 1], \"xaxis\": \"x8\", \"yaxis\": \"y8\"}, {\"type\": \"scatter\", \"x\": [4, 7, 10], \"y\": [10, 5, 10], \"xaxis\": \"x9\", \"yaxis\": \"y9\"}, {\"type\": \"scatter\", \"x\": [3, 10, 7], \"y\": [4, 9, 4], \"xaxis\": \"x10\", \"yaxis\": \"y10\"}, {\"type\": \"scatter\", \"x\": [4, 5, 8], \"y\": [3, 7, 4], \"xaxis\": \"x11\", \"yaxis\": \"y11\"}, {\"type\": \"scatter\", \"x\": [1, 3, 10], \"y\": [10, 7, 6], \"xaxis\": \"x12\", \"yaxis\": \"y12\"}, {\"type\": \"scatter\", \"x\": [4, 10, 3], \"y\": [8, 6, 4], \"xaxis\": \"x13\", \"yaxis\": \"y13\"}], {\"xaxis1\": {\"domain\": [0.0, 0.2125], \"anchor\": \"y1\"}, \"yaxis1\": {\"domain\": [0.84375, 1.0], \"anchor\": \"x1\"}, \"xaxis2\": {\"domain\": [0.2625, 0.475], \"anchor\": \"y2\"}, \"yaxis2\": {\"domain\": [0.84375, 1.0], \"anchor\": \"x2\"}, \"xaxis3\": {\"domain\": [0.525, 0.7375], \"anchor\": \"y3\"}, \"yaxis3\": {\"domain\": [0.84375, 1.0], \"anchor\": \"x3\"}, \"xaxis4\": {\"domain\": [0.7875, 1.0], \"anchor\": \"y4\"}, \"yaxis4\": {\"domain\": [0.84375, 1.0], \"anchor\": \"x4\"}, \"xaxis5\": {\"domain\": [0.0, 0.2125], \"anchor\": \"y5\"}, \"yaxis5\": {\"domain\": [0.5625, 0.71875], \"anchor\": \"x5\"}, \"xaxis6\": {\"domain\": [0.2625, 0.475], \"anchor\": \"y6\"}, \"yaxis6\": {\"domain\": [0.5625, 0.71875], \"anchor\": \"x6\"}, \"xaxis7\": {\"domain\": [0.525, 0.7375], \"anchor\": \"y7\"}, \"yaxis7\": {\"domain\": [0.5625, 0.71875], \"anchor\": \"x7\"}, \"xaxis8\": {\"domain\": [0.7875, 1.0], \"anchor\": \"y8\"}, \"yaxis8\": {\"domain\": [0.5625, 0.71875], \"anchor\": \"x8\"}, \"xaxis9\": {\"domain\": [0.0, 0.2125], \"anchor\": \"y9\"}, \"yaxis9\": {\"domain\": [0.28125, 0.4375], \"anchor\": \"x9\"}, \"xaxis10\": {\"domain\": [0.2625, 0.475], \"anchor\": \"y10\"}, \"yaxis10\": {\"domain\": [0.28125, 0.4375], \"anchor\": \"x10\"}, \"xaxis11\": {\"domain\": [0.525, 0.7375], \"anchor\": \"y11\"}, \"yaxis11\": {\"domain\": [0.28125, 0.4375], \"anchor\": \"x11\"}, \"xaxis12\": {\"domain\": [0.7875, 1.0], \"anchor\": \"y12\"}, \"yaxis12\": {\"domain\": [0.28125, 0.4375], \"anchor\": \"x12\"}, \"xaxis13\": {\"domain\": [0.0, 0.2125], \"anchor\": \"y13\"}, \"yaxis13\": {\"domain\": [0.0, 0.15625], \"anchor\": \"x13\"}, \"xaxis14\": {\"domain\": [0.2625, 0.475], \"anchor\": \"y14\"}, \"yaxis14\": {\"domain\": [0.0, 0.15625], \"anchor\": \"x14\"}, \"xaxis15\": {\"domain\": [0.525, 0.7375], \"anchor\": \"y15\"}, \"yaxis15\": {\"domain\": [0.0, 0.15625], \"anchor\": \"x15\"}, \"xaxis16\": {\"domain\": [0.7875, 1.0], \"anchor\": \"y16\"}, \"yaxis16\": {\"domain\": [0.0, 0.15625], \"anchor\": \"x16\"}, \"annotations\": [{\"y\": 1.0, \"xref\": \"paper\", \"x\": 0.10625, \"yref\": \"paper\", \"text\": \"Plot 0\", \"showarrow\": false, \"font\": {\"size\": 16}, \"xanchor\": \"center\", \"yanchor\": \"bottom\"}, {\"y\": 1.0, \"xref\": \"paper\", \"x\": 0.36875, \"yref\": \"paper\", \"text\": \"Plot 1\", \"showarrow\": false, \"font\": {\"size\": 16}, \"xanchor\": \"center\", \"yanchor\": \"bottom\"}, {\"y\": 1.0, \"xref\": \"paper\", \"x\": 0.6312500000000001, \"yref\": \"paper\", \"text\": \"Plot 2\", \"showarrow\": false, \"font\": {\"size\": 16}, \"xanchor\": \"center\", \"yanchor\": \"bottom\"}, {\"y\": 1.0, \"xref\": \"paper\", \"x\": 0.89375, \"yref\": \"paper\", \"text\": \"Plot 3\", \"showarrow\": false, \"font\": {\"size\": 16}, \"xanchor\": \"center\", \"yanchor\": \"bottom\"}, {\"y\": 0.71875, \"xref\": \"paper\", \"x\": 0.10625, \"yref\": \"paper\", \"text\": \"Plot 4\", \"showarrow\": false, \"font\": {\"size\": 16}, \"xanchor\": \"center\", \"yanchor\": \"bottom\"}, {\"y\": 0.71875, \"xref\": \"paper\", \"x\": 0.36875, \"yref\": \"paper\", \"text\": \"Plot 5\", \"showarrow\": false, \"font\": {\"size\": 16}, \"xanchor\": \"center\", \"yanchor\": \"bottom\"}, {\"y\": 0.71875, \"xref\": \"paper\", \"x\": 0.6312500000000001, \"yref\": \"paper\", \"text\": \"Plot 6\", \"showarrow\": false, \"font\": {\"size\": 16}, \"xanchor\": \"center\", \"yanchor\": \"bottom\"}, {\"y\": 0.71875, \"xref\": \"paper\", \"x\": 0.89375, \"yref\": \"paper\", \"text\": \"Plot 7\", \"showarrow\": false, \"font\": {\"size\": 16}, \"xanchor\": \"center\", \"yanchor\": \"bottom\"}, {\"y\": 0.4375, \"xref\": \"paper\", \"x\": 0.10625, \"yref\": \"paper\", \"text\": \"Plot 8\", \"showarrow\": false, \"font\": {\"size\": 16}, \"xanchor\": \"center\", \"yanchor\": \"bottom\"}, {\"y\": 0.4375, \"xref\": \"paper\", \"x\": 0.36875, \"yref\": \"paper\", \"text\": \"Plot 9\", \"showarrow\": false, \"font\": {\"size\": 16}, \"xanchor\": \"center\", \"yanchor\": \"bottom\"}, {\"y\": 0.4375, \"xref\": \"paper\", \"x\": 0.6312500000000001, \"yref\": \"paper\", \"text\": \"Plot 10\", \"showarrow\": false, \"font\": {\"size\": 16}, \"xanchor\": \"center\", \"yanchor\": \"bottom\"}, {\"y\": 0.4375, \"xref\": \"paper\", \"x\": 0.89375, \"yref\": \"paper\", \"text\": \"Plot 11\", \"showarrow\": false, \"font\": {\"size\": 16}, \"xanchor\": \"center\", \"yanchor\": \"bottom\"}, {\"y\": 0.15625, \"xref\": \"paper\", \"x\": 0.10625, \"yref\": \"paper\", \"text\": \"Plot 12\", \"showarrow\": false, \"font\": {\"size\": 16}, \"xanchor\": \"center\", \"yanchor\": \"bottom\"}], \"height\": 600, \"width\": 600, \"title\": \"Multiple Subplots with Titles\"}, {\"showLink\": true, \"linkText\": \"Export to plot.ly\"})});</script>"
      ],
      "text/vnd.plotly.v1+html": [
       "<div id=\"cadb8e67-c376-4143-a1c9-6525df0b64b6\" style=\"height: 600px; width: 600px;\" class=\"plotly-graph-div\"></div><script type=\"text/javascript\">require([\"plotly\"], function(Plotly) { window.PLOTLYENV=window.PLOTLYENV || {};window.PLOTLYENV.BASE_URL=\"https://plot.ly\";Plotly.newPlot(\"cadb8e67-c376-4143-a1c9-6525df0b64b6\", [{\"type\": \"scatter\", \"x\": [8, 7, 7], \"y\": [6, 4, 7], \"xaxis\": \"x1\", \"yaxis\": \"y1\"}, {\"type\": \"scatter\", \"x\": [5, 2, 1], \"y\": [2, 9, 6], \"xaxis\": \"x2\", \"yaxis\": \"y2\"}, {\"type\": \"scatter\", \"x\": [4, 6, 2], \"y\": [4, 5, 10], \"xaxis\": \"x3\", \"yaxis\": \"y3\"}, {\"type\": \"scatter\", \"x\": [2, 3, 5], \"y\": [9, 2, 4], \"xaxis\": \"x4\", \"yaxis\": \"y4\"}, {\"type\": \"scatter\", \"x\": [3, 8, 9], \"y\": [10, 5, 4], \"xaxis\": \"x5\", \"yaxis\": \"y5\"}, {\"type\": \"scatter\", \"x\": [9, 5, 4], \"y\": [8, 7, 9], \"xaxis\": \"x6\", \"yaxis\": \"y6\"}, {\"type\": \"scatter\", \"x\": [7, 10, 5], \"y\": [4, 5, 4], \"xaxis\": \"x7\", \"yaxis\": \"y7\"}, {\"type\": \"scatter\", \"x\": [8, 1, 9], \"y\": [10, 10, 1], \"xaxis\": \"x8\", \"yaxis\": \"y8\"}, {\"type\": \"scatter\", \"x\": [4, 7, 10], \"y\": [10, 5, 10], \"xaxis\": \"x9\", \"yaxis\": \"y9\"}, {\"type\": \"scatter\", \"x\": [3, 10, 7], \"y\": [4, 9, 4], \"xaxis\": \"x10\", \"yaxis\": \"y10\"}, {\"type\": \"scatter\", \"x\": [4, 5, 8], \"y\": [3, 7, 4], \"xaxis\": \"x11\", \"yaxis\": \"y11\"}, {\"type\": \"scatter\", \"x\": [1, 3, 10], \"y\": [10, 7, 6], \"xaxis\": \"x12\", \"yaxis\": \"y12\"}, {\"type\": \"scatter\", \"x\": [4, 10, 3], \"y\": [8, 6, 4], \"xaxis\": \"x13\", \"yaxis\": \"y13\"}], {\"xaxis1\": {\"domain\": [0.0, 0.2125], \"anchor\": \"y1\"}, \"yaxis1\": {\"domain\": [0.84375, 1.0], \"anchor\": \"x1\"}, \"xaxis2\": {\"domain\": [0.2625, 0.475], \"anchor\": \"y2\"}, \"yaxis2\": {\"domain\": [0.84375, 1.0], \"anchor\": \"x2\"}, \"xaxis3\": {\"domain\": [0.525, 0.7375], \"anchor\": \"y3\"}, \"yaxis3\": {\"domain\": [0.84375, 1.0], \"anchor\": \"x3\"}, \"xaxis4\": {\"domain\": [0.7875, 1.0], \"anchor\": \"y4\"}, \"yaxis4\": {\"domain\": [0.84375, 1.0], \"anchor\": \"x4\"}, \"xaxis5\": {\"domain\": [0.0, 0.2125], \"anchor\": \"y5\"}, \"yaxis5\": {\"domain\": [0.5625, 0.71875], \"anchor\": \"x5\"}, \"xaxis6\": {\"domain\": [0.2625, 0.475], \"anchor\": \"y6\"}, \"yaxis6\": {\"domain\": [0.5625, 0.71875], \"anchor\": \"x6\"}, \"xaxis7\": {\"domain\": [0.525, 0.7375], \"anchor\": \"y7\"}, \"yaxis7\": {\"domain\": [0.5625, 0.71875], \"anchor\": \"x7\"}, \"xaxis8\": {\"domain\": [0.7875, 1.0], \"anchor\": \"y8\"}, \"yaxis8\": {\"domain\": [0.5625, 0.71875], \"anchor\": \"x8\"}, \"xaxis9\": {\"domain\": [0.0, 0.2125], \"anchor\": \"y9\"}, \"yaxis9\": {\"domain\": [0.28125, 0.4375], \"anchor\": \"x9\"}, \"xaxis10\": {\"domain\": [0.2625, 0.475], \"anchor\": \"y10\"}, \"yaxis10\": {\"domain\": [0.28125, 0.4375], \"anchor\": \"x10\"}, \"xaxis11\": {\"domain\": [0.525, 0.7375], \"anchor\": \"y11\"}, \"yaxis11\": {\"domain\": [0.28125, 0.4375], \"anchor\": \"x11\"}, \"xaxis12\": {\"domain\": [0.7875, 1.0], \"anchor\": \"y12\"}, \"yaxis12\": {\"domain\": [0.28125, 0.4375], \"anchor\": \"x12\"}, \"xaxis13\": {\"domain\": [0.0, 0.2125], \"anchor\": \"y13\"}, \"yaxis13\": {\"domain\": [0.0, 0.15625], \"anchor\": \"x13\"}, \"xaxis14\": {\"domain\": [0.2625, 0.475], \"anchor\": \"y14\"}, \"yaxis14\": {\"domain\": [0.0, 0.15625], \"anchor\": \"x14\"}, \"xaxis15\": {\"domain\": [0.525, 0.7375], \"anchor\": \"y15\"}, \"yaxis15\": {\"domain\": [0.0, 0.15625], \"anchor\": \"x15\"}, \"xaxis16\": {\"domain\": [0.7875, 1.0], \"anchor\": \"y16\"}, \"yaxis16\": {\"domain\": [0.0, 0.15625], \"anchor\": \"x16\"}, \"annotations\": [{\"y\": 1.0, \"xref\": \"paper\", \"x\": 0.10625, \"yref\": \"paper\", \"text\": \"Plot 0\", \"showarrow\": false, \"font\": {\"size\": 16}, \"xanchor\": \"center\", \"yanchor\": \"bottom\"}, {\"y\": 1.0, \"xref\": \"paper\", \"x\": 0.36875, \"yref\": \"paper\", \"text\": \"Plot 1\", \"showarrow\": false, \"font\": {\"size\": 16}, \"xanchor\": \"center\", \"yanchor\": \"bottom\"}, {\"y\": 1.0, \"xref\": \"paper\", \"x\": 0.6312500000000001, \"yref\": \"paper\", \"text\": \"Plot 2\", \"showarrow\": false, \"font\": {\"size\": 16}, \"xanchor\": \"center\", \"yanchor\": \"bottom\"}, {\"y\": 1.0, \"xref\": \"paper\", \"x\": 0.89375, \"yref\": \"paper\", \"text\": \"Plot 3\", \"showarrow\": false, \"font\": {\"size\": 16}, \"xanchor\": \"center\", \"yanchor\": \"bottom\"}, {\"y\": 0.71875, \"xref\": \"paper\", \"x\": 0.10625, \"yref\": \"paper\", \"text\": \"Plot 4\", \"showarrow\": false, \"font\": {\"size\": 16}, \"xanchor\": \"center\", \"yanchor\": \"bottom\"}, {\"y\": 0.71875, \"xref\": \"paper\", \"x\": 0.36875, \"yref\": \"paper\", \"text\": \"Plot 5\", \"showarrow\": false, \"font\": {\"size\": 16}, \"xanchor\": \"center\", \"yanchor\": \"bottom\"}, {\"y\": 0.71875, \"xref\": \"paper\", \"x\": 0.6312500000000001, \"yref\": \"paper\", \"text\": \"Plot 6\", \"showarrow\": false, \"font\": {\"size\": 16}, \"xanchor\": \"center\", \"yanchor\": \"bottom\"}, {\"y\": 0.71875, \"xref\": \"paper\", \"x\": 0.89375, \"yref\": \"paper\", \"text\": \"Plot 7\", \"showarrow\": false, \"font\": {\"size\": 16}, \"xanchor\": \"center\", \"yanchor\": \"bottom\"}, {\"y\": 0.4375, \"xref\": \"paper\", \"x\": 0.10625, \"yref\": \"paper\", \"text\": \"Plot 8\", \"showarrow\": false, \"font\": {\"size\": 16}, \"xanchor\": \"center\", \"yanchor\": \"bottom\"}, {\"y\": 0.4375, \"xref\": \"paper\", \"x\": 0.36875, \"yref\": \"paper\", \"text\": \"Plot 9\", \"showarrow\": false, \"font\": {\"size\": 16}, \"xanchor\": \"center\", \"yanchor\": \"bottom\"}, {\"y\": 0.4375, \"xref\": \"paper\", \"x\": 0.6312500000000001, \"yref\": \"paper\", \"text\": \"Plot 10\", \"showarrow\": false, \"font\": {\"size\": 16}, \"xanchor\": \"center\", \"yanchor\": \"bottom\"}, {\"y\": 0.4375, \"xref\": \"paper\", \"x\": 0.89375, \"yref\": \"paper\", \"text\": \"Plot 11\", \"showarrow\": false, \"font\": {\"size\": 16}, \"xanchor\": \"center\", \"yanchor\": \"bottom\"}, {\"y\": 0.15625, \"xref\": \"paper\", \"x\": 0.10625, \"yref\": \"paper\", \"text\": \"Plot 12\", \"showarrow\": false, \"font\": {\"size\": 16}, \"xanchor\": \"center\", \"yanchor\": \"bottom\"}], \"height\": 600, \"width\": 600, \"title\": \"Multiple Subplots with Titles\"}, {\"showLink\": true, \"linkText\": \"Export to plot.ly\"})});</script>"
      ]
     },
     "metadata": {},
     "output_type": "display_data"
    }
   ],
   "source": [
    "\n",
    "total= 13\n",
    "cols = 4\n",
    "rows = total//cols+1\n",
    "\n",
    "\n",
    "def oneTrace():\n",
    "    return go.Scatter(x = [randint(1,10),randint(1,10),randint(1,10)],\n",
    "                      y = [randint(1,10),randint(1,10),randint(1,10)])\n",
    "\n",
    "traces = [oneTrace() for i in range(total)]\n",
    "\n",
    "subplot_titles = ['Plot '+str(i) for i in range(total)]\n",
    "\n",
    "fig = tools.make_subplots(rows=rows, cols=cols, subplot_titles=subplot_titles)\n",
    "\n",
    "# from left to right, from up to down\n",
    "for i,e in enumerate(traces):\n",
    "    x = i//cols+1  #row index\n",
    "    y = i%cols+1  #column index\n",
    "    fig.append_trace(e,x,y)\n",
    "\n",
    "\n",
    "fig['layout'].update(height=600, width=600, title='Multiple Subplots' +\n",
    "                                                  ' with Titles')\n",
    "\n",
    "iplot(fig)"
   ]
  },
  {
   "cell_type": "code",
   "execution_count": null,
   "metadata": {},
   "outputs": [],
   "source": []
  }
 ],
 "metadata": {
  "kernelspec": {
   "display_name": "Python 3",
   "language": "python",
   "name": "python3"
  },
  "language_info": {
   "codemirror_mode": {
    "name": "ipython",
    "version": 3
   },
   "file_extension": ".py",
   "mimetype": "text/x-python",
   "name": "python",
   "nbconvert_exporter": "python",
   "pygments_lexer": "ipython3",
   "version": "3.6.6"
  }
 },
 "nbformat": 4,
 "nbformat_minor": 2
}
