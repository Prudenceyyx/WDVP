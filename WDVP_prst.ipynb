{
 "cells": [
  {
   "cell_type": "code",
   "execution_count": 1,
   "metadata": {},
   "outputs": [],
   "source": [
    "# Data Manipulation Tools\n",
    "import pandas as pd\n",
    "\n",
    "from sklearn import preprocessing\n",
    "from sklearn.preprocessing import StandardScaler  # For scaling dataset\n",
    "from sklearn.cluster import KMeans #For clustering\n",
    "\n",
    "# Data Visualization Tools\n",
    "import seaborn as sns           \n",
    "import plotly.graph_objs as go # version=2.7.0\n",
    "import matplotlib.pyplot as plt"
   ]
  },
  {
   "cell_type": "markdown",
   "metadata": {},
   "source": [
    "# Data Overview"
   ]
  },
  {
   "cell_type": "code",
   "execution_count": 25,
   "metadata": {
    "scrolled": true
   },
   "outputs": [
    {
     "name": "stdout",
     "output_type": "stream",
     "text": [
      "Index(['indicator', 'population', 'gdp_per_cap', 'gdp', 'gdp_growth',\n",
      "       'gdp_per_km2', 'land_area', 'population_density', 'total_foreign_born',\n",
      "       'per_foreign_born', 'population_living_abroad_diaspora',\n",
      "       'population_living_abroad', 'happy_planet_index', 'world_happiness',\n",
      "       'human_development_index', 'health_expenditure', 'government_spending',\n",
      "       'sustainable_economic_development_assessment(seda)', 'employment',\n",
      "       'political_stability&absence_of_violence', 'control_of_corruption',\n",
      "       'judicial_effectiveness', 'government_integrity', 'property_rights',\n",
      "       'tax_burden', 'overall_economic_freedom', 'financial_freedom'],\n",
      "      dtype='object')\n"
     ]
    }
   ],
   "source": [
    "\n",
    "# pd.options.display.float_format =  '{:,.5f}'.format\n",
    "\n",
    "# Transform df(Dataframe) to numeric dtype\n",
    "df = pd.read_excel(\"Datasets_cleaned.xlsx\", 0)\n",
    "# cols = df.columns\n",
    "\n",
    "# cols\n",
    "print(df.columns)"
   ]
  },
  {
   "cell_type": "code",
   "execution_count": 26,
   "metadata": {},
   "outputs": [
    {
     "name": "stdout",
     "output_type": "stream",
     "text": [
      "           population  gdp_per_cap           gdp      gdp_per_km2  \\\n",
      "count        67.00000     67.00000      67.00000         67.00000   \n",
      "mean  1,873,134.32836     42.46866  21,050.87015  4,926,014.63806   \n",
      "std   1,565,981.35458     70.89179  24,102.55335 13,309,816.67525   \n",
      "min     100,000.00000      0.20000     651.90000      5,136.56852   \n",
      "25%     450,000.00000      3.45000   6,107.70000    199,950.89965   \n",
      "50%   1,300,000.00000     18.40000  11,840.20000    812,864.46369   \n",
      "75%   3,000,000.00000     40.35000  26,656.00000  2,714,976.69619   \n",
      "max   4,900,000.00000    329.20000 127,659.60000 88,026,315.78947   \n",
      "\n",
      "            land_area  population_density  government_spending  \n",
      "count        67.00000            67.00000             67.00000  \n",
      "mean    112,900.59701           187.12315             58.40149  \n",
      "std     261,572.49117           345.60623             20.51883  \n",
      "min         298.00000             1.97974              0.00000  \n",
      "25%       4,580.50000            26.84716             47.00000  \n",
      "50%      22,806.00000            73.72588             63.40000  \n",
      "75%      65,781.50000           187.86034             72.70000  \n",
      "max   1,553,556.00000         1,935.90662             94.60000  \n"
     ]
    }
   ],
   "source": [
    "print(df.describe())"
   ]
  },
  {
   "cell_type": "markdown",
   "metadata": {},
   "source": [
    "# Data Processing"
   ]
  },
  {
   "cell_type": "markdown",
   "metadata": {},
   "source": [
    "## Data Cleaning"
   ]
  },
  {
   "cell_type": "code",
   "execution_count": 30,
   "metadata": {
    "scrolled": true
   },
   "outputs": [],
   "source": [
    "## Clean columns\n",
    "df = df.drop(columns=[\"happy_planet_index\",\"world_happiness\"], errors='ignore')\n",
    "\n",
    "# Transform to float type\n",
    "for i in df.columns[1:]:\n",
    "    # The reason to use pd.to_numeric instead of astyle \n",
    "    # is that the former transforms invalid data to NaN,\n",
    "    # while the other does not.\n",
    "    df[i] = pd.to_numeric(df[i],downcast='float', errors='coerce')"
   ]
  },
  {
   "cell_type": "markdown",
   "metadata": {},
   "source": [
    "## Data Preprocessing"
   ]
  },
  {
   "cell_type": "markdown",
   "metadata": {},
   "source": [
    "missing values:drop rows that have more than 20% NAN, and drop happiness planet and world happiness index"
   ]
  },
  {
   "cell_type": "code",
   "execution_count": 31,
   "metadata": {},
   "outputs": [
    {
     "data": {
      "text/html": [
       "<div>\n",
       "<style scoped>\n",
       "    .dataframe tbody tr th:only-of-type {\n",
       "        vertical-align: middle;\n",
       "    }\n",
       "\n",
       "    .dataframe tbody tr th {\n",
       "        vertical-align: top;\n",
       "    }\n",
       "\n",
       "    .dataframe thead th {\n",
       "        text-align: right;\n",
       "    }\n",
       "</style>\n",
       "<table border=\"1\" class=\"dataframe\">\n",
       "  <thead>\n",
       "    <tr style=\"text-align: right;\">\n",
       "      <th></th>\n",
       "      <th>indicator</th>\n",
       "      <th>population</th>\n",
       "      <th>gdp_per_cap</th>\n",
       "      <th>gdp</th>\n",
       "      <th>gdp_growth</th>\n",
       "      <th>gdp_per_km2</th>\n",
       "      <th>land_area</th>\n",
       "      <th>population_density</th>\n",
       "      <th>total_foreign_born</th>\n",
       "      <th>per_foreign_born</th>\n",
       "      <th>...</th>\n",
       "      <th>sustainable_economic_development_assessment(seda)</th>\n",
       "      <th>employment</th>\n",
       "      <th>political_stability&amp;absence_of_violence</th>\n",
       "      <th>control_of_corruption</th>\n",
       "      <th>judicial_effectiveness</th>\n",
       "      <th>government_integrity</th>\n",
       "      <th>property_rights</th>\n",
       "      <th>tax_burden</th>\n",
       "      <th>overall_economic_freedom</th>\n",
       "      <th>financial_freedom</th>\n",
       "    </tr>\n",
       "  </thead>\n",
       "  <tbody>\n",
       "    <tr>\n",
       "      <th>0</th>\n",
       "      <td>Albania</td>\n",
       "      <td>2,900,000.00000</td>\n",
       "      <td>34.20000</td>\n",
       "      <td>11,840.20020</td>\n",
       "      <td>1.50000</td>\n",
       "      <td>1,248,266.25000</td>\n",
       "      <td>27,398.00000</td>\n",
       "      <td>104.87070</td>\n",
       "      <td>57,616.00000</td>\n",
       "      <td>3.10000</td>\n",
       "      <td>...</td>\n",
       "      <td>53.10000</td>\n",
       "      <td>91.50000</td>\n",
       "      <td>-2.78000</td>\n",
       "      <td>-1.52000</td>\n",
       "      <td>28.20000</td>\n",
       "      <td>26.20000</td>\n",
       "      <td>17.90000</td>\n",
       "      <td>91.80000</td>\n",
       "      <td>51.30000</td>\n",
       "      <td>10.00000</td>\n",
       "    </tr>\n",
       "    <tr>\n",
       "      <th>1</th>\n",
       "      <td>Armenia</td>\n",
       "      <td>3,000,000.00000</td>\n",
       "      <td>25.80000</td>\n",
       "      <td>8,621.00000</td>\n",
       "      <td>2.60000</td>\n",
       "      <td>914,796.31250</td>\n",
       "      <td>28,203.00000</td>\n",
       "      <td>102.93115</td>\n",
       "      <td>191,199.00000</td>\n",
       "      <td>10.60000</td>\n",
       "      <td>...</td>\n",
       "      <td>51.70000</td>\n",
       "      <td>83.70000</td>\n",
       "      <td>0.40000</td>\n",
       "      <td>-0.42000</td>\n",
       "      <td>25.40000</td>\n",
       "      <td>39.90000</td>\n",
       "      <td>54.10000</td>\n",
       "      <td>85.10000</td>\n",
       "      <td>64.50000</td>\n",
       "      <td>70.00000</td>\n",
       "    </tr>\n",
       "    <tr>\n",
       "      <th>2</th>\n",
       "      <td>Bahamas</td>\n",
       "      <td>400,000.00000</td>\n",
       "      <td>9.00000</td>\n",
       "      <td>24,555.19922</td>\n",
       "      <td>3.70000</td>\n",
       "      <td>899,100.87500</td>\n",
       "      <td>10,010.00000</td>\n",
       "      <td>39.49660</td>\n",
       "      <td>59,306.00000</td>\n",
       "      <td>16.30000</td>\n",
       "      <td>...</td>\n",
       "      <td>60.40000</td>\n",
       "      <td>88.80000</td>\n",
       "      <td>-0.96000</td>\n",
       "      <td>-0.61000</td>\n",
       "      <td>35.20000</td>\n",
       "      <td>29.00000</td>\n",
       "      <td>27.80000</td>\n",
       "      <td>74.00000</td>\n",
       "      <td>44.70000</td>\n",
       "      <td>30.00000</td>\n",
       "    </tr>\n",
       "    <tr>\n",
       "      <th>4</th>\n",
       "      <td>Barbados</td>\n",
       "      <td>300,000.00000</td>\n",
       "      <td>4.80000</td>\n",
       "      <td>17,100.19922</td>\n",
       "      <td>3.00000</td>\n",
       "      <td>11,162,791.00000</td>\n",
       "      <td>430.00000</td>\n",
       "      <td>664.46277</td>\n",
       "      <td>34,475.00000</td>\n",
       "      <td>11.30000</td>\n",
       "      <td>...</td>\n",
       "      <td>60.80000</td>\n",
       "      <td>93.40000</td>\n",
       "      <td>-0.29000</td>\n",
       "      <td>-1.41000</td>\n",
       "      <td>25.40000</td>\n",
       "      <td>18.90000</td>\n",
       "      <td>36.00000</td>\n",
       "      <td>82.40000</td>\n",
       "      <td>48.60000</td>\n",
       "      <td>40.00000</td>\n",
       "    </tr>\n",
       "    <tr>\n",
       "      <th>6</th>\n",
       "      <td>Bhutan</td>\n",
       "      <td>800,000.00000</td>\n",
       "      <td>6.50000</td>\n",
       "      <td>8,227.40039</td>\n",
       "      <td>1.20000</td>\n",
       "      <td>169,297.28125</td>\n",
       "      <td>38,394.00000</td>\n",
       "      <td>21.18766</td>\n",
       "      <td>51,106.00000</td>\n",
       "      <td>6.70000</td>\n",
       "      <td>...</td>\n",
       "      <td>47.70000</td>\n",
       "      <td>93.40000</td>\n",
       "      <td>0.18000</td>\n",
       "      <td>-0.26000</td>\n",
       "      <td>44.50000</td>\n",
       "      <td>32.60000</td>\n",
       "      <td>40.80000</td>\n",
       "      <td>65.70000</td>\n",
       "      <td>52.30000</td>\n",
       "      <td>60.00000</td>\n",
       "    </tr>\n",
       "    <tr>\n",
       "      <th>7</th>\n",
       "      <td>Bosnia and Herzegovina</td>\n",
       "      <td>3,900,000.00000</td>\n",
       "      <td>42.20000</td>\n",
       "      <td>10,957.50000</td>\n",
       "      <td>3.00000</td>\n",
       "      <td>824,428.06250</td>\n",
       "      <td>51,187.00000</td>\n",
       "      <td>68.49643</td>\n",
       "      <td>34,803.00000</td>\n",
       "      <td>0.60000</td>\n",
       "      <td>...</td>\n",
       "      <td>50.20000</td>\n",
       "      <td>83.20000</td>\n",
       "      <td>-0.71000</td>\n",
       "      <td>-0.56000</td>\n",
       "      <td>47.40000</td>\n",
       "      <td>40.50000</td>\n",
       "      <td>55.30000</td>\n",
       "      <td>84.70000</td>\n",
       "      <td>68.70000</td>\n",
       "      <td>70.00000</td>\n",
       "    </tr>\n",
       "    <tr>\n",
       "      <th>8</th>\n",
       "      <td>Botswana</td>\n",
       "      <td>2,200,000.00000</td>\n",
       "      <td>36.70000</td>\n",
       "      <td>17,041.59961</td>\n",
       "      <td>2.50000</td>\n",
       "      <td>64,757.46875</td>\n",
       "      <td>566,730.00000</td>\n",
       "      <td>4.04366</td>\n",
       "      <td>160,644.00000</td>\n",
       "      <td>7.20000</td>\n",
       "      <td>...</td>\n",
       "      <td>44.10000</td>\n",
       "      <td>94.30000</td>\n",
       "      <td>0.90000</td>\n",
       "      <td>1.80000</td>\n",
       "      <td>93.40000</td>\n",
       "      <td>77.40000</td>\n",
       "      <td>78.70000</td>\n",
       "      <td>63.00000</td>\n",
       "      <td>80.90000</td>\n",
       "      <td>90.00000</td>\n",
       "    </tr>\n",
       "    <tr>\n",
       "      <th>9</th>\n",
       "      <td>Brunei Darussalam</td>\n",
       "      <td>400,000.00000</td>\n",
       "      <td>32.50000</td>\n",
       "      <td>76,884.00000</td>\n",
       "      <td>0.90000</td>\n",
       "      <td>6,172,839.50000</td>\n",
       "      <td>5,265.00000</td>\n",
       "      <td>81.34668</td>\n",
       "      <td>102,733.00000</td>\n",
       "      <td>49.30000</td>\n",
       "      <td>...</td>\n",
       "      <td>72.50000</td>\n",
       "      <td>93.90000</td>\n",
       "      <td>1.04000</td>\n",
       "      <td>1.53000</td>\n",
       "      <td>80.90000</td>\n",
       "      <td>73.50000</td>\n",
       "      <td>83.50000</td>\n",
       "      <td>49.90000</td>\n",
       "      <td>71.80000</td>\n",
       "      <td>70.00000</td>\n",
       "    </tr>\n",
       "    <tr>\n",
       "      <th>10</th>\n",
       "      <td>Cabo Verde</td>\n",
       "      <td>500,000.00000</td>\n",
       "      <td>3.50000</td>\n",
       "      <td>6,662.00000</td>\n",
       "      <td>1.10000</td>\n",
       "      <td>867,840.31250</td>\n",
       "      <td>4,033.00000</td>\n",
       "      <td>135.58015</td>\n",
       "      <td>14,924.00000</td>\n",
       "      <td>3.00000</td>\n",
       "      <td>...</td>\n",
       "      <td>nan</td>\n",
       "      <td>94.90000</td>\n",
       "      <td>-0.76000</td>\n",
       "      <td>-0.88000</td>\n",
       "      <td>36.80000</td>\n",
       "      <td>39.90000</td>\n",
       "      <td>53.60000</td>\n",
       "      <td>87.50000</td>\n",
       "      <td>64.30000</td>\n",
       "      <td>60.00000</td>\n",
       "    </tr>\n",
       "    <tr>\n",
       "      <th>11</th>\n",
       "      <td>Central African Republic</td>\n",
       "      <td>4,900,000.00000</td>\n",
       "      <td>3.20000</td>\n",
       "      <td>651.90002</td>\n",
       "      <td>0.50000</td>\n",
       "      <td>5,136.56836</td>\n",
       "      <td>622,984.00000</td>\n",
       "      <td>7.47870</td>\n",
       "      <td>81,598.00000</td>\n",
       "      <td>2.90000</td>\n",
       "      <td>...</td>\n",
       "      <td>16.10000</td>\n",
       "      <td>84.70000</td>\n",
       "      <td>1.00000</td>\n",
       "      <td>1.17000</td>\n",
       "      <td>53.50000</td>\n",
       "      <td>50.90000</td>\n",
       "      <td>46.50000</td>\n",
       "      <td>96.50000</td>\n",
       "      <td>63.30000</td>\n",
       "      <td>60.00000</td>\n",
       "    </tr>\n",
       "    <tr>\n",
       "      <th>12</th>\n",
       "      <td>Comoros</td>\n",
       "      <td>800,000.00000</td>\n",
       "      <td>1.30000</td>\n",
       "      <td>1,529.19995</td>\n",
       "      <td>3.20000</td>\n",
       "      <td>581,655.50000</td>\n",
       "      <td>2,235.00000</td>\n",
       "      <td>437.35196</td>\n",
       "      <td>12,555.00000</td>\n",
       "      <td>1.70000</td>\n",
       "      <td>...</td>\n",
       "      <td>nan</td>\n",
       "      <td>98.70000</td>\n",
       "      <td>-0.95000</td>\n",
       "      <td>-0.14000</td>\n",
       "      <td>55.10000</td>\n",
       "      <td>51.80000</td>\n",
       "      <td>62.10000</td>\n",
       "      <td>99.90000</td>\n",
       "      <td>67.70000</td>\n",
       "      <td>80.00000</td>\n",
       "    </tr>\n",
       "    <tr>\n",
       "      <th>13</th>\n",
       "      <td>Congo</td>\n",
       "      <td>4,500,000.00000</td>\n",
       "      <td>29.80000</td>\n",
       "      <td>6,676.10010</td>\n",
       "      <td>6.40000</td>\n",
       "      <td>87,262.07812</td>\n",
       "      <td>341,500.00000</td>\n",
       "      <td>15.40483</td>\n",
       "      <td>392,996.00000</td>\n",
       "      <td>9.70000</td>\n",
       "      <td>...</td>\n",
       "      <td>32.70000</td>\n",
       "      <td>95.90000</td>\n",
       "      <td>-1.25000</td>\n",
       "      <td>-0.83000</td>\n",
       "      <td>32.60000</td>\n",
       "      <td>21.20000</td>\n",
       "      <td>32.40000</td>\n",
       "      <td>72.70000</td>\n",
       "      <td>55.10000</td>\n",
       "      <td>30.00000</td>\n",
       "    </tr>\n",
       "    <tr>\n",
       "      <th>14</th>\n",
       "      <td>Costa Rica</td>\n",
       "      <td>4,900,000.00000</td>\n",
       "      <td>80.70000</td>\n",
       "      <td>16,435.80078</td>\n",
       "      <td>0.50000</td>\n",
       "      <td>1,580,493.50000</td>\n",
       "      <td>51,060.00000</td>\n",
       "      <td>96.07851</td>\n",
       "      <td>421,697.00000</td>\n",
       "      <td>8.70000</td>\n",
       "      <td>...</td>\n",
       "      <td>58.90000</td>\n",
       "      <td>88.60000</td>\n",
       "      <td>0.98000</td>\n",
       "      <td>1.42000</td>\n",
       "      <td>54.40000</td>\n",
       "      <td>53.80000</td>\n",
       "      <td>51.40000</td>\n",
       "      <td>74.00000</td>\n",
       "      <td>57.00000</td>\n",
       "      <td>60.00000</td>\n",
       "    </tr>\n",
       "    <tr>\n",
       "      <th>15</th>\n",
       "      <td>Croatia</td>\n",
       "      <td>4,200,000.00000</td>\n",
       "      <td>95.10000</td>\n",
       "      <td>22,795.30078</td>\n",
       "      <td>-3.90000</td>\n",
       "      <td>1,699,003.12500</td>\n",
       "      <td>55,974.00000</td>\n",
       "      <td>73.72588</td>\n",
       "      <td>576,883.00000</td>\n",
       "      <td>17.60000</td>\n",
       "      <td>...</td>\n",
       "      <td>64.50000</td>\n",
       "      <td>99.50000</td>\n",
       "      <td>0.03000</td>\n",
       "      <td>-0.26000</td>\n",
       "      <td>57.30000</td>\n",
       "      <td>42.00000</td>\n",
       "      <td>53.50000</td>\n",
       "      <td>89.80000</td>\n",
       "      <td>58.10000</td>\n",
       "      <td>10.00000</td>\n",
       "    </tr>\n",
       "    <tr>\n",
       "      <th>16</th>\n",
       "      <td>Cyprus</td>\n",
       "      <td>800,000.00000</td>\n",
       "      <td>29.70000</td>\n",
       "      <td>34,970.30078</td>\n",
       "      <td>1.40000</td>\n",
       "      <td>3,213,938.00000</td>\n",
       "      <td>9,241.00000</td>\n",
       "      <td>127.65704</td>\n",
       "      <td>196,167.00000</td>\n",
       "      <td>18.20000</td>\n",
       "      <td>...</td>\n",
       "      <td>65.90000</td>\n",
       "      <td>91.70000</td>\n",
       "      <td>0.42000</td>\n",
       "      <td>1.50000</td>\n",
       "      <td>69.50000</td>\n",
       "      <td>70.90000</td>\n",
       "      <td>81.20000</td>\n",
       "      <td>44.00000</td>\n",
       "      <td>67.50000</td>\n",
       "      <td>70.00000</td>\n",
       "    </tr>\n",
       "    <tr>\n",
       "      <th>17</th>\n",
       "      <td>Djibouti</td>\n",
       "      <td>1,000,000.00000</td>\n",
       "      <td>3.30000</td>\n",
       "      <td>3,369.60010</td>\n",
       "      <td>1.50000</td>\n",
       "      <td>142,364.10938</td>\n",
       "      <td>23,180.00000</td>\n",
       "      <td>41.28494</td>\n",
       "      <td>112,351.00000</td>\n",
       "      <td>14.20000</td>\n",
       "      <td>...</td>\n",
       "      <td>nan</td>\n",
       "      <td>89.00000</td>\n",
       "      <td>0.05000</td>\n",
       "      <td>-0.27000</td>\n",
       "      <td>53.50000</td>\n",
       "      <td>34.70000</td>\n",
       "      <td>42.10000</td>\n",
       "      <td>80.00000</td>\n",
       "      <td>57.10000</td>\n",
       "      <td>50.00000</td>\n",
       "    </tr>\n",
       "    <tr>\n",
       "      <th>18</th>\n",
       "      <td>Dominica</td>\n",
       "      <td>100,000.00000</td>\n",
       "      <td>0.80000</td>\n",
       "      <td>11,374.59961</td>\n",
       "      <td>5.20000</td>\n",
       "      <td>1,065,246.37500</td>\n",
       "      <td>751.00000</td>\n",
       "      <td>98.56667</td>\n",
       "      <td>6,720.00000</td>\n",
       "      <td>8.90000</td>\n",
       "      <td>...</td>\n",
       "      <td>nan</td>\n",
       "      <td>99.00000</td>\n",
       "      <td>0.05000</td>\n",
       "      <td>-0.55000</td>\n",
       "      <td>31.30000</td>\n",
       "      <td>30.20000</td>\n",
       "      <td>35.50000</td>\n",
       "      <td>67.40000</td>\n",
       "      <td>56.70000</td>\n",
       "      <td>50.00000</td>\n",
       "    </tr>\n",
       "    <tr>\n",
       "      <th>19</th>\n",
       "      <td>Equatorial Guinea</td>\n",
       "      <td>800,000.00000</td>\n",
       "      <td>31.70000</td>\n",
       "      <td>38,639.10156</td>\n",
       "      <td>7.70000</td>\n",
       "      <td>1,130,084.50000</td>\n",
       "      <td>28,051.00000</td>\n",
       "      <td>45.19390</td>\n",
       "      <td>10,825.00000</td>\n",
       "      <td>1.30000</td>\n",
       "      <td>...</td>\n",
       "      <td>nan</td>\n",
       "      <td>97.60000</td>\n",
       "      <td>1.13000</td>\n",
       "      <td>1.57000</td>\n",
       "      <td>51.60000</td>\n",
       "      <td>50.90000</td>\n",
       "      <td>60.90000</td>\n",
       "      <td>83.00000</td>\n",
       "      <td>61.80000</td>\n",
       "      <td>30.00000</td>\n",
       "    </tr>\n",
       "    <tr>\n",
       "      <th>20</th>\n",
       "      <td>Estonia</td>\n",
       "      <td>1,300,000.00000</td>\n",
       "      <td>38.50000</td>\n",
       "      <td>29,312.90039</td>\n",
       "      <td>4.80000</td>\n",
       "      <td>908,275.93750</td>\n",
       "      <td>42,388.00000</td>\n",
       "      <td>31.03279</td>\n",
       "      <td>202,348.00000</td>\n",
       "      <td>16.40000</td>\n",
       "      <td>...</td>\n",
       "      <td>70.80000</td>\n",
       "      <td>96.30000</td>\n",
       "      <td>-0.30000</td>\n",
       "      <td>-0.66000</td>\n",
       "      <td>11.40000</td>\n",
       "      <td>23.10000</td>\n",
       "      <td>19.00000</td>\n",
       "      <td>85.70000</td>\n",
       "      <td>44.10000</td>\n",
       "      <td>40.00000</td>\n",
       "    </tr>\n",
       "    <tr>\n",
       "      <th>21</th>\n",
       "      <td>Eswatini</td>\n",
       "      <td>1,100,000.00000</td>\n",
       "      <td>11.10000</td>\n",
       "      <td>9,775.79980</td>\n",
       "      <td>2.80000</td>\n",
       "      <td>645,198.81250</td>\n",
       "      <td>17,204.00000</td>\n",
       "      <td>79.49151</td>\n",
       "      <td>31,579.00000</td>\n",
       "      <td>2.00000</td>\n",
       "      <td>...</td>\n",
       "      <td>nan</td>\n",
       "      <td>74.20000</td>\n",
       "      <td>-0.38000</td>\n",
       "      <td>-0.52000</td>\n",
       "      <td>43.70000</td>\n",
       "      <td>28.40000</td>\n",
       "      <td>39.50000</td>\n",
       "      <td>83.50000</td>\n",
       "      <td>61.40000</td>\n",
       "      <td>60.00000</td>\n",
       "    </tr>\n",
       "    <tr>\n",
       "      <th>22</th>\n",
       "      <td>Fiji</td>\n",
       "      <td>900,000.00000</td>\n",
       "      <td>8.30000</td>\n",
       "      <td>9,268.09961</td>\n",
       "      <td>-0.30000</td>\n",
       "      <td>454,197.21875</td>\n",
       "      <td>18,274.00000</td>\n",
       "      <td>49.56223</td>\n",
       "      <td>13,751.00000</td>\n",
       "      <td>2.50000</td>\n",
       "      <td>...</td>\n",
       "      <td>49.00000</td>\n",
       "      <td>81.60000</td>\n",
       "      <td>1.03000</td>\n",
       "      <td>0.80000</td>\n",
       "      <td>54.70000</td>\n",
       "      <td>56.60000</td>\n",
       "      <td>57.70000</td>\n",
       "      <td>76.10000</td>\n",
       "      <td>69.90000</td>\n",
       "      <td>70.00000</td>\n",
       "    </tr>\n",
       "    <tr>\n",
       "      <th>23</th>\n",
       "      <td>Gabon</td>\n",
       "      <td>1,900,000.00000</td>\n",
       "      <td>35.90000</td>\n",
       "      <td>19,056.50000</td>\n",
       "      <td>-3.80000</td>\n",
       "      <td>139,327.10938</td>\n",
       "      <td>257,667.00000</td>\n",
       "      <td>7.85942</td>\n",
       "      <td>268,384.00000</td>\n",
       "      <td>23.60000</td>\n",
       "      <td>...</td>\n",
       "      <td>40.90000</td>\n",
       "      <td>88.50000</td>\n",
       "      <td>-0.41000</td>\n",
       "      <td>-0.53000</td>\n",
       "      <td>55.50000</td>\n",
       "      <td>31.40000</td>\n",
       "      <td>55.80000</td>\n",
       "      <td>70.60000</td>\n",
       "      <td>51.40000</td>\n",
       "      <td>50.00000</td>\n",
       "    </tr>\n",
       "    <tr>\n",
       "      <th>24</th>\n",
       "      <td>Gambia</td>\n",
       "      <td>2,100,000.00000</td>\n",
       "      <td>3.40000</td>\n",
       "      <td>1,666.59998</td>\n",
       "      <td>-0.20000</td>\n",
       "      <td>335,968.37500</td>\n",
       "      <td>10,120.00000</td>\n",
       "      <td>207.56601</td>\n",
       "      <td>192,540.00000</td>\n",
       "      <td>8.80000</td>\n",
       "      <td>...</td>\n",
       "      <td>40.90000</td>\n",
       "      <td>98.00000</td>\n",
       "      <td>1.19000</td>\n",
       "      <td>0.71000</td>\n",
       "      <td>57.10000</td>\n",
       "      <td>45.40000</td>\n",
       "      <td>56.60000</td>\n",
       "      <td>85.60000</td>\n",
       "      <td>64.20000</td>\n",
       "      <td>50.00000</td>\n",
       "    </tr>\n",
       "    <tr>\n",
       "      <th>25</th>\n",
       "      <td>Georgia</td>\n",
       "      <td>3,700,000.00000</td>\n",
       "      <td>37.20000</td>\n",
       "      <td>10,043.79980</td>\n",
       "      <td>3.00000</td>\n",
       "      <td>533,715.93750</td>\n",
       "      <td>69,700.00000</td>\n",
       "      <td>65.03201</td>\n",
       "      <td>168,802.00000</td>\n",
       "      <td>4.40000</td>\n",
       "      <td>...</td>\n",
       "      <td>55.40000</td>\n",
       "      <td>92.00000</td>\n",
       "      <td>0.37000</td>\n",
       "      <td>-0.16000</td>\n",
       "      <td>42.50000</td>\n",
       "      <td>38.20000</td>\n",
       "      <td>63.60000</td>\n",
       "      <td>90.90000</td>\n",
       "      <td>68.30000</td>\n",
       "      <td>60.00000</td>\n",
       "    </tr>\n",
       "    <tr>\n",
       "      <th>26</th>\n",
       "      <td>Guinea-Bissau</td>\n",
       "      <td>1,700,000.00000</td>\n",
       "      <td>2.90000</td>\n",
       "      <td>1,729.90002</td>\n",
       "      <td>4.00000</td>\n",
       "      <td>103,129.44531</td>\n",
       "      <td>28,120.00000</td>\n",
       "      <td>66.19072</td>\n",
       "      <td>22,333.00000</td>\n",
       "      <td>1.10000</td>\n",
       "      <td>...</td>\n",
       "      <td>nan</td>\n",
       "      <td>97.00000</td>\n",
       "      <td>-0.92000</td>\n",
       "      <td>-0.11000</td>\n",
       "      <td>47.10000</td>\n",
       "      <td>31.80000</td>\n",
       "      <td>42.10000</td>\n",
       "      <td>80.60000</td>\n",
       "      <td>60.00000</td>\n",
       "      <td>40.00000</td>\n",
       "    </tr>\n",
       "    <tr>\n",
       "      <th>27</th>\n",
       "      <td>Guyana</td>\n",
       "      <td>800,000.00000</td>\n",
       "      <td>6.00000</td>\n",
       "      <td>7,872.89990</td>\n",
       "      <td>-4.10000</td>\n",
       "      <td>30,480.21484</td>\n",
       "      <td>196,849.00000</td>\n",
       "      <td>3.95153</td>\n",
       "      <td>15,384.00000</td>\n",
       "      <td>1.70000</td>\n",
       "      <td>...</td>\n",
       "      <td>42.80000</td>\n",
       "      <td>98.40000</td>\n",
       "      <td>-1.97000</td>\n",
       "      <td>-1.28000</td>\n",
       "      <td>21.70000</td>\n",
       "      <td>26.20000</td>\n",
       "      <td>17.60000</td>\n",
       "      <td>71.00000</td>\n",
       "      <td>50.90000</td>\n",
       "      <td>30.00000</td>\n",
       "    </tr>\n",
       "    <tr>\n",
       "      <th>28</th>\n",
       "      <td>Iceland</td>\n",
       "      <td>300,000.00000</td>\n",
       "      <td>16.50000</td>\n",
       "      <td>49,135.60156</td>\n",
       "      <td>1.80000</td>\n",
       "      <td>164,588.53125</td>\n",
       "      <td>100,250.00000</td>\n",
       "      <td>3.40433</td>\n",
       "      <td>37,522.00000</td>\n",
       "      <td>10.70000</td>\n",
       "      <td>...</td>\n",
       "      <td>83.70000</td>\n",
       "      <td>89.50000</td>\n",
       "      <td>0.90000</td>\n",
       "      <td>0.84000</td>\n",
       "      <td>52.00000</td>\n",
       "      <td>42.80000</td>\n",
       "      <td>42.10000</td>\n",
       "      <td>74.00000</td>\n",
       "      <td>60.00000</td>\n",
       "      <td>60.00000</td>\n",
       "    </tr>\n",
       "    <tr>\n",
       "      <th>29</th>\n",
       "      <td>Ireland</td>\n",
       "      <td>4,700,000.00000</td>\n",
       "      <td>324.89999</td>\n",
       "      <td>69,230.79688</td>\n",
       "      <td>6.90000</td>\n",
       "      <td>4,716,693.50000</td>\n",
       "      <td>68,883.00000</td>\n",
       "      <td>69.87383</td>\n",
       "      <td>746,260.00000</td>\n",
       "      <td>15.90000</td>\n",
       "      <td>...</td>\n",
       "      <td>80.30000</td>\n",
       "      <td>99.70000</td>\n",
       "      <td>0.17000</td>\n",
       "      <td>-1.29000</td>\n",
       "      <td>24.50000</td>\n",
       "      <td>17.70000</td>\n",
       "      <td>36.00000</td>\n",
       "      <td>89.80000</td>\n",
       "      <td>58.70000</td>\n",
       "      <td>50.00000</td>\n",
       "    </tr>\n",
       "    <tr>\n",
       "      <th>30</th>\n",
       "      <td>Jamaica</td>\n",
       "      <td>2,800,000.00000</td>\n",
       "      <td>25.40000</td>\n",
       "      <td>8,975.70020</td>\n",
       "      <td>5.90000</td>\n",
       "      <td>2,345,120.50000</td>\n",
       "      <td>10,831.00000</td>\n",
       "      <td>266.87894</td>\n",
       "      <td>23,167.00000</td>\n",
       "      <td>1.30000</td>\n",
       "      <td>...</td>\n",
       "      <td>49.70000</td>\n",
       "      <td>95.50000</td>\n",
       "      <td>-1.08000</td>\n",
       "      <td>-1.18000</td>\n",
       "      <td>29.40000</td>\n",
       "      <td>23.40000</td>\n",
       "      <td>40.60000</td>\n",
       "      <td>73.70000</td>\n",
       "      <td>51.90000</td>\n",
       "      <td>50.00000</td>\n",
       "    </tr>\n",
       "    <tr>\n",
       "      <th>31</th>\n",
       "      <td>Kiribati</td>\n",
       "      <td>100,000.00000</td>\n",
       "      <td>0.20000</td>\n",
       "      <td>1,823.30005</td>\n",
       "      <td>1.20000</td>\n",
       "      <td>246,609.12500</td>\n",
       "      <td>811.00000</td>\n",
       "      <td>143.70123</td>\n",
       "      <td>3,153.00000</td>\n",
       "      <td>2.60000</td>\n",
       "      <td>...</td>\n",
       "      <td>nan</td>\n",
       "      <td>92.90000</td>\n",
       "      <td>1.11000</td>\n",
       "      <td>1.92000</td>\n",
       "      <td>77.10000</td>\n",
       "      <td>78.30000</td>\n",
       "      <td>87.50000</td>\n",
       "      <td>76.70000</td>\n",
       "      <td>77.70000</td>\n",
       "      <td>80.00000</td>\n",
       "    </tr>\n",
       "    <tr>\n",
       "      <th>...</th>\n",
       "      <td>...</td>\n",
       "      <td>...</td>\n",
       "      <td>...</td>\n",
       "      <td>...</td>\n",
       "      <td>...</td>\n",
       "      <td>...</td>\n",
       "      <td>...</td>\n",
       "      <td>...</td>\n",
       "      <td>...</td>\n",
       "      <td>...</td>\n",
       "      <td>...</td>\n",
       "      <td>...</td>\n",
       "      <td>...</td>\n",
       "      <td>...</td>\n",
       "      <td>...</td>\n",
       "      <td>...</td>\n",
       "      <td>...</td>\n",
       "      <td>...</td>\n",
       "      <td>...</td>\n",
       "      <td>...</td>\n",
       "      <td>...</td>\n",
       "    </tr>\n",
       "    <tr>\n",
       "      <th>37</th>\n",
       "      <td>Liberia</td>\n",
       "      <td>4,400,000.00000</td>\n",
       "      <td>3.80000</td>\n",
       "      <td>855.09998</td>\n",
       "      <td>1.00000</td>\n",
       "      <td>39,451.82812</td>\n",
       "      <td>96,320.00000</td>\n",
       "      <td>49.12693</td>\n",
       "      <td>113,779.00000</td>\n",
       "      <td>5.30000</td>\n",
       "      <td>...</td>\n",
       "      <td>30.60000</td>\n",
       "      <td>80.00000</td>\n",
       "      <td>0.03000</td>\n",
       "      <td>-0.68000</td>\n",
       "      <td>28.20000</td>\n",
       "      <td>27.50000</td>\n",
       "      <td>36.70000</td>\n",
       "      <td>59.70000</td>\n",
       "      <td>56.20000</td>\n",
       "      <td>30.00000</td>\n",
       "    </tr>\n",
       "    <tr>\n",
       "      <th>38</th>\n",
       "      <td>Lithuania</td>\n",
       "      <td>2,900,000.00000</td>\n",
       "      <td>86.10000</td>\n",
       "      <td>29,972.30078</td>\n",
       "      <td>7.70000</td>\n",
       "      <td>1,373,643.87500</td>\n",
       "      <td>62,680.00000</td>\n",
       "      <td>45.13521</td>\n",
       "      <td>136,036.00000</td>\n",
       "      <td>4.90000</td>\n",
       "      <td>...</td>\n",
       "      <td>67.40000</td>\n",
       "      <td>96.40000</td>\n",
       "      <td>-2.30000</td>\n",
       "      <td>-1.42000</td>\n",
       "      <td>23.90000</td>\n",
       "      <td>27.30000</td>\n",
       "      <td>24.10000</td>\n",
       "      <td>73.20000</td>\n",
       "      <td>52.10000</td>\n",
       "      <td>20.00000</td>\n",
       "    </tr>\n",
       "    <tr>\n",
       "      <th>39</th>\n",
       "      <td>Luxembourg</td>\n",
       "      <td>600,000.00000</td>\n",
       "      <td>59.90000</td>\n",
       "      <td>104,003.29688</td>\n",
       "      <td>2.50000</td>\n",
       "      <td>23,163,186.00000</td>\n",
       "      <td>2,586.00000</td>\n",
       "      <td>231.44749</td>\n",
       "      <td>249,325.00000</td>\n",
       "      <td>43.30000</td>\n",
       "      <td>...</td>\n",
       "      <td>83.20000</td>\n",
       "      <td>88.80000</td>\n",
       "      <td>-0.53000</td>\n",
       "      <td>-1.33000</td>\n",
       "      <td>28.20000</td>\n",
       "      <td>24.60000</td>\n",
       "      <td>32.40000</td>\n",
       "      <td>60.80000</td>\n",
       "      <td>38.90000</td>\n",
       "      <td>30.00000</td>\n",
       "    </tr>\n",
       "    <tr>\n",
       "      <th>40</th>\n",
       "      <td>Macedonia</td>\n",
       "      <td>2,100,000.00000</td>\n",
       "      <td>30.30000</td>\n",
       "      <td>14,597.00000</td>\n",
       "      <td>3.70000</td>\n",
       "      <td>1,191,365.50000</td>\n",
       "      <td>25,433.00000</td>\n",
       "      <td>82.59953</td>\n",
       "      <td>130,730.00000</td>\n",
       "      <td>6.60000</td>\n",
       "      <td>...</td>\n",
       "      <td>52.50000</td>\n",
       "      <td>91.00000</td>\n",
       "      <td>0.51000</td>\n",
       "      <td>0.47000</td>\n",
       "      <td>57.80000</td>\n",
       "      <td>51.80000</td>\n",
       "      <td>54.80000</td>\n",
       "      <td>79.30000</td>\n",
       "      <td>65.60000</td>\n",
       "      <td>50.00000</td>\n",
       "    </tr>\n",
       "    <tr>\n",
       "      <th>41</th>\n",
       "      <td>Maldives</td>\n",
       "      <td>400,000.00000</td>\n",
       "      <td>5.50000</td>\n",
       "      <td>15,553.00000</td>\n",
       "      <td>8.60000</td>\n",
       "      <td>18,456,376.00000</td>\n",
       "      <td>298.00000</td>\n",
       "      <td>1,454.43335</td>\n",
       "      <td>94,086.00000</td>\n",
       "      <td>24.40000</td>\n",
       "      <td>...</td>\n",
       "      <td>nan</td>\n",
       "      <td>90.70000</td>\n",
       "      <td>-1.09000</td>\n",
       "      <td>-0.52000</td>\n",
       "      <td>44.20000</td>\n",
       "      <td>36.60000</td>\n",
       "      <td>39.40000</td>\n",
       "      <td>76.40000</td>\n",
       "      <td>62.00000</td>\n",
       "      <td>50.00000</td>\n",
       "    </tr>\n",
       "    <tr>\n",
       "      <th>42</th>\n",
       "      <td>Malta</td>\n",
       "      <td>400,000.00000</td>\n",
       "      <td>17.30000</td>\n",
       "      <td>39,833.80078</td>\n",
       "      <td>1.60000</td>\n",
       "      <td>54,746,836.00000</td>\n",
       "      <td>316.00000</td>\n",
       "      <td>1,454.03748</td>\n",
       "      <td>41,442.00000</td>\n",
       "      <td>8.00000</td>\n",
       "      <td>...</td>\n",
       "      <td>68.80000</td>\n",
       "      <td>86.50000</td>\n",
       "      <td>0.75000</td>\n",
       "      <td>0.19000</td>\n",
       "      <td>56.50000</td>\n",
       "      <td>40.50000</td>\n",
       "      <td>65.90000</td>\n",
       "      <td>66.00000</td>\n",
       "      <td>61.00000</td>\n",
       "      <td>60.00000</td>\n",
       "    </tr>\n",
       "    <tr>\n",
       "      <th>43</th>\n",
       "      <td>Mauritania</td>\n",
       "      <td>3,800,000.00000</td>\n",
       "      <td>16.40000</td>\n",
       "      <td>4,328.00000</td>\n",
       "      <td>4.30000</td>\n",
       "      <td>15,911.51660</td>\n",
       "      <td>1,030,700.00000</td>\n",
       "      <td>4.28853</td>\n",
       "      <td>138,162.00000</td>\n",
       "      <td>2.30000</td>\n",
       "      <td>...</td>\n",
       "      <td>28.90000</td>\n",
       "      <td>97.10000</td>\n",
       "      <td>0.69000</td>\n",
       "      <td>0.27000</td>\n",
       "      <td>10.00000</td>\n",
       "      <td>38.10000</td>\n",
       "      <td>29.70000</td>\n",
       "      <td>49.00000</td>\n",
       "      <td>31.90000</td>\n",
       "      <td>10.00000</td>\n",
       "    </tr>\n",
       "    <tr>\n",
       "      <th>44</th>\n",
       "      <td>Mauritius</td>\n",
       "      <td>1,300,000.00000</td>\n",
       "      <td>25.90000</td>\n",
       "      <td>20,421.59961</td>\n",
       "      <td>1.60000</td>\n",
       "      <td>12,758,621.00000</td>\n",
       "      <td>2,030.00000</td>\n",
       "      <td>622.96210</td>\n",
       "      <td>28,585.00000</td>\n",
       "      <td>3.60000</td>\n",
       "      <td>...</td>\n",
       "      <td>60.20000</td>\n",
       "      <td>88.30000</td>\n",
       "      <td>0.60000</td>\n",
       "      <td>0.78000</td>\n",
       "      <td>56.70000</td>\n",
       "      <td>41.30000</td>\n",
       "      <td>71.20000</td>\n",
       "      <td>75.20000</td>\n",
       "      <td>67.80000</td>\n",
       "      <td>60.00000</td>\n",
       "    </tr>\n",
       "    <tr>\n",
       "      <th>45</th>\n",
       "      <td>Micronesia</td>\n",
       "      <td>100,000.00000</td>\n",
       "      <td>0.30000</td>\n",
       "      <td>3,234.30005</td>\n",
       "      <td>4.20000</td>\n",
       "      <td>427,350.43750</td>\n",
       "      <td>702.00000</td>\n",
       "      <td>150.77715</td>\n",
       "      <td>2,756.00000</td>\n",
       "      <td>2.60000</td>\n",
       "      <td>...</td>\n",
       "      <td>nan</td>\n",
       "      <td>96.00000</td>\n",
       "      <td>1.02000</td>\n",
       "      <td>0.57000</td>\n",
       "      <td>57.90000</td>\n",
       "      <td>51.10000</td>\n",
       "      <td>73.00000</td>\n",
       "      <td>82.90000</td>\n",
       "      <td>74.20000</td>\n",
       "      <td>80.00000</td>\n",
       "    </tr>\n",
       "    <tr>\n",
       "      <th>46</th>\n",
       "      <td>Moldova</td>\n",
       "      <td>3,600,000.00000</td>\n",
       "      <td>18.90000</td>\n",
       "      <td>5,328.00000</td>\n",
       "      <td>1.20000</td>\n",
       "      <td>574,625.25000</td>\n",
       "      <td>32,891.00000</td>\n",
       "      <td>123.65451</td>\n",
       "      <td>142,904.00000</td>\n",
       "      <td>11.20000</td>\n",
       "      <td>...</td>\n",
       "      <td>48.70000</td>\n",
       "      <td>93.90000</td>\n",
       "      <td>0.87000</td>\n",
       "      <td>2.19000</td>\n",
       "      <td>83.60000</td>\n",
       "      <td>84.10000</td>\n",
       "      <td>84.80000</td>\n",
       "      <td>41.40000</td>\n",
       "      <td>76.60000</td>\n",
       "      <td>80.00000</td>\n",
       "    </tr>\n",
       "    <tr>\n",
       "      <th>47</th>\n",
       "      <td>Mongolia</td>\n",
       "      <td>3,000,000.00000</td>\n",
       "      <td>37.00000</td>\n",
       "      <td>12,274.90039</td>\n",
       "      <td>6.50000</td>\n",
       "      <td>23,816.32812</td>\n",
       "      <td>1,553,556.00000</td>\n",
       "      <td>1.97974</td>\n",
       "      <td>17,620.00000</td>\n",
       "      <td>0.60000</td>\n",
       "      <td>...</td>\n",
       "      <td>50.60000</td>\n",
       "      <td>93.40000</td>\n",
       "      <td>-0.71000</td>\n",
       "      <td>-0.64000</td>\n",
       "      <td>13.80000</td>\n",
       "      <td>29.00000</td>\n",
       "      <td>19.00000</td>\n",
       "      <td>69.80000</td>\n",
       "      <td>45.10000</td>\n",
       "      <td>50.00000</td>\n",
       "    </tr>\n",
       "    <tr>\n",
       "      <th>48</th>\n",
       "      <td>Montenegro</td>\n",
       "      <td>600,000.00000</td>\n",
       "      <td>10.40000</td>\n",
       "      <td>16,643.19922</td>\n",
       "      <td>-4.30000</td>\n",
       "      <td>773,119.25000</td>\n",
       "      <td>13,452.00000</td>\n",
       "      <td>46.28037</td>\n",
       "      <td>82,541.00000</td>\n",
       "      <td>8.20000</td>\n",
       "      <td>...</td>\n",
       "      <td>nan</td>\n",
       "      <td>nan</td>\n",
       "      <td>1.04000</td>\n",
       "      <td>0.65000</td>\n",
       "      <td>69.20000</td>\n",
       "      <td>49.90000</td>\n",
       "      <td>48.60000</td>\n",
       "      <td>72.90000</td>\n",
       "      <td>64.50000</td>\n",
       "      <td>30.00000</td>\n",
       "    </tr>\n",
       "    <tr>\n",
       "      <th>49</th>\n",
       "      <td>Namibia</td>\n",
       "      <td>2,300,000.00000</td>\n",
       "      <td>26.00000</td>\n",
       "      <td>11,289.70020</td>\n",
       "      <td>7.00000</td>\n",
       "      <td>31,580.60938</td>\n",
       "      <td>823,290.00000</td>\n",
       "      <td>3.07764</td>\n",
       "      <td>93,888.00000</td>\n",
       "      <td>2.20000</td>\n",
       "      <td>...</td>\n",
       "      <td>39.10000</td>\n",
       "      <td>85.60000</td>\n",
       "      <td>0.16000</td>\n",
       "      <td>-0.74000</td>\n",
       "      <td>23.10000</td>\n",
       "      <td>26.20000</td>\n",
       "      <td>51.70000</td>\n",
       "      <td>84.60000</td>\n",
       "      <td>61.60000</td>\n",
       "      <td>40.00000</td>\n",
       "    </tr>\n",
       "    <tr>\n",
       "      <th>50</th>\n",
       "      <td>New Zealand</td>\n",
       "      <td>4,700,000.00000</td>\n",
       "      <td>177.00000</td>\n",
       "      <td>37,294.00000</td>\n",
       "      <td>0.00000</td>\n",
       "      <td>669,093.56250</td>\n",
       "      <td>264,537.00000</td>\n",
       "      <td>18.20630</td>\n",
       "      <td>1,039,736.00000</td>\n",
       "      <td>25.10000</td>\n",
       "      <td>...</td>\n",
       "      <td>78.60000</td>\n",
       "      <td>94.60000</td>\n",
       "      <td>-0.10000</td>\n",
       "      <td>-0.60000</td>\n",
       "      <td>23.30000</td>\n",
       "      <td>30.20000</td>\n",
       "      <td>36.70000</td>\n",
       "      <td>79.40000</td>\n",
       "      <td>48.50000</td>\n",
       "      <td>40.00000</td>\n",
       "    </tr>\n",
       "    <tr>\n",
       "      <th>51</th>\n",
       "      <td>Oman</td>\n",
       "      <td>4,000,000.00000</td>\n",
       "      <td>184.80000</td>\n",
       "      <td>46,698.00000</td>\n",
       "      <td>4.20000</td>\n",
       "      <td>597,092.06250</td>\n",
       "      <td>309,500.00000</td>\n",
       "      <td>14.97985</td>\n",
       "      <td>1,844,978.00000</td>\n",
       "      <td>30.60000</td>\n",
       "      <td>...</td>\n",
       "      <td>62.10000</td>\n",
       "      <td>88.00000</td>\n",
       "      <td>-1.42000</td>\n",
       "      <td>-0.54000</td>\n",
       "      <td>52.50000</td>\n",
       "      <td>32.20000</td>\n",
       "      <td>32.70000</td>\n",
       "      <td>84.20000</td>\n",
       "      <td>53.40000</td>\n",
       "      <td>50.00000</td>\n",
       "    </tr>\n",
       "    <tr>\n",
       "      <th>52</th>\n",
       "      <td>Panama</td>\n",
       "      <td>4,000,000.00000</td>\n",
       "      <td>92.90000</td>\n",
       "      <td>23,023.90039</td>\n",
       "      <td>2.40000</td>\n",
       "      <td>1,249,663.75000</td>\n",
       "      <td>74,340.00000</td>\n",
       "      <td>55.13300</td>\n",
       "      <td>184,710.00000</td>\n",
       "      <td>4.70000</td>\n",
       "      <td>...</td>\n",
       "      <td>54.50000</td>\n",
       "      <td>93.70000</td>\n",
       "      <td>-0.25000</td>\n",
       "      <td>-0.51000</td>\n",
       "      <td>35.40000</td>\n",
       "      <td>25.20000</td>\n",
       "      <td>37.30000</td>\n",
       "      <td>78.90000</td>\n",
       "      <td>63.20000</td>\n",
       "      <td>60.00000</td>\n",
       "    </tr>\n",
       "    <tr>\n",
       "      <th>53</th>\n",
       "      <td>Qatar</td>\n",
       "      <td>2,600,000.00000</td>\n",
       "      <td>329.20001</td>\n",
       "      <td>127,659.60156</td>\n",
       "      <td>-12.20000</td>\n",
       "      <td>28,413,602.00000</td>\n",
       "      <td>11,586.00000</td>\n",
       "      <td>227.32222</td>\n",
       "      <td>1,687,640.00000</td>\n",
       "      <td>73.80000</td>\n",
       "      <td>...</td>\n",
       "      <td>70.80000</td>\n",
       "      <td>92.70000</td>\n",
       "      <td>-0.15000</td>\n",
       "      <td>-1.83000</td>\n",
       "      <td>17.60000</td>\n",
       "      <td>26.20000</td>\n",
       "      <td>29.80000</td>\n",
       "      <td>69.60000</td>\n",
       "      <td>42.00000</td>\n",
       "      <td>30.00000</td>\n",
       "    </tr>\n",
       "    <tr>\n",
       "      <th>54</th>\n",
       "      <td>Saint Lucia</td>\n",
       "      <td>200,000.00000</td>\n",
       "      <td>2.10000</td>\n",
       "      <td>11,782.90039</td>\n",
       "      <td>4.80000</td>\n",
       "      <td>3,465,346.50000</td>\n",
       "      <td>606.00000</td>\n",
       "      <td>293.18689</td>\n",
       "      <td>12,771.00000</td>\n",
       "      <td>6.70000</td>\n",
       "      <td>...</td>\n",
       "      <td>nan</td>\n",
       "      <td>92.70000</td>\n",
       "      <td>-0.66000</td>\n",
       "      <td>-1.20000</td>\n",
       "      <td>13.80000</td>\n",
       "      <td>23.40000</td>\n",
       "      <td>35.50000</td>\n",
       "      <td>79.90000</td>\n",
       "      <td>41.70000</td>\n",
       "      <td>20.00000</td>\n",
       "    </tr>\n",
       "    <tr>\n",
       "      <th>55</th>\n",
       "      <td>Saint Vincent and the Grenadines</td>\n",
       "      <td>100,000.00000</td>\n",
       "      <td>1.20000</td>\n",
       "      <td>11,270.50000</td>\n",
       "      <td>1.10000</td>\n",
       "      <td>3,084,833.00000</td>\n",
       "      <td>389.00000</td>\n",
       "      <td>281.78717</td>\n",
       "      <td>4,577.00000</td>\n",
       "      <td>9.40000</td>\n",
       "      <td>...</td>\n",
       "      <td>nan</td>\n",
       "      <td>93.10000</td>\n",
       "      <td>0.66000</td>\n",
       "      <td>1.24000</td>\n",
       "      <td>83.90000</td>\n",
       "      <td>75.70000</td>\n",
       "      <td>80.40000</td>\n",
       "      <td>80.70000</td>\n",
       "      <td>78.80000</td>\n",
       "      <td>80.00000</td>\n",
       "    </tr>\n",
       "    <tr>\n",
       "      <th>56</th>\n",
       "      <td>Samoa</td>\n",
       "      <td>200,000.00000</td>\n",
       "      <td>1.10000</td>\n",
       "      <td>5,553.39990</td>\n",
       "      <td>1.70000</td>\n",
       "      <td>389,932.65625</td>\n",
       "      <td>2,821.00000</td>\n",
       "      <td>69.41343</td>\n",
       "      <td>4,929.00000</td>\n",
       "      <td>3.00000</td>\n",
       "      <td>...</td>\n",
       "      <td>nan</td>\n",
       "      <td>74.70000</td>\n",
       "      <td>-0.30000</td>\n",
       "      <td>-0.30000</td>\n",
       "      <td>35.30000</td>\n",
       "      <td>26.90000</td>\n",
       "      <td>55.30000</td>\n",
       "      <td>74.80000</td>\n",
       "      <td>55.90000</td>\n",
       "      <td>40.00000</td>\n",
       "    </tr>\n",
       "    <tr>\n",
       "      <th>57</th>\n",
       "      <td>Sao Tome</td>\n",
       "      <td>200,000.00000</td>\n",
       "      <td>0.60000</td>\n",
       "      <td>3,071.80005</td>\n",
       "      <td>10.20000</td>\n",
       "      <td>622,406.62500</td>\n",
       "      <td>964.00000</td>\n",
       "      <td>212.84062</td>\n",
       "      <td>2,394.00000</td>\n",
       "      <td>3.30000</td>\n",
       "      <td>...</td>\n",
       "      <td>nan</td>\n",
       "      <td>94.30000</td>\n",
       "      <td>-1.69000</td>\n",
       "      <td>-0.56000</td>\n",
       "      <td>37.60000</td>\n",
       "      <td>37.70000</td>\n",
       "      <td>31.10000</td>\n",
       "      <td>76.50000</td>\n",
       "      <td>52.80000</td>\n",
       "      <td>20.00000</td>\n",
       "    </tr>\n",
       "    <tr>\n",
       "      <th>58</th>\n",
       "      <td>Seychelles</td>\n",
       "      <td>100,000.00000</td>\n",
       "      <td>2.60000</td>\n",
       "      <td>27,602.19922</td>\n",
       "      <td>4.30000</td>\n",
       "      <td>5,714,285.50000</td>\n",
       "      <td>455.00000</td>\n",
       "      <td>208.35435</td>\n",
       "      <td>12,791.00000</td>\n",
       "      <td>13.00000</td>\n",
       "      <td>...</td>\n",
       "      <td>59.10000</td>\n",
       "      <td>92.10000</td>\n",
       "      <td>0.79000</td>\n",
       "      <td>0.36000</td>\n",
       "      <td>47.10000</td>\n",
       "      <td>34.80000</td>\n",
       "      <td>68.30000</td>\n",
       "      <td>81.40000</td>\n",
       "      <td>62.00000</td>\n",
       "      <td>50.00000</td>\n",
       "    </tr>\n",
       "    <tr>\n",
       "      <th>59</th>\n",
       "      <td>Slovenia</td>\n",
       "      <td>2,100,000.00000</td>\n",
       "      <td>66.20000</td>\n",
       "      <td>32,084.90039</td>\n",
       "      <td>0.40000</td>\n",
       "      <td>3,285,196.75000</td>\n",
       "      <td>20,151.00000</td>\n",
       "      <td>102.61906</td>\n",
       "      <td>235,966.00000</td>\n",
       "      <td>11.30000</td>\n",
       "      <td>...</td>\n",
       "      <td>72.60000</td>\n",
       "      <td>91.00000</td>\n",
       "      <td>1.07000</td>\n",
       "      <td>2.22000</td>\n",
       "      <td>82.70000</td>\n",
       "      <td>89.80000</td>\n",
       "      <td>89.00000</td>\n",
       "      <td>66.50000</td>\n",
       "      <td>74.10000</td>\n",
       "      <td>80.00000</td>\n",
       "    </tr>\n",
       "    <tr>\n",
       "      <th>60</th>\n",
       "      <td>Solomon Islands</td>\n",
       "      <td>600,000.00000</td>\n",
       "      <td>1.20000</td>\n",
       "      <td>1,972.59998</td>\n",
       "      <td>1.10000</td>\n",
       "      <td>42,878.58203</td>\n",
       "      <td>27,986.00000</td>\n",
       "      <td>21.84148</td>\n",
       "      <td>2,585.00000</td>\n",
       "      <td>1.40000</td>\n",
       "      <td>...</td>\n",
       "      <td>nan</td>\n",
       "      <td>90.00000</td>\n",
       "      <td>0.21000</td>\n",
       "      <td>1.26000</td>\n",
       "      <td>72.70000</td>\n",
       "      <td>65.10000</td>\n",
       "      <td>84.00000</td>\n",
       "      <td>47.30000</td>\n",
       "      <td>63.90000</td>\n",
       "      <td>70.00000</td>\n",
       "    </tr>\n",
       "    <tr>\n",
       "      <th>61</th>\n",
       "      <td>Suriname</td>\n",
       "      <td>600,000.00000</td>\n",
       "      <td>7.90000</td>\n",
       "      <td>13,988.20020</td>\n",
       "      <td>4.00000</td>\n",
       "      <td>50,641.02734</td>\n",
       "      <td>156,000.00000</td>\n",
       "      <td>3.61155</td>\n",
       "      <td>46,836.00000</td>\n",
       "      <td>7.50000</td>\n",
       "      <td>...</td>\n",
       "      <td>52.70000</td>\n",
       "      <td>81.50000</td>\n",
       "      <td>-0.09000</td>\n",
       "      <td>-0.81000</td>\n",
       "      <td>27.80000</td>\n",
       "      <td>33.40000</td>\n",
       "      <td>29.90000</td>\n",
       "      <td>74.30000</td>\n",
       "      <td>58.00000</td>\n",
       "      <td>40.00000</td>\n",
       "    </tr>\n",
       "    <tr>\n",
       "      <th>62</th>\n",
       "      <td>Timor-Leste</td>\n",
       "      <td>1,200,000.00000</td>\n",
       "      <td>5.00000</td>\n",
       "      <td>4,186.60010</td>\n",
       "      <td>4.40000</td>\n",
       "      <td>336,157.06250</td>\n",
       "      <td>14,874.00000</td>\n",
       "      <td>87.17626</td>\n",
       "      <td>10,834.00000</td>\n",
       "      <td>1.00000</td>\n",
       "      <td>...</td>\n",
       "      <td>nan</td>\n",
       "      <td>70.30000</td>\n",
       "      <td>nan</td>\n",
       "      <td>nan</td>\n",
       "      <td>38.80000</td>\n",
       "      <td>36.80000</td>\n",
       "      <td>34.40000</td>\n",
       "      <td>71.90000</td>\n",
       "      <td>52.30000</td>\n",
       "      <td>50.00000</td>\n",
       "    </tr>\n",
       "    <tr>\n",
       "      <th>63</th>\n",
       "      <td>Tonga</td>\n",
       "      <td>100,000.00000</td>\n",
       "      <td>0.60000</td>\n",
       "      <td>5,386.50000</td>\n",
       "      <td>2.80000</td>\n",
       "      <td>836,820.06250</td>\n",
       "      <td>717.00000</td>\n",
       "      <td>150.02777</td>\n",
       "      <td>5,731.00000</td>\n",
       "      <td>4.80000</td>\n",
       "      <td>...</td>\n",
       "      <td>nan</td>\n",
       "      <td>88.40000</td>\n",
       "      <td>-0.37000</td>\n",
       "      <td>0.74000</td>\n",
       "      <td>64.20000</td>\n",
       "      <td>61.80000</td>\n",
       "      <td>62.80000</td>\n",
       "      <td>87.00000</td>\n",
       "      <td>76.20000</td>\n",
       "      <td>60.00000</td>\n",
       "    </tr>\n",
       "    <tr>\n",
       "      <th>64</th>\n",
       "      <td>Trinidad and Tobago</td>\n",
       "      <td>1,400,000.00000</td>\n",
       "      <td>43.60000</td>\n",
       "      <td>31,870.30078</td>\n",
       "      <td>1.50000</td>\n",
       "      <td>8,502,340.00000</td>\n",
       "      <td>5,128.00000</td>\n",
       "      <td>266.88596</td>\n",
       "      <td>49,883.00000</td>\n",
       "      <td>2.40000</td>\n",
       "      <td>...</td>\n",
       "      <td>58.70000</td>\n",
       "      <td>95.70000</td>\n",
       "      <td>0.58000</td>\n",
       "      <td>1.84000</td>\n",
       "      <td>78.00000</td>\n",
       "      <td>75.30000</td>\n",
       "      <td>81.00000</td>\n",
       "      <td>61.30000</td>\n",
       "      <td>74.20000</td>\n",
       "      <td>70.00000</td>\n",
       "    </tr>\n",
       "    <tr>\n",
       "      <th>65</th>\n",
       "      <td>Uruguay</td>\n",
       "      <td>3,500,000.00000</td>\n",
       "      <td>74.90000</td>\n",
       "      <td>21,527.30078</td>\n",
       "      <td>3.50000</td>\n",
       "      <td>427,963.31250</td>\n",
       "      <td>175,015.00000</td>\n",
       "      <td>19.75060</td>\n",
       "      <td>71,799.00000</td>\n",
       "      <td>2.30000</td>\n",
       "      <td>...</td>\n",
       "      <td>64.20000</td>\n",
       "      <td>94.20000</td>\n",
       "      <td>0.09000</td>\n",
       "      <td>-0.23000</td>\n",
       "      <td>43.70000</td>\n",
       "      <td>32.90000</td>\n",
       "      <td>48.90000</td>\n",
       "      <td>83.50000</td>\n",
       "      <td>56.00000</td>\n",
       "      <td>60.00000</td>\n",
       "    </tr>\n",
       "    <tr>\n",
       "      <th>66</th>\n",
       "      <td>Vanuatu</td>\n",
       "      <td>300,000.00000</td>\n",
       "      <td>0.70000</td>\n",
       "      <td>2,631.39990</td>\n",
       "      <td>-0.20000</td>\n",
       "      <td>57,428.82812</td>\n",
       "      <td>12,189.00000</td>\n",
       "      <td>22.66153</td>\n",
       "      <td>3,187.00000</td>\n",
       "      <td>1.30000</td>\n",
       "      <td>...</td>\n",
       "      <td>-64.50000</td>\n",
       "      <td>76.10000</td>\n",
       "      <td>-0.13000</td>\n",
       "      <td>-0.14000</td>\n",
       "      <td>59.00000</td>\n",
       "      <td>37.90000</td>\n",
       "      <td>52.30000</td>\n",
       "      <td>60.40000</td>\n",
       "      <td>57.30000</td>\n",
       "      <td>40.00000</td>\n",
       "    </tr>\n",
       "  </tbody>\n",
       "</table>\n",
       "<p>65 rows × 25 columns</p>\n",
       "</div>"
      ],
      "text/plain": [
       "                           indicator      population  gdp_per_cap  \\\n",
       "0                            Albania 2,900,000.00000     34.20000   \n",
       "1                            Armenia 3,000,000.00000     25.80000   \n",
       "2                            Bahamas   400,000.00000      9.00000   \n",
       "4                           Barbados   300,000.00000      4.80000   \n",
       "6                             Bhutan   800,000.00000      6.50000   \n",
       "7             Bosnia and Herzegovina 3,900,000.00000     42.20000   \n",
       "8                           Botswana 2,200,000.00000     36.70000   \n",
       "9                  Brunei Darussalam   400,000.00000     32.50000   \n",
       "10                        Cabo Verde   500,000.00000      3.50000   \n",
       "11          Central African Republic 4,900,000.00000      3.20000   \n",
       "12                           Comoros   800,000.00000      1.30000   \n",
       "13                             Congo 4,500,000.00000     29.80000   \n",
       "14                        Costa Rica 4,900,000.00000     80.70000   \n",
       "15                           Croatia 4,200,000.00000     95.10000   \n",
       "16                            Cyprus   800,000.00000     29.70000   \n",
       "17                          Djibouti 1,000,000.00000      3.30000   \n",
       "18                          Dominica   100,000.00000      0.80000   \n",
       "19                 Equatorial Guinea   800,000.00000     31.70000   \n",
       "20                           Estonia 1,300,000.00000     38.50000   \n",
       "21                          Eswatini 1,100,000.00000     11.10000   \n",
       "22                              Fiji   900,000.00000      8.30000   \n",
       "23                             Gabon 1,900,000.00000     35.90000   \n",
       "24                            Gambia 2,100,000.00000      3.40000   \n",
       "25                           Georgia 3,700,000.00000     37.20000   \n",
       "26                     Guinea-Bissau 1,700,000.00000      2.90000   \n",
       "27                            Guyana   800,000.00000      6.00000   \n",
       "28                           Iceland   300,000.00000     16.50000   \n",
       "29                           Ireland 4,700,000.00000    324.89999   \n",
       "30                           Jamaica 2,800,000.00000     25.40000   \n",
       "31                          Kiribati   100,000.00000      0.20000   \n",
       "..                               ...             ...          ...   \n",
       "37                           Liberia 4,400,000.00000      3.80000   \n",
       "38                         Lithuania 2,900,000.00000     86.10000   \n",
       "39                        Luxembourg   600,000.00000     59.90000   \n",
       "40                         Macedonia 2,100,000.00000     30.30000   \n",
       "41                          Maldives   400,000.00000      5.50000   \n",
       "42                             Malta   400,000.00000     17.30000   \n",
       "43                        Mauritania 3,800,000.00000     16.40000   \n",
       "44                         Mauritius 1,300,000.00000     25.90000   \n",
       "45                        Micronesia   100,000.00000      0.30000   \n",
       "46                           Moldova 3,600,000.00000     18.90000   \n",
       "47                          Mongolia 3,000,000.00000     37.00000   \n",
       "48                        Montenegro   600,000.00000     10.40000   \n",
       "49                           Namibia 2,300,000.00000     26.00000   \n",
       "50                       New Zealand 4,700,000.00000    177.00000   \n",
       "51                              Oman 4,000,000.00000    184.80000   \n",
       "52                            Panama 4,000,000.00000     92.90000   \n",
       "53                             Qatar 2,600,000.00000    329.20001   \n",
       "54                       Saint Lucia   200,000.00000      2.10000   \n",
       "55  Saint Vincent and the Grenadines   100,000.00000      1.20000   \n",
       "56                             Samoa   200,000.00000      1.10000   \n",
       "57                          Sao Tome   200,000.00000      0.60000   \n",
       "58                        Seychelles   100,000.00000      2.60000   \n",
       "59                          Slovenia 2,100,000.00000     66.20000   \n",
       "60                   Solomon Islands   600,000.00000      1.20000   \n",
       "61                          Suriname   600,000.00000      7.90000   \n",
       "62                       Timor-Leste 1,200,000.00000      5.00000   \n",
       "63                             Tonga   100,000.00000      0.60000   \n",
       "64               Trinidad and Tobago 1,400,000.00000     43.60000   \n",
       "65                           Uruguay 3,500,000.00000     74.90000   \n",
       "66                           Vanuatu   300,000.00000      0.70000   \n",
       "\n",
       "             gdp  gdp_growth      gdp_per_km2       land_area  \\\n",
       "0   11,840.20020     1.50000  1,248,266.25000    27,398.00000   \n",
       "1    8,621.00000     2.60000    914,796.31250    28,203.00000   \n",
       "2   24,555.19922     3.70000    899,100.87500    10,010.00000   \n",
       "4   17,100.19922     3.00000 11,162,791.00000       430.00000   \n",
       "6    8,227.40039     1.20000    169,297.28125    38,394.00000   \n",
       "7   10,957.50000     3.00000    824,428.06250    51,187.00000   \n",
       "8   17,041.59961     2.50000     64,757.46875   566,730.00000   \n",
       "9   76,884.00000     0.90000  6,172,839.50000     5,265.00000   \n",
       "10   6,662.00000     1.10000    867,840.31250     4,033.00000   \n",
       "11     651.90002     0.50000      5,136.56836   622,984.00000   \n",
       "12   1,529.19995     3.20000    581,655.50000     2,235.00000   \n",
       "13   6,676.10010     6.40000     87,262.07812   341,500.00000   \n",
       "14  16,435.80078     0.50000  1,580,493.50000    51,060.00000   \n",
       "15  22,795.30078    -3.90000  1,699,003.12500    55,974.00000   \n",
       "16  34,970.30078     1.40000  3,213,938.00000     9,241.00000   \n",
       "17   3,369.60010     1.50000    142,364.10938    23,180.00000   \n",
       "18  11,374.59961     5.20000  1,065,246.37500       751.00000   \n",
       "19  38,639.10156     7.70000  1,130,084.50000    28,051.00000   \n",
       "20  29,312.90039     4.80000    908,275.93750    42,388.00000   \n",
       "21   9,775.79980     2.80000    645,198.81250    17,204.00000   \n",
       "22   9,268.09961    -0.30000    454,197.21875    18,274.00000   \n",
       "23  19,056.50000    -3.80000    139,327.10938   257,667.00000   \n",
       "24   1,666.59998    -0.20000    335,968.37500    10,120.00000   \n",
       "25  10,043.79980     3.00000    533,715.93750    69,700.00000   \n",
       "26   1,729.90002     4.00000    103,129.44531    28,120.00000   \n",
       "27   7,872.89990    -4.10000     30,480.21484   196,849.00000   \n",
       "28  49,135.60156     1.80000    164,588.53125   100,250.00000   \n",
       "29  69,230.79688     6.90000  4,716,693.50000    68,883.00000   \n",
       "30   8,975.70020     5.90000  2,345,120.50000    10,831.00000   \n",
       "31   1,823.30005     1.20000    246,609.12500       811.00000   \n",
       "..           ...         ...              ...             ...   \n",
       "37     855.09998     1.00000     39,451.82812    96,320.00000   \n",
       "38  29,972.30078     7.70000  1,373,643.87500    62,680.00000   \n",
       "39 104,003.29688     2.50000 23,163,186.00000     2,586.00000   \n",
       "40  14,597.00000     3.70000  1,191,365.50000    25,433.00000   \n",
       "41  15,553.00000     8.60000 18,456,376.00000       298.00000   \n",
       "42  39,833.80078     1.60000 54,746,836.00000       316.00000   \n",
       "43   4,328.00000     4.30000     15,911.51660 1,030,700.00000   \n",
       "44  20,421.59961     1.60000 12,758,621.00000     2,030.00000   \n",
       "45   3,234.30005     4.20000    427,350.43750       702.00000   \n",
       "46   5,328.00000     1.20000    574,625.25000    32,891.00000   \n",
       "47  12,274.90039     6.50000     23,816.32812 1,553,556.00000   \n",
       "48  16,643.19922    -4.30000    773,119.25000    13,452.00000   \n",
       "49  11,289.70020     7.00000     31,580.60938   823,290.00000   \n",
       "50  37,294.00000     0.00000    669,093.56250   264,537.00000   \n",
       "51  46,698.00000     4.20000    597,092.06250   309,500.00000   \n",
       "52  23,023.90039     2.40000  1,249,663.75000    74,340.00000   \n",
       "53 127,659.60156   -12.20000 28,413,602.00000    11,586.00000   \n",
       "54  11,782.90039     4.80000  3,465,346.50000       606.00000   \n",
       "55  11,270.50000     1.10000  3,084,833.00000       389.00000   \n",
       "56   5,553.39990     1.70000    389,932.65625     2,821.00000   \n",
       "57   3,071.80005    10.20000    622,406.62500       964.00000   \n",
       "58  27,602.19922     4.30000  5,714,285.50000       455.00000   \n",
       "59  32,084.90039     0.40000  3,285,196.75000    20,151.00000   \n",
       "60   1,972.59998     1.10000     42,878.58203    27,986.00000   \n",
       "61  13,988.20020     4.00000     50,641.02734   156,000.00000   \n",
       "62   4,186.60010     4.40000    336,157.06250    14,874.00000   \n",
       "63   5,386.50000     2.80000    836,820.06250       717.00000   \n",
       "64  31,870.30078     1.50000  8,502,340.00000     5,128.00000   \n",
       "65  21,527.30078     3.50000    427,963.31250   175,015.00000   \n",
       "66   2,631.39990    -0.20000     57,428.82812    12,189.00000   \n",
       "\n",
       "    population_density  total_foreign_born  per_foreign_born  \\\n",
       "0            104.87070        57,616.00000           3.10000   \n",
       "1            102.93115       191,199.00000          10.60000   \n",
       "2             39.49660        59,306.00000          16.30000   \n",
       "4            664.46277        34,475.00000          11.30000   \n",
       "6             21.18766        51,106.00000           6.70000   \n",
       "7             68.49643        34,803.00000           0.60000   \n",
       "8              4.04366       160,644.00000           7.20000   \n",
       "9             81.34668       102,733.00000          49.30000   \n",
       "10           135.58015        14,924.00000           3.00000   \n",
       "11             7.47870        81,598.00000           2.90000   \n",
       "12           437.35196        12,555.00000           1.70000   \n",
       "13            15.40483       392,996.00000           9.70000   \n",
       "14            96.07851       421,697.00000           8.70000   \n",
       "15            73.72588       576,883.00000          17.60000   \n",
       "16           127.65704       196,167.00000          18.20000   \n",
       "17            41.28494       112,351.00000          14.20000   \n",
       "18            98.56667         6,720.00000           8.90000   \n",
       "19            45.19390        10,825.00000           1.30000   \n",
       "20            31.03279       202,348.00000          16.40000   \n",
       "21            79.49151        31,579.00000           2.00000   \n",
       "22            49.56223        13,751.00000           2.50000   \n",
       "23             7.85942       268,384.00000          23.60000   \n",
       "24           207.56601       192,540.00000           8.80000   \n",
       "25            65.03201       168,802.00000           4.40000   \n",
       "26            66.19072        22,333.00000           1.10000   \n",
       "27             3.95153        15,384.00000           1.70000   \n",
       "28             3.40433        37,522.00000          10.70000   \n",
       "29            69.87383       746,260.00000          15.90000   \n",
       "30           266.87894        23,167.00000           1.30000   \n",
       "31           143.70123         3,153.00000           2.60000   \n",
       "..                 ...                 ...               ...   \n",
       "37            49.12693       113,779.00000           5.30000   \n",
       "38            45.13521       136,036.00000           4.90000   \n",
       "39           231.44749       249,325.00000          43.30000   \n",
       "40            82.59953       130,730.00000           6.60000   \n",
       "41         1,454.43335        94,086.00000          24.40000   \n",
       "42         1,454.03748        41,442.00000           8.00000   \n",
       "43             4.28853       138,162.00000           2.30000   \n",
       "44           622.96210        28,585.00000           3.60000   \n",
       "45           150.77715         2,756.00000           2.60000   \n",
       "46           123.65451       142,904.00000          11.20000   \n",
       "47             1.97974        17,620.00000           0.60000   \n",
       "48            46.28037        82,541.00000           8.20000   \n",
       "49             3.07764        93,888.00000           2.20000   \n",
       "50            18.20630     1,039,736.00000          25.10000   \n",
       "51            14.97985     1,844,978.00000          30.60000   \n",
       "52            55.13300       184,710.00000           4.70000   \n",
       "53           227.32222     1,687,640.00000          73.80000   \n",
       "54           293.18689        12,771.00000           6.70000   \n",
       "55           281.78717         4,577.00000           9.40000   \n",
       "56            69.41343         4,929.00000           3.00000   \n",
       "57           212.84062         2,394.00000           3.30000   \n",
       "58           208.35435        12,791.00000          13.00000   \n",
       "59           102.61906       235,966.00000          11.30000   \n",
       "60            21.84148         2,585.00000           1.40000   \n",
       "61             3.61155        46,836.00000           7.50000   \n",
       "62            87.17626        10,834.00000           1.00000   \n",
       "63           150.02777         5,731.00000           4.80000   \n",
       "64           266.88596        49,883.00000           2.40000   \n",
       "65            19.75060        71,799.00000           2.30000   \n",
       "66            22.66153         3,187.00000           1.30000   \n",
       "\n",
       "          ...          sustainable_economic_development_assessment(seda)  \\\n",
       "0         ...                                                   53.10000   \n",
       "1         ...                                                   51.70000   \n",
       "2         ...                                                   60.40000   \n",
       "4         ...                                                   60.80000   \n",
       "6         ...                                                   47.70000   \n",
       "7         ...                                                   50.20000   \n",
       "8         ...                                                   44.10000   \n",
       "9         ...                                                   72.50000   \n",
       "10        ...                                                        nan   \n",
       "11        ...                                                   16.10000   \n",
       "12        ...                                                        nan   \n",
       "13        ...                                                   32.70000   \n",
       "14        ...                                                   58.90000   \n",
       "15        ...                                                   64.50000   \n",
       "16        ...                                                   65.90000   \n",
       "17        ...                                                        nan   \n",
       "18        ...                                                        nan   \n",
       "19        ...                                                        nan   \n",
       "20        ...                                                   70.80000   \n",
       "21        ...                                                        nan   \n",
       "22        ...                                                   49.00000   \n",
       "23        ...                                                   40.90000   \n",
       "24        ...                                                   40.90000   \n",
       "25        ...                                                   55.40000   \n",
       "26        ...                                                        nan   \n",
       "27        ...                                                   42.80000   \n",
       "28        ...                                                   83.70000   \n",
       "29        ...                                                   80.30000   \n",
       "30        ...                                                   49.70000   \n",
       "31        ...                                                        nan   \n",
       "..        ...                                                        ...   \n",
       "37        ...                                                   30.60000   \n",
       "38        ...                                                   67.40000   \n",
       "39        ...                                                   83.20000   \n",
       "40        ...                                                   52.50000   \n",
       "41        ...                                                        nan   \n",
       "42        ...                                                   68.80000   \n",
       "43        ...                                                   28.90000   \n",
       "44        ...                                                   60.20000   \n",
       "45        ...                                                        nan   \n",
       "46        ...                                                   48.70000   \n",
       "47        ...                                                   50.60000   \n",
       "48        ...                                                        nan   \n",
       "49        ...                                                   39.10000   \n",
       "50        ...                                                   78.60000   \n",
       "51        ...                                                   62.10000   \n",
       "52        ...                                                   54.50000   \n",
       "53        ...                                                   70.80000   \n",
       "54        ...                                                        nan   \n",
       "55        ...                                                        nan   \n",
       "56        ...                                                        nan   \n",
       "57        ...                                                        nan   \n",
       "58        ...                                                   59.10000   \n",
       "59        ...                                                   72.60000   \n",
       "60        ...                                                        nan   \n",
       "61        ...                                                   52.70000   \n",
       "62        ...                                                        nan   \n",
       "63        ...                                                        nan   \n",
       "64        ...                                                   58.70000   \n",
       "65        ...                                                   64.20000   \n",
       "66        ...                                                  -64.50000   \n",
       "\n",
       "    employment  political_stability&absence_of_violence  \\\n",
       "0     91.50000                                 -2.78000   \n",
       "1     83.70000                                  0.40000   \n",
       "2     88.80000                                 -0.96000   \n",
       "4     93.40000                                 -0.29000   \n",
       "6     93.40000                                  0.18000   \n",
       "7     83.20000                                 -0.71000   \n",
       "8     94.30000                                  0.90000   \n",
       "9     93.90000                                  1.04000   \n",
       "10    94.90000                                 -0.76000   \n",
       "11    84.70000                                  1.00000   \n",
       "12    98.70000                                 -0.95000   \n",
       "13    95.90000                                 -1.25000   \n",
       "14    88.60000                                  0.98000   \n",
       "15    99.50000                                  0.03000   \n",
       "16    91.70000                                  0.42000   \n",
       "17    89.00000                                  0.05000   \n",
       "18    99.00000                                  0.05000   \n",
       "19    97.60000                                  1.13000   \n",
       "20    96.30000                                 -0.30000   \n",
       "21    74.20000                                 -0.38000   \n",
       "22    81.60000                                  1.03000   \n",
       "23    88.50000                                 -0.41000   \n",
       "24    98.00000                                  1.19000   \n",
       "25    92.00000                                  0.37000   \n",
       "26    97.00000                                 -0.92000   \n",
       "27    98.40000                                 -1.97000   \n",
       "28    89.50000                                  0.90000   \n",
       "29    99.70000                                  0.17000   \n",
       "30    95.50000                                 -1.08000   \n",
       "31    92.90000                                  1.11000   \n",
       "..         ...                                      ...   \n",
       "37    80.00000                                  0.03000   \n",
       "38    96.40000                                 -2.30000   \n",
       "39    88.80000                                 -0.53000   \n",
       "40    91.00000                                  0.51000   \n",
       "41    90.70000                                 -1.09000   \n",
       "42    86.50000                                  0.75000   \n",
       "43    97.10000                                  0.69000   \n",
       "44    88.30000                                  0.60000   \n",
       "45    96.00000                                  1.02000   \n",
       "46    93.90000                                  0.87000   \n",
       "47    93.40000                                 -0.71000   \n",
       "48         nan                                  1.04000   \n",
       "49    85.60000                                  0.16000   \n",
       "50    94.60000                                 -0.10000   \n",
       "51    88.00000                                 -1.42000   \n",
       "52    93.70000                                 -0.25000   \n",
       "53    92.70000                                 -0.15000   \n",
       "54    92.70000                                 -0.66000   \n",
       "55    93.10000                                  0.66000   \n",
       "56    74.70000                                 -0.30000   \n",
       "57    94.30000                                 -1.69000   \n",
       "58    92.10000                                  0.79000   \n",
       "59    91.00000                                  1.07000   \n",
       "60    90.00000                                  0.21000   \n",
       "61    81.50000                                 -0.09000   \n",
       "62    70.30000                                      nan   \n",
       "63    88.40000                                 -0.37000   \n",
       "64    95.70000                                  0.58000   \n",
       "65    94.20000                                  0.09000   \n",
       "66    76.10000                                 -0.13000   \n",
       "\n",
       "    control_of_corruption  judicial_effectiveness  government_integrity  \\\n",
       "0                -1.52000                28.20000              26.20000   \n",
       "1                -0.42000                25.40000              39.90000   \n",
       "2                -0.61000                35.20000              29.00000   \n",
       "4                -1.41000                25.40000              18.90000   \n",
       "6                -0.26000                44.50000              32.60000   \n",
       "7                -0.56000                47.40000              40.50000   \n",
       "8                 1.80000                93.40000              77.40000   \n",
       "9                 1.53000                80.90000              73.50000   \n",
       "10               -0.88000                36.80000              39.90000   \n",
       "11                1.17000                53.50000              50.90000   \n",
       "12               -0.14000                55.10000              51.80000   \n",
       "13               -0.83000                32.60000              21.20000   \n",
       "14                1.42000                54.40000              53.80000   \n",
       "15               -0.26000                57.30000              42.00000   \n",
       "16                1.50000                69.50000              70.90000   \n",
       "17               -0.27000                53.50000              34.70000   \n",
       "18               -0.55000                31.30000              30.20000   \n",
       "19                1.57000                51.60000              50.90000   \n",
       "20               -0.66000                11.40000              23.10000   \n",
       "21               -0.52000                43.70000              28.40000   \n",
       "22                0.80000                54.70000              56.60000   \n",
       "23               -0.53000                55.50000              31.40000   \n",
       "24                0.71000                57.10000              45.40000   \n",
       "25               -0.16000                42.50000              38.20000   \n",
       "26               -0.11000                47.10000              31.80000   \n",
       "27               -1.28000                21.70000              26.20000   \n",
       "28                0.84000                52.00000              42.80000   \n",
       "29               -1.29000                24.50000              17.70000   \n",
       "30               -1.18000                29.40000              23.40000   \n",
       "31                1.92000                77.10000              78.30000   \n",
       "..                    ...                     ...                   ...   \n",
       "37               -0.68000                28.20000              27.50000   \n",
       "38               -1.42000                23.90000              27.30000   \n",
       "39               -1.33000                28.20000              24.60000   \n",
       "40                0.47000                57.80000              51.80000   \n",
       "41               -0.52000                44.20000              36.60000   \n",
       "42                0.19000                56.50000              40.50000   \n",
       "43                0.27000                10.00000              38.10000   \n",
       "44                0.78000                56.70000              41.30000   \n",
       "45                0.57000                57.90000              51.10000   \n",
       "46                2.19000                83.60000              84.10000   \n",
       "47               -0.64000                13.80000              29.00000   \n",
       "48                0.65000                69.20000              49.90000   \n",
       "49               -0.74000                23.10000              26.20000   \n",
       "50               -0.60000                23.30000              30.20000   \n",
       "51               -0.54000                52.50000              32.20000   \n",
       "52               -0.51000                35.40000              25.20000   \n",
       "53               -1.83000                17.60000              26.20000   \n",
       "54               -1.20000                13.80000              23.40000   \n",
       "55                1.24000                83.90000              75.70000   \n",
       "56               -0.30000                35.30000              26.90000   \n",
       "57               -0.56000                37.60000              37.70000   \n",
       "58                0.36000                47.10000              34.80000   \n",
       "59                2.22000                82.70000              89.80000   \n",
       "60                1.26000                72.70000              65.10000   \n",
       "61               -0.81000                27.80000              33.40000   \n",
       "62                    nan                38.80000              36.80000   \n",
       "63                0.74000                64.20000              61.80000   \n",
       "64                1.84000                78.00000              75.30000   \n",
       "65               -0.23000                43.70000              32.90000   \n",
       "66               -0.14000                59.00000              37.90000   \n",
       "\n",
       "    property_rights  tax_burden  overall_economic_freedom  financial_freedom  \n",
       "0          17.90000    91.80000                  51.30000           10.00000  \n",
       "1          54.10000    85.10000                  64.50000           70.00000  \n",
       "2          27.80000    74.00000                  44.70000           30.00000  \n",
       "4          36.00000    82.40000                  48.60000           40.00000  \n",
       "6          40.80000    65.70000                  52.30000           60.00000  \n",
       "7          55.30000    84.70000                  68.70000           70.00000  \n",
       "8          78.70000    63.00000                  80.90000           90.00000  \n",
       "9          83.50000    49.90000                  71.80000           70.00000  \n",
       "10         53.60000    87.50000                  64.30000           60.00000  \n",
       "11         46.50000    96.50000                  63.30000           60.00000  \n",
       "12         62.10000    99.90000                  67.70000           80.00000  \n",
       "13         32.40000    72.70000                  55.10000           30.00000  \n",
       "14         51.40000    74.00000                  57.00000           60.00000  \n",
       "15         53.50000    89.80000                  58.10000           10.00000  \n",
       "16         81.20000    44.00000                  67.50000           70.00000  \n",
       "17         42.10000    80.00000                  57.10000           50.00000  \n",
       "18         35.50000    67.40000                  56.70000           50.00000  \n",
       "19         60.90000    83.00000                  61.80000           30.00000  \n",
       "20         19.00000    85.70000                  44.10000           40.00000  \n",
       "21         39.50000    83.50000                  61.40000           60.00000  \n",
       "22         57.70000    76.10000                  69.90000           70.00000  \n",
       "23         55.80000    70.60000                  51.40000           50.00000  \n",
       "24         56.60000    85.60000                  64.20000           50.00000  \n",
       "25         63.60000    90.90000                  68.30000           60.00000  \n",
       "26         42.10000    80.60000                  60.00000           40.00000  \n",
       "27         17.60000    71.00000                  50.90000           30.00000  \n",
       "28         42.10000    74.00000                  60.00000           60.00000  \n",
       "29         36.00000    89.80000                  58.70000           50.00000  \n",
       "30         40.60000    73.70000                  51.90000           50.00000  \n",
       "31         87.50000    76.70000                  77.70000           80.00000  \n",
       "..              ...         ...                       ...                ...  \n",
       "37         36.70000    59.70000                  56.20000           30.00000  \n",
       "38         24.10000    73.20000                  52.10000           20.00000  \n",
       "39         32.40000    60.80000                  38.90000           30.00000  \n",
       "40         54.80000    79.30000                  65.60000           50.00000  \n",
       "41         39.40000    76.40000                  62.00000           50.00000  \n",
       "42         65.90000    66.00000                  61.00000           60.00000  \n",
       "43         29.70000    49.00000                  31.90000           10.00000  \n",
       "44         71.20000    75.20000                  67.80000           60.00000  \n",
       "45         73.00000    82.90000                  74.20000           80.00000  \n",
       "46         84.80000    41.40000                  76.60000           80.00000  \n",
       "47         19.00000    69.80000                  45.10000           50.00000  \n",
       "48         48.60000    72.90000                  64.50000           30.00000  \n",
       "49         51.70000    84.60000                  61.60000           40.00000  \n",
       "50         36.70000    79.40000                  48.50000           40.00000  \n",
       "51         32.70000    84.20000                  53.40000           50.00000  \n",
       "52         37.30000    78.90000                  63.20000           60.00000  \n",
       "53         29.80000    69.60000                  42.00000           30.00000  \n",
       "54         35.50000    79.90000                  41.70000           20.00000  \n",
       "55         80.40000    80.70000                  78.80000           80.00000  \n",
       "56         55.30000    74.80000                  55.90000           40.00000  \n",
       "57         31.10000    76.50000                  52.80000           20.00000  \n",
       "58         68.30000    81.40000                  62.00000           50.00000  \n",
       "59         89.00000    66.50000                  74.10000           80.00000  \n",
       "60         84.00000    47.30000                  63.90000           70.00000  \n",
       "61         29.90000    74.30000                  58.00000           40.00000  \n",
       "62         34.40000    71.90000                  52.30000           50.00000  \n",
       "63         62.80000    87.00000                  76.20000           60.00000  \n",
       "64         81.00000    61.30000                  74.20000           70.00000  \n",
       "65         48.90000    83.50000                  56.00000           60.00000  \n",
       "66         52.30000    60.40000                  57.30000           40.00000  \n",
       "\n",
       "[65 rows x 25 columns]"
      ]
     },
     "execution_count": 31,
     "metadata": {},
     "output_type": "execute_result"
    }
   ],
   "source": [
    "## Clean rows\n",
    "df = df.dropna(thresh=len(df.columns)*0.7)\n",
    "\n",
    "df"
   ]
  },
  {
   "cell_type": "markdown",
   "metadata": {},
   "source": [
    "## Data Transformation"
   ]
  },
  {
   "cell_type": "markdown",
   "metadata": {},
   "source": [
    "It turned out that normalization (linearly from 0 to 1) isn't good for a dataset like this for too many outliers.\n",
    "We switch to standarization"
   ]
  },
  {
   "cell_type": "code",
   "execution_count": 5,
   "metadata": {
    "scrolled": false
   },
   "outputs": [
    {
     "name": "stderr",
     "output_type": "stream",
     "text": [
      "/Library/Frameworks/Python.framework/Versions/3.6/lib/python3.6/site-packages/ipykernel_launcher.py:16: DataConversionWarning:\n",
      "\n",
      "Data with input dtype float32 were all converted to float64 by the scale function.\n",
      "\n"
     ]
    },
    {
     "data": {
      "text/html": [
       "<div>\n",
       "<style scoped>\n",
       "    .dataframe tbody tr th:only-of-type {\n",
       "        vertical-align: middle;\n",
       "    }\n",
       "\n",
       "    .dataframe tbody tr th {\n",
       "        vertical-align: top;\n",
       "    }\n",
       "\n",
       "    .dataframe thead th {\n",
       "        text-align: right;\n",
       "    }\n",
       "</style>\n",
       "<table border=\"1\" class=\"dataframe\">\n",
       "  <thead>\n",
       "    <tr style=\"text-align: right;\">\n",
       "      <th></th>\n",
       "      <th>population</th>\n",
       "      <th>gdp_per_cap</th>\n",
       "      <th>gdp</th>\n",
       "      <th>gdp_growth</th>\n",
       "      <th>gdp_per_km2</th>\n",
       "      <th>land_area</th>\n",
       "      <th>population_density</th>\n",
       "      <th>total_foreign_born</th>\n",
       "      <th>per_foreign_born</th>\n",
       "      <th>population_living_abroad_diaspora</th>\n",
       "      <th>...</th>\n",
       "      <th>sustainable_economic_development_assessment(seda)</th>\n",
       "      <th>employment</th>\n",
       "      <th>political_stability&amp;absence_of_violence</th>\n",
       "      <th>control_of_corruption</th>\n",
       "      <th>judicial_effectiveness</th>\n",
       "      <th>government_integrity</th>\n",
       "      <th>property_rights</th>\n",
       "      <th>tax_burden</th>\n",
       "      <th>overall_economic_freedom</th>\n",
       "      <th>financial_freedom</th>\n",
       "    </tr>\n",
       "  </thead>\n",
       "  <tbody>\n",
       "    <tr>\n",
       "      <th>count</th>\n",
       "      <td>65.00000</td>\n",
       "      <td>65.00000</td>\n",
       "      <td>65.00000</td>\n",
       "      <td>65.00000</td>\n",
       "      <td>65.00000</td>\n",
       "      <td>65.00000</td>\n",
       "      <td>65.00000</td>\n",
       "      <td>64.00000</td>\n",
       "      <td>64.00000</td>\n",
       "      <td>64.00000</td>\n",
       "      <td>...</td>\n",
       "      <td>46.00000</td>\n",
       "      <td>64.00000</td>\n",
       "      <td>64.00000</td>\n",
       "      <td>64.00000</td>\n",
       "      <td>65.00000</td>\n",
       "      <td>65.00000</td>\n",
       "      <td>65.00000</td>\n",
       "      <td>65.00000</td>\n",
       "      <td>65.00000</td>\n",
       "      <td>65.00000</td>\n",
       "    </tr>\n",
       "    <tr>\n",
       "      <th>mean</th>\n",
       "      <td>0.00000</td>\n",
       "      <td>-0.00000</td>\n",
       "      <td>-0.00000</td>\n",
       "      <td>-0.00000</td>\n",
       "      <td>0.00000</td>\n",
       "      <td>-0.00000</td>\n",
       "      <td>0.00000</td>\n",
       "      <td>-0.00000</td>\n",
       "      <td>-0.00000</td>\n",
       "      <td>-0.00000</td>\n",
       "      <td>...</td>\n",
       "      <td>0.00000</td>\n",
       "      <td>-0.00000</td>\n",
       "      <td>-0.00000</td>\n",
       "      <td>0.00000</td>\n",
       "      <td>-0.00000</td>\n",
       "      <td>0.00000</td>\n",
       "      <td>0.00000</td>\n",
       "      <td>-0.00000</td>\n",
       "      <td>-0.00000</td>\n",
       "      <td>0.00000</td>\n",
       "    </tr>\n",
       "    <tr>\n",
       "      <th>std</th>\n",
       "      <td>1.00778</td>\n",
       "      <td>1.00778</td>\n",
       "      <td>1.00778</td>\n",
       "      <td>1.00778</td>\n",
       "      <td>1.00778</td>\n",
       "      <td>1.00778</td>\n",
       "      <td>1.00778</td>\n",
       "      <td>1.00791</td>\n",
       "      <td>1.00791</td>\n",
       "      <td>1.00791</td>\n",
       "      <td>...</td>\n",
       "      <td>1.01105</td>\n",
       "      <td>1.00791</td>\n",
       "      <td>1.00791</td>\n",
       "      <td>1.00791</td>\n",
       "      <td>1.00778</td>\n",
       "      <td>1.00778</td>\n",
       "      <td>1.00778</td>\n",
       "      <td>1.00778</td>\n",
       "      <td>1.00778</td>\n",
       "      <td>1.00778</td>\n",
       "    </tr>\n",
       "    <tr>\n",
       "      <th>min</th>\n",
       "      <td>-1.15279</td>\n",
       "      <td>-0.59686</td>\n",
       "      <td>-0.84082</td>\n",
       "      <td>-4.32306</td>\n",
       "      <td>-0.43846</td>\n",
       "      <td>-0.44005</td>\n",
       "      <td>-0.59460</td>\n",
       "      <td>-0.46968</td>\n",
       "      <td>-0.76103</td>\n",
       "      <td>-0.78808</td>\n",
       "      <td>...</td>\n",
       "      <td>-5.11444</td>\n",
       "      <td>-3.27375</td>\n",
       "      <td>-2.90097</td>\n",
       "      <td>-1.75474</td>\n",
       "      <td>-1.78433</td>\n",
       "      <td>-1.34947</td>\n",
       "      <td>-1.63901</td>\n",
       "      <td>-2.64631</td>\n",
       "      <td>-2.66445</td>\n",
       "      <td>-2.05991</td>\n",
       "    </tr>\n",
       "    <tr>\n",
       "      <th>25%</th>\n",
       "      <td>-0.89727</td>\n",
       "      <td>-0.55052</td>\n",
       "      <td>-0.63619</td>\n",
       "      <td>-0.40885</td>\n",
       "      <td>-0.41186</td>\n",
       "      <td>-0.42169</td>\n",
       "      <td>-0.48721</td>\n",
       "      <td>-0.44627</td>\n",
       "      <td>-0.59990</td>\n",
       "      <td>-0.63302</td>\n",
       "      <td>...</td>\n",
       "      <td>-0.32448</td>\n",
       "      <td>-0.38002</td>\n",
       "      <td>-0.65938</td>\n",
       "      <td>-0.62169</td>\n",
       "      <td>-0.87710</td>\n",
       "      <td>-0.79128</td>\n",
       "      <td>-0.71615</td>\n",
       "      <td>-0.38544</td>\n",
       "      <td>-0.70664</td>\n",
       "      <td>-0.52090</td>\n",
       "    </tr>\n",
       "    <tr>\n",
       "      <th>50%</th>\n",
       "      <td>-0.32235</td>\n",
       "      <td>-0.34126</td>\n",
       "      <td>-0.37373</td>\n",
       "      <td>0.00317</td>\n",
       "      <td>-0.34316</td>\n",
       "      <td>-0.35303</td>\n",
       "      <td>-0.32941</td>\n",
       "      <td>-0.34889</td>\n",
       "      <td>-0.31325</td>\n",
       "      <td>-0.42974</td>\n",
       "      <td>...</td>\n",
       "      <td>0.08584</td>\n",
       "      <td>0.28898</td>\n",
       "      <td>0.14196</td>\n",
       "      <td>-0.23752</td>\n",
       "      <td>-0.06457</td>\n",
       "      <td>-0.26157</td>\n",
       "      <td>-0.04077</td>\n",
       "      <td>0.13568</td>\n",
       "      <td>0.03233</td>\n",
       "      <td>-0.00789</td>\n",
       "    </tr>\n",
       "    <tr>\n",
       "      <th>75%</th>\n",
       "      <td>0.69973</td>\n",
       "      <td>-0.05896</td>\n",
       "      <td>0.20531</td>\n",
       "      <td>0.53291</td>\n",
       "      <td>-0.16237</td>\n",
       "      <td>-0.17923</td>\n",
       "      <td>0.01963</td>\n",
       "      <td>-0.10795</td>\n",
       "      <td>0.12774</td>\n",
       "      <td>0.22297</td>\n",
       "      <td>...</td>\n",
       "      <td>0.56037</td>\n",
       "      <td>0.64129</td>\n",
       "      <td>0.83230</td>\n",
       "      <td>0.75451</td>\n",
       "      <td>0.57348</td>\n",
       "      <td>0.54154</td>\n",
       "      <td>0.65524</td>\n",
       "      <td>0.68887</td>\n",
       "      <td>0.75212</td>\n",
       "      <td>0.50511</td>\n",
       "    </tr>\n",
       "    <tr>\n",
       "      <th>max</th>\n",
       "      <td>1.91345</td>\n",
       "      <td>4.02372</td>\n",
       "      <td>4.46156</td>\n",
       "      <td>2.26929</td>\n",
       "      <td>6.02048</td>\n",
       "      <td>5.46691</td>\n",
       "      <td>4.77406</td>\n",
       "      <td>5.00718</td>\n",
       "      <td>4.23914</td>\n",
       "      <td>3.99662</td>\n",
       "      <td>...</td>\n",
       "      <td>1.33748</td>\n",
       "      <td>1.38155</td>\n",
       "      <td>1.39811</td>\n",
       "      <td>2.18420</td>\n",
       "      <td>2.37300</td>\n",
       "      <td>2.75721</td>\n",
       "      <td>2.04210</td>\n",
       "      <td>2.04378</td>\n",
       "      <td>2.03813</td>\n",
       "      <td>2.04413</td>\n",
       "    </tr>\n",
       "  </tbody>\n",
       "</table>\n",
       "<p>8 rows × 24 columns</p>\n",
       "</div>"
      ],
      "text/plain": [
       "       population  gdp_per_cap      gdp  gdp_growth  gdp_per_km2  land_area  \\\n",
       "count    65.00000     65.00000 65.00000    65.00000     65.00000   65.00000   \n",
       "mean      0.00000     -0.00000 -0.00000    -0.00000      0.00000   -0.00000   \n",
       "std       1.00778      1.00778  1.00778     1.00778      1.00778    1.00778   \n",
       "min      -1.15279     -0.59686 -0.84082    -4.32306     -0.43846   -0.44005   \n",
       "25%      -0.89727     -0.55052 -0.63619    -0.40885     -0.41186   -0.42169   \n",
       "50%      -0.32235     -0.34126 -0.37373     0.00317     -0.34316   -0.35303   \n",
       "75%       0.69973     -0.05896  0.20531     0.53291     -0.16237   -0.17923   \n",
       "max       1.91345      4.02372  4.46156     2.26929      6.02048    5.46691   \n",
       "\n",
       "       population_density  total_foreign_born  per_foreign_born  \\\n",
       "count            65.00000            64.00000          64.00000   \n",
       "mean              0.00000            -0.00000          -0.00000   \n",
       "std               1.00778             1.00791           1.00791   \n",
       "min              -0.59460            -0.46968          -0.76103   \n",
       "25%              -0.48721            -0.44627          -0.59990   \n",
       "50%              -0.32941            -0.34889          -0.31325   \n",
       "75%               0.01963            -0.10795           0.12774   \n",
       "max               4.77406             5.00718           4.23914   \n",
       "\n",
       "       population_living_abroad_diaspora        ...          \\\n",
       "count                           64.00000        ...           \n",
       "mean                            -0.00000        ...           \n",
       "std                              1.00791        ...           \n",
       "min                             -0.78808        ...           \n",
       "25%                             -0.63302        ...           \n",
       "50%                             -0.42974        ...           \n",
       "75%                              0.22297        ...           \n",
       "max                              3.99662        ...           \n",
       "\n",
       "       sustainable_economic_development_assessment(seda)  employment  \\\n",
       "count                                           46.00000    64.00000   \n",
       "mean                                             0.00000    -0.00000   \n",
       "std                                              1.01105     1.00791   \n",
       "min                                             -5.11444    -3.27375   \n",
       "25%                                             -0.32448    -0.38002   \n",
       "50%                                              0.08584     0.28898   \n",
       "75%                                              0.56037     0.64129   \n",
       "max                                              1.33748     1.38155   \n",
       "\n",
       "       political_stability&absence_of_violence  control_of_corruption  \\\n",
       "count                                 64.00000               64.00000   \n",
       "mean                                  -0.00000                0.00000   \n",
       "std                                    1.00791                1.00791   \n",
       "min                                   -2.90097               -1.75474   \n",
       "25%                                   -0.65938               -0.62169   \n",
       "50%                                    0.14196               -0.23752   \n",
       "75%                                    0.83230                0.75451   \n",
       "max                                    1.39811                2.18420   \n",
       "\n",
       "       judicial_effectiveness  government_integrity  property_rights  \\\n",
       "count                65.00000              65.00000         65.00000   \n",
       "mean                 -0.00000               0.00000          0.00000   \n",
       "std                   1.00778               1.00778          1.00778   \n",
       "min                  -1.78433              -1.34947         -1.63901   \n",
       "25%                  -0.87710              -0.79128         -0.71615   \n",
       "50%                  -0.06457              -0.26157         -0.04077   \n",
       "75%                   0.57348               0.54154          0.65524   \n",
       "max                   2.37300               2.75721          2.04210   \n",
       "\n",
       "       tax_burden  overall_economic_freedom  financial_freedom  \n",
       "count    65.00000                  65.00000           65.00000  \n",
       "mean     -0.00000                  -0.00000            0.00000  \n",
       "std       1.00778                   1.00778            1.00778  \n",
       "min      -2.64631                  -2.66445           -2.05991  \n",
       "25%      -0.38544                  -0.70664           -0.52090  \n",
       "50%       0.13568                   0.03233           -0.00789  \n",
       "75%       0.68887                   0.75212            0.50511  \n",
       "max       2.04378                   2.03813            2.04413  \n",
       "\n",
       "[8 rows x 24 columns]"
      ]
     },
     "execution_count": 5,
     "metadata": {},
     "output_type": "execute_result"
    }
   ],
   "source": [
    "# Normalize the data except a few cols\n",
    "\n",
    "# # Create a minimum and maximum processor object\n",
    "# min_max_scaler = preprocessing.MinMaxScaler()\n",
    "\n",
    "# # Create an object to transform the data to fit minmax processor\n",
    "# df_norm[df_norm.columns[1:]] = min_max_scaler.fit_transform(df[df_norm.columns[1:]])\n",
    "\n",
    "## Data Standarization\n",
    "\n",
    "df_norm = df.copy()\n",
    "\n",
    "# std = std.dropna(how='any')\n",
    "\n",
    "df_norm[df_norm.columns[1:]] = preprocessing.scale(df_norm[df_norm.columns[1:]])\n",
    "\n",
    "\n",
    "# df_norm.describe()"
   ]
  },
  {
   "cell_type": "markdown",
   "metadata": {},
   "source": [
    "## Data Integration"
   ]
  },
  {
   "cell_type": "code",
   "execution_count": null,
   "metadata": {},
   "outputs": [],
   "source": []
  },
  {
   "cell_type": "markdown",
   "metadata": {},
   "source": [
    "## Data Visualization for overview"
   ]
  },
  {
   "cell_type": "code",
   "execution_count": 6,
   "metadata": {
    "scrolled": false
   },
   "outputs": [
    {
     "data": {
      "text/plain": [
       "<matplotlib.axes._subplots.AxesSubplot at 0x11a27d400>"
      ]
     },
     "execution_count": 6,
     "metadata": {},
     "output_type": "execute_result"
    },
    {
     "data": {
      "image/png": "[encoded data removed]",
      "text/plain": [
       "<Figure size 432x288 with 2 Axes>"
      ]
     },
     "metadata": {
      "needs_background": "light"
     },
     "output_type": "display_data"
    }
   ],
   "source": [
    "# Subset the data to key cols\n",
    "# Visualize correlation in a heapmap\n",
    "\n",
    "cols_name = df_norm.columns\n",
    "df_corr = df_norm[cols_name]\n",
    "cor = df_corr[1:].corr()\n",
    "\n",
    "# Color palette\n",
    "cmap = sns.cubehelix_palette(light=1, as_cmap=True)\n",
    "sns.heatmap(cor, \n",
    "#             square = True, \n",
    "            linewidths = 1,\n",
    "           cmap = cmap)"
   ]
  },
  {
   "cell_type": "code",
   "execution_count": 7,
   "metadata": {
    "scrolled": false
   },
   "outputs": [
    {
     "name": "stdout",
     "output_type": "stream",
     "text": [
      "population gdp_per_cap\n"
     ]
    },
    {
     "data": {
      "text/plain": [
       "<matplotlib.colorbar.Colorbar at 0x11c3d5908>"
      ]
     },
     "execution_count": 7,
     "metadata": {},
     "output_type": "execute_result"
    },
    {
     "data": {
      "image/png": "[encoded data removed]",
      "text/plain": [
       "<Figure size 432x288 with 2 Axes>"
      ]
     },
     "metadata": {
      "needs_background": "light"
     },
     "output_type": "display_data"
    }
   ],
   "source": [
    "#K means Clustering\n",
    "\n",
    "df_kmeans = df_norm.dropna(axis='index', how='any')\n",
    "\n",
    "def doKmeans(X, nclust=2):\n",
    "    model = KMeans(nclust)\n",
    "    model.fit(X)\n",
    "    clust_labels = model.predict(X)\n",
    "    cent = model.cluster_centers_\n",
    "    return (clust_labels, cent)\n",
    "\n",
    "\n",
    "sample = df_kmeans[df_kmeans.columns[1:]]\n",
    "# print(sample)\n",
    "clust_labels, cent = doKmeans(sample, 4)\n",
    "kmeans = pd.DataFrame(clust_labels)\n",
    "sample.insert((sample.shape[1]),'kmeans',kmeans)\n",
    "\n",
    "fig = plt.figure()\n",
    "ax = fig.add_subplot(111)\n",
    "axis1 = cols_name[1]\n",
    "axis2 = cols_name[2]\n",
    "print(axis1, axis2)\n",
    "scatter = ax.scatter(sample[axis1],sample[axis2],\n",
    "                     c=kmeans[0],s=50)\n",
    "ax.set_title('K-Means Clustering')\n",
    "ax.set_xlabel(axis1)\n",
    "ax.set_ylabel(axis2)\n",
    "plt.colorbar(scatter)\n"
   ]
  },
  {
   "cell_type": "code",
   "execution_count": 36,
   "metadata": {
    "scrolled": false
   },
   "outputs": [
    {
     "data": {
      "text/html": [
       "<script>requirejs.config({paths: { 'plotly': ['https://cdn.plot.ly/plotly-latest.min']},});if(!window.Plotly) {{require(['plotly'],function(plotly) {window.Plotly=plotly;});}}</script>"
      ],
      "text/vnd.plotly.v1+html": [
       "<script>requirejs.config({paths: { 'plotly': ['https://cdn.plot.ly/plotly-latest.min']},});if(!window.Plotly) {{require(['plotly'],function(plotly) {window.Plotly=plotly;});}}</script>"
      ]
     },
     "metadata": {},
     "output_type": "display_data"
    },
    {
     "data": {
      "application/vnd.plotly.v1+json": {
       "data": [
        {
         "colorbar": {
          "title": "gdp_per_cap"
         },
         "locationmode": "country names",
         "locations": [
          "Albania",
          "Armenia",
          "Bahamas",
          "Barbados",
          "Bhutan",
          "Bosnia and Herzegovina",
          "Botswana",
          "Brunei Darussalam",
          "Cabo Verde",
          "Central African Republic",
          "Comoros",
          "Congo",
          "Costa Rica",
          "Croatia",
          "Cyprus",
          "Djibouti",
          "Dominica",
          "Equatorial Guinea",
          "Estonia",
          "Eswatini",
          "Fiji",
          "Gabon",
          "Gambia",
          "Georgia",
          "Guinea-Bissau",
          "Guyana",
          "Iceland",
          "Ireland",
          "Jamaica",
          "Kiribati",
          "Kosovo",
          "Kuwait",
          "Latvia",
          "Lebanon",
          "Lesotho",
          "Liberia",
          "Lithuania",
          "Luxembourg",
          "Macedonia",
          "Maldives",
          "Malta",
          "Mauritania",
          "Mauritius",
          "Micronesia",
          "Moldova",
          "Mongolia",
          "Montenegro",
          "Namibia",
          "New Zealand",
          "Oman",
          "Panama",
          "Qatar",
          "Saint Lucia",
          "Saint Vincent and the Grenadines",
          "Samoa",
          "Sao Tome",
          "Seychelles",
          "Slovenia",
          "Solomon Islands",
          "Suriname",
          "Timor-Leste",
          "Tonga",
          "Trinidad and Tobago",
          "Uruguay",
          "Vanuatu"
         ],
         "marker": {
          "line": {
           "width": 0.5
          }
         },
         "text": [
          "Albania",
          "Armenia",
          "Bahamas",
          "Barbados",
          "Bhutan",
          "Bosnia and Herzegovina",
          "Botswana",
          "Brunei Darussalam",
          "Cabo Verde",
          "Central African Republic",
          "Comoros",
          "Congo",
          "Costa Rica",
          "Croatia",
          "Cyprus",
          "Djibouti",
          "Dominica",
          "Equatorial Guinea",
          "Estonia",
          "Eswatini",
          "Fiji",
          "Gabon",
          "Gambia",
          "Georgia",
          "Guinea-Bissau",
          "Guyana",
          "Iceland",
          "Ireland",
          "Jamaica",
          "Kiribati",
          "Kosovo",
          "Kuwait",
          "Latvia",
          "Lebanon",
          "Lesotho",
          "Liberia",
          "Lithuania",
          "Luxembourg",
          "Macedonia",
          "Maldives",
          "Malta",
          "Mauritania",
          "Mauritius",
          "Micronesia",
          "Moldova",
          "Mongolia",
          "Montenegro",
          "Namibia",
          "New Zealand",
          "Oman",
          "Panama",
          "Qatar",
          "Saint Lucia",
          "Saint Vincent and the Grenadines",
          "Samoa",
          "Sao Tome",
          "Seychelles",
          "Slovenia",
          "Solomon Islands",
          "Suriname",
          "Timor-Leste",
          "Tonga",
          "Trinidad and Tobago",
          "Uruguay",
          "Vanuatu"
         ],
         "type": "choropleth",
         "z": [
          -0.11935518015393246,
          -0.23732756355506343,
          -0.47327227678246275,
          -0.5322584550893126,
          -0.5083830987976966,
          -0.007000549705183956,
          -0.08424435813869854,
          -0.14323054983926403,
          -0.5505160852159773,
          -0.5547293831881196,
          -0.5814136092590689,
          -0.18115024833068918,
          0.5337060557545554,
          0.7359444119922478,
          -0.18255465978135346,
          -0.5533249516468818,
          -0.5884357728250085,
          -0.15446600216916637,
          -0.058964577002702676,
          -0.44377918093218,
          -0.4831033042679851,
          -0.09547981046860085,
          -0.5519205167572151,
          -0.07722219373565177,
          -0.5589426811602619,
          -0.5154052632007434,
          -0.367939810736761,
          3.963331107342713,
          -0.2429452897200146,
          -0.5968623702342307,
          -0.34125559136266953,
          3.6655915938128705,
          0.11097178012108434,
          0.5969055353819765,
          -0.5013609343946499,
          -0.5463027872438351,
          0.6095454527374058,
          0.24158408087764463,
          -0.17412808392764242,
          -0.5224274276037902,
          -0.3567043584068587,
          -0.3693442489748566,
          -0.23592312531696782,
          -0.5954579372280553,
          -0.33423342695962277,
          -0.08003107021184301,
          -0.453610221811418,
          -0.2345186870788722,
          1.8861749626412556,
          1.9957207701886754,
          0.7050469314787322,
          4.023721978368256,
          -0.5701781468838799,
          -0.5828180408003067,
          -0.584222474015759,
          -0.5912446384188058,
          -0.5631559824808331,
          0.33006328806619883,
          -0.5828180408003067,
          -0.4887210371297941,
          -0.5294495920068369,
          -0.5912446384188058,
          0.012661478478429414,
          0.45224901296904807,
          -0.5898402060404607
         ]
        }
       ],
       "layout": {
        "geo": {
         "projection": {
          "type": "Mercator"
         },
         "scope": "globe",
         "showframe": false
        },
        "title": "gdp_per_cap"
       }
      },
      "text/html": [
       "<div id=\"a9897b44-ff2d-49d7-a2bf-bae6835460eb\" style=\"height: 525px; width: 100%;\" class=\"plotly-graph-div\"></div><script type=\"text/javascript\">require([\"plotly\"], function(Plotly) { window.PLOTLYENV=window.PLOTLYENV || {};window.PLOTLYENV.BASE_URL=\"https://plot.ly\";Plotly.newPlot(\"a9897b44-ff2d-49d7-a2bf-bae6835460eb\", [{\"type\": \"choropleth\", \"locations\": [\"Albania\", \"Armenia\", \"Bahamas\", \"Barbados\", \"Bhutan\", \"Bosnia and Herzegovina\", \"Botswana\", \"Brunei Darussalam\", \"Cabo Verde\", \"Central African Republic\", \"Comoros\", \"Congo\", \"Costa Rica\", \"Croatia\", \"Cyprus\", \"Djibouti\", \"Dominica\", \"Equatorial Guinea\", \"Estonia\", \"Eswatini\", \"Fiji\", \"Gabon\", \"Gambia\", \"Georgia\", \"Guinea-Bissau\", \"Guyana\", \"Iceland\", \"Ireland\", \"Jamaica\", \"Kiribati\", \"Kosovo\", \"Kuwait\", \"Latvia\", \"Lebanon\", \"Lesotho\", \"Liberia\", \"Lithuania\", \"Luxembourg\", \"Macedonia\", \"Maldives\", \"Malta\", \"Mauritania\", \"Mauritius\", \"Micronesia\", \"Moldova\", \"Mongolia\", \"Montenegro\", \"Namibia\", \"New Zealand\", \"Oman\", \"Panama\", \"Qatar\", \"Saint Lucia\", \"Saint Vincent and the Grenadines\", \"Samoa\", \"Sao Tome\", \"Seychelles\", \"Slovenia\", \"Solomon Islands\", \"Suriname\", \"Timor-Leste\", \"Tonga\", \"Trinidad and Tobago\", \"Uruguay\", \"Vanuatu\"], \"locationmode\": \"country names\", \"z\": [-0.11935518015393246, -0.23732756355506343, -0.47327227678246275, -0.5322584550893126, -0.5083830987976966, -0.007000549705183956, -0.08424435813869854, -0.14323054983926403, -0.5505160852159773, -0.5547293831881196, -0.5814136092590689, -0.18115024833068918, 0.5337060557545554, 0.7359444119922478, -0.18255465978135346, -0.5533249516468818, -0.5884357728250085, -0.15446600216916637, -0.058964577002702676, -0.44377918093218, -0.4831033042679851, -0.09547981046860085, -0.5519205167572151, -0.07722219373565177, -0.5589426811602619, -0.5154052632007434, -0.367939810736761, 3.963331107342713, -0.2429452897200146, -0.5968623702342307, -0.34125559136266953, 3.6655915938128705, 0.11097178012108434, 0.5969055353819765, -0.5013609343946499, -0.5463027872438351, 0.6095454527374058, 0.24158408087764463, -0.17412808392764242, -0.5224274276037902, -0.3567043584068587, -0.3693442489748566, -0.23592312531696782, -0.5954579372280553, -0.33423342695962277, -0.08003107021184301, -0.453610221811418, -0.2345186870788722, 1.8861749626412556, 1.9957207701886754, 0.7050469314787322, 4.023721978368256, -0.5701781468838799, -0.5828180408003067, -0.584222474015759, -0.5912446384188058, -0.5631559824808331, 0.33006328806619883, -0.5828180408003067, -0.4887210371297941, -0.5294495920068369, -0.5912446384188058, 0.012661478478429414, 0.45224901296904807, -0.5898402060404607], \"text\": [\"Albania\", \"Armenia\", \"Bahamas\", \"Barbados\", \"Bhutan\", \"Bosnia and Herzegovina\", \"Botswana\", \"Brunei Darussalam\", \"Cabo Verde\", \"Central African Republic\", \"Comoros\", \"Congo\", \"Costa Rica\", \"Croatia\", \"Cyprus\", \"Djibouti\", \"Dominica\", \"Equatorial Guinea\", \"Estonia\", \"Eswatini\", \"Fiji\", \"Gabon\", \"Gambia\", \"Georgia\", \"Guinea-Bissau\", \"Guyana\", \"Iceland\", \"Ireland\", \"Jamaica\", \"Kiribati\", \"Kosovo\", \"Kuwait\", \"Latvia\", \"Lebanon\", \"Lesotho\", \"Liberia\", \"Lithuania\", \"Luxembourg\", \"Macedonia\", \"Maldives\", \"Malta\", \"Mauritania\", \"Mauritius\", \"Micronesia\", \"Moldova\", \"Mongolia\", \"Montenegro\", \"Namibia\", \"New Zealand\", \"Oman\", \"Panama\", \"Qatar\", \"Saint Lucia\", \"Saint Vincent and the Grenadines\", \"Samoa\", \"Sao Tome\", \"Seychelles\", \"Slovenia\", \"Solomon Islands\", \"Suriname\", \"Timor-Leste\", \"Tonga\", \"Trinidad and Tobago\", \"Uruguay\", \"Vanuatu\"], \"colorbar\": {\"title\": \"gdp_per_cap\"}, \"marker\": {\"line\": {\"width\": 0.5}}}], {\"title\": \"gdp_per_cap\", \"geo\": {\"scope\": \"globe\", \"showframe\": false, \"projection\": {\"type\": \"Mercator\"}}}, {\"showLink\": true, \"linkText\": \"Export to plot.ly\"})});</script>"
      ],
      "text/vnd.plotly.v1+html": [
       "<div id=\"a9897b44-ff2d-49d7-a2bf-bae6835460eb\" style=\"height: 525px; width: 100%;\" class=\"plotly-graph-div\"></div><script type=\"text/javascript\">require([\"plotly\"], function(Plotly) { window.PLOTLYENV=window.PLOTLYENV || {};window.PLOTLYENV.BASE_URL=\"https://plot.ly\";Plotly.newPlot(\"a9897b44-ff2d-49d7-a2bf-bae6835460eb\", [{\"type\": \"choropleth\", \"locations\": [\"Albania\", \"Armenia\", \"Bahamas\", \"Barbados\", \"Bhutan\", \"Bosnia and Herzegovina\", \"Botswana\", \"Brunei Darussalam\", \"Cabo Verde\", \"Central African Republic\", \"Comoros\", \"Congo\", \"Costa Rica\", \"Croatia\", \"Cyprus\", \"Djibouti\", \"Dominica\", \"Equatorial Guinea\", \"Estonia\", \"Eswatini\", \"Fiji\", \"Gabon\", \"Gambia\", \"Georgia\", \"Guinea-Bissau\", \"Guyana\", \"Iceland\", \"Ireland\", \"Jamaica\", \"Kiribati\", \"Kosovo\", \"Kuwait\", \"Latvia\", \"Lebanon\", \"Lesotho\", \"Liberia\", \"Lithuania\", \"Luxembourg\", \"Macedonia\", \"Maldives\", \"Malta\", \"Mauritania\", \"Mauritius\", \"Micronesia\", \"Moldova\", \"Mongolia\", \"Montenegro\", \"Namibia\", \"New Zealand\", \"Oman\", \"Panama\", \"Qatar\", \"Saint Lucia\", \"Saint Vincent and the Grenadines\", \"Samoa\", \"Sao Tome\", \"Seychelles\", \"Slovenia\", \"Solomon Islands\", \"Suriname\", \"Timor-Leste\", \"Tonga\", \"Trinidad and Tobago\", \"Uruguay\", \"Vanuatu\"], \"locationmode\": \"country names\", \"z\": [-0.11935518015393246, -0.23732756355506343, -0.47327227678246275, -0.5322584550893126, -0.5083830987976966, -0.007000549705183956, -0.08424435813869854, -0.14323054983926403, -0.5505160852159773, -0.5547293831881196, -0.5814136092590689, -0.18115024833068918, 0.5337060557545554, 0.7359444119922478, -0.18255465978135346, -0.5533249516468818, -0.5884357728250085, -0.15446600216916637, -0.058964577002702676, -0.44377918093218, -0.4831033042679851, -0.09547981046860085, -0.5519205167572151, -0.07722219373565177, -0.5589426811602619, -0.5154052632007434, -0.367939810736761, 3.963331107342713, -0.2429452897200146, -0.5968623702342307, -0.34125559136266953, 3.6655915938128705, 0.11097178012108434, 0.5969055353819765, -0.5013609343946499, -0.5463027872438351, 0.6095454527374058, 0.24158408087764463, -0.17412808392764242, -0.5224274276037902, -0.3567043584068587, -0.3693442489748566, -0.23592312531696782, -0.5954579372280553, -0.33423342695962277, -0.08003107021184301, -0.453610221811418, -0.2345186870788722, 1.8861749626412556, 1.9957207701886754, 0.7050469314787322, 4.023721978368256, -0.5701781468838799, -0.5828180408003067, -0.584222474015759, -0.5912446384188058, -0.5631559824808331, 0.33006328806619883, -0.5828180408003067, -0.4887210371297941, -0.5294495920068369, -0.5912446384188058, 0.012661478478429414, 0.45224901296904807, -0.5898402060404607], \"text\": [\"Albania\", \"Armenia\", \"Bahamas\", \"Barbados\", \"Bhutan\", \"Bosnia and Herzegovina\", \"Botswana\", \"Brunei Darussalam\", \"Cabo Verde\", \"Central African Republic\", \"Comoros\", \"Congo\", \"Costa Rica\", \"Croatia\", \"Cyprus\", \"Djibouti\", \"Dominica\", \"Equatorial Guinea\", \"Estonia\", \"Eswatini\", \"Fiji\", \"Gabon\", \"Gambia\", \"Georgia\", \"Guinea-Bissau\", \"Guyana\", \"Iceland\", \"Ireland\", \"Jamaica\", \"Kiribati\", \"Kosovo\", \"Kuwait\", \"Latvia\", \"Lebanon\", \"Lesotho\", \"Liberia\", \"Lithuania\", \"Luxembourg\", \"Macedonia\", \"Maldives\", \"Malta\", \"Mauritania\", \"Mauritius\", \"Micronesia\", \"Moldova\", \"Mongolia\", \"Montenegro\", \"Namibia\", \"New Zealand\", \"Oman\", \"Panama\", \"Qatar\", \"Saint Lucia\", \"Saint Vincent and the Grenadines\", \"Samoa\", \"Sao Tome\", \"Seychelles\", \"Slovenia\", \"Solomon Islands\", \"Suriname\", \"Timor-Leste\", \"Tonga\", \"Trinidad and Tobago\", \"Uruguay\", \"Vanuatu\"], \"colorbar\": {\"title\": \"gdp_per_cap\"}, \"marker\": {\"line\": {\"width\": 0.5}}}], {\"title\": \"gdp_per_cap\", \"geo\": {\"scope\": \"globe\", \"showframe\": false, \"projection\": {\"type\": \"Mercator\"}}}, {\"showLink\": true, \"linkText\": \"Export to plot.ly\"})});</script>"
      ]
     },
     "metadata": {},
     "output_type": "display_data"
    }
   ],
   "source": [
    "#choropleth-maps\n",
    "#Ref: https://plot.ly/python/choropleth-maps/\n",
    "import plotly.plotly as py #For World Map\n",
    "import plotly.graph_objs as go\n",
    "from plotly.offline import download_plotlyjs, init_notebook_mode, plot, iplot\n",
    "init_notebook_mode(connected=True)\n",
    "\n",
    "axis = cols_name[2] #'gdp_per_capita'\n",
    "# axis = 'population'\n",
    "\n",
    "data = dict(type = 'choropleth', \n",
    "           locations = df_norm['indicator'],\n",
    "           locationmode = 'country names',\n",
    "           z = df_norm[axis], \n",
    "           text = df_norm['indicator'],\n",
    "           colorbar = {'title':axis},\n",
    "           marker = dict(\n",
    "            line = dict (\n",
    "#                 color = 'rgb(180,180,180)',\n",
    "                width = 0.5\n",
    "            ) )\n",
    "           )\n",
    "\n",
    "scope = 'globe'\n",
    "# scope = 'asia'\n",
    "\n",
    "layout = dict(title = axis2, \n",
    "             geo = dict(scope=scope,\n",
    "                        showframe = False, \n",
    "                       projection = {'type': 'Mercator'})\n",
    "             )\n",
    "\n",
    "choromap3 = go.Figure(data = [data], layout=layout)\n",
    "\n",
    "iplot(choromap3)"
   ]
  },
  {
   "cell_type": "markdown",
   "metadata": {},
   "source": [
    "## Add Continent Column to valid data"
   ]
  },
  {
   "cell_type": "code",
   "execution_count": 9,
   "metadata": {},
   "outputs": [],
   "source": [
    "import country_converter as converter\n",
    "\n",
    "countries = list(df_norm.indicator.values)\n",
    "\n",
    "df_norm['continent'] = converter.convert(names=countries, to='continent') \n",
    "\n",
    "# df_norm['continent']"
   ]
  },
  {
   "cell_type": "code",
   "execution_count": 76,
   "metadata": {},
   "outputs": [
    {
     "data": {
      "text/plain": [
       "array([ 0.63585082, -0.11935518, -0.37372741, -0.29113191, -0.29178519,\n",
       "       -0.33699407, -0.21428809, -0.36406527, -0.55749416,  2.46398993,\n",
       "        1.29700745,  0.48616003, -0.35585942,  0.70427717,  0.00529987,\n",
       "        0.0831304 , -2.90096556, -1.45324533, -0.87709562, -0.86532397,\n",
       "       -1.6235437 ,  1.39438407, -0.8026131 , -2.059913  ])"
      ]
     },
     "execution_count": 76,
     "metadata": {},
     "output_type": "execute_result"
    }
   ],
   "source": [
    "df_norm[cols_name[1:]].loc[0].values"
   ]
  },
  {
   "cell_type": "markdown",
   "metadata": {},
   "source": [
    "## Overview for all nations"
   ]
  },
  {
   "cell_type": "code",
   "execution_count": 98,
   "metadata": {},
   "outputs": [],
   "source": [
    "directions=dict(\n",
    "    life=['population_density','human_development_index','health_expenditure','employment'],\n",
    "    economics=['gdp_per_cap','gdp_growth', \n",
    "               'sustainable_economic_development_assessment(seda)','overall_economic_freedom'],\n",
    "    government=['political_stability&absence_of_violence','control_of_corruption',\n",
    "                'tax_burden','government_spending'],\n",
    "    laws=['property_rights','government_integrity',\n",
    "          'judicial_effectiveness','financial_freedom'],\n",
    "    migration=['total_foreign_born','per_foreign_born',\n",
    "               'population_living_abroad_diaspora','population_living_abroad']\n",
    ")"
   ]
  },
  {
   "cell_type": "markdown",
   "metadata": {},
   "source": [
    "Legend"
   ]
  },
  {
   "cell_type": "code",
   "execution_count": 348,
   "metadata": {
    "scrolled": false
   },
   "outputs": [
    {
     "data": {
      "application/vnd.plotly.v1+json": {
       "data": [
        {
         "hoverlabel": {
          "namelength": 20
         },
         "line": {
          "color": [
           "45B5AA99"
          ],
          "shape": "spline",
          "smoothing": 1.3,
          "width": 4
         },
         "marker": {
          "color": "45B5AA99"
         },
         "mode": "lines,markers",
         "name": "Albania",
         "r": [
          -2.5,
          -0.214288085532242,
          0.48616003049768747,
          -0.35585941912017033,
          0.08313039988882764,
          -2.5
         ],
         "theta": [
          "a",
          "population_density",
          "human_development_index",
          "health_expenditure",
          "employment",
          "b"
         ],
         "type": "scatterpolar"
        },
        {
         "hoverlabel": {
          "namelength": 20
         },
         "line": {
          "color": [
           "ffa60099"
          ],
          "shape": "spline",
          "smoothing": 1.3,
          "width": 4
         },
         "marker": {
          "color": "ffa60099"
         },
         "mode": "lines,markers",
         "name": "Albania",
         "r": [
          -2.5,
          -0.11935518015393246,
          -0.2911319123330611,
          0.005299866021627912,
          -0.8026131028264678,
          -2.5
         ],
         "theta": [
          "b",
          "gdp_per_cap",
          "gdp_growth",
          "sustainable_economic_development_assessment(seda)",
          "overall_economic_freedom",
          "c"
         ],
         "type": "scatterpolar"
        },
        {
         "hoverlabel": {
          "namelength": 20
         },
         "line": {
          "color": [
           "ff636199"
          ],
          "shape": "spline",
          "smoothing": 1.3,
          "width": 4
         },
         "marker": {
          "color": "ff636199"
         },
         "mode": "lines,markers",
         "name": "Albania",
         "r": [
          -2.5,
          -2.900965564552665,
          -1.453245329080186,
          1.394384069228972,
          0.7042771746662053,
          -2.5
         ],
         "theta": [
          "c",
          "political_stability&absence_of_violence",
          "control_of_corruption",
          "tax_burden",
          "government_spending",
          "d"
         ],
         "type": "scatterpolar"
        },
        {
         "hoverlabel": {
          "namelength": 20
         },
         "line": {
          "color": [
           "bc509099"
          ],
          "shape": "spline",
          "smoothing": 1.3,
          "width": 4
         },
         "marker": {
          "color": "bc509099"
         },
         "mode": "lines,markers",
         "name": "Albania",
         "r": [
          -2.5,
          -1.6235437024571364,
          -0.8653239650722193,
          -0.8770956195887272,
          -2.05991299809868,
          -2.5
         ],
         "theta": [
          "d",
          "property_rights",
          "government_integrity",
          "judicial_effectiveness",
          "financial_freedom",
          "e"
         ],
         "type": "scatterpolar"
        },
        {
         "hoverlabel": {
          "namelength": 20
         },
         "line": {
          "color": [
           "003f5c99"
          ],
          "shape": "spline",
          "smoothing": 1.3,
          "width": 4
         },
         "marker": {
          "color": "003f5c99"
         },
         "mode": "lines,markers",
         "name": "Albania",
         "r": [
          -2.5,
          -0.3640652662794119,
          -0.5574941575761089,
          2.463989932994942,
          1.2970074516810357,
          -2.5
         ],
         "theta": [
          "e",
          "total_foreign_born",
          "per_foreign_born",
          "population_living_abroad_diaspora",
          "population_living_abroad",
          "f"
         ],
         "type": "scatterpolar"
        },
        {
         "hoverlabel": {
          "namelength": 20
         },
         "line": {
          "color": [
           "003f5c99"
          ],
          "smoothing": 1.3
         },
         "marker": {
          "color": "rgba(180,120,150,0)"
         },
         "mode": "lines",
         "name": "Armenia",
         "r": [
          0,
          0,
          0,
          0,
          0
         ],
         "theta": [
          "f",
          "g",
          "h",
          "i",
          "j"
         ],
         "type": "scatterpolar"
        }
       ],
       "layout": {
        "height": 800,
        "paper_bgcolor": "rgb(224,225,227)",
        "polar": {
         "angularaxis": {
          "direction": "clockwise",
          "gridcolor": "white",
          "gridwidth": 1,
          "nticks": 30,
          "rotation": 60,
          "showline": false,
          "showticklabels": false,
          "tickfont": {
           "size": 8
          },
          "ticks": "outside"
         },
         "bgcolor": "rgb(224,225,227)",
         "radialaxis": {
          "angle": 60,
          "gridcolor": "white",
          "gridwidth": 2,
          "nticks": 4,
          "range": [
           -5,
           5
          ],
          "showline": false,
          "showticklabels": false,
          "visible": true
         },
         "sector": [
          119,
          420
         ]
        },
        "showlegend": false,
        "width": 800
       }
      },
      "text/html": [
       "<div id=\"2f147dea-4b26-4a06-a667-3e81b034b8be\" style=\"height: 800px; width: 800px;\" class=\"plotly-graph-div\"></div><script type=\"text/javascript\">require([\"plotly\"], function(Plotly) { window.PLOTLYENV=window.PLOTLYENV || {};window.PLOTLYENV.BASE_URL=\"https://plot.ly\";Plotly.newPlot(\"2f147dea-4b26-4a06-a667-3e81b034b8be\", [{\"type\": \"scatterpolar\", \"name\": \"Albania\", \"mode\": \"lines,markers\", \"marker\": {\"color\": \"45B5AA99\"}, \"r\": [-2.5, -0.214288085532242, 0.48616003049768747, -0.35585941912017033, 0.08313039988882764, -2.5], \"theta\": [\"a\", \"population_density\", \"human_development_index\", \"health_expenditure\", \"employment\", \"b\"], \"line\": {\"shape\": \"spline\", \"color\": [\"45B5AA99\"], \"smoothing\": 1.3, \"width\": 4}, \"hoverlabel\": {\"namelength\": 20}}, {\"type\": \"scatterpolar\", \"name\": \"Albania\", \"mode\": \"lines,markers\", \"marker\": {\"color\": \"ffa60099\"}, \"r\": [-2.5, -0.11935518015393246, -0.2911319123330611, 0.005299866021627912, -0.8026131028264678, -2.5], \"theta\": [\"b\", \"gdp_per_cap\", \"gdp_growth\", \"sustainable_economic_development_assessment(seda)\", \"overall_economic_freedom\", \"c\"], \"line\": {\"shape\": \"spline\", \"color\": [\"ffa60099\"], \"smoothing\": 1.3, \"width\": 4}, \"hoverlabel\": {\"namelength\": 20}}, {\"type\": \"scatterpolar\", \"name\": \"Albania\", \"mode\": \"lines,markers\", \"marker\": {\"color\": \"ff636199\"}, \"r\": [-2.5, -2.900965564552665, -1.453245329080186, 1.394384069228972, 0.7042771746662053, -2.5], \"theta\": [\"c\", \"political_stability&absence_of_violence\", \"control_of_corruption\", \"tax_burden\", \"government_spending\", \"d\"], \"line\": {\"shape\": \"spline\", \"color\": [\"ff636199\"], \"smoothing\": 1.3, \"width\": 4}, \"hoverlabel\": {\"namelength\": 20}}, {\"type\": \"scatterpolar\", \"name\": \"Albania\", \"mode\": \"lines,markers\", \"marker\": {\"color\": \"bc509099\"}, \"r\": [-2.5, -1.6235437024571364, -0.8653239650722193, -0.8770956195887272, -2.05991299809868, -2.5], \"theta\": [\"d\", \"property_rights\", \"government_integrity\", \"judicial_effectiveness\", \"financial_freedom\", \"e\"], \"line\": {\"shape\": \"spline\", \"color\": [\"bc509099\"], \"smoothing\": 1.3, \"width\": 4}, \"hoverlabel\": {\"namelength\": 20}}, {\"type\": \"scatterpolar\", \"name\": \"Albania\", \"mode\": \"lines,markers\", \"marker\": {\"color\": \"003f5c99\"}, \"r\": [-2.5, -0.3640652662794119, -0.5574941575761089, 2.463989932994942, 1.2970074516810357, -2.5], \"theta\": [\"e\", \"total_foreign_born\", \"per_foreign_born\", \"population_living_abroad_diaspora\", \"population_living_abroad\", \"f\"], \"line\": {\"shape\": \"spline\", \"color\": [\"003f5c99\"], \"smoothing\": 1.3, \"width\": 4}, \"hoverlabel\": {\"namelength\": 20}}, {\"type\": \"scatterpolar\", \"name\": \"Armenia\", \"mode\": \"lines\", \"marker\": {\"color\": \"rgba(180,120,150,0)\"}, \"r\": [0, 0, 0, 0, 0], \"theta\": [\"f\", \"g\", \"h\", \"i\", \"j\"], \"line\": {\"color\": [\"003f5c99\"], \"smoothing\": 1.3}, \"hoverlabel\": {\"namelength\": 20}}], {\"showlegend\": false, \"polar\": {\"bgcolor\": \"rgb(224,225,227)\", \"sector\": [119, 420], \"angularaxis\": {\"showline\": false, \"showticklabels\": false, \"tickfont\": {\"size\": 8}, \"ticks\": \"outside\", \"nticks\": 30, \"direction\": \"clockwise\", \"rotation\": 60, \"gridcolor\": \"white\", \"gridwidth\": 1}, \"radialaxis\": {\"angle\": 60, \"showline\": false, \"showticklabels\": false, \"visible\": true, \"nticks\": 4, \"range\": [-5, 5], \"gridwidth\": 2, \"gridcolor\": \"white\"}}, \"paper_bgcolor\": \"rgb(224,225,227)\", \"width\": 800, \"height\": 800}, {\"showLink\": true, \"linkText\": \"Export to plot.ly\"})});</script>"
      ],
      "text/vnd.plotly.v1+html": [
       "<div id=\"2f147dea-4b26-4a06-a667-3e81b034b8be\" style=\"height: 800px; width: 800px;\" class=\"plotly-graph-div\"></div><script type=\"text/javascript\">require([\"plotly\"], function(Plotly) { window.PLOTLYENV=window.PLOTLYENV || {};window.PLOTLYENV.BASE_URL=\"https://plot.ly\";Plotly.newPlot(\"2f147dea-4b26-4a06-a667-3e81b034b8be\", [{\"type\": \"scatterpolar\", \"name\": \"Albania\", \"mode\": \"lines,markers\", \"marker\": {\"color\": \"45B5AA99\"}, \"r\": [-2.5, -0.214288085532242, 0.48616003049768747, -0.35585941912017033, 0.08313039988882764, -2.5], \"theta\": [\"a\", \"population_density\", \"human_development_index\", \"health_expenditure\", \"employment\", \"b\"], \"line\": {\"shape\": \"spline\", \"color\": [\"45B5AA99\"], \"smoothing\": 1.3, \"width\": 4}, \"hoverlabel\": {\"namelength\": 20}}, {\"type\": \"scatterpolar\", \"name\": \"Albania\", \"mode\": \"lines,markers\", \"marker\": {\"color\": \"ffa60099\"}, \"r\": [-2.5, -0.11935518015393246, -0.2911319123330611, 0.005299866021627912, -0.8026131028264678, -2.5], \"theta\": [\"b\", \"gdp_per_cap\", \"gdp_growth\", \"sustainable_economic_development_assessment(seda)\", \"overall_economic_freedom\", \"c\"], \"line\": {\"shape\": \"spline\", \"color\": [\"ffa60099\"], \"smoothing\": 1.3, \"width\": 4}, \"hoverlabel\": {\"namelength\": 20}}, {\"type\": \"scatterpolar\", \"name\": \"Albania\", \"mode\": \"lines,markers\", \"marker\": {\"color\": \"ff636199\"}, \"r\": [-2.5, -2.900965564552665, -1.453245329080186, 1.394384069228972, 0.7042771746662053, -2.5], \"theta\": [\"c\", \"political_stability&absence_of_violence\", \"control_of_corruption\", \"tax_burden\", \"government_spending\", \"d\"], \"line\": {\"shape\": \"spline\", \"color\": [\"ff636199\"], \"smoothing\": 1.3, \"width\": 4}, \"hoverlabel\": {\"namelength\": 20}}, {\"type\": \"scatterpolar\", \"name\": \"Albania\", \"mode\": \"lines,markers\", \"marker\": {\"color\": \"bc509099\"}, \"r\": [-2.5, -1.6235437024571364, -0.8653239650722193, -0.8770956195887272, -2.05991299809868, -2.5], \"theta\": [\"d\", \"property_rights\", \"government_integrity\", \"judicial_effectiveness\", \"financial_freedom\", \"e\"], \"line\": {\"shape\": \"spline\", \"color\": [\"bc509099\"], \"smoothing\": 1.3, \"width\": 4}, \"hoverlabel\": {\"namelength\": 20}}, {\"type\": \"scatterpolar\", \"name\": \"Albania\", \"mode\": \"lines,markers\", \"marker\": {\"color\": \"003f5c99\"}, \"r\": [-2.5, -0.3640652662794119, -0.5574941575761089, 2.463989932994942, 1.2970074516810357, -2.5], \"theta\": [\"e\", \"total_foreign_born\", \"per_foreign_born\", \"population_living_abroad_diaspora\", \"population_living_abroad\", \"f\"], \"line\": {\"shape\": \"spline\", \"color\": [\"003f5c99\"], \"smoothing\": 1.3, \"width\": 4}, \"hoverlabel\": {\"namelength\": 20}}, {\"type\": \"scatterpolar\", \"name\": \"Armenia\", \"mode\": \"lines\", \"marker\": {\"color\": \"rgba(180,120,150,0)\"}, \"r\": [0, 0, 0, 0, 0], \"theta\": [\"f\", \"g\", \"h\", \"i\", \"j\"], \"line\": {\"color\": [\"003f5c99\"], \"smoothing\": 1.3}, \"hoverlabel\": {\"namelength\": 20}}], {\"showlegend\": false, \"polar\": {\"bgcolor\": \"rgb(224,225,227)\", \"sector\": [119, 420], \"angularaxis\": {\"showline\": false, \"showticklabels\": false, \"tickfont\": {\"size\": 8}, \"ticks\": \"outside\", \"nticks\": 30, \"direction\": \"clockwise\", \"rotation\": 60, \"gridcolor\": \"white\", \"gridwidth\": 1}, \"radialaxis\": {\"angle\": 60, \"showline\": false, \"showticklabels\": false, \"visible\": true, \"nticks\": 4, \"range\": [-5, 5], \"gridwidth\": 2, \"gridcolor\": \"white\"}}, \"paper_bgcolor\": \"rgb(224,225,227)\", \"width\": 800, \"height\": 800}, {\"showLink\": true, \"linkText\": \"Export to plot.ly\"})});</script>"
      ]
     },
     "metadata": {},
     "output_type": "display_data"
    }
   ],
   "source": [
    "# import plotly.plotly as py\n",
    "# import plotly.graph_objs as go\n",
    "\n",
    "data = []\n",
    "color = \"rgba(255,255,255,0)\"\n",
    "\n",
    "\n",
    "def format(l):\n",
    "    return list(l).append(list(l)[0])\n",
    "\n",
    "# theta = list(cols_name[1:])\n",
    "# theta.append(cols_name[1])\n",
    "# print(theta)\n",
    "\n",
    "# r=list(df_norm[cols_name[1:]].iloc[i].values)+[df_norm[cols_name[1]].iloc[i]]\n",
    "\n",
    "# order = []\n",
    "# for k, v in directions.items():\n",
    "#     order += v\n",
    "# print(order)\n",
    "\n",
    "alpha='99'\n",
    "\n",
    "colors=['D94F70'+alpha,'F0C05A'+alpha,'45B5AA'+alpha,'5A5B9F'+alpha,'9B1B30'+alpha]\n",
    "colors=['45B5AA','ffa600', 'ff6361','bc5090',\n",
    "#         '58508d',\n",
    "        '003f5c']\n",
    "colors=[i+alpha for i in colors]\n",
    "\n",
    "extra_theta=['a','b','c','d','e','f','g','h','i']\n",
    "\n",
    "range_min = -5\n",
    "range_max = 5\n",
    "\n",
    "offset = 2.5\n",
    "\n",
    "bgcolor=\"rgb(224,225,227)\"\n",
    "\n",
    "for i in range(len(df_norm)):\n",
    "    if i >=1:\n",
    "        break\n",
    "    \n",
    "    for index,k in enumerate(directions.keys()):\n",
    "        \n",
    "        r = df_norm[directions[k]].iloc[i].values\n",
    "        theta = directions[k].copy()\n",
    "        \n",
    "        r = list(r)\n",
    "        prevkey = extra_theta[(index)%len(extra_theta)]\n",
    "        nextkey=extra_theta[(index+1)%len(extra_theta)]\n",
    "        r = [range_min+offset] + r + [range_min+offset] \n",
    "        theta = [prevkey] + theta + [nextkey]\n",
    "        \n",
    "        data.append(go.Scatterpolar(\n",
    "            name = df_norm['indicator'].iloc[i], #Nation as the trace name\n",
    "            mode = \"lines,markers\",\n",
    "            marker = dict(\n",
    "#                 color = \"rgba(180,120,150,0.4)\",\n",
    "                color = colors[index]\n",
    "\n",
    "            ),\n",
    "            r=r,\n",
    "            theta=theta,\n",
    "            line = dict(\n",
    "                shape = \"spline\",\n",
    "#                 color = \"rgba(180,120,150,0.3)\",\n",
    "                color=[colors[index]],\n",
    "#                 dash='dot', #\"solid\", \"dot\", \"dash\", \"longdash\", \"dashdot\", or \"longdashdot\"\n",
    "                smoothing = 1.3,\n",
    "                width=4\n",
    "            ),\n",
    "            hoverlabel=dict(\n",
    "                namelength=20\n",
    "            )\n",
    "        ))\n",
    "\n",
    "#Add a black angle\n",
    "data.append(go.Scatterpolar(\n",
    "        name = df_norm['indicator'].iloc[i], #Nation as the trace name\n",
    "        mode = \"lines\",\n",
    "        marker = dict(\n",
    "            color = \"rgba(180,120,150,0)\",\n",
    "\n",
    "        ),\n",
    "        r=[0,0,0,0,0],\n",
    "        theta=['f','g','h','i','j'],\n",
    "        line = dict(\n",
    "#             shape = \"spline\",\n",
    "            color=[colors[index]],\n",
    "            smoothing = 1.3\n",
    "        ),\n",
    "        hoverlabel=dict(\n",
    "            namelength=20\n",
    "        )\n",
    "    )\n",
    ")\n",
    "        \n",
    "        \n",
    "layout = go.Layout(\n",
    "    showlegend = False,\n",
    "    polar=dict(\n",
    "        bgcolor=bgcolor,\n",
    "        sector=[119,420],\n",
    "        angularaxis=dict(\n",
    "            showline=False, # the grid's outline\n",
    "#             visible=True,\n",
    "            showticklabels=False,\n",
    "            tickfont = dict(\n",
    "                size = 8\n",
    "            ),\n",
    "            ticks = \"outside\",\n",
    "            nticks = 30,\n",
    "            direction = \"clockwise\",\n",
    "            rotation = 60,\n",
    "#             gridcolor = \"rgb(133,134,136,0.4)\",\n",
    "            gridcolor=\"white\",\n",
    "            gridwidth = 1\n",
    "        ),\n",
    "        radialaxis=dict(\n",
    "            angle = 60,\n",
    "            showline=False, # the tick line\n",
    "            showticklabels=False,\n",
    "            visible=True,\n",
    "            nticks=4,\n",
    "            range = [range_min,range_max],\n",
    "#             gridcolor = \"rgb(133,134,136)\",\n",
    "            gridwidth = 2,\n",
    "            gridcolor = \"white\", #the tick line\n",
    "        )\n",
    "    ),\n",
    "\n",
    "    paper_bgcolor=bgcolor,\n",
    "        \n",
    "\n",
    "    \n",
    ")\n",
    "\n",
    "fig = go.Figure(data=data, layout=layout)\n",
    "fig['layout'].update(width=800,height=800)\n",
    "iplot(fig)"
   ]
  },
  {
   "cell_type": "markdown",
   "metadata": {},
   "source": [
    "Legend of the markers and lines"
   ]
  },
  {
   "cell_type": "code",
   "execution_count": 366,
   "metadata": {},
   "outputs": [
    {
     "data": {
      "application/vnd.plotly.v1+json": {
       "data": [
        {
         "hoverlabel": {
          "namelength": 20
         },
         "line": {
          "color": [
           "45B5AA99"
          ],
          "shape": "spline",
          "smoothing": 1.3,
          "width": 8
         },
         "marker": {
          "color": "45B5AA99",
          "size": 14
         },
         "mode": "markers,lines",
         "name": "Country 1",
         "r": [
          -2.5,
          -0.2214571594089517,
          0.25764896050486547,
          -0.27182203035076363,
          -1.1519495250146046,
          -2.5
         ],
         "theta": [
          "a",
          "population_density",
          "human_development_index",
          "health_expenditure",
          "employment",
          "b"
         ],
         "type": "scatterpolar"
        },
        {
         "hoverlabel": {
          "namelength": 20
         },
         "line": {
          "color": [
           "ffa60099"
          ],
          "shape": "spline",
          "smoothing": 1.3,
          "width": 8
         },
         "marker": {
          "color": "ffa60099",
          "size": 14
         },
         "mode": "markers,lines",
         "name": "Country 1",
         "r": [
          -2.5,
          -0.23732756355506343,
          0.03259949811345928,
          -0.05564927828032171,
          0.464204471159992,
          -2.5
         ],
         "theta": [
          "b",
          "gdp_per_cap",
          "gdp_growth",
          "sustainable_economic_development_assessment(seda)",
          "overall_economic_freedom",
          "c"
         ],
         "type": "scatterpolar"
        },
        {
         "hoverlabel": {
          "namelength": 20
         },
         "line": {
          "color": [
           "ff636199"
          ],
          "shape": "spline",
          "smoothing": 1.3,
          "width": 8
         },
         "marker": {
          "color": "ff636199",
          "size": 14
         },
         "mode": "markers,lines",
         "name": "Country 1",
         "r": [
          -2.5,
          0.5426303182970258,
          -0.38340875171615846,
          0.8572283217369381,
          1.0580937210781693,
          -2.5
         ],
         "theta": [
          "c",
          "political_stability&absence_of_violence",
          "control_of_corruption",
          "tax_burden",
          "government_spending",
          "d"
         ],
         "type": "scatterpolar"
        },
        {
         "hoverlabel": {
          "namelength": 20
         },
         "line": {
          "color": [
           "bc509099"
          ],
          "shape": "spline",
          "smoothing": 1.3,
          "width": 8
         },
         "marker": {
          "color": "bc509099",
          "size": 14
         },
         "mode": "markers,lines",
         "name": "Country 1",
         "r": [
          -2.5,
          0.2427898617943976,
          -0.08499884041451294,
          -1.0166702249533857,
          1.018117918600497,
          -2.5
         ],
         "theta": [
          "d",
          "property_rights",
          "government_integrity",
          "judicial_effectiveness",
          "financial_freedom",
          "e"
         ],
         "type": "scatterpolar"
        },
        {
         "hoverlabel": {
          "namelength": 20
         },
         "line": {
          "color": [
           "003f5c99"
          ],
          "shape": "spline",
          "smoothing": 1.3,
          "width": 8
         },
         "marker": {
          "color": "003f5c99",
          "size": 14
         },
         "mode": "markers,lines",
         "name": "Country 1",
         "r": [
          -2.5,
          -0.10859006222923304,
          -0.048657478282505884,
          1.9250761071968647,
          0.9073826120140627,
          -2.5
         ],
         "theta": [
          "e",
          "total_foreign_born",
          "per_foreign_born",
          "population_living_abroad_diaspora",
          "population_living_abroad",
          "f"
         ],
         "type": "scatterpolar"
        },
        {
         "hoverlabel": {
          "namelength": 20
         },
         "line": {
          "color": [
           "45B5AA99"
          ],
          "shape": "spline",
          "smoothing": 1.3,
          "width": 8
         },
         "marker": {
          "color": "45B5AA99",
          "size": 14
         },
         "mode": "markers,lines",
         "name": "Country 2",
         "r": [
          -2.5,
          -0.4559281473893844,
          0.653734300614156,
          0.35730190759268465,
          -0.34439661592726806,
          -2.5
         ],
         "theta": [
          "a",
          "population_density",
          "human_development_index",
          "health_expenditure",
          "employment",
          "b"
         ],
         "type": "scatterpolar"
        },
        {
         "hoverlabel": {
          "namelength": 20
         },
         "line": {
          "color": [
           "ffa60099"
          ],
          "shape": "spline",
          "smoothing": 1.3,
          "width": 8
         },
         "marker": {
          "color": "ffa60099",
          "size": 14
         },
         "mode": "markers,lines",
         "name": "Country 2",
         "r": [
          -2.5,
          -0.47327227678246275,
          0.3563309787268793,
          0.3231067708848694,
          -1.4360217067694987,
          -2.5
         ],
         "theta": [
          "b",
          "gdp_per_cap",
          "gdp_growth",
          "sustainable_economic_development_assessment(seda)",
          "overall_economic_freedom",
          "c"
         ],
         "type": "scatterpolar"
        },
        {
         "hoverlabel": {
          "namelength": 20
         },
         "line": {
          "color": [
           "ff636199"
          ],
          "shape": "spline",
          "smoothing": 1.3,
          "width": 8
         },
         "marker": {
          "color": "ff636199",
          "size": 14
         },
         "mode": "markers,lines",
         "name": "Country 2",
         "r": [
          -2.5,
          -0.9301025058119401,
          -0.5681987336557265,
          -0.032685693759163074,
          1.198650994438326,
          -2.5
         ],
         "theta": [
          "c",
          "political_stability&absence_of_violence",
          "control_of_corruption",
          "tax_burden",
          "government_spending",
          "d"
         ],
         "type": "scatterpolar"
        },
        {
         "hoverlabel": {
          "namelength": 20
         },
         "line": {
          "color": [
           "bc509099"
          ],
          "shape": "spline",
          "smoothing": 1.3,
          "width": 8
         },
         "marker": {
          "color": "bc509099",
          "size": 14
         },
         "mode": "markers,lines",
         "name": "Country 2",
         "r": [
          -2.5,
          -1.1131375654887967,
          -0.7058415101798619,
          -0.5281592487935046,
          -1.0339026925322876,
          -2.5
         ],
         "theta": [
          "d",
          "property_rights",
          "government_integrity",
          "judicial_effectiveness",
          "financial_freedom",
          "e"
         ],
         "type": "scatterpolar"
        },
        {
         "hoverlabel": {
          "namelength": 20
         },
         "line": {
          "color": [
           "003f5c99"
          ],
          "shape": "spline",
          "smoothing": 1.3,
          "width": 8
         },
         "marker": {
          "color": "003f5c99",
          "size": 14
         },
         "mode": "markers,lines",
         "name": "Country 2",
         "r": [
          -2.5,
          -0.3608331701680444,
          0.3380582957515901,
          -0.6799184252464612,
          -0.4112770341341412,
          -2.5
         ],
         "theta": [
          "e",
          "total_foreign_born",
          "per_foreign_born",
          "population_living_abroad_diaspora",
          "population_living_abroad",
          "f"
         ],
         "type": "scatterpolar"
        },
        {
         "hoverlabel": {
          "namelength": 20
         },
         "line": {
          "color": [
           "003f5c99"
          ],
          "smoothing": 1.3
         },
         "marker": {
          "color": "rgba(180,120,150,0)"
         },
         "mode": "lines",
         "name": "Barbados",
         "r": [
          0,
          0,
          0,
          0,
          0
         ],
         "theta": [
          "f",
          "g",
          "h",
          "i",
          "j"
         ],
         "type": "scatterpolar"
        }
       ],
       "layout": {
        "height": 800,
        "paper_bgcolor": "rgb(224,225,227)",
        "polar": {
         "angularaxis": {
          "direction": "clockwise",
          "gridcolor": "rgba(133,134,136,0.7)",
          "gridwidth": 4,
          "nticks": 30,
          "rotation": 60,
          "showline": false,
          "showticklabels": false,
          "tickfont": {
           "size": 8
          },
          "ticks": "outside"
         },
         "bgcolor": "rgb(224,225,227)",
         "radialaxis": {
          "gridcolor": "rgba(255,255,255,0.4)",
          "gridwidth": 8,
          "nticks": 6,
          "range": [
           -5,
           5
          ],
          "showline": true,
          "showticklabels": true,
          "tickfont": {
           "family": "doris serif",
           "size": 28
          },
          "visible": true
         },
         "sector": [
          0,
          59
         ]
        },
        "showlegend": false,
        "width": 800
       }
      },
      "text/html": [
       "<div id=\"12b9a116-b7d1-4f4e-b93e-8dcee057d379\" style=\"height: 800px; width: 800px;\" class=\"plotly-graph-div\"></div><script type=\"text/javascript\">require([\"plotly\"], function(Plotly) { window.PLOTLYENV=window.PLOTLYENV || {};window.PLOTLYENV.BASE_URL=\"https://plot.ly\";Plotly.newPlot(\"12b9a116-b7d1-4f4e-b93e-8dcee057d379\", [{\"type\": \"scatterpolar\", \"name\": \"Country 1\", \"mode\": \"markers,lines\", \"marker\": {\"color\": \"45B5AA99\", \"size\": 14}, \"r\": [-2.5, -0.2214571594089517, 0.25764896050486547, -0.27182203035076363, -1.1519495250146046, -2.5], \"theta\": [\"a\", \"population_density\", \"human_development_index\", \"health_expenditure\", \"employment\", \"b\"], \"line\": {\"shape\": \"spline\", \"color\": [\"45B5AA99\"], \"smoothing\": 1.3, \"width\": 8}, \"hoverlabel\": {\"namelength\": 20}}, {\"type\": \"scatterpolar\", \"name\": \"Country 1\", \"mode\": \"markers,lines\", \"marker\": {\"color\": \"ffa60099\", \"size\": 14}, \"r\": [-2.5, -0.23732756355506343, 0.03259949811345928, -0.05564927828032171, 0.464204471159992, -2.5], \"theta\": [\"b\", \"gdp_per_cap\", \"gdp_growth\", \"sustainable_economic_development_assessment(seda)\", \"overall_economic_freedom\", \"c\"], \"line\": {\"shape\": \"spline\", \"color\": [\"ffa60099\"], \"smoothing\": 1.3, \"width\": 8}, \"hoverlabel\": {\"namelength\": 20}}, {\"type\": \"scatterpolar\", \"name\": \"Country 1\", \"mode\": \"markers,lines\", \"marker\": {\"color\": \"ff636199\", \"size\": 14}, \"r\": [-2.5, 0.5426303182970258, -0.38340875171615846, 0.8572283217369381, 1.0580937210781693, -2.5], \"theta\": [\"c\", \"political_stability&absence_of_violence\", \"control_of_corruption\", \"tax_burden\", \"government_spending\", \"d\"], \"line\": {\"shape\": \"spline\", \"color\": [\"ff636199\"], \"smoothing\": 1.3, \"width\": 8}, \"hoverlabel\": {\"namelength\": 20}}, {\"type\": \"scatterpolar\", \"name\": \"Country 1\", \"mode\": \"markers,lines\", \"marker\": {\"color\": \"bc509099\", \"size\": 14}, \"r\": [-2.5, 0.2427898617943976, -0.08499884041451294, -1.0166702249533857, 1.018117918600497, -2.5], \"theta\": [\"d\", \"property_rights\", \"government_integrity\", \"judicial_effectiveness\", \"financial_freedom\", \"e\"], \"line\": {\"shape\": \"spline\", \"color\": [\"bc509099\"], \"smoothing\": 1.3, \"width\": 8}, \"hoverlabel\": {\"namelength\": 20}}, {\"type\": \"scatterpolar\", \"name\": \"Country 1\", \"mode\": \"markers,lines\", \"marker\": {\"color\": \"003f5c99\", \"size\": 14}, \"r\": [-2.5, -0.10859006222923304, -0.048657478282505884, 1.9250761071968647, 0.9073826120140627, -2.5], \"theta\": [\"e\", \"total_foreign_born\", \"per_foreign_born\", \"population_living_abroad_diaspora\", \"population_living_abroad\", \"f\"], \"line\": {\"shape\": \"spline\", \"color\": [\"003f5c99\"], \"smoothing\": 1.3, \"width\": 8}, \"hoverlabel\": {\"namelength\": 20}}, {\"type\": \"scatterpolar\", \"name\": \"Country 2\", \"mode\": \"markers,lines\", \"marker\": {\"color\": \"45B5AA99\", \"size\": 14}, \"r\": [-2.5, -0.4559281473893844, 0.653734300614156, 0.35730190759268465, -0.34439661592726806, -2.5], \"theta\": [\"a\", \"population_density\", \"human_development_index\", \"health_expenditure\", \"employment\", \"b\"], \"line\": {\"shape\": \"spline\", \"color\": [\"45B5AA99\"], \"smoothing\": 1.3, \"width\": 8}, \"hoverlabel\": {\"namelength\": 20}}, {\"type\": \"scatterpolar\", \"name\": \"Country 2\", \"mode\": \"markers,lines\", \"marker\": {\"color\": \"ffa60099\", \"size\": 14}, \"r\": [-2.5, -0.47327227678246275, 0.3563309787268793, 0.3231067708848694, -1.4360217067694987, -2.5], \"theta\": [\"b\", \"gdp_per_cap\", \"gdp_growth\", \"sustainable_economic_development_assessment(seda)\", \"overall_economic_freedom\", \"c\"], \"line\": {\"shape\": \"spline\", \"color\": [\"ffa60099\"], \"smoothing\": 1.3, \"width\": 8}, \"hoverlabel\": {\"namelength\": 20}}, {\"type\": \"scatterpolar\", \"name\": \"Country 2\", \"mode\": \"markers,lines\", \"marker\": {\"color\": \"ff636199\", \"size\": 14}, \"r\": [-2.5, -0.9301025058119401, -0.5681987336557265, -0.032685693759163074, 1.198650994438326, -2.5], \"theta\": [\"c\", \"political_stability&absence_of_violence\", \"control_of_corruption\", \"tax_burden\", \"government_spending\", \"d\"], \"line\": {\"shape\": \"spline\", \"color\": [\"ff636199\"], \"smoothing\": 1.3, \"width\": 8}, \"hoverlabel\": {\"namelength\": 20}}, {\"type\": \"scatterpolar\", \"name\": \"Country 2\", \"mode\": \"markers,lines\", \"marker\": {\"color\": \"bc509099\", \"size\": 14}, \"r\": [-2.5, -1.1131375654887967, -0.7058415101798619, -0.5281592487935046, -1.0339026925322876, -2.5], \"theta\": [\"d\", \"property_rights\", \"government_integrity\", \"judicial_effectiveness\", \"financial_freedom\", \"e\"], \"line\": {\"shape\": \"spline\", \"color\": [\"bc509099\"], \"smoothing\": 1.3, \"width\": 8}, \"hoverlabel\": {\"namelength\": 20}}, {\"type\": \"scatterpolar\", \"name\": \"Country 2\", \"mode\": \"markers,lines\", \"marker\": {\"color\": \"003f5c99\", \"size\": 14}, \"r\": [-2.5, -0.3608331701680444, 0.3380582957515901, -0.6799184252464612, -0.4112770341341412, -2.5], \"theta\": [\"e\", \"total_foreign_born\", \"per_foreign_born\", \"population_living_abroad_diaspora\", \"population_living_abroad\", \"f\"], \"line\": {\"shape\": \"spline\", \"color\": [\"003f5c99\"], \"smoothing\": 1.3, \"width\": 8}, \"hoverlabel\": {\"namelength\": 20}}, {\"type\": \"scatterpolar\", \"name\": \"Barbados\", \"mode\": \"lines\", \"marker\": {\"color\": \"rgba(180,120,150,0)\"}, \"r\": [0, 0, 0, 0, 0], \"theta\": [\"f\", \"g\", \"h\", \"i\", \"j\"], \"line\": {\"color\": [\"003f5c99\"], \"smoothing\": 1.3}, \"hoverlabel\": {\"namelength\": 20}}], {\"showlegend\": false, \"polar\": {\"bgcolor\": \"rgb(224,225,227)\", \"sector\": [0, 59], \"angularaxis\": {\"showline\": false, \"showticklabels\": false, \"tickfont\": {\"size\": 8}, \"ticks\": \"outside\", \"nticks\": 30, \"direction\": \"clockwise\", \"rotation\": 60, \"gridcolor\": \"rgba(133,134,136,0.7)\", \"gridwidth\": 4}, \"radialaxis\": {\"showline\": true, \"showticklabels\": true, \"visible\": true, \"nticks\": 6, \"range\": [-5, 5], \"gridcolor\": \"rgba(255,255,255,0.4)\", \"gridwidth\": 8, \"tickfont\": {\"size\": 28, \"family\": \"doris serif\"}}}, \"paper_bgcolor\": \"rgb(224,225,227)\", \"width\": 800, \"height\": 800}, {\"showLink\": true, \"linkText\": \"Export to plot.ly\"})});</script>"
      ],
      "text/vnd.plotly.v1+html": [
       "<div id=\"12b9a116-b7d1-4f4e-b93e-8dcee057d379\" style=\"height: 800px; width: 800px;\" class=\"plotly-graph-div\"></div><script type=\"text/javascript\">require([\"plotly\"], function(Plotly) { window.PLOTLYENV=window.PLOTLYENV || {};window.PLOTLYENV.BASE_URL=\"https://plot.ly\";Plotly.newPlot(\"12b9a116-b7d1-4f4e-b93e-8dcee057d379\", [{\"type\": \"scatterpolar\", \"name\": \"Country 1\", \"mode\": \"markers,lines\", \"marker\": {\"color\": \"45B5AA99\", \"size\": 14}, \"r\": [-2.5, -0.2214571594089517, 0.25764896050486547, -0.27182203035076363, -1.1519495250146046, -2.5], \"theta\": [\"a\", \"population_density\", \"human_development_index\", \"health_expenditure\", \"employment\", \"b\"], \"line\": {\"shape\": \"spline\", \"color\": [\"45B5AA99\"], \"smoothing\": 1.3, \"width\": 8}, \"hoverlabel\": {\"namelength\": 20}}, {\"type\": \"scatterpolar\", \"name\": \"Country 1\", \"mode\": \"markers,lines\", \"marker\": {\"color\": \"ffa60099\", \"size\": 14}, \"r\": [-2.5, -0.23732756355506343, 0.03259949811345928, -0.05564927828032171, 0.464204471159992, -2.5], \"theta\": [\"b\", \"gdp_per_cap\", \"gdp_growth\", \"sustainable_economic_development_assessment(seda)\", \"overall_economic_freedom\", \"c\"], \"line\": {\"shape\": \"spline\", \"color\": [\"ffa60099\"], \"smoothing\": 1.3, \"width\": 8}, \"hoverlabel\": {\"namelength\": 20}}, {\"type\": \"scatterpolar\", \"name\": \"Country 1\", \"mode\": \"markers,lines\", \"marker\": {\"color\": \"ff636199\", \"size\": 14}, \"r\": [-2.5, 0.5426303182970258, -0.38340875171615846, 0.8572283217369381, 1.0580937210781693, -2.5], \"theta\": [\"c\", \"political_stability&absence_of_violence\", \"control_of_corruption\", \"tax_burden\", \"government_spending\", \"d\"], \"line\": {\"shape\": \"spline\", \"color\": [\"ff636199\"], \"smoothing\": 1.3, \"width\": 8}, \"hoverlabel\": {\"namelength\": 20}}, {\"type\": \"scatterpolar\", \"name\": \"Country 1\", \"mode\": \"markers,lines\", \"marker\": {\"color\": \"bc509099\", \"size\": 14}, \"r\": [-2.5, 0.2427898617943976, -0.08499884041451294, -1.0166702249533857, 1.018117918600497, -2.5], \"theta\": [\"d\", \"property_rights\", \"government_integrity\", \"judicial_effectiveness\", \"financial_freedom\", \"e\"], \"line\": {\"shape\": \"spline\", \"color\": [\"bc509099\"], \"smoothing\": 1.3, \"width\": 8}, \"hoverlabel\": {\"namelength\": 20}}, {\"type\": \"scatterpolar\", \"name\": \"Country 1\", \"mode\": \"markers,lines\", \"marker\": {\"color\": \"003f5c99\", \"size\": 14}, \"r\": [-2.5, -0.10859006222923304, -0.048657478282505884, 1.9250761071968647, 0.9073826120140627, -2.5], \"theta\": [\"e\", \"total_foreign_born\", \"per_foreign_born\", \"population_living_abroad_diaspora\", \"population_living_abroad\", \"f\"], \"line\": {\"shape\": \"spline\", \"color\": [\"003f5c99\"], \"smoothing\": 1.3, \"width\": 8}, \"hoverlabel\": {\"namelength\": 20}}, {\"type\": \"scatterpolar\", \"name\": \"Country 2\", \"mode\": \"markers,lines\", \"marker\": {\"color\": \"45B5AA99\", \"size\": 14}, \"r\": [-2.5, -0.4559281473893844, 0.653734300614156, 0.35730190759268465, -0.34439661592726806, -2.5], \"theta\": [\"a\", \"population_density\", \"human_development_index\", \"health_expenditure\", \"employment\", \"b\"], \"line\": {\"shape\": \"spline\", \"color\": [\"45B5AA99\"], \"smoothing\": 1.3, \"width\": 8}, \"hoverlabel\": {\"namelength\": 20}}, {\"type\": \"scatterpolar\", \"name\": \"Country 2\", \"mode\": \"markers,lines\", \"marker\": {\"color\": \"ffa60099\", \"size\": 14}, \"r\": [-2.5, -0.47327227678246275, 0.3563309787268793, 0.3231067708848694, -1.4360217067694987, -2.5], \"theta\": [\"b\", \"gdp_per_cap\", \"gdp_growth\", \"sustainable_economic_development_assessment(seda)\", \"overall_economic_freedom\", \"c\"], \"line\": {\"shape\": \"spline\", \"color\": [\"ffa60099\"], \"smoothing\": 1.3, \"width\": 8}, \"hoverlabel\": {\"namelength\": 20}}, {\"type\": \"scatterpolar\", \"name\": \"Country 2\", \"mode\": \"markers,lines\", \"marker\": {\"color\": \"ff636199\", \"size\": 14}, \"r\": [-2.5, -0.9301025058119401, -0.5681987336557265, -0.032685693759163074, 1.198650994438326, -2.5], \"theta\": [\"c\", \"political_stability&absence_of_violence\", \"control_of_corruption\", \"tax_burden\", \"government_spending\", \"d\"], \"line\": {\"shape\": \"spline\", \"color\": [\"ff636199\"], \"smoothing\": 1.3, \"width\": 8}, \"hoverlabel\": {\"namelength\": 20}}, {\"type\": \"scatterpolar\", \"name\": \"Country 2\", \"mode\": \"markers,lines\", \"marker\": {\"color\": \"bc509099\", \"size\": 14}, \"r\": [-2.5, -1.1131375654887967, -0.7058415101798619, -0.5281592487935046, -1.0339026925322876, -2.5], \"theta\": [\"d\", \"property_rights\", \"government_integrity\", \"judicial_effectiveness\", \"financial_freedom\", \"e\"], \"line\": {\"shape\": \"spline\", \"color\": [\"bc509099\"], \"smoothing\": 1.3, \"width\": 8}, \"hoverlabel\": {\"namelength\": 20}}, {\"type\": \"scatterpolar\", \"name\": \"Country 2\", \"mode\": \"markers,lines\", \"marker\": {\"color\": \"003f5c99\", \"size\": 14}, \"r\": [-2.5, -0.3608331701680444, 0.3380582957515901, -0.6799184252464612, -0.4112770341341412, -2.5], \"theta\": [\"e\", \"total_foreign_born\", \"per_foreign_born\", \"population_living_abroad_diaspora\", \"population_living_abroad\", \"f\"], \"line\": {\"shape\": \"spline\", \"color\": [\"003f5c99\"], \"smoothing\": 1.3, \"width\": 8}, \"hoverlabel\": {\"namelength\": 20}}, {\"type\": \"scatterpolar\", \"name\": \"Barbados\", \"mode\": \"lines\", \"marker\": {\"color\": \"rgba(180,120,150,0)\"}, \"r\": [0, 0, 0, 0, 0], \"theta\": [\"f\", \"g\", \"h\", \"i\", \"j\"], \"line\": {\"color\": [\"003f5c99\"], \"smoothing\": 1.3}, \"hoverlabel\": {\"namelength\": 20}}], {\"showlegend\": false, \"polar\": {\"bgcolor\": \"rgb(224,225,227)\", \"sector\": [0, 59], \"angularaxis\": {\"showline\": false, \"showticklabels\": false, \"tickfont\": {\"size\": 8}, \"ticks\": \"outside\", \"nticks\": 30, \"direction\": \"clockwise\", \"rotation\": 60, \"gridcolor\": \"rgba(133,134,136,0.7)\", \"gridwidth\": 4}, \"radialaxis\": {\"showline\": true, \"showticklabels\": true, \"visible\": true, \"nticks\": 6, \"range\": [-5, 5], \"gridcolor\": \"rgba(255,255,255,0.4)\", \"gridwidth\": 8, \"tickfont\": {\"size\": 28, \"family\": \"doris serif\"}}}, \"paper_bgcolor\": \"rgb(224,225,227)\", \"width\": 800, \"height\": 800}, {\"showLink\": true, \"linkText\": \"Export to plot.ly\"})});</script>"
      ]
     },
     "metadata": {},
     "output_type": "display_data"
    }
   ],
   "source": [
    "data=[]\n",
    "\n",
    "for i in range(len(df_norm)):\n",
    "    \n",
    "    if i <1:\n",
    "        continue\n",
    "    \n",
    "    if i >2:\n",
    "        break\n",
    "    \n",
    "    for index,k in enumerate(directions.keys()):\n",
    "        \n",
    "#         if index>=3:\n",
    "#             break\n",
    "        \n",
    "        r = df_norm[directions[k]].iloc[i].values\n",
    "        theta = directions[k].copy()\n",
    "        \n",
    "        r = list(r)\n",
    "        prevkey = extra_theta[(index)%len(extra_theta)]\n",
    "        nextkey=extra_theta[(index+1)%len(extra_theta)]\n",
    "        r = [range_min+offset] + r + [range_min+offset]   \n",
    "        theta = [prevkey] + theta + [nextkey]\n",
    "\n",
    "        \n",
    "        \n",
    "        data.append(go.Scatterpolar(\n",
    "            name = \"Country \"+str(i), #Nation as the trace name\n",
    "            mode = \"markers,lines\",\n",
    "            marker = dict(\n",
    "                color = colors[index],\n",
    "                size=14\n",
    "            ),\n",
    "            r=r,\n",
    "            theta=theta,\n",
    "            line = dict(\n",
    "                shape = \"spline\",\n",
    "                color=[colors[index]],\n",
    "                smoothing = 1.3,\n",
    "                width=8\n",
    "            ),\n",
    "            hoverlabel=dict(\n",
    "                namelength=20\n",
    "            )\n",
    "        ))\n",
    "\n",
    "#Add a black angle\n",
    "data.append(go.Scatterpolar(\n",
    "        name = df_norm['indicator'].iloc[i], #Nation as the trace name\n",
    "        mode = \"lines\",\n",
    "        marker = dict(\n",
    "            color = \"rgba(180,120,150,0)\",\n",
    "\n",
    "        ),\n",
    "        r=[0,0,0,0,0],\n",
    "        theta=['f','g','h','i','j'],\n",
    "        line = dict(\n",
    "#             shape = \"spline\",\n",
    "            color=[colors[index]],\n",
    "            smoothing = 1.3\n",
    "        ),\n",
    "        hoverlabel=dict(\n",
    "            namelength=20\n",
    "        )\n",
    "    )\n",
    ")\n",
    "        \n",
    "        \n",
    "layout = go.Layout(\n",
    "    showlegend = False,\n",
    "    polar=dict(\n",
    "        \n",
    "        bgcolor=bgcolor,\n",
    "        sector=[0,59],\n",
    "        angularaxis=dict(\n",
    "            showline=False, # the grid's outline\n",
    "#             visible=True,\n",
    "            showticklabels=False,\n",
    "            tickfont = dict(\n",
    "                size = 8\n",
    "            ),\n",
    "            ticks = \"outside\",\n",
    "            nticks = 30,\n",
    "            direction = \"clockwise\",\n",
    "            rotation = 60,\n",
    "            gridcolor = \"rgba(133,134,136,0.7)\",\n",
    "            gridwidth = 4\n",
    "        ),\n",
    "        radialaxis=dict(\n",
    "#             angle = 60,\n",
    "            showline=True, # the tick line\n",
    "            showticklabels=True,\n",
    "            visible=True,\n",
    "            nticks=6,\n",
    "            range = [range_min,range_max],\n",
    "            gridcolor = \"rgba(255,255,255,0.4)\",\n",
    "            gridwidth = 8,\n",
    "#             linecolor = \"white\", #the tick line\n",
    "            tickfont=dict(\n",
    "                size=28,\n",
    "                family=\"doris serif\")\n",
    "            )\n",
    "    ),\n",
    "\n",
    "    paper_bgcolor=bgcolor,\n",
    "        \n",
    "\n",
    "    \n",
    ")\n",
    "\n",
    "fig = go.Figure(data=data, layout=layout)\n",
    "fig['layout'].update(width=800,height=800)\n",
    "iplot(fig)"
   ]
  },
  {
   "cell_type": "code",
   "execution_count": 339,
   "metadata": {},
   "outputs": [],
   "source": [
    "df_sorted = df_norm.sort_values(by=['continent', 'indicator'])\n",
    "\n",
    "## Access row using .iloc[]\n",
    "# df_sorted.iloc[0]"
   ]
  },
  {
   "cell_type": "markdown",
   "metadata": {},
   "source": [
    "## Overview for each continent"
   ]
  },
  {
   "cell_type": "code",
   "execution_count": 341,
   "metadata": {
    "scrolled": false
   },
   "outputs": [
    {
     "name": "stdout",
     "output_type": "stream",
     "text": [
      "Africa 0 0\n",
      "America 1 0\n",
      "Asia 0 1\n",
      "Europe 1 1\n",
      "Oceania 0 2\n"
     ]
    },
    {
     "data": {
      "application/vnd.plotly.v1+json": {
       "data": [
        {
         "line": {
          "color": "45B5AA55",
          "shape": "spline"
         },
         "mode": "lines",
         "r": [
          -2.5,
          -0.586971692703689,
          -0.031798001343837846,
          -0.20474631637885185,
          0.526492733973437,
          -2.5
         ],
         "subplot": "polar",
         "theta": [
          "a",
          "population_density",
          "human_development_index",
          "health_expenditure",
          "employment",
          "b"
         ],
         "type": "scatterpolar"
        },
        {
         "line": {
          "color": "ffa60055",
          "shape": "spline"
         },
         "mode": "lines",
         "r": [
          -2.5,
          -0.08424435813869854,
          0.0031693954062845626,
          -0.3865167022030159,
          2.0381293912795932,
          -2.5
         ],
         "subplot": "polar",
         "theta": [
          "b",
          "gdp_per_cap",
          "gdp_growth",
          "sustainable_economic_development_assessment(seda)",
          "overall_economic_freedom",
          "c"
         ],
         "type": "scatterpolar"
        },
        {
         "line": {
          "color": "ff636155",
          "shape": "spline"
         },
         "mode": "lines",
         "r": [
          -2.5,
          1.084076183410646,
          1.7757159297156175,
          -0.9145825871037558,
          0.2535249984468663,
          -2.5
         ],
         "subplot": "polar",
         "theta": [
          "c",
          "political_stability&absence_of_violence",
          "control_of_corruption",
          "tax_burden",
          "government_spending",
          "d"
         ],
         "type": "scatterpolar"
        },
        {
         "line": {
          "color": "bc509055",
          "shape": "spline"
         },
         "mode": "lines",
         "r": [
          -2.5,
          1.511071748098877,
          2.050927476744723,
          2.372997472134964,
          2.044128224166889,
          -2.5
         ],
         "subplot": "polar",
         "theta": [
          "d",
          "property_rights",
          "government_integrity",
          "judicial_effectiveness",
          "financial_freedom",
          "e"
         ],
         "type": "scatterpolar"
        },
        {
         "line": {
          "color": "003f5c55",
          "shape": "spline"
         },
         "mode": "lines",
         "r": [
          -2.5,
          -0.16702597742617586,
          -0.2793301303843248,
          -0.6269274051310547,
          -1.0398228359102368,
          -2.5
         ],
         "subplot": "polar",
         "theta": [
          "e",
          "total_foreign_born",
          "per_foreign_born",
          "population_living_abroad_diaspora",
          "population_living_abroad",
          "f"
         ],
         "type": "scatterpolar"
        },
        {
         "line": {
          "color": "45B5AA55",
          "shape": "spline"
         },
         "mode": "lines",
         "r": [
          -2.5,
          -0.1007777491510052,
          -0.5116709305215988,
          -0.7135965603036998,
          0.6214986032586615,
          -2.5
         ],
         "subplot": "polar",
         "theta": [
          "a",
          "population_density",
          "human_development_index",
          "health_expenditure",
          "employment",
          "b"
         ],
         "type": "scatterpolar"
        },
        {
         "line": {
          "color": "ffa60055",
          "shape": "spline"
         },
         "mode": "lines",
         "r": [
          -2.5,
          -0.5505160852159773,
          -0.4088524284121094,
          null,
          0.4450105594832442,
          -2.5
         ],
         "subplot": "polar",
         "theta": [
          "b",
          "gdp_per_cap",
          "gdp_growth",
          "sustainable_economic_development_assessment(seda)",
          "overall_economic_freedom",
          "c"
         ],
         "type": "scatterpolar"
        },
        {
         "line": {
          "color": "ff636155",
          "shape": "spline"
         },
         "mode": "lines",
         "r": [
          -2.5,
          -0.713524159766492,
          -0.8307949673356989,
          1.0496423117092006,
          0.6461157228254818,
          -2.5
         ],
         "subplot": "polar",
         "theta": [
          "c",
          "political_stability&absence_of_violence",
          "control_of_corruption",
          "tax_burden",
          "government_spending",
          "d"
         ],
         "type": "scatterpolar"
        },
        {
         "line": {
          "color": "bc509055",
          "shape": "spline"
         },
         "mode": "lines",
         "r": [
          -2.5,
          0.21701177307543493,
          -0.08499884041451294,
          -0.44840244010240343,
          0.5051127658173008,
          -2.5
         ],
         "subplot": "polar",
         "theta": [
          "d",
          "property_rights",
          "government_integrity",
          "judicial_effectiveness",
          "financial_freedom",
          "e"
         ],
         "type": "scatterpolar"
        },
        {
         "line": {
          "color": "003f5c55",
          "shape": "spline"
         },
         "mode": "lines",
         "r": [
          -2.5,
          -0.4457129865081104,
          -0.5642786397318182,
          -0.3151366163461641,
          0.9349503386531386,
          -2.5
         ],
         "subplot": "polar",
         "theta": [
          "e",
          "total_foreign_born",
          "per_foreign_born",
          "population_living_abroad_diaspora",
          "population_living_abroad",
          "f"
         ],
         "type": "scatterpolar"
        },
        {
         "line": {
          "color": "45B5AA55",
          "shape": "spline"
         },
         "mode": "lines",
         "r": [
          -2.5,
          -0.5742748573480835,
          -2.697757684863639,
          -0.9279304509265902,
          -0.99360600685084,
          -2.5
         ],
         "subplot": "polar",
         "theta": [
          "a",
          "population_density",
          "human_development_index",
          "health_expenditure",
          "employment",
          "b"
         ],
         "type": "scatterpolar"
        },
        {
         "line": {
          "color": "ffa60055",
          "shape": "spline"
         },
         "mode": "lines",
         "r": [
          -2.5,
          -0.5547293831881196,
          -0.5854332200724067,
          -1.605501498087375,
          0.34903917059751416,
          -2.5
         ],
         "subplot": "polar",
         "theta": [
          "b",
          "gdp_per_cap",
          "gdp_growth",
          "sustainable_economic_development_assessment(seda)",
          "overall_economic_freedom",
          "c"
         ],
         "type": "scatterpolar"
        },
        {
         "line": {
          "color": "ff636155",
          "shape": "spline"
         },
         "mode": "lines",
         "r": [
          -2.5,
          1.1923653887060603,
          1.162991345815543,
          1.7711943153547767,
          1.7657264441206046,
          -2.5
         ],
         "subplot": "polar",
         "theta": [
          "c",
          "political_stability&absence_of_violence",
          "control_of_corruption",
          "tax_burden",
          "government_spending",
          "d"
         ],
         "type": "scatterpolar"
        },
        {
         "line": {
          "color": "bc509055",
          "shape": "spline"
         },
         "mode": "lines",
         "r": [
          -2.5,
          -0.14903700806535122,
          0.5415395459521963,
          0.38406008254010254,
          0.5051127658173008,
          -2.5
         ],
         "subplot": "polar",
         "theta": [
          "d",
          "property_rights",
          "government_integrity",
          "judicial_effectiveness",
          "financial_freedom",
          "e"
         ],
         "type": "scatterpolar"
        },
        {
         "line": {
          "color": "003f5c55",
          "shape": "spline"
         },
         "mode": "lines",
         "r": [
          -2.5,
          -0.31820010122449177,
          -0.5710631218875275,
          0.4833522015267348,
          -0.5197103960514807,
          -2.5
         ],
         "subplot": "polar",
         "theta": [
          "e",
          "total_foreign_born",
          "per_foreign_born",
          "population_living_abroad_diaspora",
          "population_living_abroad",
          "f"
         ],
         "type": "scatterpolar"
        },
        {
         "line": {
          "color": "45B5AA55",
          "shape": "spline"
         },
         "mode": "lines",
         "r": [
          -2.5,
          1.0146512416959448,
          0.23479771730251242,
          -0.8593127665185425,
          1.223203247441864,
          -2.5
         ],
         "subplot": "polar",
         "theta": [
          "a",
          "population_density",
          "human_development_index",
          "health_expenditure",
          "employment",
          "b"
         ],
         "type": "scatterpolar"
        },
        {
         "line": {
          "color": "ffa60055",
          "shape": "spline"
         },
         "mode": "lines",
         "r": [
          -2.5,
          -0.5814136092590689,
          0.20918032485720645,
          null,
          0.7713114511927354,
          -2.5
         ],
         "subplot": "polar",
         "theta": [
          "b",
          "gdp_per_cap",
          "gdp_growth",
          "sustainable_economic_development_assessment(seda)",
          "overall_economic_freedom",
          "c"
         ],
         "type": "scatterpolar"
        },
        {
         "line": {
          "color": "ff636155",
          "shape": "spline"
         },
         "mode": "lines",
         "r": [
          -2.5,
          -0.9192735981914748,
          -0.11108672569922136,
          2.043780750176548,
          0.9514642694430119,
          -2.5
         ],
         "subplot": "polar",
         "theta": [
          "c",
          "political_stability&absence_of_violence",
          "control_of_corruption",
          "tax_burden",
          "government_spending",
          "d"
         ],
         "type": "scatterpolar"
        },
        {
         "line": {
          "color": "bc509055",
          "shape": "spline"
         },
         "mode": "lines",
         "r": [
          -2.5,
          0.6552392812978002,
          0.5928016471974215,
          0.46381689123120373,
          1.531123071383693,
          -2.5
         ],
         "subplot": "polar",
         "theta": [
          "d",
          "property_rights",
          "government_integrity",
          "judicial_effectiveness",
          "financial_freedom",
          "e"
         ],
         "type": "scatterpolar"
        },
        {
         "line": {
          "color": "003f5c55",
          "shape": "spline"
         },
         "mode": "lines",
         "r": [
          -2.5,
          -0.4502436585127433,
          -0.6524769886334463,
          -0.4580332272715843,
          -0.09976098697299174,
          -2.5
         ],
         "subplot": "polar",
         "theta": [
          "e",
          "total_foreign_born",
          "per_foreign_born",
          "population_living_abroad_diaspora",
          "population_living_abroad",
          "f"
         ],
         "type": "scatterpolar"
        },
        {
         "line": {
          "color": "45B5AA55",
          "shape": "spline"
         },
         "mode": "lines",
         "r": [
          -2.5,
          -0.5449777592278037,
          -0.8772880976978308,
          -0.7960919786369706,
          0.779842121422426,
          -2.5
         ],
         "subplot": "polar",
         "theta": [
          "a",
          "population_density",
          "human_development_index",
          "health_expenditure",
          "employment",
          "b"
         ],
         "type": "scatterpolar"
        },
        {
         "line": {
          "color": "ffa60055",
          "shape": "spline"
         },
         "mode": "lines",
         "r": [
          -2.5,
          -0.18115024833068918,
          1.1509445236564926,
          -0.8828175889767921,
          -0.4379232894622865,
          -2.5
         ],
         "subplot": "polar",
         "theta": [
          "b",
          "gdp_per_cap",
          "gdp_growth",
          "sustainable_economic_development_assessment(seda)",
          "overall_economic_freedom",
          "c"
         ],
         "type": "scatterpolar"
        },
        {
         "line": {
          "color": "ff636155",
          "shape": "spline"
         },
         "mode": "lines",
         "r": [
          -2.5,
          -1.2441411495323373,
          -0.7821660201434276,
          -0.13691011673040895,
          -1.2005149953861485,
          -2.5
         ],
         "subplot": "polar",
         "theta": [
          "c",
          "political_stability&absence_of_violence",
          "control_of_corruption",
          "tax_burden",
          "government_spending",
          "d"
         ],
         "type": "scatterpolar"
        },
        {
         "line": {
          "color": "bc509055",
          "shape": "spline"
         },
         "mode": "lines",
         "r": [
          -2.5,
          -0.8759790312716147,
          -1.1501141406934507,
          -0.6577643006105832,
          -1.0339026925322876,
          -2.5
         ],
         "subplot": "polar",
         "theta": [
          "d",
          "property_rights",
          "government_integrity",
          "judicial_effectiveness",
          "financial_freedom",
          "e"
         ],
         "type": "scatterpolar"
        },
        {
         "line": {
          "color": "003f5c55",
          "shape": "spline"
         },
         "mode": "lines",
         "r": [
          -2.5,
          0.2773432507800117,
          -0.10971791473677803,
          -0.15611710066479337,
          -0.851442895850029,
          -2.5
         ],
         "subplot": "polar",
         "theta": [
          "e",
          "total_foreign_born",
          "per_foreign_born",
          "population_living_abroad_diaspora",
          "population_living_abroad",
          "f"
         ],
         "type": "scatterpolar"
        },
        {
         "line": {
          "color": "45B5AA55",
          "shape": "spline"
         },
         "mode": "lines",
         "r": [
          -2.5,
          -0.4493179747602654,
          -1.8675016749761755,
          -0.8392671508487758,
          -0.31272839552058374,
          -2.5
         ],
         "subplot": "polar",
         "theta": [
          "a",
          "population_density",
          "human_development_index",
          "health_expenditure",
          "employment",
          "b"
         ],
         "type": "scatterpolar"
        },
        {
         "line": {
          "color": "ffa60055",
          "shape": "spline"
         },
         "mode": "lines",
         "r": [
          -2.5,
          -0.5533249516468818,
          -0.2911319123330611,
          null,
          -0.24598124389162282,
          -2.5
         ],
         "subplot": "polar",
         "theta": [
          "b",
          "gdp_per_cap",
          "gdp_growth",
          "sustainable_economic_development_assessment(seda)",
          "overall_economic_freedom",
          "c"
         ],
         "type": "scatterpolar"
        },
        {
         "line": {
          "color": "ff636155",
          "shape": "spline"
         },
         "mode": "lines",
         "r": [
          -2.5,
          0.1636181844788875,
          -0.23752196810955348,
          0.4483489753378875,
          -1.5010166310897874,
          -2.5
         ],
         "subplot": "polar",
         "theta": [
          "c",
          "political_stability&absence_of_violence",
          "control_of_corruption",
          "tax_burden",
          "government_spending",
          "d"
         ],
         "type": "scatterpolar"
        },
        {
         "line": {
          "color": "bc509055",
          "shape": "spline"
         },
         "mode": "lines",
         "r": [
          -2.5,
          -0.3758842674607063,
          -0.38118066651612587,
          0.38406008254010254,
          -0.007892386965895297,
          -2.5
         ],
         "subplot": "polar",
         "theta": [
          "d",
          "property_rights",
          "government_integrity",
          "judicial_effectiveness",
          "financial_freedom",
          "e"
         ],
         "type": "scatterpolar"
        },
        {
         "line": {
          "color": "003f5c55",
          "shape": "spline"
         },
         "mode": "lines",
         "r": [
          -2.5,
          -0.2593855144121343,
          0.19558407342880613,
          -0.7500892089925103,
          -1.1087423277792579,
          -2.5
         ],
         "subplot": "polar",
         "theta": [
          "e",
          "total_foreign_born",
          "per_foreign_born",
          "population_living_abroad_diaspora",
          "population_living_abroad",
          "f"
         ],
         "type": "scatterpolar"
        },
        {
         "line": {
          "color": "45B5AA55",
          "shape": "spline"
         },
         "mode": "lines",
         "r": [
          -2.5,
          -0.434869408830604,
          -0.9915434056891238,
          -0.3435236556310831,
          1.049025619074757,
          -2.5
         ],
         "subplot": "polar",
         "theta": [
          "a",
          "population_density",
          "human_development_index",
          "health_expenditure",
          "employment",
          "b"
         ],
         "type": "scatterpolar"
        },
        {
         "line": {
          "color": "ffa60055",
          "shape": "spline"
         },
         "mode": "lines",
         "r": [
          -2.5,
          -0.15446600216916637,
          1.5335361395173623,
          null,
          0.20508263641951643,
          -2.5
         ],
         "subplot": "polar",
         "theta": [
          "b",
          "gdp_per_cap",
          "gdp_growth",
          "sustainable_economic_development_assessment(seda)",
          "overall_economic_freedom",
          "c"
         ],
         "type": "scatterpolar"
        },
        {
         "line": {
          "color": "ff636155",
          "shape": "spline"
         },
         "mode": "lines",
         "r": [
          -2.5,
          1.3331413168628707,
          1.5520229233537126,
          0.6888663098864128,
          0.13720172498392663,
          -2.5
         ],
         "subplot": "polar",
         "theta": [
          "c",
          "political_stability&absence_of_violence",
          "control_of_corruption",
          "tax_burden",
          "government_spending",
          "d"
         ],
         "type": "scatterpolar"
        },
        {
         "line": {
          "color": "bc509055",
          "shape": "spline"
         },
         "mode": "lines",
         "r": [
          -2.5,
          0.5933720257092571,
          0.5415395459521963,
          0.2893487058335924,
          -1.0339026925322876,
          -2.5
         ],
         "subplot": "polar",
         "theta": [
          "d",
          "property_rights",
          "government_integrity",
          "judicial_effectiveness",
          "financial_freedom",
          "e"
         ],
         "type": "scatterpolar"
        },
        {
         "line": {
          "color": "003f5c55",
          "shape": "spline"
         },
         "mode": "lines",
         "r": [
          -2.5,
          -0.45355225394035614,
          -0.6796149496072463,
          -0.5610682571787362,
          -0.46641266268362436,
          -2.5
         ],
         "subplot": "polar",
         "theta": [
          "e",
          "total_foreign_born",
          "per_foreign_born",
          "population_living_abroad_diaspora",
          "population_living_abroad",
          "f"
         ],
         "type": "scatterpolar"
        },
        {
         "line": {
          "color": "45B5AA55",
          "shape": "spline"
         },
         "mode": "lines",
         "r": [
          -2.5,
          -0.3080963280778665,
          -1.0143946488914768,
          null,
          -2.656212947570368,
          -2.5
         ],
         "subplot": "polar",
         "theta": [
          "a",
          "population_density",
          "human_development_index",
          "health_expenditure",
          "employment",
          "b"
         ],
         "type": "scatterpolar"
        },
        {
         "line": {
          "color": "ffa60055",
          "shape": "spline"
         },
         "mode": "lines",
         "r": [
          -2.5,
          -0.44377918093218,
          0.09145977369470834,
          null,
          0.1666944469656226,
          -2.5
         ],
         "subplot": "polar",
         "theta": [
          "b",
          "gdp_per_cap",
          "gdp_growth",
          "sustainable_economic_development_assessment(seda)",
          "overall_economic_freedom",
          "c"
         ],
         "type": "scatterpolar"
        },
        {
         "line": {
          "color": "ff636155",
          "shape": "spline"
         },
         "mode": "lines",
         "r": [
          -2.5,
          -0.30202528291652636,
          -0.48066661711559655,
          0.728952532311167,
          0.34076717620795166,
          -2.5
         ],
         "subplot": "polar",
         "theta": [
          "c",
          "political_stability&absence_of_violence",
          "control_of_corruption",
          "tax_burden",
          "government_spending",
          "d"
         ],
         "type": "scatterpolar"
        },
        {
         "line": {
          "color": "bc509055",
          "shape": "spline"
         },
         "mode": "lines",
         "r": [
          -2.5,
          -0.5099302501308285,
          -0.7400163529821757,
          -0.10445079854216287,
          0.5051127658173008,
          -2.5
         ],
         "subplot": "polar",
         "theta": [
          "d",
          "property_rights",
          "government_integrity",
          "judicial_effectiveness",
          "financial_freedom",
          "e"
         ],
         "type": "scatterpolar"
        },
        {
         "line": {
          "color": "003f5c55",
          "shape": "spline"
         },
         "mode": "lines",
         "r": [
          -2.5,
          -0.4138605837064386,
          -0.632123525990837,
          -0.5185558185983964,
          -0.6345762158331827,
          -2.5
         ],
         "subplot": "polar",
         "theta": [
          "e",
          "total_foreign_born",
          "per_foreign_born",
          "population_living_abroad_diaspora",
          "population_living_abroad",
          "f"
         ],
         "type": "scatterpolar"
        },
        {
         "line": {
          "color": "45B5AA55",
          "shape": "spline"
         },
         "mode": "lines",
         "r": [
          -2.5,
          -0.5728676089941835,
          -0.14605330933513083,
          -0.58175808801408,
          -0.391900154602466,
          -2.5
         ],
         "subplot": "polar",
         "theta": [
          "a",
          "population_density",
          "human_development_index",
          "health_expenditure",
          "employment",
          "b"
         ],
         "type": "scatterpolar"
        },
        {
         "line": {
          "color": "ffa60055",
          "shape": "spline"
         },
         "mode": "lines",
         "r": [
          -2.5,
          -0.09547981046860085,
          -1.8509288293182131,
          -0.5258291269351923,
          -0.7930157808876958,
          -2.5
         ],
         "subplot": "polar",
         "theta": [
          "b",
          "gdp_per_cap",
          "gdp_growth",
          "sustainable_economic_development_assessment(seda)",
          "overall_economic_freedom",
          "c"
         ],
         "type": "scatterpolar"
        },
        {
         "line": {
          "color": "ff636155",
          "shape": "spline"
         },
         "mode": "lines",
         "r": [
          -2.5,
          -0.33451203805061264,
          -0.4903923949600091,
          -0.3052721285809342,
          1.2810464461762663,
          -2.5
         ],
         "subplot": "polar",
         "theta": [
          "c",
          "political_stability&absence_of_violence",
          "control_of_corruption",
          "tax_burden",
          "government_spending",
          "d"
         ],
         "type": "scatterpolar"
        },
        {
         "line": {
          "color": "bc509055",
          "shape": "spline"
         },
         "mode": "lines",
         "r": [
          -2.5,
          0.33043540277311245,
          -0.5691422476094369,
          0.4837561884815947,
          -0.007892386965895297,
          -2.5
         ],
         "subplot": "polar",
         "theta": [
          "d",
          "property_rights",
          "government_integrity",
          "judicial_effectiveness",
          "financial_freedom",
          "e"
         ],
         "type": "scatterpolar"
        },
        {
         "line": {
          "color": "003f5c55",
          "shape": "spline"
         },
         "mode": "lines",
         "r": [
          -2.5,
          0.039024930880766404,
          0.8333260430847372,
          -0.6128078867035043,
          -0.9460923287210814,
          -2.5
         ],
         "subplot": "polar",
         "theta": [
          "e",
          "total_foreign_born",
          "per_foreign_born",
          "population_living_abroad_diaspora",
          "population_living_abroad",
          "f"
         ],
         "type": "scatterpolar"
        },
        {
         "line": {
          "color": "45B5AA55",
          "shape": "spline"
         },
         "mode": "lines",
         "r": [
          -2.5,
          0.16530115031062356,
          -1.989374139703292,
          null,
          1.1123632679532973,
          -2.5
         ],
         "subplot": "polar",
         "theta": [
          "a",
          "population_density",
          "human_development_index",
          "health_expenditure",
          "employment",
          "b"
         ],
         "type": "scatterpolar"
        },
        {
         "line": {
          "color": "ffa60055",
          "shape": "spline"
         },
         "mode": "lines",
         "r": [
          -2.5,
          -0.5519205167572151,
          -0.791444136367035,
          -0.5258291269351923,
          0.4354128714440739,
          -2.5
         ],
         "subplot": "polar",
         "theta": [
          "b",
          "gdp_per_cap",
          "gdp_growth",
          "sustainable_economic_development_assessment(seda)",
          "overall_economic_freedom",
          "c"
         ],
         "type": "scatterpolar"
        },
        {
         "line": {
          "color": "ff636155",
          "shape": "spline"
         },
         "mode": "lines",
         "r": [
          -2.5,
          1.3981148916764239,
          0.7156051591811068,
          0.8973145441616922,
          0.7672857223115663,
          -2.5
         ],
         "subplot": "polar",
         "theta": [
          "c",
          "political_stability&absence_of_violence",
          "control_of_corruption",
          "tax_burden",
          "government_spending",
          "d"
         ],
         "type": "scatterpolar"
        },
        {
         "line": {
          "color": "bc509055",
          "shape": "spline"
         },
         "mode": "lines",
         "r": [
          -2.5,
          0.37168030538921093,
          0.2282703527688417,
          0.5635129971726959,
          -0.007892386965895297,
          -2.5
         ],
         "subplot": "polar",
         "theta": [
          "d",
          "property_rights",
          "government_integrity",
          "judicial_effectiveness",
          "financial_freedom",
          "e"
         ],
         "type": "scatterpolar"
        },
        {
         "line": {
          "color": "003f5c55",
          "shape": "spline"
         },
         "mode": "lines",
         "r": [
          -2.5,
          -0.10602542265210653,
          -0.17077828648912466,
          -0.5360694799504391,
          -0.8744160598063694,
          -2.5
         ],
         "subplot": "polar",
         "theta": [
          "e",
          "total_foreign_born",
          "per_foreign_born",
          "population_living_abroad_diaspora",
          "population_living_abroad",
          "f"
         ],
         "type": "scatterpolar"
        },
        {
         "line": {
          "color": "45B5AA55",
          "shape": "spline"
         },
         "mode": "lines",
         "r": [
          -2.5,
          -0.3572595874704182,
          -2.0274592423670565,
          -0.8755034560979695,
          0.9540197497895327,
          -2.5
         ],
         "subplot": "polar",
         "theta": [
          "a",
          "population_density",
          "human_development_index",
          "health_expenditure",
          "employment",
          "b"
         ],
         "type": "scatterpolar"
        },
        {
         "line": {
          "color": "ffa60055",
          "shape": "spline"
         },
         "mode": "lines",
         "r": [
          -2.5,
          -0.5589426811602619,
          0.4446213570153031,
          null,
          0.03233486862599877,
          -2.5
         ],
         "subplot": "polar",
         "theta": [
          "b",
          "gdp_per_cap",
          "gdp_growth",
          "sustainable_economic_development_assessment(seda)",
          "overall_economic_freedom",
          "c"
         ],
         "type": "scatterpolar"
        },
        {
         "line": {
          "color": "ff636155",
          "shape": "spline"
         },
         "mode": "lines",
         "r": [
          -2.5,
          -0.8867868753300789,
          -0.08190936318087949,
          0.4964523199141501,
          1.3295144459707002,
          -2.5
         ],
         "subplot": "polar",
         "theta": [
          "c",
          "political_stability&absence_of_violence",
          "control_of_corruption",
          "tax_burden",
          "government_spending",
          "d"
         ],
         "type": "scatterpolar"
        },
        {
         "line": {
          "color": "bc509055",
          "shape": "spline"
         },
         "mode": "lines",
         "r": [
          -2.5,
          -0.3758842674607063,
          -0.5463590552875044,
          0.06503246746523501,
          -0.5208975397490914,
          -2.5
         ],
         "subplot": "polar",
         "theta": [
          "d",
          "property_rights",
          "government_integrity",
          "judicial_effectiveness",
          "financial_freedom",
          "e"
         ],
         "type": "scatterpolar"
        },
        {
         "line": {
          "color": "003f5c55",
          "shape": "spline"
         },
         "mode": "lines",
         "r": [
          -2.5,
          -0.4315434006565591,
          -0.6931839220064057,
          -0.5006792249404841,
          -0.7494420356148845,
          -2.5
         ],
         "subplot": "polar",
         "theta": [
          "e",
          "total_foreign_born",
          "per_foreign_born",
          "population_living_abroad_diaspora",
          "population_living_abroad",
          "f"
         ],
         "type": "scatterpolar"
        },
        {
         "line": {
          "color": "45B5AA55",
          "shape": "spline"
         },
         "mode": "lines",
         "r": [
          -2.5,
          -0.33001377910648705,
          -1.5323526807330021,
          -0.7590846881697089,
          -0.13855076715347706,
          -2.5
         ],
         "subplot": "polar",
         "theta": [
          "a",
          "population_density",
          "human_development_index",
          "health_expenditure",
          "employment",
          "b"
         ],
         "type": "scatterpolar"
        },
        {
         "line": {
          "color": "ffa60055",
          "shape": "spline"
         },
         "mode": "lines",
         "r": [
          -2.5,
          -0.5013609343946499,
          0.17975015198313213,
          -1.0221301797824787,
          0.8864771178556113,
          -2.5
         ],
         "subplot": "polar",
         "theta": [
          "b",
          "gdp_per_cap",
          "gdp_growth",
          "sustainable_economic_development_assessment(seda)",
          "overall_economic_freedom",
          "c"
         ],
         "type": "scatterpolar"
        },
        {
         "line": {
          "color": "ff636155",
          "shape": "spline"
         },
         "mode": "lines",
         "r": [
          -2.5,
          -0.7460109471732685,
          -0.33477983350899154,
          0.47240095345962496,
          -1.665807904347161,
          -2.5
         ],
         "subplot": "polar",
         "theta": [
          "c",
          "political_stability&absence_of_violence",
          "control_of_corruption",
          "tax_burden",
          "government_spending",
          "d"
         ],
         "type": "scatterpolar"
        },
        {
         "line": {
          "color": "bc509055",
          "shape": "spline"
         },
         "mode": "lines",
         "r": [
          -2.5,
          0.5830607508874301,
          -0.45522606872211385,
          -0.46834154719756305,
          1.018117918600497,
          -2.5
         ],
         "subplot": "polar",
         "theta": [
          "d",
          "property_rights",
          "government_integrity",
          "judicial_effectiveness",
          "financial_freedom",
          "e"
         ],
         "type": "scatterpolar"
        },
        {
         "line": {
          "color": "003f5c55",
          "shape": "spline"
         },
         "mode": "lines",
         "r": [
          -2.5,
          -0.4616860437401466,
          -0.7610288097818757,
          0.25983816336311527,
          0.06748370622141889,
          -2.5
         ],
         "subplot": "polar",
         "theta": [
          "e",
          "total_foreign_born",
          "per_foreign_born",
          "population_living_abroad_diaspora",
          "population_living_abroad",
          "f"
         ],
         "type": "scatterpolar"
        },
        {
         "line": {
          "color": "45B5AA55",
          "shape": "spline"
         },
         "mode": "lines",
         "r": [
          -2.5,
          -0.42033189923401176,
          -2.1797998800272316,
          -0.8539158699920669,
          -1.7378200589944648,
          -2.5
         ],
         "subplot": "polar",
         "theta": [
          "a",
          "population_density",
          "human_development_index",
          "health_expenditure",
          "employment",
          "b"
         ],
         "type": "scatterpolar"
        },
        {
         "line": {
          "color": "ffa60055",
          "shape": "spline"
         },
         "mode": "lines",
         "r": [
          -2.5,
          -0.5463027872438351,
          -0.4382825662027339,
          -0.9742414715032266,
          -0.33235494473818256,
          -2.5
         ],
         "subplot": "polar",
         "theta": [
          "b",
          "gdp_per_cap",
          "gdp_growth",
          "sustainable_economic_development_assessment(seda)",
          "overall_economic_freedom",
          "c"
         ],
         "type": "scatterpolar"
        },
        {
         "line": {
          "color": "ff636155",
          "shape": "spline"
         },
         "mode": "lines",
         "r": [
          -2.5,
          0.1419603470504823,
          -0.6362792365368227,
          -1.1791515939404125,
          0.059652999269131014,
          -2.5
         ],
         "subplot": "polar",
         "theta": [
          "c",
          "political_stability&absence_of_violence",
          "control_of_corruption",
          "tax_burden",
          "government_spending",
          "d"
         ],
         "type": "scatterpolar"
        },
        {
         "line": {
          "color": "bc509055",
          "shape": "spline"
         },
         "mode": "lines",
         "r": [
          -2.5,
          -0.6542875076227775,
          -0.7912785628662313,
          -0.8770956195887272,
          -1.0339026925322876,
          -2.5
         ],
         "subplot": "polar",
         "theta": [
          "d",
          "property_rights",
          "government_integrity",
          "judicial_effectiveness",
          "financial_freedom",
          "e"
         ],
         "type": "scatterpolar"
        },
        {
         "line": {
          "color": "003f5c55",
          "shape": "spline"
         },
         "mode": "lines",
         "r": [
          -2.5,
          -0.2566544888221741,
          -0.4082353883956901,
          0.006851118504438402,
          -0.738414927432121,
          -2.5
         ],
         "subplot": "polar",
         "theta": [
          "e",
          "total_foreign_born",
          "per_foreign_born",
          "population_living_abroad_diaspora",
          "population_living_abroad",
          "f"
         ],
         "type": "scatterpolar"
        },
        {
         "line": {
          "color": "45B5AA55",
          "shape": "spline"
         },
         "mode": "lines",
         "r": [
          -2.5,
          -0.5860665872566582,
          -1.5323526807330021,
          -0.8161375943067373,
          0.9698538599928749,
          -2.5
         ],
         "subplot": "polar",
         "theta": [
          "a",
          "population_density",
          "human_development_index",
          "health_expenditure",
          "employment",
          "b"
         ],
         "type": "scatterpolar"
        },
        {
         "line": {
          "color": "ffa60055",
          "shape": "spline"
         },
         "mode": "lines",
         "r": [
          -2.5,
          -0.3693442489748566,
          0.5329118054706264,
          -1.0482513009381391,
          -2.6644509082518657,
          -2.5
         ],
         "subplot": "polar",
         "theta": [
          "b",
          "gdp_per_cap",
          "gdp_growth",
          "sustainable_economic_development_assessment(seda)",
          "overall_economic_freedom",
          "c"
         ],
         "type": "scatterpolar"
        },
        {
         "line": {
          "color": "ff636155",
          "shape": "spline"
         },
         "mode": "lines",
         "r": [
          -2.5,
          0.8566689297447326,
          0.28767055722060003,
          -2.036996814996874,
          0.7091242704708428,
          -2.5
         ],
         "subplot": "polar",
         "theta": [
          "c",
          "political_stability&absence_of_violence",
          "control_of_corruption",
          "tax_burden",
          "government_spending",
          "d"
         ],
         "type": "scatterpolar"
        },
        {
         "line": {
          "color": "bc509055",
          "shape": "spline"
         },
         "mode": "lines",
         "r": [
          -2.5,
          -1.0151807496882548,
          -0.18752347746028494,
          -1.7843302216873522,
          -2.05991299809868,
          -2.5
         ],
         "subplot": "polar",
         "theta": [
          "d",
          "property_rights",
          "government_integrity",
          "judicial_effectiveness",
          "financial_freedom",
          "e"
         ],
         "type": "scatterpolar"
        },
        {
         "line": {
          "color": "003f5c55",
          "shape": "spline"
         },
         "mode": "lines",
         "r": [
          -2.5,
          -0.21002241812189404,
          -0.6117700633482276,
          -0.44985128136806035,
          -1.0085793408168238,
          -2.5
         ],
         "subplot": "polar",
         "theta": [
          "e",
          "total_foreign_born",
          "per_foreign_born",
          "population_living_abroad_diaspora",
          "population_living_abroad",
          "f"
         ],
         "type": "scatterpolar"
        },
        {
         "line": {
          "color": "45B5AA55",
          "shape": "spline"
         },
         "mode": "lines",
         "r": [
          -2.5,
          1.700715763142587,
          0.5242451331614518,
          -0.10528922324808615,
          -0.42356837500915034,
          -2.5
         ],
         "subplot": "polar",
         "theta": [
          "a",
          "population_density",
          "human_development_index",
          "health_expenditure",
          "employment",
          "b"
         ],
         "type": "scatterpolar"
        },
        {
         "line": {
          "color": "ffa60055",
          "shape": "spline"
         },
         "mode": "lines",
         "r": [
          -2.5,
          -0.23592312531696782,
          -0.2617017745424366,
          0.3143997028207308,
          0.7809091392319056,
          -2.5
         ],
         "subplot": "polar",
         "theta": [
          "b",
          "gdp_per_cap",
          "gdp_growth",
          "sustainable_economic_development_assessment(seda)",
          "overall_economic_freedom",
          "c"
         ],
         "type": "scatterpolar"
        },
        {
         "line": {
          "color": "ff636155",
          "shape": "spline"
         },
         "mode": "lines",
         "r": [
          -2.5,
          0.7592086966151642,
          0.783685662062203,
          0.06352099539336212,
          1.092021173021676,
          -2.5
         ],
         "subplot": "polar",
         "theta": [
          "c",
          "political_stability&absence_of_violence",
          "control_of_corruption",
          "tax_burden",
          "government_spending",
          "d"
         ],
         "type": "scatterpolar"
        },
        {
         "line": {
          "color": "bc509055",
          "shape": "spline"
         },
         "mode": "lines",
         "r": [
          -2.5,
          1.124400417314437,
          -0.005257721607164634,
          0.5435738900775363,
          0.5051127658173008,
          -2.5
         ],
         "subplot": "polar",
         "theta": [
          "d",
          "property_rights",
          "government_integrity",
          "judicial_effectiveness",
          "financial_freedom",
          "e"
         ],
         "type": "scatterpolar"
        },
        {
         "line": {
          "color": "003f5c55",
          "shape": "spline"
         },
         "mode": "lines",
         "r": [
          -2.5,
          -0.4195865575274056,
          -0.5235717144465996,
          -0.30781119068449236,
          -0.18889680002591308,
          -2.5
         ],
         "subplot": "polar",
         "theta": [
          "e",
          "total_foreign_born",
          "per_foreign_born",
          "population_living_abroad_diaspora",
          "population_living_abroad",
          "f"
         ],
         "type": "scatterpolar"
        },
        {
         "line": {
          "color": "45B5AA55",
          "shape": "spline"
         },
         "mode": "lines",
         "r": [
          -2.5,
          -0.5905423277877929,
          -0.5649898926467745,
          -0.2263339024847545,
          -0.8510965988904176,
          -2.5
         ],
         "subplot": "polar",
         "theta": [
          "a",
          "population_density",
          "human_development_index",
          "health_expenditure",
          "employment",
          "b"
         ],
         "type": "scatterpolar"
        },
        {
         "line": {
          "color": "ffa60055",
          "shape": "spline"
         },
         "mode": "lines",
         "r": [
          -2.5,
          -0.2345186870788722,
          1.3275252802333402,
          -0.6041925734389292,
          0.1858883586423704,
          -2.5
         ],
         "subplot": "polar",
         "theta": [
          "b",
          "gdp_per_cap",
          "gdp_growth",
          "sustainable_economic_development_assessment(seda)",
          "overall_economic_freedom",
          "c"
         ],
         "type": "scatterpolar"
        },
        {
         "line": {
          "color": "ff636155",
          "shape": "spline"
         },
         "mode": "lines",
         "r": [
          -2.5,
          0.28273627722433575,
          -0.6946339615735064,
          0.8171420993121838,
          -0.37655899888077343,
          -2.5
         ],
         "subplot": "polar",
         "theta": [
          "c",
          "political_stability&absence_of_violence",
          "control_of_corruption",
          "tax_burden",
          "government_spending",
          "d"
         ],
         "type": "scatterpolar"
        },
        {
         "line": {
          "color": "bc509055",
          "shape": "spline"
         },
         "mode": "lines",
         "r": [
          -2.5,
          0.11905515394610228,
          -0.8653239650722193,
          -1.1313207087550554,
          -0.5208975397490914,
          -2.5
         ],
         "subplot": "polar",
         "theta": [
          "d",
          "property_rights",
          "government_integrity",
          "judicial_effectiveness",
          "financial_freedom",
          "e"
         ],
         "type": "scatterpolar"
        },
        {
         "line": {
          "color": "003f5c55",
          "shape": "spline"
         },
         "mode": "lines",
         "r": [
          -2.5,
          -0.2946956863080975,
          -0.618554545503937,
          -0.372857370271663,
          -0.7558745372970797,
          -2.5
         ],
         "subplot": "polar",
         "theta": [
          "e",
          "total_foreign_born",
          "per_foreign_born",
          "population_living_abroad_diaspora",
          "population_living_abroad",
          "f"
         ],
         "type": "scatterpolar"
        },
        {
         "line": {
          "color": "45B5AA55",
          "shape": "spline"
         },
         "mode": "lines",
         "r": [
          -2.5,
          0.18479752314108047,
          -1.0067777191607712,
          -0.7151385307398357,
          0.526492733973437,
          -2.5
         ],
         "subplot": "polar",
         "theta": [
          "a",
          "population_density",
          "human_development_index",
          "health_expenditure",
          "employment",
          "b"
         ],
         "type": "scatterpolar"
        },
        {
         "line": {
          "color": "ffa60055",
          "shape": "spline"
         },
         "mode": "lines",
         "r": [
          -2.5,
          -0.5912446384188058,
          2.2692894088657263,
          null,
          -0.6586565686484701,
          -2.5
         ],
         "subplot": "polar",
         "theta": [
          "b",
          "gdp_per_cap",
          "gdp_growth",
          "sustainable_economic_development_assessment(seda)",
          "overall_economic_freedom",
          "c"
         ],
         "type": "scatterpolar"
        },
        {
         "line": {
          "color": "ff636155",
          "shape": "spline"
         },
         "mode": "lines",
         "r": [
          -2.5,
          -1.7206136011958562,
          -0.5195697864634552,
          0.167745418364608,
          0.5491797232366141,
          -2.5
         ],
         "subplot": "polar",
         "theta": [
          "c",
          "political_stability&absence_of_violence",
          "control_of_corruption",
          "tax_burden",
          "government_spending",
          "d"
         ],
         "type": "scatterpolar"
        },
        {
         "line": {
          "color": "bc509055",
          "shape": "spline"
         },
         "mode": "lines",
         "r": [
          -2.5,
          -0.9430021209422803,
          -0.21030656114338694,
          -0.4085240357568528,
          -1.5469078453154836,
          -2.5
         ],
         "subplot": "polar",
         "theta": [
          "d",
          "property_rights",
          "government_integrity",
          "judicial_effectiveness",
          "financial_freedom",
          "e"
         ],
         "type": "scatterpolar"
        },
        {
         "line": {
          "color": "003f5c55",
          "shape": "spline"
         },
         "mode": "lines",
         "r": [
          -2.5,
          -0.46967639732197697,
          -0.543925177089209,
          -0.6922929651473905,
          0.18418733354908182,
          -2.5
         ],
         "subplot": "polar",
         "theta": [
          "e",
          "total_foreign_born",
          "per_foreign_born",
          "population_living_abroad_diaspora",
          "population_living_abroad",
          "f"
         ],
         "type": "scatterpolar"
        },
        {
         "line": {
          "color": "45B5AA55",
          "shape": "spline"
         },
         "mode": "lines",
         "r": [
          -2.5,
          0.1682150847126392,
          0.5775640952866274,
          -0.28415779383985085,
          0.17813626917405206,
          -2.5
         ],
         "subplot": "polar",
         "theta": [
          "a",
          "population_density",
          "human_development_index",
          "health_expenditure",
          "employment",
          "b"
         ],
         "type": "scatterpolar"
        },
        {
         "line": {
          "color": "ffa60055",
          "shape": "spline"
         },
         "mode": "lines",
         "r": [
          -2.5,
          -0.5631559824808331,
          0.5329118054706264,
          0.26651091150472384,
          0.22427691419666243,
          -2.5
         ],
         "subplot": "polar",
         "theta": [
          "b",
          "gdp_per_cap",
          "gdp_growth",
          "sustainable_economic_development_assessment(seda)",
          "overall_economic_freedom",
          "c"
         ],
         "type": "scatterpolar"
        },
        {
         "line": {
          "color": "ff636155",
          "shape": "spline"
         },
         "mode": "lines",
         "r": [
          -2.5,
          0.964958135040147,
          0.3752026447756256,
          0.5605905204606417,
          0.23413772457279428,
          -2.5
         ],
         "subplot": "polar",
         "theta": [
          "c",
          "political_stability&absence_of_violence",
          "control_of_corruption",
          "tax_burden",
          "government_spending",
          "d"
         ],
         "type": "scatterpolar"
        },
        {
         "line": {
          "color": "bc509055",
          "shape": "spline"
         },
         "mode": "lines",
         "r": [
          -2.5,
          0.9748878174183881,
          -0.37548494991476555,
          0.06503246746523501,
          -0.007892386965895297,
          -2.5
         ],
         "subplot": "polar",
         "theta": [
          "d",
          "property_rights",
          "government_integrity",
          "judicial_effectiveness",
          "financial_freedom",
          "e"
         ],
         "type": "scatterpolar"
        },
        {
         "line": {
          "color": "003f5c55",
          "shape": "spline"
         },
         "mode": "lines",
         "r": [
          -2.5,
          -0.4497923125468955,
          0.1141702228583688,
          -0.7621530788396154,
          -0.22841067007423155,
          -2.5
         ],
         "subplot": "polar",
         "theta": [
          "e",
          "total_foreign_born",
          "per_foreign_born",
          "population_living_abroad_diaspora",
          "population_living_abroad",
          "f"
         ],
         "type": "scatterpolar"
        },
        {
         "hoverlabel": {
          "namelength": 20
         },
         "line": {
          "color": [
           "003f5c55"
          ],
          "smoothing": 1.3
         },
         "marker": {
          "color": "rgba(180,120,150,0)"
         },
         "mode": "lines",
         "r": [
          0,
          0,
          0,
          0,
          0
         ],
         "subplot": "polar",
         "theta": [
          "f",
          "g",
          "h",
          "i",
          "j"
         ],
         "type": "scatterpolar"
        },
        {
         "line": {
          "color": "45B5AA55",
          "shape": "spline"
         },
         "mode": "lines",
         "r": [
          -2.5,
          -0.4559281473893844,
          0.653734300614156,
          0.35730190759268465,
          -0.34439661592726806,
          -2.5
         ],
         "subplot": "polar2",
         "theta": [
          "a",
          "population_density",
          "human_development_index",
          "health_expenditure",
          "employment",
          "b"
         ],
         "type": "scatterpolar"
        },
        {
         "line": {
          "color": "ffa60055",
          "shape": "spline"
         },
         "mode": "lines",
         "r": [
          -2.5,
          -0.47327227678246275,
          0.3563309787268793,
          0.3231067708848694,
          -1.4360217067694987,
          -2.5
         ],
         "subplot": "polar2",
         "theta": [
          "b",
          "gdp_per_cap",
          "gdp_growth",
          "sustainable_economic_development_assessment(seda)",
          "overall_economic_freedom",
          "c"
         ],
         "type": "scatterpolar"
        },
        {
         "line": {
          "color": "ff636155",
          "shape": "spline"
         },
         "mode": "lines",
         "r": [
          -2.5,
          -0.9301025058119401,
          -0.5681987336557265,
          -0.032685693759163074,
          1.198650994438326,
          -2.5
         ],
         "subplot": "polar2",
         "theta": [
          "c",
          "political_stability&absence_of_violence",
          "control_of_corruption",
          "tax_burden",
          "government_spending",
          "d"
         ],
         "type": "scatterpolar"
        },
        {
         "line": {
          "color": "bc509055",
          "shape": "spline"
         },
         "mode": "lines",
         "r": [
          -2.5,
          -1.1131375654887967,
          -0.7058415101798619,
          -0.5281592487935046,
          -1.0339026925322876,
          -2.5
         ],
         "subplot": "polar2",
         "theta": [
          "d",
          "property_rights",
          "government_integrity",
          "judicial_effectiveness",
          "financial_freedom",
          "e"
         ],
         "type": "scatterpolar"
        },
        {
         "line": {
          "color": "003f5c55",
          "shape": "spline"
         },
         "mode": "lines",
         "r": [
          -2.5,
          -0.3608331701680444,
          0.3380582957515901,
          -0.6799184252464612,
          -0.4112770341341412,
          -2.5
         ],
         "subplot": "polar2",
         "theta": [
          "e",
          "total_foreign_born",
          "per_foreign_born",
          "population_living_abroad_diaspora",
          "population_living_abroad",
          "f"
         ],
         "type": "scatterpolar"
        },
        {
         "line": {
          "color": "45B5AA55",
          "shape": "spline"
         },
         "mode": "lines",
         "r": [
          -2.5,
          1.8541133015029718,
          0.6004153384889804,
          -0.0012062188089127172,
          0.3839833260130146,
          -2.5
         ],
         "subplot": "polar2",
         "theta": [
          "a",
          "population_density",
          "human_development_index",
          "health_expenditure",
          "employment",
          "b"
         ],
         "type": "scatterpolar"
        },
        {
         "line": {
          "color": "ffa60055",
          "shape": "spline"
         },
         "mode": "lines",
         "r": [
          -2.5,
          -0.5322584550893126,
          0.1503200492759574,
          0.34052074093963636,
          -1.0617349375669434,
          -2.5
         ],
         "subplot": "polar2",
         "theta": [
          "b",
          "gdp_per_cap",
          "gdp_growth",
          "sustainable_economic_development_assessment(seda)",
          "overall_economic_freedom",
          "c"
         ],
         "type": "scatterpolar"
        },
        {
         "line": {
          "color": "ff636155",
          "shape": "spline"
         },
         "mode": "lines",
         "r": [
          -2.5,
          -0.20456501751426764,
          -1.3462616568512311,
          0.6407629653101502,
          -0.9145539075334367,
          -2.5
         ],
         "subplot": "polar2",
         "theta": [
          "c",
          "political_stability&absence_of_violence",
          "control_of_corruption",
          "tax_burden",
          "government_spending",
          "d"
         ],
         "type": "scatterpolar"
        },
        {
         "line": {
          "color": "bc509055",
          "shape": "spline"
         },
         "mode": "lines",
         "r": [
          -2.5,
          -0.6903768711635672,
          -1.2811176866625156,
          -1.0166702249533857,
          -0.5208975397490914,
          -2.5
         ],
         "subplot": "polar2",
         "theta": [
          "d",
          "property_rights",
          "government_integrity",
          "judicial_effectiveness",
          "financial_freedom",
          "e"
         ],
         "type": "scatterpolar"
        },
        {
         "line": {
          "color": "003f5c55",
          "shape": "spline"
         },
         "mode": "lines",
         "r": [
          -2.5,
          -0.4083220332102728,
          -0.0011660708415778987,
          -0.5104464591560464,
          1.1334384612142128,
          -2.5
         ],
         "subplot": "polar2",
         "theta": [
          "e",
          "total_foreign_born",
          "per_foreign_born",
          "population_living_abroad_diaspora",
          "population_living_abroad",
          "f"
         ],
         "type": "scatterpolar"
        },
        {
         "line": {
          "color": "45B5AA55",
          "shape": "spline"
         },
         "mode": "lines",
         "r": [
          -2.5,
          -0.24678633609154157,
          0.5547133060945105,
          0.03888501253062075,
          -0.3760660443991239,
          -2.5
         ],
         "subplot": "polar2",
         "theta": [
          "a",
          "population_density",
          "human_development_index",
          "health_expenditure",
          "employment",
          "b"
         ],
         "type": "scatterpolar"
        },
        {
         "line": {
          "color": "ffa60055",
          "shape": "spline"
         },
         "mode": "lines",
         "r": [
          -2.5,
          0.5337060557545554,
          -0.5854332200724067,
          0.25780400951409543,
          -0.25557819972999674,
          -2.5
         ],
         "subplot": "polar2",
         "theta": [
          "b",
          "gdp_per_cap",
          "gdp_growth",
          "sustainable_economic_development_assessment(seda)",
          "overall_economic_freedom",
          "c"
         ],
         "type": "scatterpolar"
        },
        {
         "line": {
          "color": "ff636155",
          "shape": "spline"
         },
         "mode": "lines",
         "r": [
          -2.5,
          1.1707075734651298,
          1.4061360238066902,
          -0.032685693759163074,
          1.489458993204929,
          -2.5
         ],
         "subplot": "polar2",
         "theta": [
          "c",
          "political_stability&absence_of_violence",
          "control_of_corruption",
          "tax_burden",
          "government_spending",
          "d"
         ],
         "type": "scatterpolar"
        },
        {
         "line": {
          "color": "bc509055",
          "shape": "spline"
         },
         "mode": "lines",
         "r": [
          -2.5,
          0.1035883400489665,
          0.706717717445914,
          0.42892340627586656,
          0.5051127658173008,
          -2.5
         ],
         "subplot": "polar2",
         "theta": [
          "d",
          "property_rights",
          "government_integrity",
          "judicial_effectiveness",
          "financial_freedom",
          "e"
         ],
         "type": "scatterpolar"
        },
        {
         "line": {
          "color": "003f5c55",
          "shape": "spline"
         },
         "mode": "lines",
         "r": [
          -2.5,
          0.332233422668981,
          -0.17756280099579674,
          -0.4096354784192633,
          -1.0223632260452782,
          -2.5
         ],
         "subplot": "polar2",
         "theta": [
          "e",
          "total_foreign_born",
          "per_foreign_born",
          "population_living_abroad_diaspora",
          "population_living_abroad",
          "f"
         ],
         "type": "scatterpolar"
        },
        {
         "line": {
          "color": "45B5AA55",
          "shape": "spline"
         },
         "mode": "lines",
         "r": [
          -2.5,
          -0.2375894650499646,
          -0.04703231481548522,
          -0.5008046401169451,
          1.2707067861170618,
          -2.5
         ],
         "subplot": "polar2",
         "theta": [
          "a",
          "population_density",
          "human_development_index",
          "health_expenditure",
          "employment",
          "b"
         ],
         "type": "scatterpolar"
        },
        {
         "line": {
          "color": "ffa60055",
          "shape": "spline"
         },
         "mode": "lines",
         "r": [
          -2.5,
          -0.5884357728250085,
          0.7977828701689982,
          null,
          -0.2843694333455166,
          -2.5
         ],
         "subplot": "polar2",
         "theta": [
          "b",
          "gdp_per_cap",
          "gdp_growth",
          "sustainable_economic_development_assessment(seda)",
          "overall_economic_freedom",
          "c"
         ],
         "type": "scatterpolar"
        },
        {
         "line": {
          "color": "ff636155",
          "shape": "spline"
         },
         "mode": "lines",
         "r": [
          -2.5,
          0.1636181844788875,
          -0.5098440086190428,
          -0.5618237074324762,
          0.3213802721153722,
          -2.5
         ],
         "subplot": "polar2",
         "theta": [
          "c",
          "political_stability&absence_of_violence",
          "control_of_corruption",
          "tax_burden",
          "government_spending",
          "d"
         ],
         "type": "scatterpolar"
        },
        {
         "line": {
          "color": "bc509055",
          "shape": "spline"
         },
         "mode": "lines",
         "r": [
          -2.5,
          -0.7161549598825298,
          -0.6374918245752341,
          -0.7225667314415068,
          -0.007892386965895297,
          -2.5
         ],
         "subplot": "polar2",
         "theta": [
          "d",
          "property_rights",
          "government_integrity",
          "judicial_effectiveness",
          "financial_freedom",
          "e"
         ],
         "type": "scatterpolar"
        },
        {
         "line": {
          "color": "003f5c55",
          "shape": "spline"
         },
         "mode": "lines",
         "r": [
          -2.5,
          -0.46140299627003867,
          -0.16399383668437809,
          -0.5936218332860145,
          3.242374982514792,
          -2.5
         ],
         "subplot": "polar2",
         "theta": [
          "e",
          "total_foreign_born",
          "per_foreign_born",
          "population_living_abroad_diaspora",
          "population_living_abroad",
          "f"
         ],
         "type": "scatterpolar"
        },
        {
         "line": {
          "color": "45B5AA55",
          "shape": "spline"
         },
         "mode": "lines",
         "r": [
          -2.5,
          -0.5873122083789333,
          -0.5116709305215988,
          -0.693550944633933,
          1.1757009168318375,
          -2.5
         ],
         "subplot": "polar2",
         "theta": [
          "a",
          "population_density",
          "human_development_index",
          "health_expenditure",
          "employment",
          "b"
         ],
         "type": "scatterpolar"
        },
        {
         "line": {
          "color": "ffa60055",
          "shape": "spline"
         },
         "mode": "lines",
         "r": [
          -2.5,
          -0.5154052632007434,
          -1.939219207606637,
          -0.44311239550965137,
          -0.8410012922803617,
          -2.5
         ],
         "subplot": "polar2",
         "theta": [
          "b",
          "gdp_per_cap",
          "gdp_growth",
          "sustainable_economic_development_assessment(seda)",
          "overall_economic_freedom",
          "c"
         ],
         "type": "scatterpolar"
        },
        {
         "line": {
          "color": "ff636155",
          "shape": "spline"
         },
         "mode": "lines",
         "r": [
          -2.5,
          -2.0238232727504073,
          -1.2198264289334513,
          -0.2732030283076884,
          0.6121882708819751,
          -2.5
         ],
         "subplot": "polar2",
         "theta": [
          "c",
          "political_stability&absence_of_violence",
          "control_of_corruption",
          "tax_burden",
          "government_spending",
          "d"
         ],
         "type": "scatterpolar"
        },
        {
         "line": {
          "color": "bc509055",
          "shape": "spline"
         },
         "mode": "lines",
         "r": [
          -2.5,
          -1.6390105163542723,
          -0.8653239650722193,
          -1.2011079638985769,
          -1.0339026925322876,
          -2.5
         ],
         "subplot": "polar2",
         "theta": [
          "d",
          "property_rights",
          "government_integrity",
          "judicial_effectiveness",
          "financial_freedom",
          "e"
         ],
         "type": "scatterpolar"
        },
        {
         "line": {
          "color": "003f5c55",
          "shape": "spline"
         },
         "mode": "lines",
         "r": [
          -2.5,
          -0.44483324437128846,
          -0.6524769886334463,
          0.5400886830387154,
          2.1323115318839467,
          -2.5
         ],
         "subplot": "polar2",
         "theta": [
          "e",
          "total_foreign_born",
          "per_foreign_born",
          "population_living_abroad_diaspora",
          "population_living_abroad",
          "f"
         ],
         "type": "scatterpolar"
        },
        {
         "line": {
          "color": "45B5AA55",
          "shape": "spline"
         },
         "mode": "lines",
         "r": [
          -2.5,
          0.3845375319998872,
          0.08245730664745513,
          -0.5586285314720415,
          0.7165044725438859,
          -2.5
         ],
         "subplot": "polar2",
         "theta": [
          "a",
          "population_density",
          "human_development_index",
          "health_expenditure",
          "employment",
          "b"
         ],
         "type": "scatterpolar"
        },
        {
         "line": {
          "color": "ffa60055",
          "shape": "spline"
         },
         "mode": "lines",
         "r": [
          -2.5,
          -0.2429452897200146,
          1.0037938697868196,
          -0.142719626774687,
          -0.7450302694950298,
          -2.5
         ],
         "subplot": "polar2",
         "theta": [
          "b",
          "gdp_per_cap",
          "gdp_growth",
          "sustainable_economic_development_assessment(seda)",
          "overall_economic_freedom",
          "c"
         ],
         "type": "scatterpolar"
        },
        {
         "line": {
          "color": "ff636155",
          "shape": "spline"
         },
         "mode": "lines",
         "r": [
          -2.5,
          -1.0600495908936658,
          -1.122568534548909,
          -0.05673767188090052,
          0.9223831737411575,
          -2.5
         ],
         "subplot": "polar2",
         "theta": [
          "c",
          "political_stability&absence_of_violence",
          "control_of_corruption",
          "tax_burden",
          "government_spending",
          "d"
         ],
         "type": "scatterpolar"
        },
        {
         "line": {
          "color": "bc509055",
          "shape": "spline"
         },
         "mode": "lines",
         "r": [
          -2.5,
          -0.4532185336175943,
          -1.0248065286034072,
          -0.8172780130704014,
          -0.007892386965895297,
          -2.5
         ],
         "subplot": "polar2",
         "theta": [
          "d",
          "property_rights",
          "government_integrity",
          "judicial_effectiveness",
          "financial_freedom",
          "e"
         ],
         "type": "scatterpolar"
        },
        {
         "line": {
          "color": "003f5c55",
          "shape": "spline"
         },
         "mode": "lines",
         "r": [
          -2.5,
          -0.42994838991284284,
          -0.6796149496072463,
          2.302978644818959,
          1.2666828822695195,
          -2.5
         ],
         "subplot": "polar2",
         "theta": [
          "e",
          "total_foreign_born",
          "per_foreign_born",
          "population_living_abroad_diaspora",
          "population_living_abroad",
          "f"
         ],
         "type": "scatterpolar"
        },
        {
         "line": {
          "color": "45B5AA55",
          "shape": "spline"
         },
         "mode": "lines",
         "r": [
          -2.5,
          -0.3981318814512231,
          0.51662774942051,
          0.23702821357408424,
          0.43148565662304106,
          -2.5
         ],
         "subplot": "polar2",
         "theta": [
          "a",
          "population_density",
          "human_development_index",
          "health_expenditure",
          "employment",
          "b"
         ],
         "type": "scatterpolar"
        },
        {
         "line": {
          "color": "ffa60055",
          "shape": "spline"
         },
         "mode": "lines",
         "r": [
          -2.5,
          0.7050469314787322,
          -0.026260707300890158,
          0.06624917639708769,
          0.33944221475914027,
          -2.5
         ],
         "subplot": "polar2",
         "theta": [
          "b",
          "gdp_per_cap",
          "gdp_growth",
          "sustainable_economic_development_assessment(seda)",
          "overall_economic_freedom",
          "c"
         ],
         "type": "scatterpolar"
        },
        {
         "line": {
          "color": "ff636155",
          "shape": "spline"
         },
         "mode": "lines",
         "r": [
          -2.5,
          -0.16124935475971608,
          -0.470940839271184,
          0.3601594083368707,
          1.2568124462790495,
          -2.5
         ],
         "subplot": "polar2",
         "theta": [
          "c",
          "political_stability&absence_of_violence",
          "control_of_corruption",
          "tax_burden",
          "government_spending",
          "d"
         ],
         "type": "scatterpolar"
        },
        {
         "line": {
          "color": "bc509055",
          "shape": "spline"
         },
         "mode": "lines",
         "r": [
          -2.5,
          -0.623353879828506,
          -0.9222820001964657,
          -0.5181896001683092,
          0.5051127658173008,
          -2.5
         ],
         "subplot": "polar2",
         "theta": [
          "d",
          "property_rights",
          "government_integrity",
          "judicial_effectiveness",
          "financial_freedom",
          "e"
         ],
         "type": "scatterpolar"
        },
        {
         "line": {
          "color": "003f5c55",
          "shape": "spline"
         },
         "mode": "lines",
         "r": [
          -2.5,
          -0.12100016380714047,
          -0.44894234603187155,
          -0.3819916505457887,
          -0.9488491057667723,
          -2.5
         ],
         "subplot": "polar2",
         "theta": [
          "e",
          "total_foreign_born",
          "per_foreign_born",
          "population_living_abroad_diaspora",
          "population_living_abroad",
          "f"
         ],
         "type": "scatterpolar"
        },
        {
         "line": {
          "color": "45B5AA55",
          "shape": "spline"
         },
         "mode": "lines",
         "r": [
          -2.5,
          0.481778735006456,
          0.1967126146387481,
          -0.4275610444004898,
          0.2731421384592765,
          -2.5
         ],
         "subplot": "polar2",
         "theta": [
          "a",
          "population_density",
          "human_development_index",
          "health_expenditure",
          "employment",
          "b"
         ],
         "type": "scatterpolar"
        },
        {
         "line": {
          "color": "ffa60055",
          "shape": "spline"
         },
         "mode": "lines",
         "r": [
          -2.5,
          -0.5701781468838799,
          0.6800624593402993,
          null,
          -1.723934775125494,
          -2.5
         ],
         "subplot": "polar2",
         "theta": [
          "b",
          "gdp_per_cap",
          "gdp_growth",
          "sustainable_economic_development_assessment(seda)",
          "overall_economic_freedom",
          "c"
         ],
         "type": "scatterpolar"
        },
        {
         "line": {
          "color": "ff636155",
          "shape": "spline"
         },
         "mode": "lines",
         "r": [
          -2.5,
          -0.6052350190164583,
          -1.1420202061781513,
          0.44033185318637913,
          0.6897369965967708,
          -2.5
         ],
         "subplot": "polar2",
         "theta": [
          "c",
          "political_stability&absence_of_violence",
          "control_of_corruption",
          "tax_burden",
          "government_spending",
          "d"
         ],
         "type": "scatterpolar"
        },
        {
         "line": {
          "color": "bc509055",
          "shape": "spline"
         },
         "mode": "lines",
         "r": [
          -2.5,
          -0.7161549598825298,
          -1.0248065286034072,
          -1.5949076108907556,
          -1.5469078453154836,
          -2.5
         ],
         "subplot": "polar2",
         "theta": [
          "d",
          "property_rights",
          "government_integrity",
          "judicial_effectiveness",
          "financial_freedom",
          "e"
         ],
         "type": "scatterpolar"
        },
        {
         "line": {
          "color": "003f5c55",
          "shape": "spline"
         },
         "mode": "lines",
         "r": [
          -2.5,
          -0.4498305622050182,
          -0.3132525735138341,
          -0.6354403452975317,
          0.8595983889197552,
          -2.5
         ],
         "subplot": "polar2",
         "theta": [
          "e",
          "total_foreign_born",
          "per_foreign_born",
          "population_living_abroad_diaspora",
          "population_living_abroad",
          "f"
         ],
         "type": "scatterpolar"
        },
        {
         "line": {
          "color": "45B5AA55",
          "shape": "spline"
         },
         "mode": "lines",
         "r": [
          -2.5,
          0.43964233550445936,
          0.013904031050632128,
          -0.5902389254128275,
          0.33647978733781664,
          -2.5
         ],
         "subplot": "polar2",
         "theta": [
          "a",
          "population_density",
          "human_development_index",
          "health_expenditure",
          "employment",
          "b"
         ],
         "type": "scatterpolar"
        },
        {
         "line": {
          "color": "ffa60055",
          "shape": "spline"
         },
         "mode": "lines",
         "r": [
          -2.5,
          -0.5828180408003067,
          -0.4088524284121094,
          null,
          1.8365903898705558,
          -2.5
         ],
         "subplot": "polar2",
         "theta": [
          "b",
          "gdp_per_cap",
          "gdp_growth",
          "sustainable_economic_development_assessment(seda)",
          "overall_economic_freedom",
          "c"
         ],
         "type": "scatterpolar"
        },
        {
         "line": {
          "color": "ff636155",
          "shape": "spline"
         },
         "mode": "lines",
         "r": [
          -2.5,
          0.8241822068833367,
          1.2310719066668478,
          0.5044694420656585,
          0.7042771746662053,
          -2.5
         ],
         "subplot": "polar2",
         "theta": [
          "c",
          "political_stability&absence_of_violence",
          "control_of_corruption",
          "tax_burden",
          "government_spending",
          "d"
         ],
         "type": "scatterpolar"
        },
        {
         "line": {
          "color": "bc509055",
          "shape": "spline"
         },
         "mode": "lines",
         "r": [
          -2.5,
          1.598717485748801,
          1.9540985563003115,
          1.8994409689128762,
          1.531123071383693,
          -2.5
         ],
         "subplot": "polar2",
         "theta": [
          "d",
          "property_rights",
          "government_integrity",
          "judicial_effectiveness",
          "financial_freedom",
          "e"
         ],
         "type": "scatterpolar"
        },
        {
         "line": {
          "color": "003f5c55",
          "shape": "spline"
         },
         "mode": "lines",
         "r": [
          -2.5,
          -0.46550144713788516,
          -0.13007139355486874,
          -0.6208940184782786,
          2.1267981968817296,
          -2.5
         ],
         "subplot": "polar2",
         "theta": [
          "e",
          "total_foreign_born",
          "per_foreign_born",
          "population_living_abroad_diaspora",
          "population_living_abroad",
          "f"
         ],
         "type": "scatterpolar"
        },
        {
         "line": {
          "color": "45B5AA55",
          "shape": "spline"
         },
         "mode": "lines",
         "r": [
          -2.5,
          -0.5885688663837844,
          -0.008946758141484818,
          -0.16851001112965816,
          -1.500304781748818,
          -2.5
         ],
         "subplot": "polar2",
         "theta": [
          "a",
          "population_density",
          "human_development_index",
          "health_expenditure",
          "employment",
          "b"
         ],
         "type": "scatterpolar"
        },
        {
         "line": {
          "color": "ffa60055",
          "shape": "spline"
         },
         "mode": "lines",
         "r": [
          -2.5,
          -0.4887210371297941,
          0.4446213570153031,
          -0.012114104033139053,
          -0.1596071769446649,
          -2.5
         ],
         "subplot": "polar2",
         "theta": [
          "b",
          "gdp_per_cap",
          "gdp_growth",
          "sustainable_economic_development_assessment(seda)",
          "overall_economic_freedom",
          "c"
         ],
         "type": "scatterpolar"
        },
        {
         "line": {
          "color": "ff636155",
          "shape": "spline"
         },
         "mode": "lines",
         "r": [
          -2.5,
          0.012013328531180449,
          -0.7627144644546027,
          -0.008633715637425632,
          -1.6948886302675228,
          -2.5
         ],
         "subplot": "polar2",
         "theta": [
          "c",
          "political_stability&absence_of_violence",
          "control_of_corruption",
          "tax_burden",
          "government_spending",
          "d"
         ],
         "type": "scatterpolar"
        },
        {
         "line": {
          "color": "bc509055",
          "shape": "spline"
         },
         "mode": "lines",
         "r": [
          -2.5,
          -1.0048695732020325,
          -0.45522606872211385,
          -0.8970349168391182,
          -0.5208975397490914,
          -2.5
         ],
         "subplot": "polar2",
         "theta": [
          "d",
          "property_rights",
          "government_integrity",
          "judicial_effectiveness",
          "financial_freedom",
          "e"
         ],
         "type": "scatterpolar"
        },
        {
         "line": {
          "color": "003f5c55",
          "shape": "spline"
         },
         "mode": "lines",
         "r": [
          -2.5,
          -0.3846818320075429,
          -0.25897665156623406,
          -0.01878641958218913,
          1.521225405699559,
          -2.5
         ],
         "subplot": "polar2",
         "theta": [
          "e",
          "total_foreign_born",
          "per_foreign_born",
          "population_living_abroad_diaspora",
          "population_living_abroad",
          "f"
         ],
         "type": "scatterpolar"
        },
        {
         "line": {
          "color": "45B5AA55",
          "shape": "spline"
         },
         "mode": "lines",
         "r": [
          -2.5,
          0.38456347625276494,
          0.47854264675674574,
          0.7466494427170001,
          0.7481726929505702,
          -2.5
         ],
         "subplot": "polar2",
         "theta": [
          "a",
          "population_density",
          "human_development_index",
          "health_expenditure",
          "employment",
          "b"
         ],
         "type": "scatterpolar"
        },
        {
         "line": {
          "color": "ffa60055",
          "shape": "spline"
         },
         "mode": "lines",
         "r": [
          -2.5,
          0.012661478478429414,
          -0.2911319123330611,
          0.24909694144995684,
          1.3951230992973922,
          -2.5
         ],
         "subplot": "polar2",
         "theta": [
          "b",
          "gdp_per_cap",
          "gdp_growth",
          "sustainable_economic_development_assessment(seda)",
          "overall_economic_freedom",
          "c"
         ],
         "type": "scatterpolar"
        },
        {
         "line": {
          "color": "ff636155",
          "shape": "spline"
         },
         "mode": "lines",
         "r": [
          -2.5,
          0.7375508168288528,
          1.814619157033685,
          -1.0508758045146414,
          -0.18268699970303812,
          -2.5
         ],
         "subplot": "polar2",
         "theta": [
          "c",
          "political_stability&absence_of_violence",
          "control_of_corruption",
          "tax_burden",
          "government_spending",
          "d"
         ],
         "type": "scatterpolar"
        },
        {
         "line": {
          "color": "bc509055",
          "shape": "spline"
         },
         "mode": "lines",
         "r": [
          -2.5,
          1.6296511135430725,
          1.9313156898948702,
          1.6053373803233817,
          1.018117918600497,
          -2.5
         ],
         "subplot": "polar2",
         "theta": [
          "d",
          "property_rights",
          "government_integrity",
          "judicial_effectiveness",
          "financial_freedom",
          "e"
         ],
         "type": "scatterpolar"
        },
        {
         "line": {
          "color": "003f5c55",
          "shape": "spline"
         },
         "mode": "lines",
         "r": [
          -2.5,
          -0.37885449659255077,
          -0.6049855650170369,
          0.25858677277247694,
          0.6491641229494383,
          -2.5
         ],
         "subplot": "polar2",
         "theta": [
          "e",
          "total_foreign_born",
          "per_foreign_born",
          "population_living_abroad_diaspora",
          "population_living_abroad",
          "f"
         ],
         "type": "scatterpolar"
        },
        {
         "line": {
          "color": "45B5AA55",
          "shape": "spline"
         },
         "mode": "lines",
         "r": [
          -2.5,
          -0.5289146394361428,
          0.6308835114220391,
          0.39508018327801425,
          0.5106574157049233,
          -2.5
         ],
         "subplot": "polar2",
         "theta": [
          "a",
          "population_density",
          "human_development_index",
          "health_expenditure",
          "employment",
          "b"
         ],
         "type": "scatterpolar"
        },
        {
         "line": {
          "color": "ffa60055",
          "shape": "spline"
         },
         "mode": "lines",
         "r": [
          -2.5,
          0.45224901296904807,
          0.29747070314563023,
          0.4885402337359513,
          -0.35154922251532855,
          -2.5
         ],
         "subplot": "polar2",
         "theta": [
          "b",
          "gdp_per_cap",
          "gdp_growth",
          "sustainable_economic_development_assessment(seda)",
          "overall_economic_freedom",
          "c"
         ],
         "type": "scatterpolar"
        },
        {
         "line": {
          "color": "ff636155",
          "shape": "spline"
         },
         "mode": "lines",
         "r": [
          -2.5,
          0.20693385933569794,
          -0.19861881325424693,
          0.728952532311167,
          0.5055584494653251,
          -2.5
         ],
         "subplot": "polar2",
         "theta": [
          "c",
          "political_stability&absence_of_violence",
          "control_of_corruption",
          "tax_burden",
          "government_spending",
          "d"
         ],
         "type": "scatterpolar"
        },
        {
         "line": {
          "color": "bc509055",
          "shape": "spline"
         },
         "mode": "lines",
         "r": [
          -2.5,
          -0.02530210354584681,
          -0.48370508628423703,
          -0.10445079854216287,
          0.5051127658173008,
          -2.5
         ],
         "subplot": "polar2",
         "theta": [
          "d",
          "property_rights",
          "government_integrity",
          "judicial_effectiveness",
          "financial_freedom",
          "e"
         ],
         "type": "scatterpolar"
        },
        {
         "line": {
          "color": "003f5c55",
          "shape": "spline"
         },
         "mode": "lines",
         "r": [
          -2.5,
          -0.33694052122170476,
          -0.6117700633482276,
          0.21109780641405337,
          -0.4268987926353059,
          -2.5
         ],
         "subplot": "polar2",
         "theta": [
          "e",
          "total_foreign_born",
          "per_foreign_born",
          "population_living_abroad_diaspora",
          "population_living_abroad",
          "f"
         ],
         "type": "scatterpolar"
        },
        {
         "hoverlabel": {
          "namelength": 20
         },
         "line": {
          "color": [
           "003f5c55"
          ],
          "smoothing": 1.3
         },
         "marker": {
          "color": "rgba(180,120,150,0)"
         },
         "mode": "lines",
         "r": [
          0,
          0,
          0,
          0,
          0
         ],
         "subplot": "polar2",
         "theta": [
          "f",
          "g",
          "h",
          "i",
          "j"
         ],
         "type": "scatterpolar"
        },
        {
         "line": {
          "color": "45B5AA55",
          "shape": "spline"
         },
         "mode": "lines",
         "r": [
          -2.5,
          -0.2214571594089517,
          0.25764896050486547,
          -0.27182203035076363,
          -1.1519495250146046,
          -2.5
         ],
         "subplot": "polar3",
         "theta": [
          "a",
          "population_density",
          "human_development_index",
          "health_expenditure",
          "employment",
          "b"
         ],
         "type": "scatterpolar"
        },
        {
         "line": {
          "color": "ffa60055",
          "shape": "spline"
         },
         "mode": "lines",
         "r": [
          -2.5,
          -0.23732756355506343,
          0.03259949811345928,
          -0.05564927828032171,
          0.464204471159992,
          -2.5
         ],
         "subplot": "polar3",
         "theta": [
          "b",
          "gdp_per_cap",
          "gdp_growth",
          "sustainable_economic_development_assessment(seda)",
          "overall_economic_freedom",
          "c"
         ],
         "type": "scatterpolar"
        },
        {
         "line": {
          "color": "ff636155",
          "shape": "spline"
         },
         "mode": "lines",
         "r": [
          -2.5,
          0.5426303182970258,
          -0.38340875171615846,
          0.8572283217369381,
          1.0580937210781693,
          -2.5
         ],
         "subplot": "polar3",
         "theta": [
          "c",
          "political_stability&absence_of_violence",
          "control_of_corruption",
          "tax_burden",
          "government_spending",
          "d"
         ],
         "type": "scatterpolar"
        },
        {
         "line": {
          "color": "bc509055",
          "shape": "spline"
         },
         "mode": "lines",
         "r": [
          -2.5,
          0.2427898617943976,
          -0.08499884041451294,
          -1.0166702249533857,
          1.018117918600497,
          -2.5
         ],
         "subplot": "polar3",
         "theta": [
          "d",
          "property_rights",
          "government_integrity",
          "judicial_effectiveness",
          "financial_freedom",
          "e"
         ],
         "type": "scatterpolar"
        },
        {
         "line": {
          "color": "003f5c55",
          "shape": "spline"
         },
         "mode": "lines",
         "r": [
          -2.5,
          -0.10859006222923304,
          -0.048657478282505884,
          1.9250761071968647,
          0.9073826120140627,
          -2.5
         ],
         "subplot": "polar3",
         "theta": [
          "e",
          "total_foreign_born",
          "per_foreign_born",
          "population_living_abroad_diaspora",
          "population_living_abroad",
          "f"
         ],
         "type": "scatterpolar"
        },
        {
         "line": {
          "color": "45B5AA55",
          "shape": "spline"
         },
         "mode": "lines",
         "r": [
          -2.5,
          -0.5236028920627288,
          -0.8315860653033608,
          -0.7313292203192626,
          0.3839833260130146,
          -2.5
         ],
         "subplot": "polar3",
         "theta": [
          "a",
          "population_density",
          "human_development_index",
          "health_expenditure",
          "employment",
          "b"
         ],
         "type": "scatterpolar"
        },
        {
         "line": {
          "color": "ffa60055",
          "shape": "spline"
         },
         "mode": "lines",
         "r": [
          -2.5,
          -0.5083830987976966,
          -0.37942229062148486,
          -0.22978997526905232,
          -0.706642080041136,
          -2.5
         ],
         "subplot": "polar3",
         "theta": [
          "b",
          "gdp_per_cap",
          "gdp_growth",
          "sustainable_economic_development_assessment(seda)",
          "overall_economic_freedom",
          "c"
         ],
         "type": "scatterpolar"
        },
        {
         "line": {
          "color": "ff636155",
          "shape": "spline"
         },
         "mode": "lines",
         "r": [
          -2.5,
          0.3043941247379567,
          -0.22779616128003663,
          -0.698117230676968,
          0.6800431747689885,
          -2.5
         ],
         "subplot": "polar3",
         "theta": [
          "c",
          "political_stability&absence_of_violence",
          "control_of_corruption",
          "tax_burden",
          "government_spending",
          "d"
         ],
         "type": "scatterpolar"
        },
        {
         "line": {
          "color": "bc509055",
          "shape": "spline"
         },
         "mode": "lines",
         "r": [
          -2.5,
          -0.4429072587957674,
          -0.5007926706436395,
          -0.06457239419661226,
          0.5051127658173008,
          -2.5
         ],
         "subplot": "polar3",
         "theta": [
          "d",
          "property_rights",
          "government_integrity",
          "judicial_effectiveness",
          "financial_freedom",
          "e"
         ],
         "type": "scatterpolar"
        },
        {
         "line": {
          "color": "003f5c55",
          "shape": "spline"
         },
         "mode": "lines",
         "r": [
          -2.5,
          -0.37651552999834814,
          -0.3132525735138341,
          -0.6680287629061735,
          -0.7742530509350188,
          -2.5
         ],
         "subplot": "polar3",
         "theta": [
          "e",
          "total_foreign_born",
          "per_foreign_born",
          "population_living_abroad_diaspora",
          "population_living_abroad",
          "f"
         ],
         "type": "scatterpolar"
        },
        {
         "line": {
          "color": "45B5AA55",
          "shape": "spline"
         },
         "mode": "lines",
         "r": [
          -2.5,
          -0.3012391210409119,
          1.0041176083289767,
          0.6533602313307779,
          0.4631550850948969,
          -2.5
         ],
         "subplot": "polar3",
         "theta": [
          "a",
          "population_density",
          "human_development_index",
          "health_expenditure",
          "employment",
          "b"
         ],
         "type": "scatterpolar"
        },
        {
         "line": {
          "color": "ffa60055",
          "shape": "spline"
         },
         "mode": "lines",
         "r": [
          -2.5,
          -0.14323054983926403,
          -0.46771270399335846,
          0.8498823128463754,
          1.164793230373233,
          -2.5
         ],
         "subplot": "polar3",
         "theta": [
          "b",
          "gdp_per_cap",
          "gdp_growth",
          "sustainable_economic_development_assessment(seda)",
          "overall_economic_freedom",
          "c"
         ],
         "type": "scatterpolar"
        },
        {
         "line": {
          "color": "ff636155",
          "shape": "spline"
         },
         "mode": "lines",
         "r": [
          -2.5,
          1.2356810191879215,
          1.5131196960356452,
          -1.9648414922988737,
          -0.022742637359555746,
          -2.5
         ],
         "subplot": "polar3",
         "theta": [
          "c",
          "political_stability&absence_of_violence",
          "control_of_corruption",
          "tax_burden",
          "government_spending",
          "d"
         ],
         "type": "scatterpolar"
        },
        {
         "line": {
          "color": "bc509055",
          "shape": "spline"
         },
         "mode": "lines",
         "r": [
          -2.5,
          1.7585415571378857,
          1.8287910528490983,
          1.7498968100006378,
          1.018117918600497,
          -2.5
         ],
         "subplot": "polar3",
         "theta": [
          "d",
          "property_rights",
          "government_integrity",
          "judicial_effectiveness",
          "financial_freedom",
          "e"
         ],
         "type": "scatterpolar"
        },
        {
         "line": {
          "color": "003f5c55",
          "shape": "spline"
         },
         "mode": "lines",
         "r": [
          -2.5,
          -0.27777977500333695,
          2.576939542299207,
          -0.6620853834652531,
          -0.3653307062214604,
          -2.5
         ],
         "subplot": "polar3",
         "theta": [
          "e",
          "total_foreign_born",
          "per_foreign_born",
          "population_living_abroad_diaspora",
          "population_living_abroad",
          "f"
         ],
         "type": "scatterpolar"
        },
        {
         "line": {
          "color": "45B5AA55",
          "shape": "spline"
         },
         "mode": "lines",
         "r": [
          -2.5,
          -0.13006370640019543,
          1.1259903000612115,
          0.6949934331064473,
          0.11479862029551195,
          -2.5
         ],
         "subplot": "polar3",
         "theta": [
          "a",
          "population_density",
          "human_development_index",
          "health_expenditure",
          "employment",
          "b"
         ],
         "type": "scatterpolar"
        },
        {
         "line": {
          "color": "ffa60055",
          "shape": "spline"
         },
         "mode": "lines",
         "r": [
          -2.5,
          -0.18255465978135346,
          -0.3205620501236856,
          0.5625502292443739,
          0.7521175395159875,
          -2.5
         ],
         "subplot": "polar3",
         "theta": [
          "b",
          "gdp_per_cap",
          "gdp_growth",
          "sustainable_economic_development_assessment(seda)",
          "overall_economic_freedom",
          "c"
         ],
         "type": "scatterpolar"
        },
        {
         "line": {
          "color": "ff636155",
          "shape": "spline"
         },
         "mode": "lines",
         "r": [
          -2.5,
          0.5642881335379564,
          1.4839423625024077,
          -2.437859039244416,
          -0.25538899939468884,
          -2.5
         ],
         "subplot": "polar3",
         "theta": [
          "c",
          "political_stability&absence_of_violence",
          "control_of_corruption",
          "tax_burden",
          "government_spending",
          "d"
         ],
         "type": "scatterpolar"
        },
        {
         "line": {
          "color": "bc509055",
          "shape": "spline"
         },
         "mode": "lines",
         "r": [
          -2.5,
          1.6399621916936902,
          1.6807002484371223,
          1.18162893007204,
          1.018117918600497,
          -2.5
         ],
         "subplot": "polar3",
         "theta": [
          "d",
          "property_rights",
          "government_integrity",
          "judicial_effectiveness",
          "financial_freedom",
          "e"
         ],
         "type": "scatterpolar"
        },
        {
         "line": {
          "color": "003f5c55",
          "shape": "spline"
         },
         "mode": "lines",
         "r": [
          -2.5,
          -0.09908884715155632,
          0.4669636831668065,
          -0.28188330675316914,
          -0.05749036178789882,
          -2.5
         ],
         "subplot": "polar3",
         "theta": [
          "e",
          "total_foreign_born",
          "per_foreign_born",
          "population_living_abroad_diaspora",
          "population_living_abroad",
          "f"
         ],
         "type": "scatterpolar"
        },
        {
         "line": {
          "color": "45B5AA55",
          "shape": "spline"
         },
         "mode": "lines",
         "r": [
          -2.5,
          -0.3615424760155815,
          0.4480744738236871,
          -0.3990345913319756,
          0.16230215897070993,
          -2.5
         ],
         "subplot": "polar3",
         "theta": [
          "a",
          "population_density",
          "human_development_index",
          "health_expenditure",
          "employment",
          "b"
         ],
         "type": "scatterpolar"
        },
        {
         "line": {
          "color": "ffa60055",
          "shape": "spline"
         },
         "mode": "lines",
         "r": [
          -2.5,
          -0.07722219373565177,
          0.1503200492759574,
          0.10543089964895613,
          0.8288946506245716,
          -2.5
         ],
         "subplot": "polar3",
         "theta": [
          "b",
          "gdp_per_cap",
          "gdp_growth",
          "sustainable_economic_development_assessment(seda)",
          "overall_economic_freedom",
          "c"
         ],
         "type": "scatterpolar"
        },
        {
         "line": {
          "color": "ff636155",
          "shape": "spline"
         },
         "mode": "lines",
         "r": [
          -2.5,
          0.5101435631629395,
          -0.13053829588059854,
          1.3222287465309719,
          0.7333582703680597,
          -2.5
         ],
         "subplot": "polar3",
         "theta": [
          "c",
          "political_stability&absence_of_violence",
          "control_of_corruption",
          "tax_burden",
          "government_spending",
          "d"
         ],
         "type": "scatterpolar"
        },
        {
         "line": {
          "color": "bc509055",
          "shape": "spline"
         },
         "mode": "lines",
         "r": [
          -2.5,
          0.7325735474546882,
          -0.18182754358126382,
          -0.16426850013810443,
          0.5051127658173008,
          -2.5
         ],
         "subplot": "polar3",
         "theta": [
          "d",
          "property_rights",
          "government_integrity",
          "judicial_effectiveness",
          "financial_freedom",
          "e"
         ],
         "type": "scatterpolar"
        },
        {
         "line": {
          "color": "003f5c55",
          "shape": "spline"
         },
         "mode": "lines",
         "r": [
          -2.5,
          -0.15142394187792976,
          -0.4692957924989995,
          1.6380140740047042,
          0.32202631728712405,
          -2.5
         ],
         "subplot": "polar3",
         "theta": [
          "e",
          "total_foreign_born",
          "per_foreign_born",
          "population_living_abroad_diaspora",
          "population_living_abroad",
          "f"
         ],
         "type": "scatterpolar"
        },
        {
         "line": {
          "color": "45B5AA55",
          "shape": "spline"
         },
         "mode": "lines",
         "r": [
          -2.5,
          0.2560902996292531,
          0.6232661276810973,
          1.3433920015015943,
          0.5106574157049233,
          -2.5
         ],
         "subplot": "polar3",
         "theta": [
          "a",
          "population_density",
          "human_development_index",
          "health_expenditure",
          "employment",
          "b"
         ],
         "type": "scatterpolar"
        },
        {
         "line": {
          "color": "ffa60055",
          "shape": "spline"
         },
         "mode": "lines",
         "r": [
          -2.5,
          3.6655915938128705,
          -0.20284153404463734,
          0.5538429951067253,
          -0.9945551483971315,
          -2.5
         ],
         "subplot": "polar3",
         "theta": [
          "b",
          "gdp_per_cap",
          "gdp_growth",
          "sustainable_economic_development_assessment(seda)",
          "overall_economic_freedom",
          "c"
         ],
         "type": "scatterpolar"
        },
        {
         "line": {
          "color": "ff636155",
          "shape": "spline"
         },
         "mode": "lines",
         "r": [
          -2.5,
          -1.3416014472072864,
          -1.3657132125400562,
          -2.3737211445315305,
          -1.8257522666906434,
          -2.5
         ],
         "subplot": "polar3",
         "theta": [
          "c",
          "political_stability&absence_of_violence",
          "control_of_corruption",
          "tax_burden",
          "government_spending",
          "d"
         ],
         "type": "scatterpolar"
        },
        {
         "line": {
          "color": "bc509055",
          "shape": "spline"
         },
         "mode": "lines",
         "r": [
          -2.5,
          -1.2523391855698323,
          -1.041893895685149,
          -1.0814726557843093,
          -0.5208975397490914,
          -2.5
         ],
         "subplot": "polar3",
         "theta": [
          "d",
          "property_rights",
          "government_integrity",
          "judicial_effectiveness",
          "financial_freedom",
          "e"
         ],
         "type": "scatterpolar"
        },
        {
         "line": {
          "color": "003f5c55",
          "shape": "spline"
         },
         "mode": "lines",
         "r": [
          -2.5,
          5.007181225257747,
          3.981328739622435,
          -0.25085694978899004,
          -0.8845242642161524,
          -2.5
         ],
         "subplot": "polar3",
         "theta": [
          "e",
          "total_foreign_born",
          "per_foreign_born",
          "population_living_abroad_diaspora",
          "population_living_abroad",
          "f"
         ],
         "type": "scatterpolar"
        },
        {
         "line": {
          "color": "45B5AA55",
          "shape": "spline"
         },
         "mode": "lines",
         "r": [
          -2.5,
          1.5957369687179883,
          0.27288327397651285,
          -0.09141148932286303,
          0.7006703623405437,
          -2.5
         ],
         "subplot": "polar3",
         "theta": [
          "a",
          "population_density",
          "human_development_index",
          "health_expenditure",
          "employment",
          "b"
         ],
         "type": "scatterpolar"
        },
        {
         "line": {
          "color": "ffa60055",
          "shape": "spline"
         },
         "mode": "lines",
         "r": [
          -2.5,
          0.5969055353819765,
          1.2980951775261653,
          -0.3560420470152861,
          -0.17880145472181092,
          -2.5
         ],
         "subplot": "polar3",
         "theta": [
          "b",
          "gdp_per_cap",
          "gdp_growth",
          "sustainable_economic_development_assessment(seda)",
          "overall_economic_freedom",
          "c"
         ],
         "type": "scatterpolar"
        },
        {
         "line": {
          "color": "ff636155",
          "shape": "spline"
         },
         "mode": "lines",
         "r": [
          -2.5,
          -0.16124935475971608,
          -0.23752196810955348,
          -0.321306372883951,
          0.9708511735355914,
          -2.5
         ],
         "subplot": "polar3",
         "theta": [
          "c",
          "political_stability&absence_of_violence",
          "control_of_corruption",
          "tax_burden",
          "government_spending",
          "d"
         ],
         "type": "scatterpolar"
        },
        {
         "line": {
          "color": "bc509055",
          "shape": "spline"
         },
         "mode": "lines",
         "r": [
          -2.5,
          -0.13872573324352436,
          0.33649048913831314,
          0.9772519889540735,
          -1.5469078453154836,
          -2.5
         ],
         "subplot": "polar3",
         "theta": [
          "d",
          "property_rights",
          "government_integrity",
          "judicial_effectiveness",
          "financial_freedom",
          "e"
         ],
         "type": "scatterpolar"
        },
        {
         "line": {
          "color": "003f5c55",
          "shape": "spline"
         },
         "mode": "lines",
         "r": [
          -2.5,
          3.3464575688867018,
          1.491421362154908,
          1.5210337331768193,
          -0.1714372339787873,
          -2.5
         ],
         "subplot": "polar3",
         "theta": [
          "e",
          "total_foreign_born",
          "per_foreign_born",
          "population_living_abroad_diaspora",
          "population_living_abroad",
          "f"
         ],
         "type": "scatterpolar"
        },
        {
         "line": {
          "color": "45B5AA55",
          "shape": "spline"
         },
         "mode": "lines",
         "r": [
          -2.5,
          4.774055038871884,
          -0.031798001343837846,
          0.21466964225011365,
          -0.043544897868252615,
          -2.5
         ],
         "subplot": "polar3",
         "theta": [
          "a",
          "population_density",
          "human_development_index",
          "health_expenditure",
          "employment",
          "b"
         ],
         "type": "scatterpolar"
        },
        {
         "line": {
          "color": "ffa60055",
          "shape": "spline"
         },
         "mode": "lines",
         "r": [
          -2.5,
          -0.5224274276037902,
          1.7984074848833325,
          null,
          0.22427691419666243,
          -2.5
         ],
         "subplot": "polar3",
         "theta": [
          "b",
          "gdp_per_cap",
          "gdp_growth",
          "sustainable_economic_development_assessment(seda)",
          "overall_economic_freedom",
          "c"
         ],
         "type": "scatterpolar"
        },
        {
         "line": {
          "color": "ff636155",
          "shape": "spline"
         },
         "mode": "lines",
         "r": [
          -2.5,
          -1.070878498514131,
          -0.48066661711559655,
          0.1597282962130996,
          -0.6140522718297977,
          -2.5
         ],
         "subplot": "polar3",
         "theta": [
          "c",
          "political_stability&absence_of_violence",
          "control_of_corruption",
          "tax_burden",
          "government_spending",
          "d"
         ],
         "type": "scatterpolar"
        },
        {
         "line": {
          "color": "bc509055",
          "shape": "spline"
         },
         "mode": "lines",
         "r": [
          -2.5,
          -0.5150857892061373,
          -0.2729605301466544,
          -0.07952677205678982,
          -0.007892386965895297,
          -2.5
         ],
         "subplot": "polar3",
         "theta": [
          "d",
          "property_rights",
          "government_integrity",
          "judicial_effectiveness",
          "financial_freedom",
          "e"
         ],
         "type": "scatterpolar"
        },
        {
         "line": {
          "color": "003f5c55",
          "shape": "spline"
         },
         "mode": "lines",
         "r": [
          -2.5,
          -0.29431701469268284,
          0.8876019003304118,
          -0.7880751558540446,
          -1.1951214240360086,
          -2.5
         ],
         "subplot": "polar3",
         "theta": [
          "e",
          "total_foreign_born",
          "per_foreign_born",
          "population_living_abroad_diaspora",
          "population_living_abroad",
          "f"
         ],
         "type": "scatterpolar"
        },
        {
         "line": {
          "color": "45B5AA55",
          "shape": "spline"
         },
         "mode": "lines",
         "r": [
          -2.5,
          -0.5946004707173687,
          0.15101058224427813,
          -0.5902389254128275,
          0.3839833260130146,
          -2.5
         ],
         "subplot": "polar3",
         "theta": [
          "a",
          "population_density",
          "human_development_index",
          "health_expenditure",
          "employment",
          "b"
         ],
         "type": "scatterpolar"
        },
        {
         "line": {
          "color": "ffa60055",
          "shape": "spline"
         },
         "mode": "lines",
         "r": [
          -2.5,
          -0.08003107021184301,
          1.1803746263636672,
          -0.10353806959632872,
          -1.397633517315605,
          -2.5
         ],
         "subplot": "polar3",
         "theta": [
          "b",
          "gdp_per_cap",
          "gdp_growth",
          "sustainable_economic_development_assessment(seda)",
          "overall_economic_freedom",
          "c"
         ],
         "type": "scatterpolar"
        },
        {
         "line": {
          "color": "ff636155",
          "shape": "spline"
         },
         "mode": "lines",
         "r": [
          -2.5,
          -0.6593795571187847,
          -0.597376067188964,
          -0.36940971746021356,
          -0.051823548170663813,
          -2.5
         ],
         "subplot": "polar3",
         "theta": [
          "c",
          "political_stability&absence_of_violence",
          "control_of_corruption",
          "tax_burden",
          "government_spending",
          "d"
         ],
         "type": "scatterpolar"
        },
        {
         "line": {
          "color": "bc509055",
          "shape": "spline"
         },
         "mode": "lines",
         "r": [
          -2.5,
          -1.5668318876082976,
          -0.7058415101798619,
          -1.5949076108907556,
          -0.007892386965895297,
          -2.5
         ],
         "subplot": "polar3",
         "theta": [
          "d",
          "property_rights",
          "government_integrity",
          "judicial_effectiveness",
          "financial_freedom",
          "e"
         ],
         "type": "scatterpolar"
        },
        {
         "line": {
          "color": "003f5c55",
          "shape": "spline"
         },
         "mode": "lines",
         "r": [
          -2.5,
          -0.4405569325931715,
          -0.727106365135915,
          -0.6242562233598545,
          -1.0903637922324023,
          -2.5
         ],
         "subplot": "polar3",
         "theta": [
          "e",
          "total_foreign_born",
          "per_foreign_born",
          "population_living_abroad_diaspora",
          "population_living_abroad",
          "f"
         ],
         "type": "scatterpolar"
        },
        {
         "line": {
          "color": "45B5AA55",
          "shape": "spline"
         },
         "mode": "lines",
         "r": [
          -2.5,
          -0.5465486238139652,
          0.7603726788747434,
          0.3087298388544037,
          -0.4710719136843483,
          -2.5
         ],
         "subplot": "polar3",
         "theta": [
          "a",
          "population_density",
          "human_development_index",
          "health_expenditure",
          "employment",
          "b"
         ],
         "type": "scatterpolar"
        },
        {
         "line": {
          "color": "ffa60055",
          "shape": "spline"
         },
         "mode": "lines",
         "r": [
          -2.5,
          1.9957207701886754,
          0.5034815624296525,
          0.39711643424627174,
          -0.601073735317032,
          -2.5
         ],
         "subplot": "polar3",
         "theta": [
          "b",
          "gdp_per_cap",
          "gdp_growth",
          "sustainable_economic_development_assessment(seda)",
          "overall_economic_freedom",
          "c"
         ],
         "type": "scatterpolar"
        },
        {
         "line": {
          "color": "ff636155",
          "shape": "spline"
         },
         "mode": "lines",
         "r": [
          -2.5,
          -1.4282327081710087,
          -0.5001182307746302,
          0.785072999038938,
          -1.607646267615691,
          -2.5
         ],
         "subplot": "polar3",
         "theta": [
          "c",
          "political_stability&absence_of_violence",
          "control_of_corruption",
          "tax_burden",
          "government_spending",
          "d"
         ],
         "type": "scatterpolar"
        },
        {
         "line": {
          "color": "bc509055",
          "shape": "spline"
         },
         "mode": "lines",
         "r": [
          -2.5,
          -0.8605122173744789,
          -0.5235757543267415,
          0.3342120295693564,
          -0.007892386965895297,
          -2.5
         ],
         "subplot": "polar3",
         "theta": [
          "d",
          "property_rights",
          "government_integrity",
          "judicial_effectiveness",
          "financial_freedom",
          "e"
         ],
         "type": "scatterpolar"
        },
        {
         "line": {
          "color": "003f5c55",
          "shape": "spline"
         },
         "mode": "lines",
         "r": [
          -2.5,
          3.0542340057951467,
          1.3082402468978682,
          -0.7343931126282625,
          -1.2456623830967886,
          -2.5
         ],
         "subplot": "polar3",
         "theta": [
          "e",
          "total_foreign_born",
          "per_foreign_born",
          "population_living_abroad_diaspora",
          "population_living_abroad",
          "f"
         ],
         "type": "scatterpolar"
        },
        {
         "line": {
          "color": "45B5AA55",
          "shape": "spline"
         },
         "mode": "lines",
         "r": [
          -2.5,
          0.23832536727508535,
          1.0269688515313298,
          2.0542403725602454,
          0.2731421384592765,
          -2.5
         ],
         "subplot": "polar3",
         "theta": [
          "a",
          "population_density",
          "human_development_index",
          "health_expenditure",
          "employment",
          "b"
         ],
         "type": "scatterpolar"
        },
        {
         "line": {
          "color": "ffa60055",
          "shape": "spline"
         },
         "mode": "lines",
         "r": [
          -2.5,
          4.023721978368256,
          -4.323059772228577,
          0.775872649484973,
          -1.6951435415099743,
          -2.5
         ],
         "subplot": "polar3",
         "theta": [
          "b",
          "gdp_per_cap",
          "gdp_growth",
          "sustainable_economic_development_assessment(seda)",
          "overall_economic_freedom",
          "c"
         ],
         "type": "scatterpolar"
        },
        {
         "line": {
          "color": "ff636155",
          "shape": "spline"
         },
         "mode": "lines",
         "r": [
          -2.5,
          -0.05296018173699205,
          -1.7547447900782258,
          -0.38544457343044264,
          0.09842736212652882,
          -2.5
         ],
         "subplot": "polar3",
         "theta": [
          "c",
          "political_stability&absence_of_violence",
          "control_of_corruption",
          "tax_burden",
          "government_spending",
          "d"
         ],
         "type": "scatterpolar"
        },
        {
         "line": {
          "color": "bc509055",
          "shape": "spline"
         },
         "mode": "lines",
         "r": [
          -2.5,
          -1.010025210612946,
          -0.8653239650722193,
          -1.405485000094159,
          -1.0339026925322876,
          -2.5
         ],
         "subplot": "polar3",
         "theta": [
          "d",
          "property_rights",
          "government_integrity",
          "judicial_effectiveness",
          "financial_freedom",
          "e"
         ],
         "type": "scatterpolar"
        },
        {
         "line": {
          "color": "003f5c55",
          "shape": "spline"
         },
         "mode": "lines",
         "r": [
          -2.5,
          2.7533277703097405,
          4.239139514452868,
          -0.7217688753008948,
          -1.2070674688551273,
          -2.5
         ],
         "subplot": "polar3",
         "theta": [
          "e",
          "total_foreign_born",
          "per_foreign_born",
          "population_living_abroad_diaspora",
          "population_living_abroad",
          "f"
         ],
         "type": "scatterpolar"
        },
        {
         "line": {
          "color": "45B5AA55",
          "shape": "spline"
         },
         "mode": "lines",
         "r": [
          -2.5,
          -0.27969143201634855,
          -0.7325646167734792,
          -0.8438930621571835,
          -3.2737517019569125,
          -2.5
         ],
         "subplot": "polar3",
         "theta": [
          "a",
          "population_density",
          "human_development_index",
          "health_expenditure",
          "employment",
          "b"
         ],
         "type": "scatterpolar"
        },
        {
         "line": {
          "color": "ffa60055",
          "shape": "spline"
         },
         "mode": "lines",
         "r": [
          -2.5,
          -0.5294495920068369,
          0.5623419081778012,
          null,
          -0.706642080041136,
          -2.5
         ],
         "subplot": "polar3",
         "theta": [
          "b",
          "gdp_per_cap",
          "gdp_growth",
          "sustainable_economic_development_assessment(seda)",
          "overall_economic_freedom",
          "c"
         ],
         "type": "scatterpolar"
        },
        {
         "line": {
          "color": "ff636155",
          "shape": "spline"
         },
         "mode": "lines",
         "r": [
          -2.5,
          null,
          null,
          -0.20104770560968832,
          -1.3216850873176063,
          -2.5
         ],
         "subplot": "polar3",
         "theta": [
          "c",
          "political_stability&absence_of_violence",
          "control_of_corruption",
          "tax_burden",
          "government_spending",
          "d"
         ],
         "type": "scatterpolar"
        },
        {
         "line": {
          "color": "bc509055",
          "shape": "spline"
         },
         "mode": "lines",
         "r": [
          -2.5,
          -0.772866676395764,
          -0.26156887966627296,
          -0.34870633416091124,
          -0.007892386965895297,
          -2.5
         ],
         "subplot": "polar3",
         "theta": [
          "d",
          "property_rights",
          "government_integrity",
          "judicial_effectiveness",
          "financial_freedom",
          "e"
         ],
         "type": "scatterpolar"
        },
        {
         "line": {
          "color": "003f5c55",
          "shape": "spline"
         },
         "mode": "lines",
         "r": [
          -2.5,
          -0.45353504159420094,
          -0.6999684122498556,
          -0.6880016535627885,
          -0.993876507997556,
          -2.5
         ],
         "subplot": "polar3",
         "theta": [
          "e",
          "total_foreign_born",
          "per_foreign_born",
          "population_living_abroad_diaspora",
          "population_living_abroad",
          "f"
         ],
         "type": "scatterpolar"
        },
        {
         "hoverlabel": {
          "namelength": 20
         },
         "line": {
          "color": [
           "003f5c55"
          ],
          "smoothing": 1.3
         },
         "marker": {
          "color": "rgba(180,120,150,0)"
         },
         "mode": "lines",
         "r": [
          0,
          0,
          0,
          0,
          0
         ],
         "subplot": "polar3",
         "theta": [
          "f",
          "g",
          "h",
          "i",
          "j"
         ],
         "type": "scatterpolar"
        },
        {
         "line": {
          "color": "45B5AA55",
          "shape": "spline"
         },
         "mode": "lines",
         "r": [
          -2.5,
          -0.214288085532242,
          0.48616003049768747,
          -0.35585941912017033,
          0.08313039988882764,
          -2.5
         ],
         "subplot": "polar4",
         "theta": [
          "a",
          "population_density",
          "human_development_index",
          "health_expenditure",
          "employment",
          "b"
         ],
         "type": "scatterpolar"
        },
        {
         "line": {
          "color": "ffa60055",
          "shape": "spline"
         },
         "mode": "lines",
         "r": [
          -2.5,
          -0.11935518015393246,
          -0.2911319123330611,
          0.005299866021627912,
          -0.8026131028264678,
          -2.5
         ],
         "subplot": "polar4",
         "theta": [
          "b",
          "gdp_per_cap",
          "gdp_growth",
          "sustainable_economic_development_assessment(seda)",
          "overall_economic_freedom",
          "c"
         ],
         "type": "scatterpolar"
        },
        {
         "line": {
          "color": "ff636155",
          "shape": "spline"
         },
         "mode": "lines",
         "r": [
          -2.5,
          -2.900965564552665,
          -1.453245329080186,
          1.394384069228972,
          0.7042771746662053,
          -2.5
         ],
         "subplot": "polar4",
         "theta": [
          "c",
          "political_stability&absence_of_violence",
          "control_of_corruption",
          "tax_burden",
          "government_spending",
          "d"
         ],
         "type": "scatterpolar"
        },
        {
         "line": {
          "color": "bc509055",
          "shape": "spline"
         },
         "mode": "lines",
         "r": [
          -2.5,
          -1.6235437024571364,
          -0.8653239650722193,
          -0.8770956195887272,
          -2.05991299809868,
          -2.5
         ],
         "subplot": "polar4",
         "theta": [
          "d",
          "property_rights",
          "government_integrity",
          "judicial_effectiveness",
          "financial_freedom",
          "e"
         ],
         "type": "scatterpolar"
        },
        {
         "line": {
          "color": "003f5c55",
          "shape": "spline"
         },
         "mode": "lines",
         "r": [
          -2.5,
          -0.3640652662794119,
          -0.5574941575761089,
          2.463989932994942,
          1.2970074516810357,
          -2.5
         ],
         "subplot": "polar4",
         "theta": [
          "e",
          "total_foreign_born",
          "per_foreign_born",
          "population_living_abroad_diaspora",
          "population_living_abroad",
          "f"
         ],
         "type": "scatterpolar"
        },
        {
         "line": {
          "color": "45B5AA55",
          "shape": "spline"
         },
         "mode": "lines",
         "r": [
          -2.5,
          -0.3487370696017378,
          0.3566704090347471,
          -0.10297626759388229,
          -1.231121284096487,
          -2.5
         ],
         "subplot": "polar4",
         "theta": [
          "a",
          "population_density",
          "human_development_index",
          "health_expenditure",
          "employment",
          "b"
         ],
         "type": "scatterpolar"
        },
        {
         "line": {
          "color": "ffa60055",
          "shape": "spline"
         },
         "mode": "lines",
         "r": [
          -2.5,
          -0.007000549705183956,
          0.1503200492759574,
          -0.12095203965109567,
          0.8672824739780671,
          -2.5
         ],
         "subplot": "polar4",
         "theta": [
          "b",
          "gdp_per_cap",
          "gdp_growth",
          "sustainable_economic_development_assessment(seda)",
          "overall_economic_freedom",
          "c"
         ],
         "type": "scatterpolar"
        },
        {
         "line": {
          "color": "ff636155",
          "shape": "spline"
         },
         "mode": "lines",
         "r": [
          -2.5,
          -0.6593795571187847,
          -0.5195697864634552,
          0.8251592214636922,
          -0.807924271007533,
          -2.5
         ],
         "subplot": "polar4",
         "theta": [
          "c",
          "political_stability&absence_of_violence",
          "control_of_corruption",
          "tax_burden",
          "government_spending",
          "d"
         ],
         "type": "scatterpolar"
        },
        {
         "line": {
          "color": "bc509055",
          "shape": "spline"
         },
         "mode": "lines",
         "r": [
          -2.5,
          0.3046573140541498,
          -0.050824106251029504,
          0.07998703548064394,
          1.018117918600497,
          -2.5
         ],
         "subplot": "polar4",
         "theta": [
          "d",
          "property_rights",
          "government_integrity",
          "judicial_effectiveness",
          "financial_freedom",
          "e"
         ],
         "type": "scatterpolar"
        },
        {
         "line": {
          "color": "003f5c55",
          "shape": "spline"
         },
         "mode": "lines",
         "r": [
          -2.5,
          -0.4076947388170606,
          -0.727106365135915,
          3.9966153157223916,
          1.5074415423800211,
          -2.5
         ],
         "subplot": "polar4",
         "theta": [
          "e",
          "total_foreign_born",
          "per_foreign_born",
          "population_living_abroad_diaspora",
          "population_living_abroad",
          "f"
         ],
         "type": "scatterpolar"
        },
        {
         "line": {
          "color": "45B5AA55",
          "shape": "spline"
         },
         "mode": "lines",
         "r": [
          -2.5,
          -0.329407642398494,
          0.8365428842022721,
          0.3241495432157627,
          1.3498785451989441,
          -2.5
         ],
         "subplot": "polar4",
         "theta": [
          "a",
          "population_density",
          "human_development_index",
          "health_expenditure",
          "employment",
          "b"
         ],
         "type": "scatterpolar"
        },
        {
         "line": {
          "color": "ffa60055",
          "shape": "spline"
         },
         "mode": "lines",
         "r": [
          -2.5,
          0.7359444119922478,
          -1.8803590021922876,
          0.5016009188689142,
          -0.150010221106291,
          -2.5
         ],
         "subplot": "polar4",
         "theta": [
          "b",
          "gdp_per_cap",
          "gdp_growth",
          "sustainable_economic_development_assessment(seda)",
          "overall_economic_freedom",
          "c"
         ],
         "type": "scatterpolar"
        },
        {
         "line": {
          "color": "ff636155",
          "shape": "spline"
         },
         "mode": "lines",
         "r": [
          -2.5,
          0.1419603470504823,
          -0.22779616128003663,
          1.234039179529955,
          -1.2441362691574374,
          -2.5
         ],
         "subplot": "polar4",
         "theta": [
          "c",
          "political_stability&absence_of_violence",
          "control_of_corruption",
          "tax_burden",
          "government_spending",
          "d"
         ],
         "type": "scatterpolar"
        },
        {
         "line": {
          "color": "bc509055",
          "shape": "spline"
         },
         "mode": "lines",
         "r": [
          -2.5,
          0.21185623400012604,
          0.03461294643533994,
          0.5734826457978914,
          -2.05991299809868,
          -2.5
         ],
         "subplot": "polar4",
         "theta": [
          "d",
          "property_rights",
          "government_integrity",
          "judicial_effectiveness",
          "financial_freedom",
          "e"
         ],
         "type": "scatterpolar"
        },
        {
         "line": {
          "color": "003f5c55",
          "shape": "spline"
         },
         "mode": "lines",
         "r": [
          -2.5,
          0.6290239949403856,
          0.42625672553062505,
          1.7155857733320459,
          0.28710718519287254,
          -2.5
         ],
         "subplot": "polar4",
         "theta": [
          "e",
          "total_foreign_born",
          "per_foreign_born",
          "population_living_abroad_diaspora",
          "population_living_abroad",
          "f"
         ],
         "type": "scatterpolar"
        },
        {
         "line": {
          "color": "45B5AA55",
          "shape": "spline"
         },
         "mode": "lines",
         "r": [
          -2.5,
          -0.48721265811840475,
          1.1412241595226227,
          0.5022471285894595,
          0.8431797703009661,
          -2.5
         ],
         "subplot": "polar4",
         "theta": [
          "a",
          "population_density",
          "human_development_index",
          "health_expenditure",
          "employment",
          "b"
         ],
         "type": "scatterpolar"
        },
        {
         "line": {
          "color": "ffa60055",
          "shape": "spline"
         },
         "mode": "lines",
         "r": [
          -2.5,
          -0.058964577002702676,
          0.6800624593402993,
          0.775872649484973,
          -1.4936045401009366,
          -2.5
         ],
         "subplot": "polar4",
         "theta": [
          "b",
          "gdp_per_cap",
          "gdp_growth",
          "sustainable_economic_development_assessment(seda)",
          "overall_economic_freedom",
          "c"
         ],
         "type": "scatterpolar"
        },
        {
         "line": {
          "color": "ff636155",
          "shape": "spline"
         },
         "mode": "lines",
         "r": [
          -2.5,
          -0.21539395740742331,
          -0.6168276808479977,
          0.9053316663132006,
          -0.269929547245616,
          -2.5
         ],
         "subplot": "polar4",
         "theta": [
          "c",
          "political_stability&absence_of_violence",
          "control_of_corruption",
          "tax_burden",
          "government_spending",
          "d"
         ],
         "type": "scatterpolar"
        },
        {
         "line": {
          "color": "bc509055",
          "shape": "spline"
         },
         "mode": "lines",
         "r": [
          -2.5,
          -1.5668318876082976,
          -1.041893895685149,
          -1.714542966543831,
          -0.5208975397490914,
          -2.5
         ],
         "subplot": "polar4",
         "theta": [
          "d",
          "property_rights",
          "government_integrity",
          "judicial_effectiveness",
          "financial_freedom",
          "e"
         ],
         "type": "scatterpolar"
        },
        {
         "line": {
          "color": "003f5c55",
          "shape": "spline"
         },
         "mode": "lines",
         "r": [
          -2.5,
          -0.08726779030873832,
          0.3448428102582622,
          -0.22132587392499356,
          -0.06576071483388787,
          -2.5
         ],
         "subplot": "polar4",
         "theta": [
          "e",
          "total_foreign_born",
          "per_foreign_born",
          "population_living_abroad_diaspora",
          "population_living_abroad",
          "f"
         ],
         "type": "scatterpolar"
        },
        {
         "line": {
          "color": "45B5AA55",
          "shape": "spline"
         },
         "mode": "lines",
         "r": [
          -2.5,
          -0.5893348149307078,
          1.6287140184310893,
          2.220773179662923,
          -0.23355663643870148,
          -2.5
         ],
         "subplot": "polar4",
         "theta": [
          "a",
          "population_density",
          "human_development_index",
          "health_expenditure",
          "employment",
          "b"
         ],
         "type": "scatterpolar"
        },
        {
         "line": {
          "color": "ffa60055",
          "shape": "spline"
         },
         "mode": "lines",
         "r": [
          -2.5,
          -0.367939810736761,
          -0.20284153404463734,
          1.3374761315560129,
          0.03233486862599877,
          -2.5
         ],
         "subplot": "polar4",
         "theta": [
          "b",
          "gdp_per_cap",
          "gdp_growth",
          "sustainable_economic_development_assessment(seda)",
          "overall_economic_freedom",
          "c"
         ],
         "type": "scatterpolar"
        },
        {
         "line": {
          "color": "ff636155",
          "shape": "spline"
         },
         "mode": "lines",
         "r": [
          -2.5,
          1.084076183410646,
          0.8420403870988867,
          -0.032685693759163074,
          -0.6770606345844123,
          -2.5
         ],
         "subplot": "polar4",
         "theta": [
          "c",
          "political_stability&absence_of_violence",
          "control_of_corruption",
          "tax_burden",
          "government_spending",
          "d"
         ],
         "type": "scatterpolar"
        },
        {
         "line": {
          "color": "bc509055",
          "shape": "spline"
         },
         "mode": "lines",
         "r": [
          -2.5,
          -0.3758842674607063,
          0.0801793310792048,
          0.3092880030839834,
          0.5051127658173008,
          -2.5
         ],
         "subplot": "polar4",
         "theta": [
          "d",
          "property_rights",
          "government_integrity",
          "judicial_effectiveness",
          "financial_freedom",
          "e"
         ],
         "type": "scatterpolar"
        },
        {
         "line": {
          "color": "003f5c55",
          "shape": "spline"
         },
         "mode": "lines",
         "r": [
          -2.5,
          -0.40249469779528063,
          -0.04187302847775933,
          -0.6845610553031448,
          -0.30927621771682956,
          -2.5
         ],
         "subplot": "polar4",
         "theta": [
          "e",
          "total_foreign_born",
          "per_foreign_born",
          "population_living_abroad_diaspora",
          "population_living_abroad",
          "f"
         ],
         "type": "scatterpolar"
        },
        {
         "line": {
          "color": "45B5AA55",
          "shape": "spline"
         },
         "mode": "lines",
         "r": [
          -2.5,
          -0.34364584837778445,
          1.6515652616334424,
          3.1606041604877557,
          1.3815467656056284,
          -2.5
         ],
         "subplot": "polar4",
         "theta": [
          "a",
          "population_density",
          "human_development_index",
          "health_expenditure",
          "employment",
          "b"
         ],
         "type": "scatterpolar"
        },
        {
         "line": {
          "color": "ffa60055",
          "shape": "spline"
         },
         "mode": "lines",
         "r": [
          -2.5,
          3.963331107342713,
          1.2980951775261653,
          1.1894568048332081,
          -0.09242738777485297,
          -2.5
         ],
         "subplot": "polar4",
         "theta": [
          "b",
          "gdp_per_cap",
          "gdp_growth",
          "sustainable_economic_development_assessment(seda)",
          "overall_economic_freedom",
          "c"
         ],
         "type": "scatterpolar"
        },
        {
         "line": {
          "color": "ff636155",
          "shape": "spline"
         },
         "mode": "lines",
         "r": [
          -2.5,
          0.29356520098114625,
          -1.2295522067778637,
          1.234039179529955,
          0.554026449259759,
          -2.5
         ],
         "subplot": "polar4",
         "theta": [
          "c",
          "political_stability&absence_of_violence",
          "control_of_corruption",
          "tax_burden",
          "government_spending",
          "d"
         ],
         "type": "scatterpolar"
        },
        {
         "line": {
          "color": "bc509055",
          "shape": "spline"
         },
         "mode": "lines",
         "r": [
          -2.5,
          -0.6903768711635672,
          -1.349467263628313,
          -1.061533453611534,
          -0.007892386965895297,
          -2.5
         ],
         "subplot": "polar4",
         "theta": [
          "d",
          "property_rights",
          "government_integrity",
          "judicial_effectiveness",
          "financial_freedom",
          "e"
         ],
         "type": "scatterpolar"
        },
        {
         "line": {
          "color": "003f5c55",
          "shape": "spline"
         },
         "mode": "lines",
         "r": [
          -2.5,
          0.9529546121327466,
          0.3109203671287528,
          1.76458163462444,
          0.18418733354908182,
          -2.5
         ],
         "subplot": "polar4",
         "theta": [
          "e",
          "total_foreign_born",
          "per_foreign_born",
          "population_living_abroad_diaspora",
          "population_living_abroad",
          "f"
         ],
         "type": "scatterpolar"
        },
        {
         "line": {
          "color": "45B5AA55",
          "shape": "spline"
         },
         "mode": "lines",
         "r": [
          -2.5,
          0.01962637002368884,
          null,
          null,
          0.33647978733781664,
          -2.5
         ],
         "subplot": "polar4",
         "theta": [
          "a",
          "population_density",
          "human_development_index",
          "health_expenditure",
          "employment",
          "b"
         ],
         "type": "scatterpolar"
        },
        {
         "line": {
          "color": "ffa60055",
          "shape": "spline"
         },
         "mode": "lines",
         "r": [
          -2.5,
          -0.34125559136266953,
          0.5329118054706264,
          null,
          -1.0041521042355055,
          -2.5
         ],
         "subplot": "polar4",
         "theta": [
          "b",
          "gdp_per_cap",
          "gdp_growth",
          "sustainable_economic_development_assessment(seda)",
          "overall_economic_freedom",
          "c"
         ],
         "type": "scatterpolar"
        },
        {
         "line": {
          "color": "ff636155",
          "shape": "spline"
         },
         "mode": "lines",
         "r": [
          -2.5,
          -1.9913365498890114,
          -1.1128427567044963,
          -0.7863067976779848,
          0.9563109954661568,
          -2.5
         ],
         "subplot": "polar4",
         "theta": [
          "c",
          "political_stability&absence_of_violence",
          "control_of_corruption",
          "tax_burden",
          "government_spending",
          "d"
         ],
         "type": "scatterpolar"
        },
        {
         "line": {
          "color": "bc509055",
          "shape": "spline"
         },
         "mode": "lines",
         "r": [
          -2.5,
          -1.6235437024571364,
          -0.9564568429987795,
          -0.8770956195887272,
          -1.0339026925322876,
          -2.5
         ],
         "subplot": "polar4",
         "theta": [
          "d",
          "property_rights",
          "government_integrity",
          "judicial_effectiveness",
          "financial_freedom",
          "e"
         ],
         "type": "scatterpolar"
        },
        {
         "line": {
          "color": "003f5c55",
          "shape": "spline"
         },
         "mode": "lines",
         "r": [
          -2.5,
          null,
          null,
          null,
          null,
          -2.5
         ],
         "subplot": "polar4",
         "theta": [
          "e",
          "total_foreign_born",
          "per_foreign_born",
          "population_living_abroad_diaspora",
          "population_living_abroad",
          "f"
         ],
         "type": "scatterpolar"
        },
        {
         "line": {
          "color": "45B5AA55",
          "shape": "spline"
         },
         "mode": "lines",
         "r": [
          -2.5,
          -0.48655157317483316,
          0.9584155759345068,
          0.1491358987143378,
          0.3839833260130146,
          -2.5
         ],
         "subplot": "polar4",
         "theta": [
          "a",
          "population_density",
          "human_development_index",
          "health_expenditure",
          "employment",
          "b"
         ],
         "type": "scatterpolar"
        },
        {
         "line": {
          "color": "ffa60055",
          "shape": "spline"
         },
         "mode": "lines",
         "r": [
          -2.5,
          0.11097178012108434,
          -0.11455115575621355,
          0.5712571312350023,
          1.491094122082724,
          -2.5
         ],
         "subplot": "polar4",
         "theta": [
          "b",
          "gdp_per_cap",
          "gdp_growth",
          "sustainable_economic_development_assessment(seda)",
          "overall_economic_freedom",
          "c"
         ],
         "type": "scatterpolar"
        },
        {
         "line": {
          "color": "ff636155",
          "shape": "spline"
         },
         "mode": "lines",
         "r": [
          -2.5,
          0.5209724707834048,
          1.036556117897763,
          0.28800408563887064,
          0.04026572539505897,
          -2.5
         ],
         "subplot": "polar4",
         "theta": [
          "c",
          "political_stability&absence_of_violence",
          "control_of_corruption",
          "tax_burden",
          "government_spending",
          "d"
         ],
         "type": "scatterpolar"
        },
        {
         "line": {
          "color": "bc509055",
          "shape": "spline"
         },
         "mode": "lines",
         "r": [
          -2.5,
          0.9542652677747343,
          1.128207264276401,
          0.8775558830125814,
          1.018117918600497,
          -2.5
         ],
         "subplot": "polar4",
         "theta": [
          "d",
          "property_rights",
          "government_integrity",
          "judicial_effectiveness",
          "financial_freedom",
          "e"
         ],
         "type": "scatterpolar"
        },
        {
         "line": {
          "color": "003f5c55",
          "shape": "spline"
         },
         "mode": "lines",
         "r": [
          -2.5,
          0.02896909576031065,
          0.16844614480596887,
          0.1841014497742501,
          0.07391616408578117,
          -2.5
         ],
         "subplot": "polar4",
         "theta": [
          "e",
          "total_foreign_born",
          "per_foreign_born",
          "population_living_abroad_diaspora",
          "population_living_abroad",
          "f"
         ],
         "type": "scatterpolar"
        },
        {
         "line": {
          "color": "45B5AA55",
          "shape": "spline"
         },
         "mode": "lines",
         "r": [
          -2.5,
          -0.43508635354515646,
          1.042202710992741,
          0.49299530597264407,
          0.8590138805043083,
          -2.5
         ],
         "subplot": "polar4",
         "theta": [
          "a",
          "population_density",
          "human_development_index",
          "health_expenditure",
          "employment",
          "b"
         ],
         "type": "scatterpolar"
        },
        {
         "line": {
          "color": "ffa60055",
          "shape": "spline"
         },
         "mode": "lines",
         "r": [
          -2.5,
          0.6095454527374058,
          1.5335361395173623,
          0.627852990615148,
          -0.725836357818282,
          -2.5
         ],
         "subplot": "polar4",
         "theta": [
          "b",
          "gdp_per_cap",
          "gdp_growth",
          "sustainable_economic_development_assessment(seda)",
          "overall_economic_freedom",
          "c"
         ],
         "type": "scatterpolar"
        },
        {
         "line": {
          "color": "ff636155",
          "shape": "spline"
         },
         "mode": "lines",
         "r": [
          -2.5,
          -2.381177482407285,
          -1.3559874346956438,
          -0.09682389430565475,
          0.27775899834408324,
          -2.5
         ],
         "subplot": "polar4",
         "theta": [
          "c",
          "political_stability&absence_of_violence",
          "control_of_corruption",
          "tax_burden",
          "government_spending",
          "d"
         ],
         "type": "scatterpolar"
        },
        {
         "line": {
          "color": "bc509055",
          "shape": "spline"
         },
         "mode": "lines",
         "r": [
          -2.5,
          -1.3038953630077577,
          -0.8026702133466127,
          -1.0914423044095047,
          -1.5469078453154836,
          -2.5
         ],
         "subplot": "polar4",
         "theta": [
          "d",
          "property_rights",
          "government_integrity",
          "judicial_effectiveness",
          "financial_freedom",
          "e"
         ],
         "type": "scatterpolar"
        },
        {
         "line": {
          "color": "003f5c55",
          "shape": "spline"
         },
         "mode": "lines",
         "r": [
          -2.5,
          -0.21408835678033622,
          -0.4353733493694901,
          0.7834972184808822,
          0.1906197914134441,
          -2.5
         ],
         "subplot": "polar4",
         "theta": [
          "e",
          "total_foreign_born",
          "per_foreign_born",
          "population_living_abroad_diaspora",
          "population_living_abroad",
          "f"
         ],
         "type": "scatterpolar"
        },
        {
         "line": {
          "color": "45B5AA55",
          "shape": "spline"
         },
         "mode": "lines",
         "r": [
          -2.5,
          0.25357348149791575,
          1.3925860187075616,
          3.9678256838049006,
          -0.34439661592726806,
          -2.5
         ],
         "subplot": "polar4",
         "theta": [
          "a",
          "population_density",
          "human_development_index",
          "health_expenditure",
          "employment",
          "b"
         ],
         "type": "scatterpolar"
        },
        {
         "line": {
          "color": "ffa60055",
          "shape": "spline"
         },
         "mode": "lines",
         "r": [
          -2.5,
          0.24158408087764463,
          0.0031693954062845626,
          1.3157085444324217,
          -1.9926535657043436,
          -2.5
         ],
         "subplot": "polar4",
         "theta": [
          "b",
          "gdp_per_cap",
          "gdp_growth",
          "sustainable_economic_development_assessment(seda)",
          "overall_economic_freedom",
          "c"
         ],
         "type": "scatterpolar"
        },
        {
         "line": {
          "color": "ff636155",
          "shape": "spline"
         },
         "mode": "lines",
         "r": [
          -2.5,
          -0.4644590263142673,
          -1.268455434095931,
          -1.0909620269393956,
          -0.4686482724464962,
          -2.5
         ],
         "subplot": "polar4",
         "theta": [
          "c",
          "political_stability&absence_of_violence",
          "control_of_corruption",
          "tax_burden",
          "government_spending",
          "d"
         ],
         "type": "scatterpolar"
        },
        {
         "line": {
          "color": "bc509055",
          "shape": "spline"
         },
         "mode": "lines",
         "r": [
          -2.5,
          -0.8759790312716147,
          -0.9564568429987795,
          -0.8770956195887272,
          -1.0339026925322876,
          -2.5
         ],
         "subplot": "polar4",
         "theta": [
          "d",
          "property_rights",
          "government_integrity",
          "judicial_effectiveness",
          "financial_freedom",
          "e"
         ],
         "type": "scatterpolar"
        },
        {
         "line": {
          "color": "003f5c55",
          "shape": "spline"
         },
         "mode": "lines",
         "r": [
          -2.5,
          0.002574919172746978,
          2.169870224745095,
          -0.6190532258229081,
          -0.3772767619950373,
          -2.5
         ],
         "subplot": "polar4",
         "theta": [
          "e",
          "total_foreign_born",
          "per_foreign_born",
          "population_living_abroad_diaspora",
          "population_living_abroad",
          "f"
         ],
         "type": "scatterpolar"
        },
        {
         "line": {
          "color": "45B5AA55",
          "shape": "spline"
         },
         "mode": "lines",
         "r": [
          -2.5,
          -0.29660826930416373,
          null,
          -0.29186764602053034,
          0.003958640806945368,
          -2.5
         ],
         "subplot": "polar4",
         "theta": [
          "a",
          "population_density",
          "human_development_index",
          "health_expenditure",
          "employment",
          "b"
         ],
         "type": "scatterpolar"
        },
        {
         "line": {
          "color": "ffa60055",
          "shape": "spline"
         },
         "mode": "lines",
         "r": [
          -2.5,
          -0.17412808392764242,
          0.3563309787268793,
          -0.020821172097277615,
          0.5697724497836978,
          -2.5
         ],
         "subplot": "polar4",
         "theta": [
          "b",
          "gdp_per_cap",
          "gdp_growth",
          "sustainable_economic_development_assessment(seda)",
          "overall_economic_freedom",
          "c"
         ],
         "type": "scatterpolar"
        },
        {
         "line": {
          "color": "ff636155",
          "shape": "spline"
         },
         "mode": "lines",
         "r": [
          -2.5,
          0.6617483989402151,
          0.4821862880194762,
          0.39222850861011654,
          0.5879542709847583,
          -2.5
         ],
         "subplot": "polar4",
         "theta": [
          "c",
          "political_stability&absence_of_violence",
          "control_of_corruption",
          "tax_burden",
          "government_spending",
          "d"
         ],
         "type": "scatterpolar"
        },
        {
         "line": {
          "color": "bc509055",
          "shape": "spline"
         },
         "mode": "lines",
         "r": [
          -2.5,
          0.27887922533518716,
          0.5928016471974215,
          0.5984066722832644,
          -0.007892386965895297,
          -2.5
         ],
         "subplot": "polar4",
         "theta": [
          "d",
          "property_rights",
          "government_integrity",
          "judicial_effectiveness",
          "financial_freedom",
          "e"
         ],
         "type": "scatterpolar"
        },
        {
         "line": {
          "color": "003f5c55",
          "shape": "spline"
         },
         "mode": "lines",
         "r": [
          -2.5,
          -0.2242359910802864,
          -0.32003705566954344,
          0.7019216499551871,
          0.5572714671240767,
          -2.5
         ],
         "subplot": "polar4",
         "theta": [
          "e",
          "total_foreign_born",
          "per_foreign_born",
          "population_living_abroad_diaspora",
          "population_living_abroad",
          "f"
         ],
         "type": "scatterpolar"
        },
        {
         "line": {
          "color": "45B5AA55",
          "shape": "spline"
         },
         "mode": "lines",
         "r": [
          -2.5,
          4.772591783009581,
          1.1945435756580345,
          1.7234877140090943,
          -0.7085871909299951,
          -2.5
         ],
         "subplot": "polar4",
         "theta": [
          "a",
          "population_density",
          "human_development_index",
          "health_expenditure",
          "employment",
          "b"
         ],
         "type": "scatterpolar"
        },
        {
         "line": {
          "color": "ffa60055",
          "shape": "spline"
         },
         "mode": "lines",
         "r": [
          -2.5,
          -0.3567043584068587,
          -0.2617017745424366,
          0.6888023009906077,
          0.1283058914113306,
          -2.5
         ],
         "subplot": "polar4",
         "theta": [
          "b",
          "gdp_per_cap",
          "gdp_growth",
          "sustainable_economic_development_assessment(seda)",
          "overall_economic_freedom",
          "c"
         ],
         "type": "scatterpolar"
        },
        {
         "line": {
          "color": "ff636155",
          "shape": "spline"
         },
         "mode": "lines",
         "r": [
          -2.5,
          0.9216424400129051,
          0.20986424750998695,
          -0.6740652525552305,
          -0.3474782729604116,
          -2.5
         ],
         "subplot": "polar4",
         "theta": [
          "c",
          "political_stability&absence_of_violence",
          "control_of_corruption",
          "tax_burden",
          "government_spending",
          "d"
         ],
         "type": "scatterpolar"
        },
        {
         "line": {
          "color": "bc509055",
          "shape": "spline"
         },
         "mode": "lines",
         "r": [
          -2.5,
          0.8511529128988837,
          -0.050824106251029504,
          0.5336042414523408,
          0.5051127658173008,
          -2.5
         ],
         "subplot": "polar4",
         "theta": [
          "d",
          "property_rights",
          "government_integrity",
          "judicial_effectiveness",
          "financial_freedom",
          "e"
         ],
         "type": "scatterpolar"
        },
        {
         "line": {
          "color": "003f5c55",
          "shape": "spline"
         },
         "mode": "lines",
         "r": [
          -2.5,
          -0.39499776480323295,
          -0.22505420843672472,
          -0.49613821592944385,
          0.4598653010251663,
          -2.5
         ],
         "subplot": "polar4",
         "theta": [
          "e",
          "total_foreign_born",
          "per_foreign_born",
          "population_living_abroad_diaspora",
          "population_living_abroad",
          "f"
         ],
         "type": "scatterpolar"
        },
        {
         "line": {
          "color": "45B5AA55",
          "shape": "spline"
         },
         "mode": "lines",
         "r": [
          -2.5,
          -0.14485810640068933,
          -0.1612876228067782,
          -0.5555445905997697,
          0.4631550850948969,
          -2.5
         ],
         "subplot": "polar4",
         "theta": [
          "a",
          "population_density",
          "human_development_index",
          "health_expenditure",
          "employment",
          "b"
         ],
         "type": "scatterpolar"
        },
        {
         "line": {
          "color": "ffa60055",
          "shape": "spline"
         },
         "mode": "lines",
         "r": [
          -2.5,
          -0.33423342695962277,
          -0.37942229062148486,
          -0.18625480102186964,
          1.625453700422348,
          -2.5
         ],
         "subplot": "polar4",
         "theta": [
          "b",
          "gdp_per_cap",
          "gdp_growth",
          "sustainable_economic_development_assessment(seda)",
          "overall_economic_freedom",
          "c"
         ],
         "type": "scatterpolar"
        },
        {
         "line": {
          "color": "ff636155",
          "shape": "spline"
         },
         "mode": "lines",
         "r": [
          -2.5,
          1.0515894605492502,
          2.1550217294093748,
          -2.6463072735196955,
          -0.07121063715398958,
          -2.5
         ],
         "subplot": "polar4",
         "theta": [
          "c",
          "political_stability&absence_of_violence",
          "control_of_corruption",
          "tax_burden",
          "government_spending",
          "d"
         ],
         "type": "scatterpolar"
        },
        {
         "line": {
          "color": "bc509055",
          "shape": "spline"
         },
         "mode": "lines",
         "r": [
          -2.5,
          1.825564745144156,
          2.4325461382550446,
          1.884486400897467,
          1.531123071383693,
          -2.5
         ],
         "subplot": "polar4",
         "theta": [
          "d",
          "property_rights",
          "government_integrity",
          "judicial_effectiveness",
          "financial_freedom",
          "e"
         ],
         "type": "scatterpolar"
        },
        {
         "line": {
          "color": "003f5c55",
          "shape": "spline"
         },
         "mode": "lines",
         "r": [
          -2.5,
          -0.20095342418100373,
          -0.007950585348249979,
          1.7837096188729906,
          0.3762429982457939,
          -2.5
         ],
         "subplot": "polar4",
         "theta": [
          "e",
          "total_foreign_born",
          "per_foreign_born",
          "population_living_abroad_diaspora",
          "population_living_abroad",
          "f"
         ],
         "type": "scatterpolar"
        },
        {
         "line": {
          "color": "45B5AA55",
          "shape": "spline"
         },
         "mode": "lines",
         "r": [
          -2.5,
          -0.43085353458801967,
          0.7070537167495677,
          -0.21476912421373523,
          null,
          -2.5
         ],
         "subplot": "polar4",
         "theta": [
          "a",
          "population_density",
          "human_development_index",
          "health_expenditure",
          "employment",
          "b"
         ],
         "type": "scatterpolar"
        },
        {
         "line": {
          "color": "ffa60055",
          "shape": "spline"
         },
         "mode": "lines",
         "r": [
          -2.5,
          -0.453610221811418,
          -1.9980795533547857,
          null,
          0.464204471159992,
          -2.5
         ],
         "subplot": "polar4",
         "theta": [
          "b",
          "gdp_per_cap",
          "gdp_growth",
          "sustainable_economic_development_assessment(seda)",
          "overall_economic_freedom",
          "c"
         ],
         "type": "scatterpolar"
        },
        {
         "line": {
          "color": "ff636155",
          "shape": "spline"
         },
         "mode": "lines",
         "r": [
          -2.5,
          1.2356810191879215,
          0.6572504341444231,
          -0.12087526076017989,
          -1.0890386328371,
          -2.5
         ],
         "subplot": "polar4",
         "theta": [
          "c",
          "political_stability&absence_of_violence",
          "control_of_corruption",
          "tax_burden",
          "government_spending",
          "d"
         ],
         "type": "scatterpolar"
        },
        {
         "line": {
          "color": "bc509055",
          "shape": "spline"
         },
         "mode": "lines",
         "r": [
          -2.5,
          -0.04076911411419169,
          0.48458151082795003,
          1.166674362056631,
          -1.0339026925322876,
          -2.5
         ],
         "subplot": "polar4",
         "theta": [
          "d",
          "property_rights",
          "government_integrity",
          "judicial_effectiveness",
          "financial_freedom",
          "e"
         ],
         "type": "scatterpolar"
        },
        {
         "line": {
          "color": "003f5c55",
          "shape": "spline"
         },
         "mode": "lines",
         "r": [
          -2.5,
          -0.31639662984400685,
          -0.2114852441253061,
          -0.39462169479005027,
          0.3937026519285854,
          -2.5
         ],
         "subplot": "polar4",
         "theta": [
          "e",
          "total_foreign_born",
          "per_foreign_born",
          "population_living_abroad_diaspora",
          "population_living_abroad",
          "f"
         ],
         "type": "scatterpolar"
        },
        {
         "line": {
          "color": "45B5AA55",
          "shape": "spline"
         },
         "mode": "lines",
         "r": [
          -2.5,
          -0.22261071985266456,
          1.3316501268516805,
          1.1552716082930143,
          0.003958640806945368,
          -2.5
         ],
         "subplot": "polar4",
         "theta": [
          "a",
          "population_density",
          "human_development_index",
          "health_expenditure",
          "employment",
          "b"
         ],
         "type": "scatterpolar"
        },
        {
         "line": {
          "color": "ffa60055",
          "shape": "spline"
         },
         "mode": "lines",
         "r": [
          -2.5,
          0.33006328806619883,
          -0.6148633490921689,
          0.8542357638416896,
          1.3855261434590183,
          -2.5
         ],
         "subplot": "polar4",
         "theta": [
          "b",
          "gdp_per_cap",
          "gdp_growth",
          "sustainable_economic_development_assessment(seda)",
          "overall_economic_freedom",
          "c"
         ],
         "type": "scatterpolar"
        },
        {
         "line": {
          "color": "ff636155",
          "shape": "spline"
         },
         "mode": "lines",
         "r": [
          -2.5,
          1.268167871140079,
          2.1841990629426125,
          -0.6339790301304763,
          -1.307144631912052,
          -2.5
         ],
         "subplot": "polar4",
         "theta": [
          "c",
          "political_stability&absence_of_violence",
          "control_of_corruption",
          "tax_burden",
          "government_spending",
          "d"
         ],
         "type": "scatterpolar"
        },
        {
         "line": {
          "color": "bc509055",
          "shape": "spline"
         },
         "mode": "lines",
         "r": [
          -2.5,
          2.042100533046475,
          2.7572071991964413,
          1.8396230771617033,
          1.531123071383693,
          -2.5
         ],
         "subplot": "polar4",
         "theta": [
          "d",
          "property_rights",
          "government_integrity",
          "judicial_effectiveness",
          "financial_freedom",
          "e"
         ],
         "type": "scatterpolar"
        },
        {
         "line": {
          "color": "003f5c55",
          "shape": "spline"
         },
         "mode": "lines",
         "r": [
          -2.5,
          -0.0229739399703052,
          -0.0011660708415778987,
          -0.38842571446424473,
          -0.6860360978372452,
          -2.5
         ],
         "subplot": "polar4",
         "theta": [
          "e",
          "total_foreign_born",
          "per_foreign_born",
          "population_living_abroad_diaspora",
          "population_living_abroad",
          "f"
         ],
         "type": "scatterpolar"
        },
        {
         "hoverlabel": {
          "namelength": 20
         },
         "line": {
          "color": [
           "003f5c55"
          ],
          "smoothing": 1.3
         },
         "marker": {
          "color": "rgba(180,120,150,0)"
         },
         "mode": "lines",
         "r": [
          0,
          0,
          0,
          0,
          0
         ],
         "subplot": "polar4",
         "theta": [
          "f",
          "g",
          "h",
          "i",
          "j"
         ],
         "type": "scatterpolar"
        },
        {
         "line": {
          "color": "45B5AA55",
          "shape": "spline"
         },
         "mode": "lines",
         "r": [
          -2.5,
          -0.41872290435119547,
          0.15101058224427813,
          -0.6974058707242727,
          -1.4844706715454759,
          -2.5
         ],
         "subplot": "polar5",
         "theta": [
          "a",
          "population_density",
          "human_development_index",
          "health_expenditure",
          "employment",
          "b"
         ],
         "type": "scatterpolar"
        },
        {
         "line": {
          "color": "ffa60055",
          "shape": "spline"
         },
         "mode": "lines",
         "r": [
          -2.5,
          -0.4831033042679851,
          -0.8208742697722283,
          -0.1731942819624169,
          0.9824481406409432,
          -2.5
         ],
         "subplot": "polar5",
         "theta": [
          "b",
          "gdp_per_cap",
          "gdp_growth",
          "sustainable_economic_development_assessment(seda)",
          "overall_economic_freedom",
          "c"
         ],
         "type": "scatterpolar"
        },
        {
         "line": {
          "color": "ff636155",
          "shape": "spline"
         },
         "mode": "lines",
         "r": [
          -2.5,
          1.2248521115674562,
          0.8031372757212367,
          0.13567631809136216,
          0.4861711755912531,
          -2.5
         ],
         "subplot": "polar5",
         "theta": [
          "c",
          "political_stability&absence_of_violence",
          "control_of_corruption",
          "tax_burden",
          "government_spending",
          "d"
         ],
         "type": "scatterpolar"
        },
        {
         "line": {
          "color": "bc509055",
          "shape": "spline"
         },
         "mode": "lines",
         "r": [
          -2.5,
          0.4283922185736542,
          0.8662001723382715,
          0.4438777841360441,
          1.018117918600497,
          -2.5
         ],
         "subplot": "polar5",
         "theta": [
          "d",
          "property_rights",
          "government_integrity",
          "judicial_effectiveness",
          "financial_freedom",
          "e"
         ],
         "type": "scatterpolar"
        },
        {
         "line": {
          "color": "003f5c55",
          "shape": "spline"
         },
         "mode": "lines",
         "r": [
          -2.5,
          -0.44795632895700627,
          -0.5982010828613276,
          -0.2013152383085681,
          0.4433245949331882,
          -2.5
         ],
         "subplot": "polar5",
         "theta": [
          "e",
          "total_foreign_born",
          "per_foreign_born",
          "population_living_abroad_diaspora",
          "population_living_abroad",
          "f"
         ],
         "type": "scatterpolar"
        },
        {
         "line": {
          "color": "45B5AA55",
          "shape": "spline"
         },
         "mode": "lines",
         "r": [
          -2.5,
          -0.07076007936983879,
          -0.8315860653033608,
          -0.835412224758436,
          0.3048115669311323,
          -2.5
         ],
         "subplot": "polar5",
         "theta": [
          "a",
          "population_density",
          "human_development_index",
          "health_expenditure",
          "employment",
          "b"
         ],
         "type": "scatterpolar"
        },
        {
         "line": {
          "color": "ffa60055",
          "shape": "spline"
         },
         "mode": "lines",
         "r": [
          -2.5,
          -0.5968623702342307,
          -0.37942229062148486,
          null,
          1.7310216790460538,
          -2.5
         ],
         "subplot": "polar5",
         "theta": [
          "b",
          "gdp_per_cap",
          "gdp_growth",
          "sustainable_economic_development_assessment(seda)",
          "overall_economic_freedom",
          "c"
         ],
         "type": "scatterpolar"
        },
        {
         "line": {
          "color": "ff636155",
          "shape": "spline"
         },
         "mode": "lines",
         "r": [
          -2.5,
          1.3114835016219402,
          1.8924253797889852,
          0.18377966266762477,
          -2.819346262476537,
          -2.5
         ],
         "subplot": "polar5",
         "theta": [
          "c",
          "political_stability&absence_of_violence",
          "control_of_corruption",
          "tax_burden",
          "government_spending",
          "d"
         ],
         "type": "scatterpolar"
        },
        {
         "line": {
          "color": "bc509055",
          "shape": "spline"
         },
         "mode": "lines",
         "r": [
          -2.5,
          1.964766266889587,
          2.102189795267609,
          1.5604740565876176,
          1.531123071383693,
          -2.5
         ],
         "subplot": "polar5",
         "theta": [
          "d",
          "property_rights",
          "government_integrity",
          "judicial_effectiveness",
          "financial_freedom",
          "e"
         ],
         "type": "scatterpolar"
        },
        {
         "line": {
          "color": "003f5c55",
          "shape": "spline"
         },
         "mode": "lines",
         "r": [
          -2.5,
          -0.46822482279622085,
          -0.5914166007056183,
          -0.7826369781828947,
          -0.8725782084425755,
          -2.5
         ],
         "subplot": "polar5",
         "theta": [
          "e",
          "total_foreign_born",
          "per_foreign_born",
          "population_living_abroad_diaspora",
          "population_living_abroad",
          "f"
         ],
         "type": "scatterpolar"
        },
        {
         "line": {
          "color": "45B5AA55",
          "shape": "spline"
         },
         "mode": "lines",
         "r": [
          -2.5,
          -0.044605621643263725,
          -0.7173307573120679,
          -0.599490748029643,
          0.7956762316257682,
          -2.5
         ],
         "subplot": "polar5",
         "theta": [
          "a",
          "population_density",
          "human_development_index",
          "health_expenditure",
          "employment",
          "b"
         ],
         "type": "scatterpolar"
        },
        {
         "line": {
          "color": "ffa60055",
          "shape": "spline"
         },
         "mode": "lines",
         "r": [
          -2.5,
          -0.5954579372280553,
          0.5034815624296525,
          null,
          1.3951230992973922,
          -2.5
         ],
         "subplot": "polar5",
         "theta": [
          "b",
          "gdp_per_cap",
          "gdp_growth",
          "sustainable_economic_development_assessment(seda)",
          "overall_economic_freedom",
          "c"
         ],
         "type": "scatterpolar"
        },
        {
         "line": {
          "color": "ff636155",
          "shape": "spline"
         },
         "mode": "lines",
         "r": [
          -2.5,
          1.214023203946991,
          0.5794441534189143,
          0.6808491877349044,
          -2.460683059375458,
          -2.5
         ],
         "subplot": "polar5",
         "theta": [
          "c",
          "political_stability&absence_of_violence",
          "control_of_corruption",
          "tax_burden",
          "government_spending",
          "d"
         ],
         "type": "scatterpolar"
        },
        {
         "line": {
          "color": "bc509055",
          "shape": "spline"
         },
         "mode": "lines",
         "r": [
          -2.5,
          1.21720169403967,
          0.5529309791549168,
          0.6033915916734779,
          1.531123071383693,
          -2.5
         ],
         "subplot": "polar5",
         "theta": [
          "d",
          "property_rights",
          "government_integrity",
          "judicial_effectiveness",
          "financial_freedom",
          "e"
         ],
         "type": "scatterpolar"
        },
        {
         "line": {
          "color": "003f5c55",
          "shape": "spline"
         },
         "mode": "lines",
         "r": [
          -2.5,
          -0.46898407850995627,
          -0.5914166007056183,
          -0.738849921344341,
          0.1740791729571317,
          -2.5
         ],
         "subplot": "polar5",
         "theta": [
          "e",
          "total_foreign_born",
          "per_foreign_born",
          "population_living_abroad_diaspora",
          "population_living_abroad",
          "f"
         ],
         "type": "scatterpolar"
        },
        {
         "line": {
          "color": "45B5AA55",
          "shape": "spline"
         },
         "mode": "lines",
         "r": [
          -2.5,
          -0.5346227980733632,
          1.4916074672374433,
          1.7689758418751036,
          0.5739950645834635,
          -2.5
         ],
         "subplot": "polar5",
         "theta": [
          "a",
          "population_density",
          "human_development_index",
          "health_expenditure",
          "employment",
          "b"
         ],
         "type": "scatterpolar"
        },
        {
         "line": {
          "color": "ffa60055",
          "shape": "spline"
         },
         "mode": "lines",
         "r": [
          -2.5,
          1.8861749626412556,
          -0.7325838739420796,
          1.1154468093247856,
          -1.0713318934053173,
          -2.5
         ],
         "subplot": "polar5",
         "theta": [
          "b",
          "gdp_per_cap",
          "gdp_growth",
          "sustainable_economic_development_assessment(seda)",
          "overall_economic_freedom",
          "c"
         ],
         "type": "scatterpolar"
        },
        {
         "line": {
          "color": "ff636155",
          "shape": "spline"
         },
         "mode": "lines",
         "r": [
          -2.5,
          0.0011844128425425639,
          -0.558472955811314,
          0.4002456307616249,
          -0.42018027265206237,
          -2.5
         ],
         "subplot": "polar5",
         "theta": [
          "c",
          "political_stability&absence_of_violence",
          "control_of_corruption",
          "tax_burden",
          "government_spending",
          "d"
         ],
         "type": "scatterpolar"
        },
        {
         "line": {
          "color": "bc509055",
          "shape": "spline"
         },
         "mode": "lines",
         "r": [
          -2.5,
          -0.6542875076227775,
          -0.6374918245752341,
          -1.1213511552074755,
          -0.5208975397490914,
          -2.5
         ],
         "subplot": "polar5",
         "theta": [
          "d",
          "property_rights",
          "government_integrity",
          "judicial_effectiveness",
          "financial_freedom",
          "e"
         ],
         "type": "scatterpolar"
        },
        {
         "line": {
          "color": "003f5c55",
          "shape": "spline"
         },
         "mode": "lines",
         "r": [
          -2.5,
          1.5142224454935056,
          0.9350933724732653,
          1.5332137413618026,
          0.10791643622488503,
          -2.5
         ],
         "subplot": "polar5",
         "theta": [
          "e",
          "total_foreign_born",
          "per_foreign_born",
          "population_living_abroad_diaspora",
          "population_living_abroad",
          "f"
         ],
         "type": "scatterpolar"
        },
        {
         "line": {
          "color": "45B5AA55",
          "shape": "spline"
         },
         "mode": "lines",
         "r": [
          -2.5,
          -0.34534759396463854,
          -0.06226617427689652,
          -0.693550944633933,
          -2.5770411884884856,
          -2.5
         ],
         "subplot": "polar5",
         "theta": [
          "a",
          "population_density",
          "human_development_index",
          "health_expenditure",
          "employment",
          "b"
         ],
         "type": "scatterpolar"
        },
        {
         "line": {
          "color": "ffa60055",
          "shape": "spline"
         },
         "mode": "lines",
         "r": [
          -2.5,
          -0.584222474015759,
          -0.23227163675181203,
          null,
          -0.3611461783537025,
          -2.5
         ],
         "subplot": "polar5",
         "theta": [
          "b",
          "gdp_per_cap",
          "gdp_growth",
          "sustainable_economic_development_assessment(seda)",
          "overall_economic_freedom",
          "c"
         ],
         "type": "scatterpolar"
        },
        {
         "line": {
          "color": "ff636155",
          "shape": "spline"
         },
         "mode": "lines",
         "r": [
          -2.5,
          -0.21539395740742331,
          -0.26669933062789536,
          0.03145250678732858,
          -0.14875954775953146,
          -2.5
         ],
         "subplot": "polar5",
         "theta": [
          "c",
          "political_stability&absence_of_violence",
          "control_of_corruption",
          "tax_burden",
          "government_spending",
          "d"
         ],
         "type": "scatterpolar"
        },
        {
         "line": {
          "color": "bc509055",
          "shape": "spline"
         },
         "mode": "lines",
         "r": [
          -2.5,
          0.3046573140541498,
          -0.8254534056685452,
          -0.5231745195585226,
          -0.5208975397490914,
          -2.5
         ],
         "subplot": "polar5",
         "theta": [
          "d",
          "property_rights",
          "government_integrity",
          "judicial_effectiveness",
          "financial_freedom",
          "e"
         ],
         "type": "scatterpolar"
        },
        {
         "line": {
          "color": "003f5c55",
          "shape": "spline"
         },
         "mode": "lines",
         "r": [
          -2.5,
          -0.46482825315492576,
          -0.5642786397318182,
          -0.467838206446957,
          2.1001492425621353,
          -2.5
         ],
         "subplot": "polar5",
         "theta": [
          "e",
          "total_foreign_born",
          "per_foreign_born",
          "population_living_abroad_diaspora",
          "population_living_abroad",
          "f"
         ],
         "type": "scatterpolar"
        },
        {
         "line": {
          "color": "45B5AA55",
          "shape": "spline"
         },
         "mode": "lines",
         "r": [
          -2.5,
          -0.521186199007307,
          -1.3343097836732387,
          -0.8192215351790091,
          -0.1543848773568192,
          -2.5
         ],
         "subplot": "polar5",
         "theta": [
          "a",
          "population_density",
          "human_development_index",
          "health_expenditure",
          "employment",
          "b"
         ],
         "type": "scatterpolar"
        },
        {
         "line": {
          "color": "ffa60055",
          "shape": "spline"
         },
         "mode": "lines",
         "r": [
          -2.5,
          -0.5828180408003067,
          -0.4088524284121094,
          null,
          0.4066220039289522,
          -2.5
         ],
         "subplot": "polar5",
         "theta": [
          "b",
          "gdp_per_cap",
          "gdp_growth",
          "sustainable_economic_development_assessment(seda)",
          "overall_economic_freedom",
          "c"
         ],
         "type": "scatterpolar"
        },
        {
         "line": {
          "color": "ff636155",
          "shape": "spline"
         },
         "mode": "lines",
         "r": [
          -2.5,
          0.33688086373569776,
          1.2505234623556727,
          -2.1732900324077593,
          -1.0938855437509911,
          -2.5
         ],
         "subplot": "polar5",
         "theta": [
          "c",
          "political_stability&absence_of_violence",
          "control_of_corruption",
          "tax_burden",
          "government_spending",
          "d"
         ],
         "type": "scatterpolar"
        },
        {
         "line": {
          "color": "bc509055",
          "shape": "spline"
         },
         "mode": "lines",
         "r": [
          -2.5,
          1.7843196458568484,
          1.350343470894365,
          1.3411425474542422,
          1.018117918600497,
          -2.5
         ],
         "subplot": "polar5",
         "theta": [
          "d",
          "property_rights",
          "government_integrity",
          "judicial_effectiveness",
          "financial_freedom",
          "e"
         ],
         "type": "scatterpolar"
        },
        {
         "line": {
          "color": "003f5c55",
          "shape": "spline"
         },
         "mode": "lines",
         "r": [
          -2.5,
          -0.46931111308690526,
          -0.6728304593637963,
          -0.7852036354500045,
          -1.2107431770599442,
          -2.5
         ],
         "subplot": "polar5",
         "theta": [
          "e",
          "total_foreign_born",
          "per_foreign_born",
          "population_living_abroad_diaspora",
          "population_living_abroad",
          "f"
         ],
         "type": "scatterpolar"
        },
        {
         "line": {
          "color": "45B5AA55",
          "shape": "spline"
         },
         "mode": "lines",
         "r": [
          -2.5,
          -0.04737550904125829,
          0.03675527425298516,
          -0.7028027672507484,
          -0.40773426480580816,
          -2.5
         ],
         "subplot": "polar5",
         "theta": [
          "a",
          "population_density",
          "human_development_index",
          "health_expenditure",
          "employment",
          "b"
         ],
         "type": "scatterpolar"
        },
        {
         "line": {
          "color": "ffa60055",
          "shape": "spline"
         },
         "mode": "lines",
         "r": [
          -2.5,
          -0.5912446384188058,
          0.09145977369470834,
          null,
          1.587065144868056,
          -2.5
         ],
         "subplot": "polar5",
         "theta": [
          "b",
          "gdp_per_cap",
          "gdp_growth",
          "sustainable_economic_development_assessment(seda)",
          "overall_economic_freedom",
          "c"
         ],
         "type": "scatterpolar"
        },
        {
         "line": {
          "color": "ff636155",
          "shape": "spline"
         },
         "mode": "lines",
         "r": [
          -2.5,
          -0.29119637529606107,
          0.7447825506845529,
          1.0095560892844466,
          0.5104051754884701,
          -2.5
         ],
         "subplot": "polar5",
         "theta": [
          "c",
          "political_stability&absence_of_violence",
          "control_of_corruption",
          "tax_burden",
          "government_spending",
          "d"
         ],
         "type": "scatterpolar"
        },
        {
         "line": {
          "color": "bc509055",
          "shape": "spline"
         },
         "mode": "lines",
         "r": [
          -2.5,
          0.6913286448385897,
          1.1623819984398844,
          0.9174340972029006,
          0.5051127658173008,
          -2.5
         ],
         "subplot": "polar5",
         "theta": [
          "d",
          "property_rights",
          "government_integrity",
          "judicial_effectiveness",
          "financial_freedom",
          "e"
         ],
         "type": "scatterpolar"
        },
        {
         "line": {
          "color": "003f5c55",
          "shape": "spline"
         },
         "mode": "lines",
         "r": [
          -2.5,
          -0.4632944418642058,
          -0.44215783152519944,
          -0.6322175064214097,
          1.9843642999182887,
          -2.5
         ],
         "subplot": "polar5",
         "theta": [
          "e",
          "total_foreign_born",
          "per_foreign_born",
          "population_living_abroad_diaspora",
          "population_living_abroad",
          "f"
         ],
         "type": "scatterpolar"
        },
        {
         "line": {
          "color": "45B5AA55",
          "shape": "spline"
         },
         "mode": "lines",
         "r": [
          -2.5,
          -0.51815508541315,
          -0.9001393409001838,
          -0.8708775447895618,
          -2.355360021446181,
          -2.5
         ],
         "subplot": "polar5",
         "theta": [
          "a",
          "population_density",
          "human_development_index",
          "health_expenditure",
          "employment",
          "b"
         ],
         "type": "scatterpolar"
        },
        {
         "line": {
          "color": "ffa60055",
          "shape": "spline"
         },
         "mode": "lines",
         "r": [
          -2.5,
          -0.5898402060404607,
          -0.791444136367035,
          -5.114436559017648,
          -0.22678696611447682,
          -2.5
         ],
         "subplot": "polar5",
         "theta": [
          "b",
          "gdp_per_cap",
          "gdp_growth",
          "sustainable_economic_development_assessment(seda)",
          "overall_economic_freedom",
          "c"
         ],
         "type": "scatterpolar"
        },
        {
         "line": {
          "color": "ff636155",
          "shape": "spline"
         },
         "mode": "lines",
         "r": [
          -2.5,
          -0.031302334223371094,
          -0.11108672569922136,
          -1.1230308213790352,
          0.9853917213865185,
          -2.5
         ],
         "subplot": "polar5",
         "theta": [
          "c",
          "political_stability&absence_of_violence",
          "control_of_corruption",
          "tax_burden",
          "government_spending",
          "d"
         ],
         "type": "scatterpolar"
        },
        {
         "line": {
          "color": "bc509055",
          "shape": "spline"
         },
         "mode": "lines",
         "r": [
          -2.5,
          0.14998878174037383,
          -0.19891491066300554,
          0.658224373879206,
          -0.5208975397490914,
          -2.5
         ],
         "subplot": "polar5",
         "theta": [
          "d",
          "property_rights",
          "government_integrity",
          "judicial_effectiveness",
          "financial_freedom",
          "e"
         ],
         "type": "scatterpolar"
        },
        {
         "line": {
          "color": "003f5c55",
          "shape": "spline"
         },
         "mode": "lines",
         "r": [
          -2.5,
          -0.46815979837741223,
          -0.6796149496072463,
          -0.7714122078269602,
          -0.9580383625857418,
          -2.5
         ],
         "subplot": "polar5",
         "theta": [
          "e",
          "total_foreign_born",
          "per_foreign_born",
          "population_living_abroad_diaspora",
          "population_living_abroad",
          "f"
         ],
         "type": "scatterpolar"
        },
        {
         "hoverlabel": {
          "namelength": 20
         },
         "line": {
          "color": [
           "003f5c55"
          ],
          "smoothing": 1.3
         },
         "marker": {
          "color": "rgba(180,120,150,0)"
         },
         "mode": "lines",
         "r": [
          0,
          0,
          0,
          0,
          0
         ],
         "subplot": "polar5",
         "theta": [
          "f",
          "g",
          "h",
          "i",
          "j"
         ],
         "type": "scatterpolar"
        }
       ],
       "layout": {
        "height": 1500,
        "paper_bgcolor": "rgb(224,225,227)",
        "polar": {
         "angularaxis": {
          "direction": "clockwise",
          "gridcolor": "rgba(255,255,255,0.5)",
          "gridwidth": 1,
          "nticks": 6,
          "rotation": 60,
          "showline": false,
          "showticklabels": false,
          "tickfont": {
           "size": 8
          },
          "ticks": "outside",
          "visible": false
         },
         "bgcolor": "rgb(224,225,227)",
         "domain": {
          "x": [
           0,
           0.475
          ],
          "y": [
           0.6833333333333333,
           1
          ]
         },
         "radialaxis": {
          "angle": 60,
          "gridcolor": "white",
          "gridwidth": 4,
          "nticks": 4,
          "range": [
           -5,
           5
          ],
          "showline": false,
          "showticklabels": false,
          "visible": true
         },
         "sector": [
          119,
          420
         ]
        },
        "polar2": {
         "angularaxis": {
          "direction": "clockwise",
          "gridcolor": "rgba(255,255,255,0.5)",
          "gridwidth": 1,
          "nticks": 6,
          "rotation": 60,
          "showline": false,
          "showticklabels": false,
          "tickfont": {
           "size": 8
          },
          "ticks": "outside",
          "visible": false
         },
         "bgcolor": "rgb(224,225,227)",
         "domain": {
          "x": [
           0.475,
           0.95
          ],
          "y": [
           0.6833333333333333,
           1
          ]
         },
         "radialaxis": {
          "angle": 60,
          "gridcolor": "white",
          "gridwidth": 4,
          "nticks": 4,
          "range": [
           -5,
           5
          ],
          "showline": false,
          "showticklabels": false,
          "visible": true
         },
         "sector": [
          119,
          420
         ]
        },
        "polar3": {
         "angularaxis": {
          "direction": "clockwise",
          "gridcolor": "rgba(255,255,255,0.5)",
          "gridwidth": 1,
          "nticks": 6,
          "rotation": 60,
          "showline": false,
          "showticklabels": false,
          "tickfont": {
           "size": 8
          },
          "ticks": "outside",
          "visible": false
         },
         "bgcolor": "rgb(224,225,227)",
         "domain": {
          "x": [
           0,
           0.475
          ],
          "y": [
           0.3666666666666667,
           0.6833333333333333
          ]
         },
         "radialaxis": {
          "angle": 60,
          "gridcolor": "white",
          "gridwidth": 4,
          "nticks": 4,
          "range": [
           -5,
           5
          ],
          "showline": false,
          "showticklabels": false,
          "visible": true
         },
         "sector": [
          119,
          420
         ]
        },
        "polar4": {
         "angularaxis": {
          "direction": "clockwise",
          "gridcolor": "rgba(255,255,255,0.5)",
          "gridwidth": 1,
          "nticks": 6,
          "rotation": 60,
          "showline": false,
          "showticklabels": false,
          "tickfont": {
           "size": 8
          },
          "ticks": "outside",
          "visible": false
         },
         "bgcolor": "rgb(224,225,227)",
         "domain": {
          "x": [
           0.475,
           0.95
          ],
          "y": [
           0.3666666666666667,
           0.6833333333333333
          ]
         },
         "radialaxis": {
          "angle": 60,
          "gridcolor": "white",
          "gridwidth": 4,
          "nticks": 4,
          "range": [
           -5,
           5
          ],
          "showline": false,
          "showticklabels": false,
          "visible": true
         },
         "sector": [
          119,
          420
         ]
        },
        "polar5": {
         "angularaxis": {
          "direction": "clockwise",
          "gridcolor": "rgba(255,255,255,0.5)",
          "gridwidth": 1,
          "nticks": 6,
          "rotation": 60,
          "showline": false,
          "showticklabels": false,
          "tickfont": {
           "size": 8
          },
          "ticks": "outside",
          "visible": false
         },
         "bgcolor": "rgb(224,225,227)",
         "domain": {
          "x": [
           0,
           0.475
          ],
          "y": [
           0.050000000000000044,
           0.3666666666666667
          ]
         },
         "radialaxis": {
          "angle": 60,
          "gridcolor": "white",
          "gridwidth": 4,
          "nticks": 4,
          "range": [
           -5,
           5
          ],
          "showline": false,
          "showticklabels": false,
          "visible": true
         },
         "sector": [
          119,
          420
         ]
        },
        "showlegend": false,
        "width": 1200
       }
      },
      "text/html": [
       "<div id=\"519b05d9-7741-423c-ac40-f9f00643e69f\" style=\"height: 1500px; width: 1200px;\" class=\"plotly-graph-div\"></div><script type=\"text/javascript\">require([\"plotly\"], function(Plotly) { window.PLOTLYENV=window.PLOTLYENV || {};window.PLOTLYENV.BASE_URL=\"https://plot.ly\";Plotly.newPlot(\"519b05d9-7741-423c-ac40-f9f00643e69f\", [{\"type\": \"scatterpolar\", \"subplot\": \"polar\", \"r\": [-2.5, -0.586971692703689, -0.031798001343837846, -0.20474631637885185, 0.526492733973437, -2.5], \"theta\": [\"a\", \"population_density\", \"human_development_index\", \"health_expenditure\", \"employment\", \"b\"], \"mode\": \"lines\", \"line\": {\"shape\": \"spline\", \"color\": \"45B5AA55\"}}, {\"type\": \"scatterpolar\", \"subplot\": \"polar\", \"r\": [-2.5, -0.08424435813869854, 0.0031693954062845626, -0.3865167022030159, 2.0381293912795932, -2.5], \"theta\": [\"b\", \"gdp_per_cap\", \"gdp_growth\", \"sustainable_economic_development_assessment(seda)\", \"overall_economic_freedom\", \"c\"], \"mode\": \"lines\", \"line\": {\"shape\": \"spline\", \"color\": \"ffa60055\"}}, {\"type\": \"scatterpolar\", \"subplot\": \"polar\", \"r\": [-2.5, 1.084076183410646, 1.7757159297156175, -0.9145825871037558, 0.2535249984468663, -2.5], \"theta\": [\"c\", \"political_stability&absence_of_violence\", \"control_of_corruption\", \"tax_burden\", \"government_spending\", \"d\"], \"mode\": \"lines\", \"line\": {\"shape\": \"spline\", \"color\": \"ff636155\"}}, {\"type\": \"scatterpolar\", \"subplot\": \"polar\", \"r\": [-2.5, 1.511071748098877, 2.050927476744723, 2.372997472134964, 2.044128224166889, -2.5], \"theta\": [\"d\", \"property_rights\", \"government_integrity\", \"judicial_effectiveness\", \"financial_freedom\", \"e\"], \"mode\": \"lines\", \"line\": {\"shape\": \"spline\", \"color\": \"bc509055\"}}, {\"type\": \"scatterpolar\", \"subplot\": \"polar\", \"r\": [-2.5, -0.16702597742617586, -0.2793301303843248, -0.6269274051310547, -1.0398228359102368, -2.5], \"theta\": [\"e\", \"total_foreign_born\", \"per_foreign_born\", \"population_living_abroad_diaspora\", \"population_living_abroad\", \"f\"], \"mode\": \"lines\", \"line\": {\"shape\": \"spline\", \"color\": \"003f5c55\"}}, {\"type\": \"scatterpolar\", \"subplot\": \"polar\", \"r\": [-2.5, -0.1007777491510052, -0.5116709305215988, -0.7135965603036998, 0.6214986032586615, -2.5], \"theta\": [\"a\", \"population_density\", \"human_development_index\", \"health_expenditure\", \"employment\", \"b\"], \"mode\": \"lines\", \"line\": {\"shape\": \"spline\", \"color\": \"45B5AA55\"}}, {\"type\": \"scatterpolar\", \"subplot\": \"polar\", \"r\": [-2.5, -0.5505160852159773, -0.4088524284121094, null, 0.4450105594832442, -2.5], \"theta\": [\"b\", \"gdp_per_cap\", \"gdp_growth\", \"sustainable_economic_development_assessment(seda)\", \"overall_economic_freedom\", \"c\"], \"mode\": \"lines\", \"line\": {\"shape\": \"spline\", \"color\": \"ffa60055\"}}, {\"type\": \"scatterpolar\", \"subplot\": \"polar\", \"r\": [-2.5, -0.713524159766492, -0.8307949673356989, 1.0496423117092006, 0.6461157228254818, -2.5], \"theta\": [\"c\", \"political_stability&absence_of_violence\", \"control_of_corruption\", \"tax_burden\", \"government_spending\", \"d\"], \"mode\": \"lines\", \"line\": {\"shape\": \"spline\", \"color\": \"ff636155\"}}, {\"type\": \"scatterpolar\", \"subplot\": \"polar\", \"r\": [-2.5, 0.21701177307543493, -0.08499884041451294, -0.44840244010240343, 0.5051127658173008, -2.5], \"theta\": [\"d\", \"property_rights\", \"government_integrity\", \"judicial_effectiveness\", \"financial_freedom\", \"e\"], \"mode\": \"lines\", \"line\": {\"shape\": \"spline\", \"color\": \"bc509055\"}}, {\"type\": \"scatterpolar\", \"subplot\": \"polar\", \"r\": [-2.5, -0.4457129865081104, -0.5642786397318182, -0.3151366163461641, 0.9349503386531386, -2.5], \"theta\": [\"e\", \"total_foreign_born\", \"per_foreign_born\", \"population_living_abroad_diaspora\", \"population_living_abroad\", \"f\"], \"mode\": \"lines\", \"line\": {\"shape\": \"spline\", \"color\": \"003f5c55\"}}, {\"type\": \"scatterpolar\", \"subplot\": \"polar\", \"r\": [-2.5, -0.5742748573480835, -2.697757684863639, -0.9279304509265902, -0.99360600685084, -2.5], \"theta\": [\"a\", \"population_density\", \"human_development_index\", \"health_expenditure\", \"employment\", \"b\"], \"mode\": \"lines\", \"line\": {\"shape\": \"spline\", \"color\": \"45B5AA55\"}}, {\"type\": \"scatterpolar\", \"subplot\": \"polar\", \"r\": [-2.5, -0.5547293831881196, -0.5854332200724067, -1.605501498087375, 0.34903917059751416, -2.5], \"theta\": [\"b\", \"gdp_per_cap\", \"gdp_growth\", \"sustainable_economic_development_assessment(seda)\", \"overall_economic_freedom\", \"c\"], \"mode\": \"lines\", \"line\": {\"shape\": \"spline\", \"color\": \"ffa60055\"}}, {\"type\": \"scatterpolar\", \"subplot\": \"polar\", \"r\": [-2.5, 1.1923653887060603, 1.162991345815543, 1.7711943153547767, 1.7657264441206046, -2.5], \"theta\": [\"c\", \"political_stability&absence_of_violence\", \"control_of_corruption\", \"tax_burden\", \"government_spending\", \"d\"], \"mode\": \"lines\", \"line\": {\"shape\": \"spline\", \"color\": \"ff636155\"}}, {\"type\": \"scatterpolar\", \"subplot\": \"polar\", \"r\": [-2.5, -0.14903700806535122, 0.5415395459521963, 0.38406008254010254, 0.5051127658173008, -2.5], \"theta\": [\"d\", \"property_rights\", \"government_integrity\", \"judicial_effectiveness\", \"financial_freedom\", \"e\"], \"mode\": \"lines\", \"line\": {\"shape\": \"spline\", \"color\": \"bc509055\"}}, {\"type\": \"scatterpolar\", \"subplot\": \"polar\", \"r\": [-2.5, -0.31820010122449177, -0.5710631218875275, 0.4833522015267348, -0.5197103960514807, -2.5], \"theta\": [\"e\", \"total_foreign_born\", \"per_foreign_born\", \"population_living_abroad_diaspora\", \"population_living_abroad\", \"f\"], \"mode\": \"lines\", \"line\": {\"shape\": \"spline\", \"color\": \"003f5c55\"}}, {\"type\": \"scatterpolar\", \"subplot\": \"polar\", \"r\": [-2.5, 1.0146512416959448, 0.23479771730251242, -0.8593127665185425, 1.223203247441864, -2.5], \"theta\": [\"a\", \"population_density\", \"human_development_index\", \"health_expenditure\", \"employment\", \"b\"], \"mode\": \"lines\", \"line\": {\"shape\": \"spline\", \"color\": \"45B5AA55\"}}, {\"type\": \"scatterpolar\", \"subplot\": \"polar\", \"r\": [-2.5, -0.5814136092590689, 0.20918032485720645, null, 0.7713114511927354, -2.5], \"theta\": [\"b\", \"gdp_per_cap\", \"gdp_growth\", \"sustainable_economic_development_assessment(seda)\", \"overall_economic_freedom\", \"c\"], \"mode\": \"lines\", \"line\": {\"shape\": \"spline\", \"color\": \"ffa60055\"}}, {\"type\": \"scatterpolar\", \"subplot\": \"polar\", \"r\": [-2.5, -0.9192735981914748, -0.11108672569922136, 2.043780750176548, 0.9514642694430119, -2.5], \"theta\": [\"c\", \"political_stability&absence_of_violence\", \"control_of_corruption\", \"tax_burden\", \"government_spending\", \"d\"], \"mode\": \"lines\", \"line\": {\"shape\": \"spline\", \"color\": \"ff636155\"}}, {\"type\": \"scatterpolar\", \"subplot\": \"polar\", \"r\": [-2.5, 0.6552392812978002, 0.5928016471974215, 0.46381689123120373, 1.531123071383693, -2.5], \"theta\": [\"d\", \"property_rights\", \"government_integrity\", \"judicial_effectiveness\", \"financial_freedom\", \"e\"], \"mode\": \"lines\", \"line\": {\"shape\": \"spline\", \"color\": \"bc509055\"}}, {\"type\": \"scatterpolar\", \"subplot\": \"polar\", \"r\": [-2.5, -0.4502436585127433, -0.6524769886334463, -0.4580332272715843, -0.09976098697299174, -2.5], \"theta\": [\"e\", \"total_foreign_born\", \"per_foreign_born\", \"population_living_abroad_diaspora\", \"population_living_abroad\", \"f\"], \"mode\": \"lines\", \"line\": {\"shape\": \"spline\", \"color\": \"003f5c55\"}}, {\"type\": \"scatterpolar\", \"subplot\": \"polar\", \"r\": [-2.5, -0.5449777592278037, -0.8772880976978308, -0.7960919786369706, 0.779842121422426, -2.5], \"theta\": [\"a\", \"population_density\", \"human_development_index\", \"health_expenditure\", \"employment\", \"b\"], \"mode\": \"lines\", \"line\": {\"shape\": \"spline\", \"color\": \"45B5AA55\"}}, {\"type\": \"scatterpolar\", \"subplot\": \"polar\", \"r\": [-2.5, -0.18115024833068918, 1.1509445236564926, -0.8828175889767921, -0.4379232894622865, -2.5], \"theta\": [\"b\", \"gdp_per_cap\", \"gdp_growth\", \"sustainable_economic_development_assessment(seda)\", \"overall_economic_freedom\", \"c\"], \"mode\": \"lines\", \"line\": {\"shape\": \"spline\", \"color\": \"ffa60055\"}}, {\"type\": \"scatterpolar\", \"subplot\": \"polar\", \"r\": [-2.5, -1.2441411495323373, -0.7821660201434276, -0.13691011673040895, -1.2005149953861485, -2.5], \"theta\": [\"c\", \"political_stability&absence_of_violence\", \"control_of_corruption\", \"tax_burden\", \"government_spending\", \"d\"], \"mode\": \"lines\", \"line\": {\"shape\": \"spline\", \"color\": \"ff636155\"}}, {\"type\": \"scatterpolar\", \"subplot\": \"polar\", \"r\": [-2.5, -0.8759790312716147, -1.1501141406934507, -0.6577643006105832, -1.0339026925322876, -2.5], \"theta\": [\"d\", \"property_rights\", \"government_integrity\", \"judicial_effectiveness\", \"financial_freedom\", \"e\"], \"mode\": \"lines\", \"line\": {\"shape\": \"spline\", \"color\": \"bc509055\"}}, {\"type\": \"scatterpolar\", \"subplot\": \"polar\", \"r\": [-2.5, 0.2773432507800117, -0.10971791473677803, -0.15611710066479337, -0.851442895850029, -2.5], \"theta\": [\"e\", \"total_foreign_born\", \"per_foreign_born\", \"population_living_abroad_diaspora\", \"population_living_abroad\", \"f\"], \"mode\": \"lines\", \"line\": {\"shape\": \"spline\", \"color\": \"003f5c55\"}}, {\"type\": \"scatterpolar\", \"subplot\": \"polar\", \"r\": [-2.5, -0.4493179747602654, -1.8675016749761755, -0.8392671508487758, -0.31272839552058374, -2.5], \"theta\": [\"a\", \"population_density\", \"human_development_index\", \"health_expenditure\", \"employment\", \"b\"], \"mode\": \"lines\", \"line\": {\"shape\": \"spline\", \"color\": \"45B5AA55\"}}, {\"type\": \"scatterpolar\", \"subplot\": \"polar\", \"r\": [-2.5, -0.5533249516468818, -0.2911319123330611, null, -0.24598124389162282, -2.5], \"theta\": [\"b\", \"gdp_per_cap\", \"gdp_growth\", \"sustainable_economic_development_assessment(seda)\", \"overall_economic_freedom\", \"c\"], \"mode\": \"lines\", \"line\": {\"shape\": \"spline\", \"color\": \"ffa60055\"}}, {\"type\": \"scatterpolar\", \"subplot\": \"polar\", \"r\": [-2.5, 0.1636181844788875, -0.23752196810955348, 0.4483489753378875, -1.5010166310897874, -2.5], \"theta\": [\"c\", \"political_stability&absence_of_violence\", \"control_of_corruption\", \"tax_burden\", \"government_spending\", \"d\"], \"mode\": \"lines\", \"line\": {\"shape\": \"spline\", \"color\": \"ff636155\"}}, {\"type\": \"scatterpolar\", \"subplot\": \"polar\", \"r\": [-2.5, -0.3758842674607063, -0.38118066651612587, 0.38406008254010254, -0.007892386965895297, -2.5], \"theta\": [\"d\", \"property_rights\", \"government_integrity\", \"judicial_effectiveness\", \"financial_freedom\", \"e\"], \"mode\": \"lines\", \"line\": {\"shape\": \"spline\", \"color\": \"bc509055\"}}, {\"type\": \"scatterpolar\", \"subplot\": \"polar\", \"r\": [-2.5, -0.2593855144121343, 0.19558407342880613, -0.7500892089925103, -1.1087423277792579, -2.5], \"theta\": [\"e\", \"total_foreign_born\", \"per_foreign_born\", \"population_living_abroad_diaspora\", \"population_living_abroad\", \"f\"], \"mode\": \"lines\", \"line\": {\"shape\": \"spline\", \"color\": \"003f5c55\"}}, {\"type\": \"scatterpolar\", \"subplot\": \"polar\", \"r\": [-2.5, -0.434869408830604, -0.9915434056891238, -0.3435236556310831, 1.049025619074757, -2.5], \"theta\": [\"a\", \"population_density\", \"human_development_index\", \"health_expenditure\", \"employment\", \"b\"], \"mode\": \"lines\", \"line\": {\"shape\": \"spline\", \"color\": \"45B5AA55\"}}, {\"type\": \"scatterpolar\", \"subplot\": \"polar\", \"r\": [-2.5, -0.15446600216916637, 1.5335361395173623, null, 0.20508263641951643, -2.5], \"theta\": [\"b\", \"gdp_per_cap\", \"gdp_growth\", \"sustainable_economic_development_assessment(seda)\", \"overall_economic_freedom\", \"c\"], \"mode\": \"lines\", \"line\": {\"shape\": \"spline\", \"color\": \"ffa60055\"}}, {\"type\": \"scatterpolar\", \"subplot\": \"polar\", \"r\": [-2.5, 1.3331413168628707, 1.5520229233537126, 0.6888663098864128, 0.13720172498392663, -2.5], \"theta\": [\"c\", \"political_stability&absence_of_violence\", \"control_of_corruption\", \"tax_burden\", \"government_spending\", \"d\"], \"mode\": \"lines\", \"line\": {\"shape\": \"spline\", \"color\": \"ff636155\"}}, {\"type\": \"scatterpolar\", \"subplot\": \"polar\", \"r\": [-2.5, 0.5933720257092571, 0.5415395459521963, 0.2893487058335924, -1.0339026925322876, -2.5], \"theta\": [\"d\", \"property_rights\", \"government_integrity\", \"judicial_effectiveness\", \"financial_freedom\", \"e\"], \"mode\": \"lines\", \"line\": {\"shape\": \"spline\", \"color\": \"bc509055\"}}, {\"type\": \"scatterpolar\", \"subplot\": \"polar\", \"r\": [-2.5, -0.45355225394035614, -0.6796149496072463, -0.5610682571787362, -0.46641266268362436, -2.5], \"theta\": [\"e\", \"total_foreign_born\", \"per_foreign_born\", \"population_living_abroad_diaspora\", \"population_living_abroad\", \"f\"], \"mode\": \"lines\", \"line\": {\"shape\": \"spline\", \"color\": \"003f5c55\"}}, {\"type\": \"scatterpolar\", \"subplot\": \"polar\", \"r\": [-2.5, -0.3080963280778665, -1.0143946488914768, null, -2.656212947570368, -2.5], \"theta\": [\"a\", \"population_density\", \"human_development_index\", \"health_expenditure\", \"employment\", \"b\"], \"mode\": \"lines\", \"line\": {\"shape\": \"spline\", \"color\": \"45B5AA55\"}}, {\"type\": \"scatterpolar\", \"subplot\": \"polar\", \"r\": [-2.5, -0.44377918093218, 0.09145977369470834, null, 0.1666944469656226, -2.5], \"theta\": [\"b\", \"gdp_per_cap\", \"gdp_growth\", \"sustainable_economic_development_assessment(seda)\", \"overall_economic_freedom\", \"c\"], \"mode\": \"lines\", \"line\": {\"shape\": \"spline\", \"color\": \"ffa60055\"}}, {\"type\": \"scatterpolar\", \"subplot\": \"polar\", \"r\": [-2.5, -0.30202528291652636, -0.48066661711559655, 0.728952532311167, 0.34076717620795166, -2.5], \"theta\": [\"c\", \"political_stability&absence_of_violence\", \"control_of_corruption\", \"tax_burden\", \"government_spending\", \"d\"], \"mode\": \"lines\", \"line\": {\"shape\": \"spline\", \"color\": \"ff636155\"}}, {\"type\": \"scatterpolar\", \"subplot\": \"polar\", \"r\": [-2.5, -0.5099302501308285, -0.7400163529821757, -0.10445079854216287, 0.5051127658173008, -2.5], \"theta\": [\"d\", \"property_rights\", \"government_integrity\", \"judicial_effectiveness\", \"financial_freedom\", \"e\"], \"mode\": \"lines\", \"line\": {\"shape\": \"spline\", \"color\": \"bc509055\"}}, {\"type\": \"scatterpolar\", \"subplot\": \"polar\", \"r\": [-2.5, -0.4138605837064386, -0.632123525990837, -0.5185558185983964, -0.6345762158331827, -2.5], \"theta\": [\"e\", \"total_foreign_born\", \"per_foreign_born\", \"population_living_abroad_diaspora\", \"population_living_abroad\", \"f\"], \"mode\": \"lines\", \"line\": {\"shape\": \"spline\", \"color\": \"003f5c55\"}}, {\"type\": \"scatterpolar\", \"subplot\": \"polar\", \"r\": [-2.5, -0.5728676089941835, -0.14605330933513083, -0.58175808801408, -0.391900154602466, -2.5], \"theta\": [\"a\", \"population_density\", \"human_development_index\", \"health_expenditure\", \"employment\", \"b\"], \"mode\": \"lines\", \"line\": {\"shape\": \"spline\", \"color\": \"45B5AA55\"}}, {\"type\": \"scatterpolar\", \"subplot\": \"polar\", \"r\": [-2.5, -0.09547981046860085, -1.8509288293182131, -0.5258291269351923, -0.7930157808876958, -2.5], \"theta\": [\"b\", \"gdp_per_cap\", \"gdp_growth\", \"sustainable_economic_development_assessment(seda)\", \"overall_economic_freedom\", \"c\"], \"mode\": \"lines\", \"line\": {\"shape\": \"spline\", \"color\": \"ffa60055\"}}, {\"type\": \"scatterpolar\", \"subplot\": \"polar\", \"r\": [-2.5, -0.33451203805061264, -0.4903923949600091, -0.3052721285809342, 1.2810464461762663, -2.5], \"theta\": [\"c\", \"political_stability&absence_of_violence\", \"control_of_corruption\", \"tax_burden\", \"government_spending\", \"d\"], \"mode\": \"lines\", \"line\": {\"shape\": \"spline\", \"color\": \"ff636155\"}}, {\"type\": \"scatterpolar\", \"subplot\": \"polar\", \"r\": [-2.5, 0.33043540277311245, -0.5691422476094369, 0.4837561884815947, -0.007892386965895297, -2.5], \"theta\": [\"d\", \"property_rights\", \"government_integrity\", \"judicial_effectiveness\", \"financial_freedom\", \"e\"], \"mode\": \"lines\", \"line\": {\"shape\": \"spline\", \"color\": \"bc509055\"}}, {\"type\": \"scatterpolar\", \"subplot\": \"polar\", \"r\": [-2.5, 0.039024930880766404, 0.8333260430847372, -0.6128078867035043, -0.9460923287210814, -2.5], \"theta\": [\"e\", \"total_foreign_born\", \"per_foreign_born\", \"population_living_abroad_diaspora\", \"population_living_abroad\", \"f\"], \"mode\": \"lines\", \"line\": {\"shape\": \"spline\", \"color\": \"003f5c55\"}}, {\"type\": \"scatterpolar\", \"subplot\": \"polar\", \"r\": [-2.5, 0.16530115031062356, -1.989374139703292, null, 1.1123632679532973, -2.5], \"theta\": [\"a\", \"population_density\", \"human_development_index\", \"health_expenditure\", \"employment\", \"b\"], \"mode\": \"lines\", \"line\": {\"shape\": \"spline\", \"color\": \"45B5AA55\"}}, {\"type\": \"scatterpolar\", \"subplot\": \"polar\", \"r\": [-2.5, -0.5519205167572151, -0.791444136367035, -0.5258291269351923, 0.4354128714440739, -2.5], \"theta\": [\"b\", \"gdp_per_cap\", \"gdp_growth\", \"sustainable_economic_development_assessment(seda)\", \"overall_economic_freedom\", \"c\"], \"mode\": \"lines\", \"line\": {\"shape\": \"spline\", \"color\": \"ffa60055\"}}, {\"type\": \"scatterpolar\", \"subplot\": \"polar\", \"r\": [-2.5, 1.3981148916764239, 0.7156051591811068, 0.8973145441616922, 0.7672857223115663, -2.5], \"theta\": [\"c\", \"political_stability&absence_of_violence\", \"control_of_corruption\", \"tax_burden\", \"government_spending\", \"d\"], \"mode\": \"lines\", \"line\": {\"shape\": \"spline\", \"color\": \"ff636155\"}}, {\"type\": \"scatterpolar\", \"subplot\": \"polar\", \"r\": [-2.5, 0.37168030538921093, 0.2282703527688417, 0.5635129971726959, -0.007892386965895297, -2.5], \"theta\": [\"d\", \"property_rights\", \"government_integrity\", \"judicial_effectiveness\", \"financial_freedom\", \"e\"], \"mode\": \"lines\", \"line\": {\"shape\": \"spline\", \"color\": \"bc509055\"}}, {\"type\": \"scatterpolar\", \"subplot\": \"polar\", \"r\": [-2.5, -0.10602542265210653, -0.17077828648912466, -0.5360694799504391, -0.8744160598063694, -2.5], \"theta\": [\"e\", \"total_foreign_born\", \"per_foreign_born\", \"population_living_abroad_diaspora\", \"population_living_abroad\", \"f\"], \"mode\": \"lines\", \"line\": {\"shape\": \"spline\", \"color\": \"003f5c55\"}}, {\"type\": \"scatterpolar\", \"subplot\": \"polar\", \"r\": [-2.5, -0.3572595874704182, -2.0274592423670565, -0.8755034560979695, 0.9540197497895327, -2.5], \"theta\": [\"a\", \"population_density\", \"human_development_index\", \"health_expenditure\", \"employment\", \"b\"], \"mode\": \"lines\", \"line\": {\"shape\": \"spline\", \"color\": \"45B5AA55\"}}, {\"type\": \"scatterpolar\", \"subplot\": \"polar\", \"r\": [-2.5, -0.5589426811602619, 0.4446213570153031, null, 0.03233486862599877, -2.5], \"theta\": [\"b\", \"gdp_per_cap\", \"gdp_growth\", \"sustainable_economic_development_assessment(seda)\", \"overall_economic_freedom\", \"c\"], \"mode\": \"lines\", \"line\": {\"shape\": \"spline\", \"color\": \"ffa60055\"}}, {\"type\": \"scatterpolar\", \"subplot\": \"polar\", \"r\": [-2.5, -0.8867868753300789, -0.08190936318087949, 0.4964523199141501, 1.3295144459707002, -2.5], \"theta\": [\"c\", \"political_stability&absence_of_violence\", \"control_of_corruption\", \"tax_burden\", \"government_spending\", \"d\"], \"mode\": \"lines\", \"line\": {\"shape\": \"spline\", \"color\": \"ff636155\"}}, {\"type\": \"scatterpolar\", \"subplot\": \"polar\", \"r\": [-2.5, -0.3758842674607063, -0.5463590552875044, 0.06503246746523501, -0.5208975397490914, -2.5], \"theta\": [\"d\", \"property_rights\", \"government_integrity\", \"judicial_effectiveness\", \"financial_freedom\", \"e\"], \"mode\": \"lines\", \"line\": {\"shape\": \"spline\", \"color\": \"bc509055\"}}, {\"type\": \"scatterpolar\", \"subplot\": \"polar\", \"r\": [-2.5, -0.4315434006565591, -0.6931839220064057, -0.5006792249404841, -0.7494420356148845, -2.5], \"theta\": [\"e\", \"total_foreign_born\", \"per_foreign_born\", \"population_living_abroad_diaspora\", \"population_living_abroad\", \"f\"], \"mode\": \"lines\", \"line\": {\"shape\": \"spline\", \"color\": \"003f5c55\"}}, {\"type\": \"scatterpolar\", \"subplot\": \"polar\", \"r\": [-2.5, -0.33001377910648705, -1.5323526807330021, -0.7590846881697089, -0.13855076715347706, -2.5], \"theta\": [\"a\", \"population_density\", \"human_development_index\", \"health_expenditure\", \"employment\", \"b\"], \"mode\": \"lines\", \"line\": {\"shape\": \"spline\", \"color\": \"45B5AA55\"}}, {\"type\": \"scatterpolar\", \"subplot\": \"polar\", \"r\": [-2.5, -0.5013609343946499, 0.17975015198313213, -1.0221301797824787, 0.8864771178556113, -2.5], \"theta\": [\"b\", \"gdp_per_cap\", \"gdp_growth\", \"sustainable_economic_development_assessment(seda)\", \"overall_economic_freedom\", \"c\"], \"mode\": \"lines\", \"line\": {\"shape\": \"spline\", \"color\": \"ffa60055\"}}, {\"type\": \"scatterpolar\", \"subplot\": \"polar\", \"r\": [-2.5, -0.7460109471732685, -0.33477983350899154, 0.47240095345962496, -1.665807904347161, -2.5], \"theta\": [\"c\", \"political_stability&absence_of_violence\", \"control_of_corruption\", \"tax_burden\", \"government_spending\", \"d\"], \"mode\": \"lines\", \"line\": {\"shape\": \"spline\", \"color\": \"ff636155\"}}, {\"type\": \"scatterpolar\", \"subplot\": \"polar\", \"r\": [-2.5, 0.5830607508874301, -0.45522606872211385, -0.46834154719756305, 1.018117918600497, -2.5], \"theta\": [\"d\", \"property_rights\", \"government_integrity\", \"judicial_effectiveness\", \"financial_freedom\", \"e\"], \"mode\": \"lines\", \"line\": {\"shape\": \"spline\", \"color\": \"bc509055\"}}, {\"type\": \"scatterpolar\", \"subplot\": \"polar\", \"r\": [-2.5, -0.4616860437401466, -0.7610288097818757, 0.25983816336311527, 0.06748370622141889, -2.5], \"theta\": [\"e\", \"total_foreign_born\", \"per_foreign_born\", \"population_living_abroad_diaspora\", \"population_living_abroad\", \"f\"], \"mode\": \"lines\", \"line\": {\"shape\": \"spline\", \"color\": \"003f5c55\"}}, {\"type\": \"scatterpolar\", \"subplot\": \"polar\", \"r\": [-2.5, -0.42033189923401176, -2.1797998800272316, -0.8539158699920669, -1.7378200589944648, -2.5], \"theta\": [\"a\", \"population_density\", \"human_development_index\", \"health_expenditure\", \"employment\", \"b\"], \"mode\": \"lines\", \"line\": {\"shape\": \"spline\", \"color\": \"45B5AA55\"}}, {\"type\": \"scatterpolar\", \"subplot\": \"polar\", \"r\": [-2.5, -0.5463027872438351, -0.4382825662027339, -0.9742414715032266, -0.33235494473818256, -2.5], \"theta\": [\"b\", \"gdp_per_cap\", \"gdp_growth\", \"sustainable_economic_development_assessment(seda)\", \"overall_economic_freedom\", \"c\"], \"mode\": \"lines\", \"line\": {\"shape\": \"spline\", \"color\": \"ffa60055\"}}, {\"type\": \"scatterpolar\", \"subplot\": \"polar\", \"r\": [-2.5, 0.1419603470504823, -0.6362792365368227, -1.1791515939404125, 0.059652999269131014, -2.5], \"theta\": [\"c\", \"political_stability&absence_of_violence\", \"control_of_corruption\", \"tax_burden\", \"government_spending\", \"d\"], \"mode\": \"lines\", \"line\": {\"shape\": \"spline\", \"color\": \"ff636155\"}}, {\"type\": \"scatterpolar\", \"subplot\": \"polar\", \"r\": [-2.5, -0.6542875076227775, -0.7912785628662313, -0.8770956195887272, -1.0339026925322876, -2.5], \"theta\": [\"d\", \"property_rights\", \"government_integrity\", \"judicial_effectiveness\", \"financial_freedom\", \"e\"], \"mode\": \"lines\", \"line\": {\"shape\": \"spline\", \"color\": \"bc509055\"}}, {\"type\": \"scatterpolar\", \"subplot\": \"polar\", \"r\": [-2.5, -0.2566544888221741, -0.4082353883956901, 0.006851118504438402, -0.738414927432121, -2.5], \"theta\": [\"e\", \"total_foreign_born\", \"per_foreign_born\", \"population_living_abroad_diaspora\", \"population_living_abroad\", \"f\"], \"mode\": \"lines\", \"line\": {\"shape\": \"spline\", \"color\": \"003f5c55\"}}, {\"type\": \"scatterpolar\", \"subplot\": \"polar\", \"r\": [-2.5, -0.5860665872566582, -1.5323526807330021, -0.8161375943067373, 0.9698538599928749, -2.5], \"theta\": [\"a\", \"population_density\", \"human_development_index\", \"health_expenditure\", \"employment\", \"b\"], \"mode\": \"lines\", \"line\": {\"shape\": \"spline\", \"color\": \"45B5AA55\"}}, {\"type\": \"scatterpolar\", \"subplot\": \"polar\", \"r\": [-2.5, -0.3693442489748566, 0.5329118054706264, -1.0482513009381391, -2.6644509082518657, -2.5], \"theta\": [\"b\", \"gdp_per_cap\", \"gdp_growth\", \"sustainable_economic_development_assessment(seda)\", \"overall_economic_freedom\", \"c\"], \"mode\": \"lines\", \"line\": {\"shape\": \"spline\", \"color\": \"ffa60055\"}}, {\"type\": \"scatterpolar\", \"subplot\": \"polar\", \"r\": [-2.5, 0.8566689297447326, 0.28767055722060003, -2.036996814996874, 0.7091242704708428, -2.5], \"theta\": [\"c\", \"political_stability&absence_of_violence\", \"control_of_corruption\", \"tax_burden\", \"government_spending\", \"d\"], \"mode\": \"lines\", \"line\": {\"shape\": \"spline\", \"color\": \"ff636155\"}}, {\"type\": \"scatterpolar\", \"subplot\": \"polar\", \"r\": [-2.5, -1.0151807496882548, -0.18752347746028494, -1.7843302216873522, -2.05991299809868, -2.5], \"theta\": [\"d\", \"property_rights\", \"government_integrity\", \"judicial_effectiveness\", \"financial_freedom\", \"e\"], \"mode\": \"lines\", \"line\": {\"shape\": \"spline\", \"color\": \"bc509055\"}}, {\"type\": \"scatterpolar\", \"subplot\": \"polar\", \"r\": [-2.5, -0.21002241812189404, -0.6117700633482276, -0.44985128136806035, -1.0085793408168238, -2.5], \"theta\": [\"e\", \"total_foreign_born\", \"per_foreign_born\", \"population_living_abroad_diaspora\", \"population_living_abroad\", \"f\"], \"mode\": \"lines\", \"line\": {\"shape\": \"spline\", \"color\": \"003f5c55\"}}, {\"type\": \"scatterpolar\", \"subplot\": \"polar\", \"r\": [-2.5, 1.700715763142587, 0.5242451331614518, -0.10528922324808615, -0.42356837500915034, -2.5], \"theta\": [\"a\", \"population_density\", \"human_development_index\", \"health_expenditure\", \"employment\", \"b\"], \"mode\": \"lines\", \"line\": {\"shape\": \"spline\", \"color\": \"45B5AA55\"}}, {\"type\": \"scatterpolar\", \"subplot\": \"polar\", \"r\": [-2.5, -0.23592312531696782, -0.2617017745424366, 0.3143997028207308, 0.7809091392319056, -2.5], \"theta\": [\"b\", \"gdp_per_cap\", \"gdp_growth\", \"sustainable_economic_development_assessment(seda)\", \"overall_economic_freedom\", \"c\"], \"mode\": \"lines\", \"line\": {\"shape\": \"spline\", \"color\": \"ffa60055\"}}, {\"type\": \"scatterpolar\", \"subplot\": \"polar\", \"r\": [-2.5, 0.7592086966151642, 0.783685662062203, 0.06352099539336212, 1.092021173021676, -2.5], \"theta\": [\"c\", \"political_stability&absence_of_violence\", \"control_of_corruption\", \"tax_burden\", \"government_spending\", \"d\"], \"mode\": \"lines\", \"line\": {\"shape\": \"spline\", \"color\": \"ff636155\"}}, {\"type\": \"scatterpolar\", \"subplot\": \"polar\", \"r\": [-2.5, 1.124400417314437, -0.005257721607164634, 0.5435738900775363, 0.5051127658173008, -2.5], \"theta\": [\"d\", \"property_rights\", \"government_integrity\", \"judicial_effectiveness\", \"financial_freedom\", \"e\"], \"mode\": \"lines\", \"line\": {\"shape\": \"spline\", \"color\": \"bc509055\"}}, {\"type\": \"scatterpolar\", \"subplot\": \"polar\", \"r\": [-2.5, -0.4195865575274056, -0.5235717144465996, -0.30781119068449236, -0.18889680002591308, -2.5], \"theta\": [\"e\", \"total_foreign_born\", \"per_foreign_born\", \"population_living_abroad_diaspora\", \"population_living_abroad\", \"f\"], \"mode\": \"lines\", \"line\": {\"shape\": \"spline\", \"color\": \"003f5c55\"}}, {\"type\": \"scatterpolar\", \"subplot\": \"polar\", \"r\": [-2.5, -0.5905423277877929, -0.5649898926467745, -0.2263339024847545, -0.8510965988904176, -2.5], \"theta\": [\"a\", \"population_density\", \"human_development_index\", \"health_expenditure\", \"employment\", \"b\"], \"mode\": \"lines\", \"line\": {\"shape\": \"spline\", \"color\": \"45B5AA55\"}}, {\"type\": \"scatterpolar\", \"subplot\": \"polar\", \"r\": [-2.5, -0.2345186870788722, 1.3275252802333402, -0.6041925734389292, 0.1858883586423704, -2.5], \"theta\": [\"b\", \"gdp_per_cap\", \"gdp_growth\", \"sustainable_economic_development_assessment(seda)\", \"overall_economic_freedom\", \"c\"], \"mode\": \"lines\", \"line\": {\"shape\": \"spline\", \"color\": \"ffa60055\"}}, {\"type\": \"scatterpolar\", \"subplot\": \"polar\", \"r\": [-2.5, 0.28273627722433575, -0.6946339615735064, 0.8171420993121838, -0.37655899888077343, -2.5], \"theta\": [\"c\", \"political_stability&absence_of_violence\", \"control_of_corruption\", \"tax_burden\", \"government_spending\", \"d\"], \"mode\": \"lines\", \"line\": {\"shape\": \"spline\", \"color\": \"ff636155\"}}, {\"type\": \"scatterpolar\", \"subplot\": \"polar\", \"r\": [-2.5, 0.11905515394610228, -0.8653239650722193, -1.1313207087550554, -0.5208975397490914, -2.5], \"theta\": [\"d\", \"property_rights\", \"government_integrity\", \"judicial_effectiveness\", \"financial_freedom\", \"e\"], \"mode\": \"lines\", \"line\": {\"shape\": \"spline\", \"color\": \"bc509055\"}}, {\"type\": \"scatterpolar\", \"subplot\": \"polar\", \"r\": [-2.5, -0.2946956863080975, -0.618554545503937, -0.372857370271663, -0.7558745372970797, -2.5], \"theta\": [\"e\", \"total_foreign_born\", \"per_foreign_born\", \"population_living_abroad_diaspora\", \"population_living_abroad\", \"f\"], \"mode\": \"lines\", \"line\": {\"shape\": \"spline\", \"color\": \"003f5c55\"}}, {\"type\": \"scatterpolar\", \"subplot\": \"polar\", \"r\": [-2.5, 0.18479752314108047, -1.0067777191607712, -0.7151385307398357, 0.526492733973437, -2.5], \"theta\": [\"a\", \"population_density\", \"human_development_index\", \"health_expenditure\", \"employment\", \"b\"], \"mode\": \"lines\", \"line\": {\"shape\": \"spline\", \"color\": \"45B5AA55\"}}, {\"type\": \"scatterpolar\", \"subplot\": \"polar\", \"r\": [-2.5, -0.5912446384188058, 2.2692894088657263, null, -0.6586565686484701, -2.5], \"theta\": [\"b\", \"gdp_per_cap\", \"gdp_growth\", \"sustainable_economic_development_assessment(seda)\", \"overall_economic_freedom\", \"c\"], \"mode\": \"lines\", \"line\": {\"shape\": \"spline\", \"color\": \"ffa60055\"}}, {\"type\": \"scatterpolar\", \"subplot\": \"polar\", \"r\": [-2.5, -1.7206136011958562, -0.5195697864634552, 0.167745418364608, 0.5491797232366141, -2.5], \"theta\": [\"c\", \"political_stability&absence_of_violence\", \"control_of_corruption\", \"tax_burden\", \"government_spending\", \"d\"], \"mode\": \"lines\", \"line\": {\"shape\": \"spline\", \"color\": \"ff636155\"}}, {\"type\": \"scatterpolar\", \"subplot\": \"polar\", \"r\": [-2.5, -0.9430021209422803, -0.21030656114338694, -0.4085240357568528, -1.5469078453154836, -2.5], \"theta\": [\"d\", \"property_rights\", \"government_integrity\", \"judicial_effectiveness\", \"financial_freedom\", \"e\"], \"mode\": \"lines\", \"line\": {\"shape\": \"spline\", \"color\": \"bc509055\"}}, {\"type\": \"scatterpolar\", \"subplot\": \"polar\", \"r\": [-2.5, -0.46967639732197697, -0.543925177089209, -0.6922929651473905, 0.18418733354908182, -2.5], \"theta\": [\"e\", \"total_foreign_born\", \"per_foreign_born\", \"population_living_abroad_diaspora\", \"population_living_abroad\", \"f\"], \"mode\": \"lines\", \"line\": {\"shape\": \"spline\", \"color\": \"003f5c55\"}}, {\"type\": \"scatterpolar\", \"subplot\": \"polar\", \"r\": [-2.5, 0.1682150847126392, 0.5775640952866274, -0.28415779383985085, 0.17813626917405206, -2.5], \"theta\": [\"a\", \"population_density\", \"human_development_index\", \"health_expenditure\", \"employment\", \"b\"], \"mode\": \"lines\", \"line\": {\"shape\": \"spline\", \"color\": \"45B5AA55\"}}, {\"type\": \"scatterpolar\", \"subplot\": \"polar\", \"r\": [-2.5, -0.5631559824808331, 0.5329118054706264, 0.26651091150472384, 0.22427691419666243, -2.5], \"theta\": [\"b\", \"gdp_per_cap\", \"gdp_growth\", \"sustainable_economic_development_assessment(seda)\", \"overall_economic_freedom\", \"c\"], \"mode\": \"lines\", \"line\": {\"shape\": \"spline\", \"color\": \"ffa60055\"}}, {\"type\": \"scatterpolar\", \"subplot\": \"polar\", \"r\": [-2.5, 0.964958135040147, 0.3752026447756256, 0.5605905204606417, 0.23413772457279428, -2.5], \"theta\": [\"c\", \"political_stability&absence_of_violence\", \"control_of_corruption\", \"tax_burden\", \"government_spending\", \"d\"], \"mode\": \"lines\", \"line\": {\"shape\": \"spline\", \"color\": \"ff636155\"}}, {\"type\": \"scatterpolar\", \"subplot\": \"polar\", \"r\": [-2.5, 0.9748878174183881, -0.37548494991476555, 0.06503246746523501, -0.007892386965895297, -2.5], \"theta\": [\"d\", \"property_rights\", \"government_integrity\", \"judicial_effectiveness\", \"financial_freedom\", \"e\"], \"mode\": \"lines\", \"line\": {\"shape\": \"spline\", \"color\": \"bc509055\"}}, {\"type\": \"scatterpolar\", \"subplot\": \"polar\", \"r\": [-2.5, -0.4497923125468955, 0.1141702228583688, -0.7621530788396154, -0.22841067007423155, -2.5], \"theta\": [\"e\", \"total_foreign_born\", \"per_foreign_born\", \"population_living_abroad_diaspora\", \"population_living_abroad\", \"f\"], \"mode\": \"lines\", \"line\": {\"shape\": \"spline\", \"color\": \"003f5c55\"}}, {\"type\": \"scatterpolar\", \"subplot\": \"polar\", \"mode\": \"lines\", \"marker\": {\"color\": \"rgba(180,120,150,0)\"}, \"r\": [0, 0, 0, 0, 0], \"theta\": [\"f\", \"g\", \"h\", \"i\", \"j\"], \"line\": {\"color\": [\"003f5c55\"], \"smoothing\": 1.3}, \"hoverlabel\": {\"namelength\": 20}}, {\"type\": \"scatterpolar\", \"subplot\": \"polar2\", \"r\": [-2.5, -0.4559281473893844, 0.653734300614156, 0.35730190759268465, -0.34439661592726806, -2.5], \"theta\": [\"a\", \"population_density\", \"human_development_index\", \"health_expenditure\", \"employment\", \"b\"], \"mode\": \"lines\", \"line\": {\"shape\": \"spline\", \"color\": \"45B5AA55\"}}, {\"type\": \"scatterpolar\", \"subplot\": \"polar2\", \"r\": [-2.5, -0.47327227678246275, 0.3563309787268793, 0.3231067708848694, -1.4360217067694987, -2.5], \"theta\": [\"b\", \"gdp_per_cap\", \"gdp_growth\", \"sustainable_economic_development_assessment(seda)\", \"overall_economic_freedom\", \"c\"], \"mode\": \"lines\", \"line\": {\"shape\": \"spline\", \"color\": \"ffa60055\"}}, {\"type\": \"scatterpolar\", \"subplot\": \"polar2\", \"r\": [-2.5, -0.9301025058119401, -0.5681987336557265, -0.032685693759163074, 1.198650994438326, -2.5], \"theta\": [\"c\", \"political_stability&absence_of_violence\", \"control_of_corruption\", \"tax_burden\", \"government_spending\", \"d\"], \"mode\": \"lines\", \"line\": {\"shape\": \"spline\", \"color\": \"ff636155\"}}, {\"type\": \"scatterpolar\", \"subplot\": \"polar2\", \"r\": [-2.5, -1.1131375654887967, -0.7058415101798619, -0.5281592487935046, -1.0339026925322876, -2.5], \"theta\": [\"d\", \"property_rights\", \"government_integrity\", \"judicial_effectiveness\", \"financial_freedom\", \"e\"], \"mode\": \"lines\", \"line\": {\"shape\": \"spline\", \"color\": \"bc509055\"}}, {\"type\": \"scatterpolar\", \"subplot\": \"polar2\", \"r\": [-2.5, -0.3608331701680444, 0.3380582957515901, -0.6799184252464612, -0.4112770341341412, -2.5], \"theta\": [\"e\", \"total_foreign_born\", \"per_foreign_born\", \"population_living_abroad_diaspora\", \"population_living_abroad\", \"f\"], \"mode\": \"lines\", \"line\": {\"shape\": \"spline\", \"color\": \"003f5c55\"}}, {\"type\": \"scatterpolar\", \"subplot\": \"polar2\", \"r\": [-2.5, 1.8541133015029718, 0.6004153384889804, -0.0012062188089127172, 0.3839833260130146, -2.5], \"theta\": [\"a\", \"population_density\", \"human_development_index\", \"health_expenditure\", \"employment\", \"b\"], \"mode\": \"lines\", \"line\": {\"shape\": \"spline\", \"color\": \"45B5AA55\"}}, {\"type\": \"scatterpolar\", \"subplot\": \"polar2\", \"r\": [-2.5, -0.5322584550893126, 0.1503200492759574, 0.34052074093963636, -1.0617349375669434, -2.5], \"theta\": [\"b\", \"gdp_per_cap\", \"gdp_growth\", \"sustainable_economic_development_assessment(seda)\", \"overall_economic_freedom\", \"c\"], \"mode\": \"lines\", \"line\": {\"shape\": \"spline\", \"color\": \"ffa60055\"}}, {\"type\": \"scatterpolar\", \"subplot\": \"polar2\", \"r\": [-2.5, -0.20456501751426764, -1.3462616568512311, 0.6407629653101502, -0.9145539075334367, -2.5], \"theta\": [\"c\", \"political_stability&absence_of_violence\", \"control_of_corruption\", \"tax_burden\", \"government_spending\", \"d\"], \"mode\": \"lines\", \"line\": {\"shape\": \"spline\", \"color\": \"ff636155\"}}, {\"type\": \"scatterpolar\", \"subplot\": \"polar2\", \"r\": [-2.5, -0.6903768711635672, -1.2811176866625156, -1.0166702249533857, -0.5208975397490914, -2.5], \"theta\": [\"d\", \"property_rights\", \"government_integrity\", \"judicial_effectiveness\", \"financial_freedom\", \"e\"], \"mode\": \"lines\", \"line\": {\"shape\": \"spline\", \"color\": \"bc509055\"}}, {\"type\": \"scatterpolar\", \"subplot\": \"polar2\", \"r\": [-2.5, -0.4083220332102728, -0.0011660708415778987, -0.5104464591560464, 1.1334384612142128, -2.5], \"theta\": [\"e\", \"total_foreign_born\", \"per_foreign_born\", \"population_living_abroad_diaspora\", \"population_living_abroad\", \"f\"], \"mode\": \"lines\", \"line\": {\"shape\": \"spline\", \"color\": \"003f5c55\"}}, {\"type\": \"scatterpolar\", \"subplot\": \"polar2\", \"r\": [-2.5, -0.24678633609154157, 0.5547133060945105, 0.03888501253062075, -0.3760660443991239, -2.5], \"theta\": [\"a\", \"population_density\", \"human_development_index\", \"health_expenditure\", \"employment\", \"b\"], \"mode\": \"lines\", \"line\": {\"shape\": \"spline\", \"color\": \"45B5AA55\"}}, {\"type\": \"scatterpolar\", \"subplot\": \"polar2\", \"r\": [-2.5, 0.5337060557545554, -0.5854332200724067, 0.25780400951409543, -0.25557819972999674, -2.5], \"theta\": [\"b\", \"gdp_per_cap\", \"gdp_growth\", \"sustainable_economic_development_assessment(seda)\", \"overall_economic_freedom\", \"c\"], \"mode\": \"lines\", \"line\": {\"shape\": \"spline\", \"color\": \"ffa60055\"}}, {\"type\": \"scatterpolar\", \"subplot\": \"polar2\", \"r\": [-2.5, 1.1707075734651298, 1.4061360238066902, -0.032685693759163074, 1.489458993204929, -2.5], \"theta\": [\"c\", \"political_stability&absence_of_violence\", \"control_of_corruption\", \"tax_burden\", \"government_spending\", \"d\"], \"mode\": \"lines\", \"line\": {\"shape\": \"spline\", \"color\": \"ff636155\"}}, {\"type\": \"scatterpolar\", \"subplot\": \"polar2\", \"r\": [-2.5, 0.1035883400489665, 0.706717717445914, 0.42892340627586656, 0.5051127658173008, -2.5], \"theta\": [\"d\", \"property_rights\", \"government_integrity\", \"judicial_effectiveness\", \"financial_freedom\", \"e\"], \"mode\": \"lines\", \"line\": {\"shape\": \"spline\", \"color\": \"bc509055\"}}, {\"type\": \"scatterpolar\", \"subplot\": \"polar2\", \"r\": [-2.5, 0.332233422668981, -0.17756280099579674, -0.4096354784192633, -1.0223632260452782, -2.5], \"theta\": [\"e\", \"total_foreign_born\", \"per_foreign_born\", \"population_living_abroad_diaspora\", \"population_living_abroad\", \"f\"], \"mode\": \"lines\", \"line\": {\"shape\": \"spline\", \"color\": \"003f5c55\"}}, {\"type\": \"scatterpolar\", \"subplot\": \"polar2\", \"r\": [-2.5, -0.2375894650499646, -0.04703231481548522, -0.5008046401169451, 1.2707067861170618, -2.5], \"theta\": [\"a\", \"population_density\", \"human_development_index\", \"health_expenditure\", \"employment\", \"b\"], \"mode\": \"lines\", \"line\": {\"shape\": \"spline\", \"color\": \"45B5AA55\"}}, {\"type\": \"scatterpolar\", \"subplot\": \"polar2\", \"r\": [-2.5, -0.5884357728250085, 0.7977828701689982, null, -0.2843694333455166, -2.5], \"theta\": [\"b\", \"gdp_per_cap\", \"gdp_growth\", \"sustainable_economic_development_assessment(seda)\", \"overall_economic_freedom\", \"c\"], \"mode\": \"lines\", \"line\": {\"shape\": \"spline\", \"color\": \"ffa60055\"}}, {\"type\": \"scatterpolar\", \"subplot\": \"polar2\", \"r\": [-2.5, 0.1636181844788875, -0.5098440086190428, -0.5618237074324762, 0.3213802721153722, -2.5], \"theta\": [\"c\", \"political_stability&absence_of_violence\", \"control_of_corruption\", \"tax_burden\", \"government_spending\", \"d\"], \"mode\": \"lines\", \"line\": {\"shape\": \"spline\", \"color\": \"ff636155\"}}, {\"type\": \"scatterpolar\", \"subplot\": \"polar2\", \"r\": [-2.5, -0.7161549598825298, -0.6374918245752341, -0.7225667314415068, -0.007892386965895297, -2.5], \"theta\": [\"d\", \"property_rights\", \"government_integrity\", \"judicial_effectiveness\", \"financial_freedom\", \"e\"], \"mode\": \"lines\", \"line\": {\"shape\": \"spline\", \"color\": \"bc509055\"}}, {\"type\": \"scatterpolar\", \"subplot\": \"polar2\", \"r\": [-2.5, -0.46140299627003867, -0.16399383668437809, -0.5936218332860145, 3.242374982514792, -2.5], \"theta\": [\"e\", \"total_foreign_born\", \"per_foreign_born\", \"population_living_abroad_diaspora\", \"population_living_abroad\", \"f\"], \"mode\": \"lines\", \"line\": {\"shape\": \"spline\", \"color\": \"003f5c55\"}}, {\"type\": \"scatterpolar\", \"subplot\": \"polar2\", \"r\": [-2.5, -0.5873122083789333, -0.5116709305215988, -0.693550944633933, 1.1757009168318375, -2.5], \"theta\": [\"a\", \"population_density\", \"human_development_index\", \"health_expenditure\", \"employment\", \"b\"], \"mode\": \"lines\", \"line\": {\"shape\": \"spline\", \"color\": \"45B5AA55\"}}, {\"type\": \"scatterpolar\", \"subplot\": \"polar2\", \"r\": [-2.5, -0.5154052632007434, -1.939219207606637, -0.44311239550965137, -0.8410012922803617, -2.5], \"theta\": [\"b\", \"gdp_per_cap\", \"gdp_growth\", \"sustainable_economic_development_assessment(seda)\", \"overall_economic_freedom\", \"c\"], \"mode\": \"lines\", \"line\": {\"shape\": \"spline\", \"color\": \"ffa60055\"}}, {\"type\": \"scatterpolar\", \"subplot\": \"polar2\", \"r\": [-2.5, -2.0238232727504073, -1.2198264289334513, -0.2732030283076884, 0.6121882708819751, -2.5], \"theta\": [\"c\", \"political_stability&absence_of_violence\", \"control_of_corruption\", \"tax_burden\", \"government_spending\", \"d\"], \"mode\": \"lines\", \"line\": {\"shape\": \"spline\", \"color\": \"ff636155\"}}, {\"type\": \"scatterpolar\", \"subplot\": \"polar2\", \"r\": [-2.5, -1.6390105163542723, -0.8653239650722193, -1.2011079638985769, -1.0339026925322876, -2.5], \"theta\": [\"d\", \"property_rights\", \"government_integrity\", \"judicial_effectiveness\", \"financial_freedom\", \"e\"], \"mode\": \"lines\", \"line\": {\"shape\": \"spline\", \"color\": \"bc509055\"}}, {\"type\": \"scatterpolar\", \"subplot\": \"polar2\", \"r\": [-2.5, -0.44483324437128846, -0.6524769886334463, 0.5400886830387154, 2.1323115318839467, -2.5], \"theta\": [\"e\", \"total_foreign_born\", \"per_foreign_born\", \"population_living_abroad_diaspora\", \"population_living_abroad\", \"f\"], \"mode\": \"lines\", \"line\": {\"shape\": \"spline\", \"color\": \"003f5c55\"}}, {\"type\": \"scatterpolar\", \"subplot\": \"polar2\", \"r\": [-2.5, 0.3845375319998872, 0.08245730664745513, -0.5586285314720415, 0.7165044725438859, -2.5], \"theta\": [\"a\", \"population_density\", \"human_development_index\", \"health_expenditure\", \"employment\", \"b\"], \"mode\": \"lines\", \"line\": {\"shape\": \"spline\", \"color\": \"45B5AA55\"}}, {\"type\": \"scatterpolar\", \"subplot\": \"polar2\", \"r\": [-2.5, -0.2429452897200146, 1.0037938697868196, -0.142719626774687, -0.7450302694950298, -2.5], \"theta\": [\"b\", \"gdp_per_cap\", \"gdp_growth\", \"sustainable_economic_development_assessment(seda)\", \"overall_economic_freedom\", \"c\"], \"mode\": \"lines\", \"line\": {\"shape\": \"spline\", \"color\": \"ffa60055\"}}, {\"type\": \"scatterpolar\", \"subplot\": \"polar2\", \"r\": [-2.5, -1.0600495908936658, -1.122568534548909, -0.05673767188090052, 0.9223831737411575, -2.5], \"theta\": [\"c\", \"political_stability&absence_of_violence\", \"control_of_corruption\", \"tax_burden\", \"government_spending\", \"d\"], \"mode\": \"lines\", \"line\": {\"shape\": \"spline\", \"color\": \"ff636155\"}}, {\"type\": \"scatterpolar\", \"subplot\": \"polar2\", \"r\": [-2.5, -0.4532185336175943, -1.0248065286034072, -0.8172780130704014, -0.007892386965895297, -2.5], \"theta\": [\"d\", \"property_rights\", \"government_integrity\", \"judicial_effectiveness\", \"financial_freedom\", \"e\"], \"mode\": \"lines\", \"line\": {\"shape\": \"spline\", \"color\": \"bc509055\"}}, {\"type\": \"scatterpolar\", \"subplot\": \"polar2\", \"r\": [-2.5, -0.42994838991284284, -0.6796149496072463, 2.302978644818959, 1.2666828822695195, -2.5], \"theta\": [\"e\", \"total_foreign_born\", \"per_foreign_born\", \"population_living_abroad_diaspora\", \"population_living_abroad\", \"f\"], \"mode\": \"lines\", \"line\": {\"shape\": \"spline\", \"color\": \"003f5c55\"}}, {\"type\": \"scatterpolar\", \"subplot\": \"polar2\", \"r\": [-2.5, -0.3981318814512231, 0.51662774942051, 0.23702821357408424, 0.43148565662304106, -2.5], \"theta\": [\"a\", \"population_density\", \"human_development_index\", \"health_expenditure\", \"employment\", \"b\"], \"mode\": \"lines\", \"line\": {\"shape\": \"spline\", \"color\": \"45B5AA55\"}}, {\"type\": \"scatterpolar\", \"subplot\": \"polar2\", \"r\": [-2.5, 0.7050469314787322, -0.026260707300890158, 0.06624917639708769, 0.33944221475914027, -2.5], \"theta\": [\"b\", \"gdp_per_cap\", \"gdp_growth\", \"sustainable_economic_development_assessment(seda)\", \"overall_economic_freedom\", \"c\"], \"mode\": \"lines\", \"line\": {\"shape\": \"spline\", \"color\": \"ffa60055\"}}, {\"type\": \"scatterpolar\", \"subplot\": \"polar2\", \"r\": [-2.5, -0.16124935475971608, -0.470940839271184, 0.3601594083368707, 1.2568124462790495, -2.5], \"theta\": [\"c\", \"political_stability&absence_of_violence\", \"control_of_corruption\", \"tax_burden\", \"government_spending\", \"d\"], \"mode\": \"lines\", \"line\": {\"shape\": \"spline\", \"color\": \"ff636155\"}}, {\"type\": \"scatterpolar\", \"subplot\": \"polar2\", \"r\": [-2.5, -0.623353879828506, -0.9222820001964657, -0.5181896001683092, 0.5051127658173008, -2.5], \"theta\": [\"d\", \"property_rights\", \"government_integrity\", \"judicial_effectiveness\", \"financial_freedom\", \"e\"], \"mode\": \"lines\", \"line\": {\"shape\": \"spline\", \"color\": \"bc509055\"}}, {\"type\": \"scatterpolar\", \"subplot\": \"polar2\", \"r\": [-2.5, -0.12100016380714047, -0.44894234603187155, -0.3819916505457887, -0.9488491057667723, -2.5], \"theta\": [\"e\", \"total_foreign_born\", \"per_foreign_born\", \"population_living_abroad_diaspora\", \"population_living_abroad\", \"f\"], \"mode\": \"lines\", \"line\": {\"shape\": \"spline\", \"color\": \"003f5c55\"}}, {\"type\": \"scatterpolar\", \"subplot\": \"polar2\", \"r\": [-2.5, 0.481778735006456, 0.1967126146387481, -0.4275610444004898, 0.2731421384592765, -2.5], \"theta\": [\"a\", \"population_density\", \"human_development_index\", \"health_expenditure\", \"employment\", \"b\"], \"mode\": \"lines\", \"line\": {\"shape\": \"spline\", \"color\": \"45B5AA55\"}}, {\"type\": \"scatterpolar\", \"subplot\": \"polar2\", \"r\": [-2.5, -0.5701781468838799, 0.6800624593402993, null, -1.723934775125494, -2.5], \"theta\": [\"b\", \"gdp_per_cap\", \"gdp_growth\", \"sustainable_economic_development_assessment(seda)\", \"overall_economic_freedom\", \"c\"], \"mode\": \"lines\", \"line\": {\"shape\": \"spline\", \"color\": \"ffa60055\"}}, {\"type\": \"scatterpolar\", \"subplot\": \"polar2\", \"r\": [-2.5, -0.6052350190164583, -1.1420202061781513, 0.44033185318637913, 0.6897369965967708, -2.5], \"theta\": [\"c\", \"political_stability&absence_of_violence\", \"control_of_corruption\", \"tax_burden\", \"government_spending\", \"d\"], \"mode\": \"lines\", \"line\": {\"shape\": \"spline\", \"color\": \"ff636155\"}}, {\"type\": \"scatterpolar\", \"subplot\": \"polar2\", \"r\": [-2.5, -0.7161549598825298, -1.0248065286034072, -1.5949076108907556, -1.5469078453154836, -2.5], \"theta\": [\"d\", \"property_rights\", \"government_integrity\", \"judicial_effectiveness\", \"financial_freedom\", \"e\"], \"mode\": \"lines\", \"line\": {\"shape\": \"spline\", \"color\": \"bc509055\"}}, {\"type\": \"scatterpolar\", \"subplot\": \"polar2\", \"r\": [-2.5, -0.4498305622050182, -0.3132525735138341, -0.6354403452975317, 0.8595983889197552, -2.5], \"theta\": [\"e\", \"total_foreign_born\", \"per_foreign_born\", \"population_living_abroad_diaspora\", \"population_living_abroad\", \"f\"], \"mode\": \"lines\", \"line\": {\"shape\": \"spline\", \"color\": \"003f5c55\"}}, {\"type\": \"scatterpolar\", \"subplot\": \"polar2\", \"r\": [-2.5, 0.43964233550445936, 0.013904031050632128, -0.5902389254128275, 0.33647978733781664, -2.5], \"theta\": [\"a\", \"population_density\", \"human_development_index\", \"health_expenditure\", \"employment\", \"b\"], \"mode\": \"lines\", \"line\": {\"shape\": \"spline\", \"color\": \"45B5AA55\"}}, {\"type\": \"scatterpolar\", \"subplot\": \"polar2\", \"r\": [-2.5, -0.5828180408003067, -0.4088524284121094, null, 1.8365903898705558, -2.5], \"theta\": [\"b\", \"gdp_per_cap\", \"gdp_growth\", \"sustainable_economic_development_assessment(seda)\", \"overall_economic_freedom\", \"c\"], \"mode\": \"lines\", \"line\": {\"shape\": \"spline\", \"color\": \"ffa60055\"}}, {\"type\": \"scatterpolar\", \"subplot\": \"polar2\", \"r\": [-2.5, 0.8241822068833367, 1.2310719066668478, 0.5044694420656585, 0.7042771746662053, -2.5], \"theta\": [\"c\", \"political_stability&absence_of_violence\", \"control_of_corruption\", \"tax_burden\", \"government_spending\", \"d\"], \"mode\": \"lines\", \"line\": {\"shape\": \"spline\", \"color\": \"ff636155\"}}, {\"type\": \"scatterpolar\", \"subplot\": \"polar2\", \"r\": [-2.5, 1.598717485748801, 1.9540985563003115, 1.8994409689128762, 1.531123071383693, -2.5], \"theta\": [\"d\", \"property_rights\", \"government_integrity\", \"judicial_effectiveness\", \"financial_freedom\", \"e\"], \"mode\": \"lines\", \"line\": {\"shape\": \"spline\", \"color\": \"bc509055\"}}, {\"type\": \"scatterpolar\", \"subplot\": \"polar2\", \"r\": [-2.5, -0.46550144713788516, -0.13007139355486874, -0.6208940184782786, 2.1267981968817296, -2.5], \"theta\": [\"e\", \"total_foreign_born\", \"per_foreign_born\", \"population_living_abroad_diaspora\", \"population_living_abroad\", \"f\"], \"mode\": \"lines\", \"line\": {\"shape\": \"spline\", \"color\": \"003f5c55\"}}, {\"type\": \"scatterpolar\", \"subplot\": \"polar2\", \"r\": [-2.5, -0.5885688663837844, -0.008946758141484818, -0.16851001112965816, -1.500304781748818, -2.5], \"theta\": [\"a\", \"population_density\", \"human_development_index\", \"health_expenditure\", \"employment\", \"b\"], \"mode\": \"lines\", \"line\": {\"shape\": \"spline\", \"color\": \"45B5AA55\"}}, {\"type\": \"scatterpolar\", \"subplot\": \"polar2\", \"r\": [-2.5, -0.4887210371297941, 0.4446213570153031, -0.012114104033139053, -0.1596071769446649, -2.5], \"theta\": [\"b\", \"gdp_per_cap\", \"gdp_growth\", \"sustainable_economic_development_assessment(seda)\", \"overall_economic_freedom\", \"c\"], \"mode\": \"lines\", \"line\": {\"shape\": \"spline\", \"color\": \"ffa60055\"}}, {\"type\": \"scatterpolar\", \"subplot\": \"polar2\", \"r\": [-2.5, 0.012013328531180449, -0.7627144644546027, -0.008633715637425632, -1.6948886302675228, -2.5], \"theta\": [\"c\", \"political_stability&absence_of_violence\", \"control_of_corruption\", \"tax_burden\", \"government_spending\", \"d\"], \"mode\": \"lines\", \"line\": {\"shape\": \"spline\", \"color\": \"ff636155\"}}, {\"type\": \"scatterpolar\", \"subplot\": \"polar2\", \"r\": [-2.5, -1.0048695732020325, -0.45522606872211385, -0.8970349168391182, -0.5208975397490914, -2.5], \"theta\": [\"d\", \"property_rights\", \"government_integrity\", \"judicial_effectiveness\", \"financial_freedom\", \"e\"], \"mode\": \"lines\", \"line\": {\"shape\": \"spline\", \"color\": \"bc509055\"}}, {\"type\": \"scatterpolar\", \"subplot\": \"polar2\", \"r\": [-2.5, -0.3846818320075429, -0.25897665156623406, -0.01878641958218913, 1.521225405699559, -2.5], \"theta\": [\"e\", \"total_foreign_born\", \"per_foreign_born\", \"population_living_abroad_diaspora\", \"population_living_abroad\", \"f\"], \"mode\": \"lines\", \"line\": {\"shape\": \"spline\", \"color\": \"003f5c55\"}}, {\"type\": \"scatterpolar\", \"subplot\": \"polar2\", \"r\": [-2.5, 0.38456347625276494, 0.47854264675674574, 0.7466494427170001, 0.7481726929505702, -2.5], \"theta\": [\"a\", \"population_density\", \"human_development_index\", \"health_expenditure\", \"employment\", \"b\"], \"mode\": \"lines\", \"line\": {\"shape\": \"spline\", \"color\": \"45B5AA55\"}}, {\"type\": \"scatterpolar\", \"subplot\": \"polar2\", \"r\": [-2.5, 0.012661478478429414, -0.2911319123330611, 0.24909694144995684, 1.3951230992973922, -2.5], \"theta\": [\"b\", \"gdp_per_cap\", \"gdp_growth\", \"sustainable_economic_development_assessment(seda)\", \"overall_economic_freedom\", \"c\"], \"mode\": \"lines\", \"line\": {\"shape\": \"spline\", \"color\": \"ffa60055\"}}, {\"type\": \"scatterpolar\", \"subplot\": \"polar2\", \"r\": [-2.5, 0.7375508168288528, 1.814619157033685, -1.0508758045146414, -0.18268699970303812, -2.5], \"theta\": [\"c\", \"political_stability&absence_of_violence\", \"control_of_corruption\", \"tax_burden\", \"government_spending\", \"d\"], \"mode\": \"lines\", \"line\": {\"shape\": \"spline\", \"color\": \"ff636155\"}}, {\"type\": \"scatterpolar\", \"subplot\": \"polar2\", \"r\": [-2.5, 1.6296511135430725, 1.9313156898948702, 1.6053373803233817, 1.018117918600497, -2.5], \"theta\": [\"d\", \"property_rights\", \"government_integrity\", \"judicial_effectiveness\", \"financial_freedom\", \"e\"], \"mode\": \"lines\", \"line\": {\"shape\": \"spline\", \"color\": \"bc509055\"}}, {\"type\": \"scatterpolar\", \"subplot\": \"polar2\", \"r\": [-2.5, -0.37885449659255077, -0.6049855650170369, 0.25858677277247694, 0.6491641229494383, -2.5], \"theta\": [\"e\", \"total_foreign_born\", \"per_foreign_born\", \"population_living_abroad_diaspora\", \"population_living_abroad\", \"f\"], \"mode\": \"lines\", \"line\": {\"shape\": \"spline\", \"color\": \"003f5c55\"}}, {\"type\": \"scatterpolar\", \"subplot\": \"polar2\", \"r\": [-2.5, -0.5289146394361428, 0.6308835114220391, 0.39508018327801425, 0.5106574157049233, -2.5], \"theta\": [\"a\", \"population_density\", \"human_development_index\", \"health_expenditure\", \"employment\", \"b\"], \"mode\": \"lines\", \"line\": {\"shape\": \"spline\", \"color\": \"45B5AA55\"}}, {\"type\": \"scatterpolar\", \"subplot\": \"polar2\", \"r\": [-2.5, 0.45224901296904807, 0.29747070314563023, 0.4885402337359513, -0.35154922251532855, -2.5], \"theta\": [\"b\", \"gdp_per_cap\", \"gdp_growth\", \"sustainable_economic_development_assessment(seda)\", \"overall_economic_freedom\", \"c\"], \"mode\": \"lines\", \"line\": {\"shape\": \"spline\", \"color\": \"ffa60055\"}}, {\"type\": \"scatterpolar\", \"subplot\": \"polar2\", \"r\": [-2.5, 0.20693385933569794, -0.19861881325424693, 0.728952532311167, 0.5055584494653251, -2.5], \"theta\": [\"c\", \"political_stability&absence_of_violence\", \"control_of_corruption\", \"tax_burden\", \"government_spending\", \"d\"], \"mode\": \"lines\", \"line\": {\"shape\": \"spline\", \"color\": \"ff636155\"}}, {\"type\": \"scatterpolar\", \"subplot\": \"polar2\", \"r\": [-2.5, -0.02530210354584681, -0.48370508628423703, -0.10445079854216287, 0.5051127658173008, -2.5], \"theta\": [\"d\", \"property_rights\", \"government_integrity\", \"judicial_effectiveness\", \"financial_freedom\", \"e\"], \"mode\": \"lines\", \"line\": {\"shape\": \"spline\", \"color\": \"bc509055\"}}, {\"type\": \"scatterpolar\", \"subplot\": \"polar2\", \"r\": [-2.5, -0.33694052122170476, -0.6117700633482276, 0.21109780641405337, -0.4268987926353059, -2.5], \"theta\": [\"e\", \"total_foreign_born\", \"per_foreign_born\", \"population_living_abroad_diaspora\", \"population_living_abroad\", \"f\"], \"mode\": \"lines\", \"line\": {\"shape\": \"spline\", \"color\": \"003f5c55\"}}, {\"type\": \"scatterpolar\", \"subplot\": \"polar2\", \"mode\": \"lines\", \"marker\": {\"color\": \"rgba(180,120,150,0)\"}, \"r\": [0, 0, 0, 0, 0], \"theta\": [\"f\", \"g\", \"h\", \"i\", \"j\"], \"line\": {\"color\": [\"003f5c55\"], \"smoothing\": 1.3}, \"hoverlabel\": {\"namelength\": 20}}, {\"type\": \"scatterpolar\", \"subplot\": \"polar3\", \"r\": [-2.5, -0.2214571594089517, 0.25764896050486547, -0.27182203035076363, -1.1519495250146046, -2.5], \"theta\": [\"a\", \"population_density\", \"human_development_index\", \"health_expenditure\", \"employment\", \"b\"], \"mode\": \"lines\", \"line\": {\"shape\": \"spline\", \"color\": \"45B5AA55\"}}, {\"type\": \"scatterpolar\", \"subplot\": \"polar3\", \"r\": [-2.5, -0.23732756355506343, 0.03259949811345928, -0.05564927828032171, 0.464204471159992, -2.5], \"theta\": [\"b\", \"gdp_per_cap\", \"gdp_growth\", \"sustainable_economic_development_assessment(seda)\", \"overall_economic_freedom\", \"c\"], \"mode\": \"lines\", \"line\": {\"shape\": \"spline\", \"color\": \"ffa60055\"}}, {\"type\": \"scatterpolar\", \"subplot\": \"polar3\", \"r\": [-2.5, 0.5426303182970258, -0.38340875171615846, 0.8572283217369381, 1.0580937210781693, -2.5], \"theta\": [\"c\", \"political_stability&absence_of_violence\", \"control_of_corruption\", \"tax_burden\", \"government_spending\", \"d\"], \"mode\": \"lines\", \"line\": {\"shape\": \"spline\", \"color\": \"ff636155\"}}, {\"type\": \"scatterpolar\", \"subplot\": \"polar3\", \"r\": [-2.5, 0.2427898617943976, -0.08499884041451294, -1.0166702249533857, 1.018117918600497, -2.5], \"theta\": [\"d\", \"property_rights\", \"government_integrity\", \"judicial_effectiveness\", \"financial_freedom\", \"e\"], \"mode\": \"lines\", \"line\": {\"shape\": \"spline\", \"color\": \"bc509055\"}}, {\"type\": \"scatterpolar\", \"subplot\": \"polar3\", \"r\": [-2.5, -0.10859006222923304, -0.048657478282505884, 1.9250761071968647, 0.9073826120140627, -2.5], \"theta\": [\"e\", \"total_foreign_born\", \"per_foreign_born\", \"population_living_abroad_diaspora\", \"population_living_abroad\", \"f\"], \"mode\": \"lines\", \"line\": {\"shape\": \"spline\", \"color\": \"003f5c55\"}}, {\"type\": \"scatterpolar\", \"subplot\": \"polar3\", \"r\": [-2.5, -0.5236028920627288, -0.8315860653033608, -0.7313292203192626, 0.3839833260130146, -2.5], \"theta\": [\"a\", \"population_density\", \"human_development_index\", \"health_expenditure\", \"employment\", \"b\"], \"mode\": \"lines\", \"line\": {\"shape\": \"spline\", \"color\": \"45B5AA55\"}}, {\"type\": \"scatterpolar\", \"subplot\": \"polar3\", \"r\": [-2.5, -0.5083830987976966, -0.37942229062148486, -0.22978997526905232, -0.706642080041136, -2.5], \"theta\": [\"b\", \"gdp_per_cap\", \"gdp_growth\", \"sustainable_economic_development_assessment(seda)\", \"overall_economic_freedom\", \"c\"], \"mode\": \"lines\", \"line\": {\"shape\": \"spline\", \"color\": \"ffa60055\"}}, {\"type\": \"scatterpolar\", \"subplot\": \"polar3\", \"r\": [-2.5, 0.3043941247379567, -0.22779616128003663, -0.698117230676968, 0.6800431747689885, -2.5], \"theta\": [\"c\", \"political_stability&absence_of_violence\", \"control_of_corruption\", \"tax_burden\", \"government_spending\", \"d\"], \"mode\": \"lines\", \"line\": {\"shape\": \"spline\", \"color\": \"ff636155\"}}, {\"type\": \"scatterpolar\", \"subplot\": \"polar3\", \"r\": [-2.5, -0.4429072587957674, -0.5007926706436395, -0.06457239419661226, 0.5051127658173008, -2.5], \"theta\": [\"d\", \"property_rights\", \"government_integrity\", \"judicial_effectiveness\", \"financial_freedom\", \"e\"], \"mode\": \"lines\", \"line\": {\"shape\": \"spline\", \"color\": \"bc509055\"}}, {\"type\": \"scatterpolar\", \"subplot\": \"polar3\", \"r\": [-2.5, -0.37651552999834814, -0.3132525735138341, -0.6680287629061735, -0.7742530509350188, -2.5], \"theta\": [\"e\", \"total_foreign_born\", \"per_foreign_born\", \"population_living_abroad_diaspora\", \"population_living_abroad\", \"f\"], \"mode\": \"lines\", \"line\": {\"shape\": \"spline\", \"color\": \"003f5c55\"}}, {\"type\": \"scatterpolar\", \"subplot\": \"polar3\", \"r\": [-2.5, -0.3012391210409119, 1.0041176083289767, 0.6533602313307779, 0.4631550850948969, -2.5], \"theta\": [\"a\", \"population_density\", \"human_development_index\", \"health_expenditure\", \"employment\", \"b\"], \"mode\": \"lines\", \"line\": {\"shape\": \"spline\", \"color\": \"45B5AA55\"}}, {\"type\": \"scatterpolar\", \"subplot\": \"polar3\", \"r\": [-2.5, -0.14323054983926403, -0.46771270399335846, 0.8498823128463754, 1.164793230373233, -2.5], \"theta\": [\"b\", \"gdp_per_cap\", \"gdp_growth\", \"sustainable_economic_development_assessment(seda)\", \"overall_economic_freedom\", \"c\"], \"mode\": \"lines\", \"line\": {\"shape\": \"spline\", \"color\": \"ffa60055\"}}, {\"type\": \"scatterpolar\", \"subplot\": \"polar3\", \"r\": [-2.5, 1.2356810191879215, 1.5131196960356452, -1.9648414922988737, -0.022742637359555746, -2.5], \"theta\": [\"c\", \"political_stability&absence_of_violence\", \"control_of_corruption\", \"tax_burden\", \"government_spending\", \"d\"], \"mode\": \"lines\", \"line\": {\"shape\": \"spline\", \"color\": \"ff636155\"}}, {\"type\": \"scatterpolar\", \"subplot\": \"polar3\", \"r\": [-2.5, 1.7585415571378857, 1.8287910528490983, 1.7498968100006378, 1.018117918600497, -2.5], \"theta\": [\"d\", \"property_rights\", \"government_integrity\", \"judicial_effectiveness\", \"financial_freedom\", \"e\"], \"mode\": \"lines\", \"line\": {\"shape\": \"spline\", \"color\": \"bc509055\"}}, {\"type\": \"scatterpolar\", \"subplot\": \"polar3\", \"r\": [-2.5, -0.27777977500333695, 2.576939542299207, -0.6620853834652531, -0.3653307062214604, -2.5], \"theta\": [\"e\", \"total_foreign_born\", \"per_foreign_born\", \"population_living_abroad_diaspora\", \"population_living_abroad\", \"f\"], \"mode\": \"lines\", \"line\": {\"shape\": \"spline\", \"color\": \"003f5c55\"}}, {\"type\": \"scatterpolar\", \"subplot\": \"polar3\", \"r\": [-2.5, -0.13006370640019543, 1.1259903000612115, 0.6949934331064473, 0.11479862029551195, -2.5], \"theta\": [\"a\", \"population_density\", \"human_development_index\", \"health_expenditure\", \"employment\", \"b\"], \"mode\": \"lines\", \"line\": {\"shape\": \"spline\", \"color\": \"45B5AA55\"}}, {\"type\": \"scatterpolar\", \"subplot\": \"polar3\", \"r\": [-2.5, -0.18255465978135346, -0.3205620501236856, 0.5625502292443739, 0.7521175395159875, -2.5], \"theta\": [\"b\", \"gdp_per_cap\", \"gdp_growth\", \"sustainable_economic_development_assessment(seda)\", \"overall_economic_freedom\", \"c\"], \"mode\": \"lines\", \"line\": {\"shape\": \"spline\", \"color\": \"ffa60055\"}}, {\"type\": \"scatterpolar\", \"subplot\": \"polar3\", \"r\": [-2.5, 0.5642881335379564, 1.4839423625024077, -2.437859039244416, -0.25538899939468884, -2.5], \"theta\": [\"c\", \"political_stability&absence_of_violence\", \"control_of_corruption\", \"tax_burden\", \"government_spending\", \"d\"], \"mode\": \"lines\", \"line\": {\"shape\": \"spline\", \"color\": \"ff636155\"}}, {\"type\": \"scatterpolar\", \"subplot\": \"polar3\", \"r\": [-2.5, 1.6399621916936902, 1.6807002484371223, 1.18162893007204, 1.018117918600497, -2.5], \"theta\": [\"d\", \"property_rights\", \"government_integrity\", \"judicial_effectiveness\", \"financial_freedom\", \"e\"], \"mode\": \"lines\", \"line\": {\"shape\": \"spline\", \"color\": \"bc509055\"}}, {\"type\": \"scatterpolar\", \"subplot\": \"polar3\", \"r\": [-2.5, -0.09908884715155632, 0.4669636831668065, -0.28188330675316914, -0.05749036178789882, -2.5], \"theta\": [\"e\", \"total_foreign_born\", \"per_foreign_born\", \"population_living_abroad_diaspora\", \"population_living_abroad\", \"f\"], \"mode\": \"lines\", \"line\": {\"shape\": \"spline\", \"color\": \"003f5c55\"}}, {\"type\": \"scatterpolar\", \"subplot\": \"polar3\", \"r\": [-2.5, -0.3615424760155815, 0.4480744738236871, -0.3990345913319756, 0.16230215897070993, -2.5], \"theta\": [\"a\", \"population_density\", \"human_development_index\", \"health_expenditure\", \"employment\", \"b\"], \"mode\": \"lines\", \"line\": {\"shape\": \"spline\", \"color\": \"45B5AA55\"}}, {\"type\": \"scatterpolar\", \"subplot\": \"polar3\", \"r\": [-2.5, -0.07722219373565177, 0.1503200492759574, 0.10543089964895613, 0.8288946506245716, -2.5], \"theta\": [\"b\", \"gdp_per_cap\", \"gdp_growth\", \"sustainable_economic_development_assessment(seda)\", \"overall_economic_freedom\", \"c\"], \"mode\": \"lines\", \"line\": {\"shape\": \"spline\", \"color\": \"ffa60055\"}}, {\"type\": \"scatterpolar\", \"subplot\": \"polar3\", \"r\": [-2.5, 0.5101435631629395, -0.13053829588059854, 1.3222287465309719, 0.7333582703680597, -2.5], \"theta\": [\"c\", \"political_stability&absence_of_violence\", \"control_of_corruption\", \"tax_burden\", \"government_spending\", \"d\"], \"mode\": \"lines\", \"line\": {\"shape\": \"spline\", \"color\": \"ff636155\"}}, {\"type\": \"scatterpolar\", \"subplot\": \"polar3\", \"r\": [-2.5, 0.7325735474546882, -0.18182754358126382, -0.16426850013810443, 0.5051127658173008, -2.5], \"theta\": [\"d\", \"property_rights\", \"government_integrity\", \"judicial_effectiveness\", \"financial_freedom\", \"e\"], \"mode\": \"lines\", \"line\": {\"shape\": \"spline\", \"color\": \"bc509055\"}}, {\"type\": \"scatterpolar\", \"subplot\": \"polar3\", \"r\": [-2.5, -0.15142394187792976, -0.4692957924989995, 1.6380140740047042, 0.32202631728712405, -2.5], \"theta\": [\"e\", \"total_foreign_born\", \"per_foreign_born\", \"population_living_abroad_diaspora\", \"population_living_abroad\", \"f\"], \"mode\": \"lines\", \"line\": {\"shape\": \"spline\", \"color\": \"003f5c55\"}}, {\"type\": \"scatterpolar\", \"subplot\": \"polar3\", \"r\": [-2.5, 0.2560902996292531, 0.6232661276810973, 1.3433920015015943, 0.5106574157049233, -2.5], \"theta\": [\"a\", \"population_density\", \"human_development_index\", \"health_expenditure\", \"employment\", \"b\"], \"mode\": \"lines\", \"line\": {\"shape\": \"spline\", \"color\": \"45B5AA55\"}}, {\"type\": \"scatterpolar\", \"subplot\": \"polar3\", \"r\": [-2.5, 3.6655915938128705, -0.20284153404463734, 0.5538429951067253, -0.9945551483971315, -2.5], \"theta\": [\"b\", \"gdp_per_cap\", \"gdp_growth\", \"sustainable_economic_development_assessment(seda)\", \"overall_economic_freedom\", \"c\"], \"mode\": \"lines\", \"line\": {\"shape\": \"spline\", \"color\": \"ffa60055\"}}, {\"type\": \"scatterpolar\", \"subplot\": \"polar3\", \"r\": [-2.5, -1.3416014472072864, -1.3657132125400562, -2.3737211445315305, -1.8257522666906434, -2.5], \"theta\": [\"c\", \"political_stability&absence_of_violence\", \"control_of_corruption\", \"tax_burden\", \"government_spending\", \"d\"], \"mode\": \"lines\", \"line\": {\"shape\": \"spline\", \"color\": \"ff636155\"}}, {\"type\": \"scatterpolar\", \"subplot\": \"polar3\", \"r\": [-2.5, -1.2523391855698323, -1.041893895685149, -1.0814726557843093, -0.5208975397490914, -2.5], \"theta\": [\"d\", \"property_rights\", \"government_integrity\", \"judicial_effectiveness\", \"financial_freedom\", \"e\"], \"mode\": \"lines\", \"line\": {\"shape\": \"spline\", \"color\": \"bc509055\"}}, {\"type\": \"scatterpolar\", \"subplot\": \"polar3\", \"r\": [-2.5, 5.007181225257747, 3.981328739622435, -0.25085694978899004, -0.8845242642161524, -2.5], \"theta\": [\"e\", \"total_foreign_born\", \"per_foreign_born\", \"population_living_abroad_diaspora\", \"population_living_abroad\", \"f\"], \"mode\": \"lines\", \"line\": {\"shape\": \"spline\", \"color\": \"003f5c55\"}}, {\"type\": \"scatterpolar\", \"subplot\": \"polar3\", \"r\": [-2.5, 1.5957369687179883, 0.27288327397651285, -0.09141148932286303, 0.7006703623405437, -2.5], \"theta\": [\"a\", \"population_density\", \"human_development_index\", \"health_expenditure\", \"employment\", \"b\"], \"mode\": \"lines\", \"line\": {\"shape\": \"spline\", \"color\": \"45B5AA55\"}}, {\"type\": \"scatterpolar\", \"subplot\": \"polar3\", \"r\": [-2.5, 0.5969055353819765, 1.2980951775261653, -0.3560420470152861, -0.17880145472181092, -2.5], \"theta\": [\"b\", \"gdp_per_cap\", \"gdp_growth\", \"sustainable_economic_development_assessment(seda)\", \"overall_economic_freedom\", \"c\"], \"mode\": \"lines\", \"line\": {\"shape\": \"spline\", \"color\": \"ffa60055\"}}, {\"type\": \"scatterpolar\", \"subplot\": \"polar3\", \"r\": [-2.5, -0.16124935475971608, -0.23752196810955348, -0.321306372883951, 0.9708511735355914, -2.5], \"theta\": [\"c\", \"political_stability&absence_of_violence\", \"control_of_corruption\", \"tax_burden\", \"government_spending\", \"d\"], \"mode\": \"lines\", \"line\": {\"shape\": \"spline\", \"color\": \"ff636155\"}}, {\"type\": \"scatterpolar\", \"subplot\": \"polar3\", \"r\": [-2.5, -0.13872573324352436, 0.33649048913831314, 0.9772519889540735, -1.5469078453154836, -2.5], \"theta\": [\"d\", \"property_rights\", \"government_integrity\", \"judicial_effectiveness\", \"financial_freedom\", \"e\"], \"mode\": \"lines\", \"line\": {\"shape\": \"spline\", \"color\": \"bc509055\"}}, {\"type\": \"scatterpolar\", \"subplot\": \"polar3\", \"r\": [-2.5, 3.3464575688867018, 1.491421362154908, 1.5210337331768193, -0.1714372339787873, -2.5], \"theta\": [\"e\", \"total_foreign_born\", \"per_foreign_born\", \"population_living_abroad_diaspora\", \"population_living_abroad\", \"f\"], \"mode\": \"lines\", \"line\": {\"shape\": \"spline\", \"color\": \"003f5c55\"}}, {\"type\": \"scatterpolar\", \"subplot\": \"polar3\", \"r\": [-2.5, 4.774055038871884, -0.031798001343837846, 0.21466964225011365, -0.043544897868252615, -2.5], \"theta\": [\"a\", \"population_density\", \"human_development_index\", \"health_expenditure\", \"employment\", \"b\"], \"mode\": \"lines\", \"line\": {\"shape\": \"spline\", \"color\": \"45B5AA55\"}}, {\"type\": \"scatterpolar\", \"subplot\": \"polar3\", \"r\": [-2.5, -0.5224274276037902, 1.7984074848833325, null, 0.22427691419666243, -2.5], \"theta\": [\"b\", \"gdp_per_cap\", \"gdp_growth\", \"sustainable_economic_development_assessment(seda)\", \"overall_economic_freedom\", \"c\"], \"mode\": \"lines\", \"line\": {\"shape\": \"spline\", \"color\": \"ffa60055\"}}, {\"type\": \"scatterpolar\", \"subplot\": \"polar3\", \"r\": [-2.5, -1.070878498514131, -0.48066661711559655, 0.1597282962130996, -0.6140522718297977, -2.5], \"theta\": [\"c\", \"political_stability&absence_of_violence\", \"control_of_corruption\", \"tax_burden\", \"government_spending\", \"d\"], \"mode\": \"lines\", \"line\": {\"shape\": \"spline\", \"color\": \"ff636155\"}}, {\"type\": \"scatterpolar\", \"subplot\": \"polar3\", \"r\": [-2.5, -0.5150857892061373, -0.2729605301466544, -0.07952677205678982, -0.007892386965895297, -2.5], \"theta\": [\"d\", \"property_rights\", \"government_integrity\", \"judicial_effectiveness\", \"financial_freedom\", \"e\"], \"mode\": \"lines\", \"line\": {\"shape\": \"spline\", \"color\": \"bc509055\"}}, {\"type\": \"scatterpolar\", \"subplot\": \"polar3\", \"r\": [-2.5, -0.29431701469268284, 0.8876019003304118, -0.7880751558540446, -1.1951214240360086, -2.5], \"theta\": [\"e\", \"total_foreign_born\", \"per_foreign_born\", \"population_living_abroad_diaspora\", \"population_living_abroad\", \"f\"], \"mode\": \"lines\", \"line\": {\"shape\": \"spline\", \"color\": \"003f5c55\"}}, {\"type\": \"scatterpolar\", \"subplot\": \"polar3\", \"r\": [-2.5, -0.5946004707173687, 0.15101058224427813, -0.5902389254128275, 0.3839833260130146, -2.5], \"theta\": [\"a\", \"population_density\", \"human_development_index\", \"health_expenditure\", \"employment\", \"b\"], \"mode\": \"lines\", \"line\": {\"shape\": \"spline\", \"color\": \"45B5AA55\"}}, {\"type\": \"scatterpolar\", \"subplot\": \"polar3\", \"r\": [-2.5, -0.08003107021184301, 1.1803746263636672, -0.10353806959632872, -1.397633517315605, -2.5], \"theta\": [\"b\", \"gdp_per_cap\", \"gdp_growth\", \"sustainable_economic_development_assessment(seda)\", \"overall_economic_freedom\", \"c\"], \"mode\": \"lines\", \"line\": {\"shape\": \"spline\", \"color\": \"ffa60055\"}}, {\"type\": \"scatterpolar\", \"subplot\": \"polar3\", \"r\": [-2.5, -0.6593795571187847, -0.597376067188964, -0.36940971746021356, -0.051823548170663813, -2.5], \"theta\": [\"c\", \"political_stability&absence_of_violence\", \"control_of_corruption\", \"tax_burden\", \"government_spending\", \"d\"], \"mode\": \"lines\", \"line\": {\"shape\": \"spline\", \"color\": \"ff636155\"}}, {\"type\": \"scatterpolar\", \"subplot\": \"polar3\", \"r\": [-2.5, -1.5668318876082976, -0.7058415101798619, -1.5949076108907556, -0.007892386965895297, -2.5], \"theta\": [\"d\", \"property_rights\", \"government_integrity\", \"judicial_effectiveness\", \"financial_freedom\", \"e\"], \"mode\": \"lines\", \"line\": {\"shape\": \"spline\", \"color\": \"bc509055\"}}, {\"type\": \"scatterpolar\", \"subplot\": \"polar3\", \"r\": [-2.5, -0.4405569325931715, -0.727106365135915, -0.6242562233598545, -1.0903637922324023, -2.5], \"theta\": [\"e\", \"total_foreign_born\", \"per_foreign_born\", \"population_living_abroad_diaspora\", \"population_living_abroad\", \"f\"], \"mode\": \"lines\", \"line\": {\"shape\": \"spline\", \"color\": \"003f5c55\"}}, {\"type\": \"scatterpolar\", \"subplot\": \"polar3\", \"r\": [-2.5, -0.5465486238139652, 0.7603726788747434, 0.3087298388544037, -0.4710719136843483, -2.5], \"theta\": [\"a\", \"population_density\", \"human_development_index\", \"health_expenditure\", \"employment\", \"b\"], \"mode\": \"lines\", \"line\": {\"shape\": \"spline\", \"color\": \"45B5AA55\"}}, {\"type\": \"scatterpolar\", \"subplot\": \"polar3\", \"r\": [-2.5, 1.9957207701886754, 0.5034815624296525, 0.39711643424627174, -0.601073735317032, -2.5], \"theta\": [\"b\", \"gdp_per_cap\", \"gdp_growth\", \"sustainable_economic_development_assessment(seda)\", \"overall_economic_freedom\", \"c\"], \"mode\": \"lines\", \"line\": {\"shape\": \"spline\", \"color\": \"ffa60055\"}}, {\"type\": \"scatterpolar\", \"subplot\": \"polar3\", \"r\": [-2.5, -1.4282327081710087, -0.5001182307746302, 0.785072999038938, -1.607646267615691, -2.5], \"theta\": [\"c\", \"political_stability&absence_of_violence\", \"control_of_corruption\", \"tax_burden\", \"government_spending\", \"d\"], \"mode\": \"lines\", \"line\": {\"shape\": \"spline\", \"color\": \"ff636155\"}}, {\"type\": \"scatterpolar\", \"subplot\": \"polar3\", \"r\": [-2.5, -0.8605122173744789, -0.5235757543267415, 0.3342120295693564, -0.007892386965895297, -2.5], \"theta\": [\"d\", \"property_rights\", \"government_integrity\", \"judicial_effectiveness\", \"financial_freedom\", \"e\"], \"mode\": \"lines\", \"line\": {\"shape\": \"spline\", \"color\": \"bc509055\"}}, {\"type\": \"scatterpolar\", \"subplot\": \"polar3\", \"r\": [-2.5, 3.0542340057951467, 1.3082402468978682, -0.7343931126282625, -1.2456623830967886, -2.5], \"theta\": [\"e\", \"total_foreign_born\", \"per_foreign_born\", \"population_living_abroad_diaspora\", \"population_living_abroad\", \"f\"], \"mode\": \"lines\", \"line\": {\"shape\": \"spline\", \"color\": \"003f5c55\"}}, {\"type\": \"scatterpolar\", \"subplot\": \"polar3\", \"r\": [-2.5, 0.23832536727508535, 1.0269688515313298, 2.0542403725602454, 0.2731421384592765, -2.5], \"theta\": [\"a\", \"population_density\", \"human_development_index\", \"health_expenditure\", \"employment\", \"b\"], \"mode\": \"lines\", \"line\": {\"shape\": \"spline\", \"color\": \"45B5AA55\"}}, {\"type\": \"scatterpolar\", \"subplot\": \"polar3\", \"r\": [-2.5, 4.023721978368256, -4.323059772228577, 0.775872649484973, -1.6951435415099743, -2.5], \"theta\": [\"b\", \"gdp_per_cap\", \"gdp_growth\", \"sustainable_economic_development_assessment(seda)\", \"overall_economic_freedom\", \"c\"], \"mode\": \"lines\", \"line\": {\"shape\": \"spline\", \"color\": \"ffa60055\"}}, {\"type\": \"scatterpolar\", \"subplot\": \"polar3\", \"r\": [-2.5, -0.05296018173699205, -1.7547447900782258, -0.38544457343044264, 0.09842736212652882, -2.5], \"theta\": [\"c\", \"political_stability&absence_of_violence\", \"control_of_corruption\", \"tax_burden\", \"government_spending\", \"d\"], \"mode\": \"lines\", \"line\": {\"shape\": \"spline\", \"color\": \"ff636155\"}}, {\"type\": \"scatterpolar\", \"subplot\": \"polar3\", \"r\": [-2.5, -1.010025210612946, -0.8653239650722193, -1.405485000094159, -1.0339026925322876, -2.5], \"theta\": [\"d\", \"property_rights\", \"government_integrity\", \"judicial_effectiveness\", \"financial_freedom\", \"e\"], \"mode\": \"lines\", \"line\": {\"shape\": \"spline\", \"color\": \"bc509055\"}}, {\"type\": \"scatterpolar\", \"subplot\": \"polar3\", \"r\": [-2.5, 2.7533277703097405, 4.239139514452868, -0.7217688753008948, -1.2070674688551273, -2.5], \"theta\": [\"e\", \"total_foreign_born\", \"per_foreign_born\", \"population_living_abroad_diaspora\", \"population_living_abroad\", \"f\"], \"mode\": \"lines\", \"line\": {\"shape\": \"spline\", \"color\": \"003f5c55\"}}, {\"type\": \"scatterpolar\", \"subplot\": \"polar3\", \"r\": [-2.5, -0.27969143201634855, -0.7325646167734792, -0.8438930621571835, -3.2737517019569125, -2.5], \"theta\": [\"a\", \"population_density\", \"human_development_index\", \"health_expenditure\", \"employment\", \"b\"], \"mode\": \"lines\", \"line\": {\"shape\": \"spline\", \"color\": \"45B5AA55\"}}, {\"type\": \"scatterpolar\", \"subplot\": \"polar3\", \"r\": [-2.5, -0.5294495920068369, 0.5623419081778012, null, -0.706642080041136, -2.5], \"theta\": [\"b\", \"gdp_per_cap\", \"gdp_growth\", \"sustainable_economic_development_assessment(seda)\", \"overall_economic_freedom\", \"c\"], \"mode\": \"lines\", \"line\": {\"shape\": \"spline\", \"color\": \"ffa60055\"}}, {\"type\": \"scatterpolar\", \"subplot\": \"polar3\", \"r\": [-2.5, null, null, -0.20104770560968832, -1.3216850873176063, -2.5], \"theta\": [\"c\", \"political_stability&absence_of_violence\", \"control_of_corruption\", \"tax_burden\", \"government_spending\", \"d\"], \"mode\": \"lines\", \"line\": {\"shape\": \"spline\", \"color\": \"ff636155\"}}, {\"type\": \"scatterpolar\", \"subplot\": \"polar3\", \"r\": [-2.5, -0.772866676395764, -0.26156887966627296, -0.34870633416091124, -0.007892386965895297, -2.5], \"theta\": [\"d\", \"property_rights\", \"government_integrity\", \"judicial_effectiveness\", \"financial_freedom\", \"e\"], \"mode\": \"lines\", \"line\": {\"shape\": \"spline\", \"color\": \"bc509055\"}}, {\"type\": \"scatterpolar\", \"subplot\": \"polar3\", \"r\": [-2.5, -0.45353504159420094, -0.6999684122498556, -0.6880016535627885, -0.993876507997556, -2.5], \"theta\": [\"e\", \"total_foreign_born\", \"per_foreign_born\", \"population_living_abroad_diaspora\", \"population_living_abroad\", \"f\"], \"mode\": \"lines\", \"line\": {\"shape\": \"spline\", \"color\": \"003f5c55\"}}, {\"type\": \"scatterpolar\", \"subplot\": \"polar3\", \"mode\": \"lines\", \"marker\": {\"color\": \"rgba(180,120,150,0)\"}, \"r\": [0, 0, 0, 0, 0], \"theta\": [\"f\", \"g\", \"h\", \"i\", \"j\"], \"line\": {\"color\": [\"003f5c55\"], \"smoothing\": 1.3}, \"hoverlabel\": {\"namelength\": 20}}, {\"type\": \"scatterpolar\", \"subplot\": \"polar4\", \"r\": [-2.5, -0.214288085532242, 0.48616003049768747, -0.35585941912017033, 0.08313039988882764, -2.5], \"theta\": [\"a\", \"population_density\", \"human_development_index\", \"health_expenditure\", \"employment\", \"b\"], \"mode\": \"lines\", \"line\": {\"shape\": \"spline\", \"color\": \"45B5AA55\"}}, {\"type\": \"scatterpolar\", \"subplot\": \"polar4\", \"r\": [-2.5, -0.11935518015393246, -0.2911319123330611, 0.005299866021627912, -0.8026131028264678, -2.5], \"theta\": [\"b\", \"gdp_per_cap\", \"gdp_growth\", \"sustainable_economic_development_assessment(seda)\", \"overall_economic_freedom\", \"c\"], \"mode\": \"lines\", \"line\": {\"shape\": \"spline\", \"color\": \"ffa60055\"}}, {\"type\": \"scatterpolar\", \"subplot\": \"polar4\", \"r\": [-2.5, -2.900965564552665, -1.453245329080186, 1.394384069228972, 0.7042771746662053, -2.5], \"theta\": [\"c\", \"political_stability&absence_of_violence\", \"control_of_corruption\", \"tax_burden\", \"government_spending\", \"d\"], \"mode\": \"lines\", \"line\": {\"shape\": \"spline\", \"color\": \"ff636155\"}}, {\"type\": \"scatterpolar\", \"subplot\": \"polar4\", \"r\": [-2.5, -1.6235437024571364, -0.8653239650722193, -0.8770956195887272, -2.05991299809868, -2.5], \"theta\": [\"d\", \"property_rights\", \"government_integrity\", \"judicial_effectiveness\", \"financial_freedom\", \"e\"], \"mode\": \"lines\", \"line\": {\"shape\": \"spline\", \"color\": \"bc509055\"}}, {\"type\": \"scatterpolar\", \"subplot\": \"polar4\", \"r\": [-2.5, -0.3640652662794119, -0.5574941575761089, 2.463989932994942, 1.2970074516810357, -2.5], \"theta\": [\"e\", \"total_foreign_born\", \"per_foreign_born\", \"population_living_abroad_diaspora\", \"population_living_abroad\", \"f\"], \"mode\": \"lines\", \"line\": {\"shape\": \"spline\", \"color\": \"003f5c55\"}}, {\"type\": \"scatterpolar\", \"subplot\": \"polar4\", \"r\": [-2.5, -0.3487370696017378, 0.3566704090347471, -0.10297626759388229, -1.231121284096487, -2.5], \"theta\": [\"a\", \"population_density\", \"human_development_index\", \"health_expenditure\", \"employment\", \"b\"], \"mode\": \"lines\", \"line\": {\"shape\": \"spline\", \"color\": \"45B5AA55\"}}, {\"type\": \"scatterpolar\", \"subplot\": \"polar4\", \"r\": [-2.5, -0.007000549705183956, 0.1503200492759574, -0.12095203965109567, 0.8672824739780671, -2.5], \"theta\": [\"b\", \"gdp_per_cap\", \"gdp_growth\", \"sustainable_economic_development_assessment(seda)\", \"overall_economic_freedom\", \"c\"], \"mode\": \"lines\", \"line\": {\"shape\": \"spline\", \"color\": \"ffa60055\"}}, {\"type\": \"scatterpolar\", \"subplot\": \"polar4\", \"r\": [-2.5, -0.6593795571187847, -0.5195697864634552, 0.8251592214636922, -0.807924271007533, -2.5], \"theta\": [\"c\", \"political_stability&absence_of_violence\", \"control_of_corruption\", \"tax_burden\", \"government_spending\", \"d\"], \"mode\": \"lines\", \"line\": {\"shape\": \"spline\", \"color\": \"ff636155\"}}, {\"type\": \"scatterpolar\", \"subplot\": \"polar4\", \"r\": [-2.5, 0.3046573140541498, -0.050824106251029504, 0.07998703548064394, 1.018117918600497, -2.5], \"theta\": [\"d\", \"property_rights\", \"government_integrity\", \"judicial_effectiveness\", \"financial_freedom\", \"e\"], \"mode\": \"lines\", \"line\": {\"shape\": \"spline\", \"color\": \"bc509055\"}}, {\"type\": \"scatterpolar\", \"subplot\": \"polar4\", \"r\": [-2.5, -0.4076947388170606, -0.727106365135915, 3.9966153157223916, 1.5074415423800211, -2.5], \"theta\": [\"e\", \"total_foreign_born\", \"per_foreign_born\", \"population_living_abroad_diaspora\", \"population_living_abroad\", \"f\"], \"mode\": \"lines\", \"line\": {\"shape\": \"spline\", \"color\": \"003f5c55\"}}, {\"type\": \"scatterpolar\", \"subplot\": \"polar4\", \"r\": [-2.5, -0.329407642398494, 0.8365428842022721, 0.3241495432157627, 1.3498785451989441, -2.5], \"theta\": [\"a\", \"population_density\", \"human_development_index\", \"health_expenditure\", \"employment\", \"b\"], \"mode\": \"lines\", \"line\": {\"shape\": \"spline\", \"color\": \"45B5AA55\"}}, {\"type\": \"scatterpolar\", \"subplot\": \"polar4\", \"r\": [-2.5, 0.7359444119922478, -1.8803590021922876, 0.5016009188689142, -0.150010221106291, -2.5], \"theta\": [\"b\", \"gdp_per_cap\", \"gdp_growth\", \"sustainable_economic_development_assessment(seda)\", \"overall_economic_freedom\", \"c\"], \"mode\": \"lines\", \"line\": {\"shape\": \"spline\", \"color\": \"ffa60055\"}}, {\"type\": \"scatterpolar\", \"subplot\": \"polar4\", \"r\": [-2.5, 0.1419603470504823, -0.22779616128003663, 1.234039179529955, -1.2441362691574374, -2.5], \"theta\": [\"c\", \"political_stability&absence_of_violence\", \"control_of_corruption\", \"tax_burden\", \"government_spending\", \"d\"], \"mode\": \"lines\", \"line\": {\"shape\": \"spline\", \"color\": \"ff636155\"}}, {\"type\": \"scatterpolar\", \"subplot\": \"polar4\", \"r\": [-2.5, 0.21185623400012604, 0.03461294643533994, 0.5734826457978914, -2.05991299809868, -2.5], \"theta\": [\"d\", \"property_rights\", \"government_integrity\", \"judicial_effectiveness\", \"financial_freedom\", \"e\"], \"mode\": \"lines\", \"line\": {\"shape\": \"spline\", \"color\": \"bc509055\"}}, {\"type\": \"scatterpolar\", \"subplot\": \"polar4\", \"r\": [-2.5, 0.6290239949403856, 0.42625672553062505, 1.7155857733320459, 0.28710718519287254, -2.5], \"theta\": [\"e\", \"total_foreign_born\", \"per_foreign_born\", \"population_living_abroad_diaspora\", \"population_living_abroad\", \"f\"], \"mode\": \"lines\", \"line\": {\"shape\": \"spline\", \"color\": \"003f5c55\"}}, {\"type\": \"scatterpolar\", \"subplot\": \"polar4\", \"r\": [-2.5, -0.48721265811840475, 1.1412241595226227, 0.5022471285894595, 0.8431797703009661, -2.5], \"theta\": [\"a\", \"population_density\", \"human_development_index\", \"health_expenditure\", \"employment\", \"b\"], \"mode\": \"lines\", \"line\": {\"shape\": \"spline\", \"color\": \"45B5AA55\"}}, {\"type\": \"scatterpolar\", \"subplot\": \"polar4\", \"r\": [-2.5, -0.058964577002702676, 0.6800624593402993, 0.775872649484973, -1.4936045401009366, -2.5], \"theta\": [\"b\", \"gdp_per_cap\", \"gdp_growth\", \"sustainable_economic_development_assessment(seda)\", \"overall_economic_freedom\", \"c\"], \"mode\": \"lines\", \"line\": {\"shape\": \"spline\", \"color\": \"ffa60055\"}}, {\"type\": \"scatterpolar\", \"subplot\": \"polar4\", \"r\": [-2.5, -0.21539395740742331, -0.6168276808479977, 0.9053316663132006, -0.269929547245616, -2.5], \"theta\": [\"c\", \"political_stability&absence_of_violence\", \"control_of_corruption\", \"tax_burden\", \"government_spending\", \"d\"], \"mode\": \"lines\", \"line\": {\"shape\": \"spline\", \"color\": \"ff636155\"}}, {\"type\": \"scatterpolar\", \"subplot\": \"polar4\", \"r\": [-2.5, -1.5668318876082976, -1.041893895685149, -1.714542966543831, -0.5208975397490914, -2.5], \"theta\": [\"d\", \"property_rights\", \"government_integrity\", \"judicial_effectiveness\", \"financial_freedom\", \"e\"], \"mode\": \"lines\", \"line\": {\"shape\": \"spline\", \"color\": \"bc509055\"}}, {\"type\": \"scatterpolar\", \"subplot\": \"polar4\", \"r\": [-2.5, -0.08726779030873832, 0.3448428102582622, -0.22132587392499356, -0.06576071483388787, -2.5], \"theta\": [\"e\", \"total_foreign_born\", \"per_foreign_born\", \"population_living_abroad_diaspora\", \"population_living_abroad\", \"f\"], \"mode\": \"lines\", \"line\": {\"shape\": \"spline\", \"color\": \"003f5c55\"}}, {\"type\": \"scatterpolar\", \"subplot\": \"polar4\", \"r\": [-2.5, -0.5893348149307078, 1.6287140184310893, 2.220773179662923, -0.23355663643870148, -2.5], \"theta\": [\"a\", \"population_density\", \"human_development_index\", \"health_expenditure\", \"employment\", \"b\"], \"mode\": \"lines\", \"line\": {\"shape\": \"spline\", \"color\": \"45B5AA55\"}}, {\"type\": \"scatterpolar\", \"subplot\": \"polar4\", \"r\": [-2.5, -0.367939810736761, -0.20284153404463734, 1.3374761315560129, 0.03233486862599877, -2.5], \"theta\": [\"b\", \"gdp_per_cap\", \"gdp_growth\", \"sustainable_economic_development_assessment(seda)\", \"overall_economic_freedom\", \"c\"], \"mode\": \"lines\", \"line\": {\"shape\": \"spline\", \"color\": \"ffa60055\"}}, {\"type\": \"scatterpolar\", \"subplot\": \"polar4\", \"r\": [-2.5, 1.084076183410646, 0.8420403870988867, -0.032685693759163074, -0.6770606345844123, -2.5], \"theta\": [\"c\", \"political_stability&absence_of_violence\", \"control_of_corruption\", \"tax_burden\", \"government_spending\", \"d\"], \"mode\": \"lines\", \"line\": {\"shape\": \"spline\", \"color\": \"ff636155\"}}, {\"type\": \"scatterpolar\", \"subplot\": \"polar4\", \"r\": [-2.5, -0.3758842674607063, 0.0801793310792048, 0.3092880030839834, 0.5051127658173008, -2.5], \"theta\": [\"d\", \"property_rights\", \"government_integrity\", \"judicial_effectiveness\", \"financial_freedom\", \"e\"], \"mode\": \"lines\", \"line\": {\"shape\": \"spline\", \"color\": \"bc509055\"}}, {\"type\": \"scatterpolar\", \"subplot\": \"polar4\", \"r\": [-2.5, -0.40249469779528063, -0.04187302847775933, -0.6845610553031448, -0.30927621771682956, -2.5], \"theta\": [\"e\", \"total_foreign_born\", \"per_foreign_born\", \"population_living_abroad_diaspora\", \"population_living_abroad\", \"f\"], \"mode\": \"lines\", \"line\": {\"shape\": \"spline\", \"color\": \"003f5c55\"}}, {\"type\": \"scatterpolar\", \"subplot\": \"polar4\", \"r\": [-2.5, -0.34364584837778445, 1.6515652616334424, 3.1606041604877557, 1.3815467656056284, -2.5], \"theta\": [\"a\", \"population_density\", \"human_development_index\", \"health_expenditure\", \"employment\", \"b\"], \"mode\": \"lines\", \"line\": {\"shape\": \"spline\", \"color\": \"45B5AA55\"}}, {\"type\": \"scatterpolar\", \"subplot\": \"polar4\", \"r\": [-2.5, 3.963331107342713, 1.2980951775261653, 1.1894568048332081, -0.09242738777485297, -2.5], \"theta\": [\"b\", \"gdp_per_cap\", \"gdp_growth\", \"sustainable_economic_development_assessment(seda)\", \"overall_economic_freedom\", \"c\"], \"mode\": \"lines\", \"line\": {\"shape\": \"spline\", \"color\": \"ffa60055\"}}, {\"type\": \"scatterpolar\", \"subplot\": \"polar4\", \"r\": [-2.5, 0.29356520098114625, -1.2295522067778637, 1.234039179529955, 0.554026449259759, -2.5], \"theta\": [\"c\", \"political_stability&absence_of_violence\", \"control_of_corruption\", \"tax_burden\", \"government_spending\", \"d\"], \"mode\": \"lines\", \"line\": {\"shape\": \"spline\", \"color\": \"ff636155\"}}, {\"type\": \"scatterpolar\", \"subplot\": \"polar4\", \"r\": [-2.5, -0.6903768711635672, -1.349467263628313, -1.061533453611534, -0.007892386965895297, -2.5], \"theta\": [\"d\", \"property_rights\", \"government_integrity\", \"judicial_effectiveness\", \"financial_freedom\", \"e\"], \"mode\": \"lines\", \"line\": {\"shape\": \"spline\", \"color\": \"bc509055\"}}, {\"type\": \"scatterpolar\", \"subplot\": \"polar4\", \"r\": [-2.5, 0.9529546121327466, 0.3109203671287528, 1.76458163462444, 0.18418733354908182, -2.5], \"theta\": [\"e\", \"total_foreign_born\", \"per_foreign_born\", \"population_living_abroad_diaspora\", \"population_living_abroad\", \"f\"], \"mode\": \"lines\", \"line\": {\"shape\": \"spline\", \"color\": \"003f5c55\"}}, {\"type\": \"scatterpolar\", \"subplot\": \"polar4\", \"r\": [-2.5, 0.01962637002368884, null, null, 0.33647978733781664, -2.5], \"theta\": [\"a\", \"population_density\", \"human_development_index\", \"health_expenditure\", \"employment\", \"b\"], \"mode\": \"lines\", \"line\": {\"shape\": \"spline\", \"color\": \"45B5AA55\"}}, {\"type\": \"scatterpolar\", \"subplot\": \"polar4\", \"r\": [-2.5, -0.34125559136266953, 0.5329118054706264, null, -1.0041521042355055, -2.5], \"theta\": [\"b\", \"gdp_per_cap\", \"gdp_growth\", \"sustainable_economic_development_assessment(seda)\", \"overall_economic_freedom\", \"c\"], \"mode\": \"lines\", \"line\": {\"shape\": \"spline\", \"color\": \"ffa60055\"}}, {\"type\": \"scatterpolar\", \"subplot\": \"polar4\", \"r\": [-2.5, -1.9913365498890114, -1.1128427567044963, -0.7863067976779848, 0.9563109954661568, -2.5], \"theta\": [\"c\", \"political_stability&absence_of_violence\", \"control_of_corruption\", \"tax_burden\", \"government_spending\", \"d\"], \"mode\": \"lines\", \"line\": {\"shape\": \"spline\", \"color\": \"ff636155\"}}, {\"type\": \"scatterpolar\", \"subplot\": \"polar4\", \"r\": [-2.5, -1.6235437024571364, -0.9564568429987795, -0.8770956195887272, -1.0339026925322876, -2.5], \"theta\": [\"d\", \"property_rights\", \"government_integrity\", \"judicial_effectiveness\", \"financial_freedom\", \"e\"], \"mode\": \"lines\", \"line\": {\"shape\": \"spline\", \"color\": \"bc509055\"}}, {\"type\": \"scatterpolar\", \"subplot\": \"polar4\", \"r\": [-2.5, null, null, null, null, -2.5], \"theta\": [\"e\", \"total_foreign_born\", \"per_foreign_born\", \"population_living_abroad_diaspora\", \"population_living_abroad\", \"f\"], \"mode\": \"lines\", \"line\": {\"shape\": \"spline\", \"color\": \"003f5c55\"}}, {\"type\": \"scatterpolar\", \"subplot\": \"polar4\", \"r\": [-2.5, -0.48655157317483316, 0.9584155759345068, 0.1491358987143378, 0.3839833260130146, -2.5], \"theta\": [\"a\", \"population_density\", \"human_development_index\", \"health_expenditure\", \"employment\", \"b\"], \"mode\": \"lines\", \"line\": {\"shape\": \"spline\", \"color\": \"45B5AA55\"}}, {\"type\": \"scatterpolar\", \"subplot\": \"polar4\", \"r\": [-2.5, 0.11097178012108434, -0.11455115575621355, 0.5712571312350023, 1.491094122082724, -2.5], \"theta\": [\"b\", \"gdp_per_cap\", \"gdp_growth\", \"sustainable_economic_development_assessment(seda)\", \"overall_economic_freedom\", \"c\"], \"mode\": \"lines\", \"line\": {\"shape\": \"spline\", \"color\": \"ffa60055\"}}, {\"type\": \"scatterpolar\", \"subplot\": \"polar4\", \"r\": [-2.5, 0.5209724707834048, 1.036556117897763, 0.28800408563887064, 0.04026572539505897, -2.5], \"theta\": [\"c\", \"political_stability&absence_of_violence\", \"control_of_corruption\", \"tax_burden\", \"government_spending\", \"d\"], \"mode\": \"lines\", \"line\": {\"shape\": \"spline\", \"color\": \"ff636155\"}}, {\"type\": \"scatterpolar\", \"subplot\": \"polar4\", \"r\": [-2.5, 0.9542652677747343, 1.128207264276401, 0.8775558830125814, 1.018117918600497, -2.5], \"theta\": [\"d\", \"property_rights\", \"government_integrity\", \"judicial_effectiveness\", \"financial_freedom\", \"e\"], \"mode\": \"lines\", \"line\": {\"shape\": \"spline\", \"color\": \"bc509055\"}}, {\"type\": \"scatterpolar\", \"subplot\": \"polar4\", \"r\": [-2.5, 0.02896909576031065, 0.16844614480596887, 0.1841014497742501, 0.07391616408578117, -2.5], \"theta\": [\"e\", \"total_foreign_born\", \"per_foreign_born\", \"population_living_abroad_diaspora\", \"population_living_abroad\", \"f\"], \"mode\": \"lines\", \"line\": {\"shape\": \"spline\", \"color\": \"003f5c55\"}}, {\"type\": \"scatterpolar\", \"subplot\": \"polar4\", \"r\": [-2.5, -0.43508635354515646, 1.042202710992741, 0.49299530597264407, 0.8590138805043083, -2.5], \"theta\": [\"a\", \"population_density\", \"human_development_index\", \"health_expenditure\", \"employment\", \"b\"], \"mode\": \"lines\", \"line\": {\"shape\": \"spline\", \"color\": \"45B5AA55\"}}, {\"type\": \"scatterpolar\", \"subplot\": \"polar4\", \"r\": [-2.5, 0.6095454527374058, 1.5335361395173623, 0.627852990615148, -0.725836357818282, -2.5], \"theta\": [\"b\", \"gdp_per_cap\", \"gdp_growth\", \"sustainable_economic_development_assessment(seda)\", \"overall_economic_freedom\", \"c\"], \"mode\": \"lines\", \"line\": {\"shape\": \"spline\", \"color\": \"ffa60055\"}}, {\"type\": \"scatterpolar\", \"subplot\": \"polar4\", \"r\": [-2.5, -2.381177482407285, -1.3559874346956438, -0.09682389430565475, 0.27775899834408324, -2.5], \"theta\": [\"c\", \"political_stability&absence_of_violence\", \"control_of_corruption\", \"tax_burden\", \"government_spending\", \"d\"], \"mode\": \"lines\", \"line\": {\"shape\": \"spline\", \"color\": \"ff636155\"}}, {\"type\": \"scatterpolar\", \"subplot\": \"polar4\", \"r\": [-2.5, -1.3038953630077577, -0.8026702133466127, -1.0914423044095047, -1.5469078453154836, -2.5], \"theta\": [\"d\", \"property_rights\", \"government_integrity\", \"judicial_effectiveness\", \"financial_freedom\", \"e\"], \"mode\": \"lines\", \"line\": {\"shape\": \"spline\", \"color\": \"bc509055\"}}, {\"type\": \"scatterpolar\", \"subplot\": \"polar4\", \"r\": [-2.5, -0.21408835678033622, -0.4353733493694901, 0.7834972184808822, 0.1906197914134441, -2.5], \"theta\": [\"e\", \"total_foreign_born\", \"per_foreign_born\", \"population_living_abroad_diaspora\", \"population_living_abroad\", \"f\"], \"mode\": \"lines\", \"line\": {\"shape\": \"spline\", \"color\": \"003f5c55\"}}, {\"type\": \"scatterpolar\", \"subplot\": \"polar4\", \"r\": [-2.5, 0.25357348149791575, 1.3925860187075616, 3.9678256838049006, -0.34439661592726806, -2.5], \"theta\": [\"a\", \"population_density\", \"human_development_index\", \"health_expenditure\", \"employment\", \"b\"], \"mode\": \"lines\", \"line\": {\"shape\": \"spline\", \"color\": \"45B5AA55\"}}, {\"type\": \"scatterpolar\", \"subplot\": \"polar4\", \"r\": [-2.5, 0.24158408087764463, 0.0031693954062845626, 1.3157085444324217, -1.9926535657043436, -2.5], \"theta\": [\"b\", \"gdp_per_cap\", \"gdp_growth\", \"sustainable_economic_development_assessment(seda)\", \"overall_economic_freedom\", \"c\"], \"mode\": \"lines\", \"line\": {\"shape\": \"spline\", \"color\": \"ffa60055\"}}, {\"type\": \"scatterpolar\", \"subplot\": \"polar4\", \"r\": [-2.5, -0.4644590263142673, -1.268455434095931, -1.0909620269393956, -0.4686482724464962, -2.5], \"theta\": [\"c\", \"political_stability&absence_of_violence\", \"control_of_corruption\", \"tax_burden\", \"government_spending\", \"d\"], \"mode\": \"lines\", \"line\": {\"shape\": \"spline\", \"color\": \"ff636155\"}}, {\"type\": \"scatterpolar\", \"subplot\": \"polar4\", \"r\": [-2.5, -0.8759790312716147, -0.9564568429987795, -0.8770956195887272, -1.0339026925322876, -2.5], \"theta\": [\"d\", \"property_rights\", \"government_integrity\", \"judicial_effectiveness\", \"financial_freedom\", \"e\"], \"mode\": \"lines\", \"line\": {\"shape\": \"spline\", \"color\": \"bc509055\"}}, {\"type\": \"scatterpolar\", \"subplot\": \"polar4\", \"r\": [-2.5, 0.002574919172746978, 2.169870224745095, -0.6190532258229081, -0.3772767619950373, -2.5], \"theta\": [\"e\", \"total_foreign_born\", \"per_foreign_born\", \"population_living_abroad_diaspora\", \"population_living_abroad\", \"f\"], \"mode\": \"lines\", \"line\": {\"shape\": \"spline\", \"color\": \"003f5c55\"}}, {\"type\": \"scatterpolar\", \"subplot\": \"polar4\", \"r\": [-2.5, -0.29660826930416373, null, -0.29186764602053034, 0.003958640806945368, -2.5], \"theta\": [\"a\", \"population_density\", \"human_development_index\", \"health_expenditure\", \"employment\", \"b\"], \"mode\": \"lines\", \"line\": {\"shape\": \"spline\", \"color\": \"45B5AA55\"}}, {\"type\": \"scatterpolar\", \"subplot\": \"polar4\", \"r\": [-2.5, -0.17412808392764242, 0.3563309787268793, -0.020821172097277615, 0.5697724497836978, -2.5], \"theta\": [\"b\", \"gdp_per_cap\", \"gdp_growth\", \"sustainable_economic_development_assessment(seda)\", \"overall_economic_freedom\", \"c\"], \"mode\": \"lines\", \"line\": {\"shape\": \"spline\", \"color\": \"ffa60055\"}}, {\"type\": \"scatterpolar\", \"subplot\": \"polar4\", \"r\": [-2.5, 0.6617483989402151, 0.4821862880194762, 0.39222850861011654, 0.5879542709847583, -2.5], \"theta\": [\"c\", \"political_stability&absence_of_violence\", \"control_of_corruption\", \"tax_burden\", \"government_spending\", \"d\"], \"mode\": \"lines\", \"line\": {\"shape\": \"spline\", \"color\": \"ff636155\"}}, {\"type\": \"scatterpolar\", \"subplot\": \"polar4\", \"r\": [-2.5, 0.27887922533518716, 0.5928016471974215, 0.5984066722832644, -0.007892386965895297, -2.5], \"theta\": [\"d\", \"property_rights\", \"government_integrity\", \"judicial_effectiveness\", \"financial_freedom\", \"e\"], \"mode\": \"lines\", \"line\": {\"shape\": \"spline\", \"color\": \"bc509055\"}}, {\"type\": \"scatterpolar\", \"subplot\": \"polar4\", \"r\": [-2.5, -0.2242359910802864, -0.32003705566954344, 0.7019216499551871, 0.5572714671240767, -2.5], \"theta\": [\"e\", \"total_foreign_born\", \"per_foreign_born\", \"population_living_abroad_diaspora\", \"population_living_abroad\", \"f\"], \"mode\": \"lines\", \"line\": {\"shape\": \"spline\", \"color\": \"003f5c55\"}}, {\"type\": \"scatterpolar\", \"subplot\": \"polar4\", \"r\": [-2.5, 4.772591783009581, 1.1945435756580345, 1.7234877140090943, -0.7085871909299951, -2.5], \"theta\": [\"a\", \"population_density\", \"human_development_index\", \"health_expenditure\", \"employment\", \"b\"], \"mode\": \"lines\", \"line\": {\"shape\": \"spline\", \"color\": \"45B5AA55\"}}, {\"type\": \"scatterpolar\", \"subplot\": \"polar4\", \"r\": [-2.5, -0.3567043584068587, -0.2617017745424366, 0.6888023009906077, 0.1283058914113306, -2.5], \"theta\": [\"b\", \"gdp_per_cap\", \"gdp_growth\", \"sustainable_economic_development_assessment(seda)\", \"overall_economic_freedom\", \"c\"], \"mode\": \"lines\", \"line\": {\"shape\": \"spline\", \"color\": \"ffa60055\"}}, {\"type\": \"scatterpolar\", \"subplot\": \"polar4\", \"r\": [-2.5, 0.9216424400129051, 0.20986424750998695, -0.6740652525552305, -0.3474782729604116, -2.5], \"theta\": [\"c\", \"political_stability&absence_of_violence\", \"control_of_corruption\", \"tax_burden\", \"government_spending\", \"d\"], \"mode\": \"lines\", \"line\": {\"shape\": \"spline\", \"color\": \"ff636155\"}}, {\"type\": \"scatterpolar\", \"subplot\": \"polar4\", \"r\": [-2.5, 0.8511529128988837, -0.050824106251029504, 0.5336042414523408, 0.5051127658173008, -2.5], \"theta\": [\"d\", \"property_rights\", \"government_integrity\", \"judicial_effectiveness\", \"financial_freedom\", \"e\"], \"mode\": \"lines\", \"line\": {\"shape\": \"spline\", \"color\": \"bc509055\"}}, {\"type\": \"scatterpolar\", \"subplot\": \"polar4\", \"r\": [-2.5, -0.39499776480323295, -0.22505420843672472, -0.49613821592944385, 0.4598653010251663, -2.5], \"theta\": [\"e\", \"total_foreign_born\", \"per_foreign_born\", \"population_living_abroad_diaspora\", \"population_living_abroad\", \"f\"], \"mode\": \"lines\", \"line\": {\"shape\": \"spline\", \"color\": \"003f5c55\"}}, {\"type\": \"scatterpolar\", \"subplot\": \"polar4\", \"r\": [-2.5, -0.14485810640068933, -0.1612876228067782, -0.5555445905997697, 0.4631550850948969, -2.5], \"theta\": [\"a\", \"population_density\", \"human_development_index\", \"health_expenditure\", \"employment\", \"b\"], \"mode\": \"lines\", \"line\": {\"shape\": \"spline\", \"color\": \"45B5AA55\"}}, {\"type\": \"scatterpolar\", \"subplot\": \"polar4\", \"r\": [-2.5, -0.33423342695962277, -0.37942229062148486, -0.18625480102186964, 1.625453700422348, -2.5], \"theta\": [\"b\", \"gdp_per_cap\", \"gdp_growth\", \"sustainable_economic_development_assessment(seda)\", \"overall_economic_freedom\", \"c\"], \"mode\": \"lines\", \"line\": {\"shape\": \"spline\", \"color\": \"ffa60055\"}}, {\"type\": \"scatterpolar\", \"subplot\": \"polar4\", \"r\": [-2.5, 1.0515894605492502, 2.1550217294093748, -2.6463072735196955, -0.07121063715398958, -2.5], \"theta\": [\"c\", \"political_stability&absence_of_violence\", \"control_of_corruption\", \"tax_burden\", \"government_spending\", \"d\"], \"mode\": \"lines\", \"line\": {\"shape\": \"spline\", \"color\": \"ff636155\"}}, {\"type\": \"scatterpolar\", \"subplot\": \"polar4\", \"r\": [-2.5, 1.825564745144156, 2.4325461382550446, 1.884486400897467, 1.531123071383693, -2.5], \"theta\": [\"d\", \"property_rights\", \"government_integrity\", \"judicial_effectiveness\", \"financial_freedom\", \"e\"], \"mode\": \"lines\", \"line\": {\"shape\": \"spline\", \"color\": \"bc509055\"}}, {\"type\": \"scatterpolar\", \"subplot\": \"polar4\", \"r\": [-2.5, -0.20095342418100373, -0.007950585348249979, 1.7837096188729906, 0.3762429982457939, -2.5], \"theta\": [\"e\", \"total_foreign_born\", \"per_foreign_born\", \"population_living_abroad_diaspora\", \"population_living_abroad\", \"f\"], \"mode\": \"lines\", \"line\": {\"shape\": \"spline\", \"color\": \"003f5c55\"}}, {\"type\": \"scatterpolar\", \"subplot\": \"polar4\", \"r\": [-2.5, -0.43085353458801967, 0.7070537167495677, -0.21476912421373523, null, -2.5], \"theta\": [\"a\", \"population_density\", \"human_development_index\", \"health_expenditure\", \"employment\", \"b\"], \"mode\": \"lines\", \"line\": {\"shape\": \"spline\", \"color\": \"45B5AA55\"}}, {\"type\": \"scatterpolar\", \"subplot\": \"polar4\", \"r\": [-2.5, -0.453610221811418, -1.9980795533547857, null, 0.464204471159992, -2.5], \"theta\": [\"b\", \"gdp_per_cap\", \"gdp_growth\", \"sustainable_economic_development_assessment(seda)\", \"overall_economic_freedom\", \"c\"], \"mode\": \"lines\", \"line\": {\"shape\": \"spline\", \"color\": \"ffa60055\"}}, {\"type\": \"scatterpolar\", \"subplot\": \"polar4\", \"r\": [-2.5, 1.2356810191879215, 0.6572504341444231, -0.12087526076017989, -1.0890386328371, -2.5], \"theta\": [\"c\", \"political_stability&absence_of_violence\", \"control_of_corruption\", \"tax_burden\", \"government_spending\", \"d\"], \"mode\": \"lines\", \"line\": {\"shape\": \"spline\", \"color\": \"ff636155\"}}, {\"type\": \"scatterpolar\", \"subplot\": \"polar4\", \"r\": [-2.5, -0.04076911411419169, 0.48458151082795003, 1.166674362056631, -1.0339026925322876, -2.5], \"theta\": [\"d\", \"property_rights\", \"government_integrity\", \"judicial_effectiveness\", \"financial_freedom\", \"e\"], \"mode\": \"lines\", \"line\": {\"shape\": \"spline\", \"color\": \"bc509055\"}}, {\"type\": \"scatterpolar\", \"subplot\": \"polar4\", \"r\": [-2.5, -0.31639662984400685, -0.2114852441253061, -0.39462169479005027, 0.3937026519285854, -2.5], \"theta\": [\"e\", \"total_foreign_born\", \"per_foreign_born\", \"population_living_abroad_diaspora\", \"population_living_abroad\", \"f\"], \"mode\": \"lines\", \"line\": {\"shape\": \"spline\", \"color\": \"003f5c55\"}}, {\"type\": \"scatterpolar\", \"subplot\": \"polar4\", \"r\": [-2.5, -0.22261071985266456, 1.3316501268516805, 1.1552716082930143, 0.003958640806945368, -2.5], \"theta\": [\"a\", \"population_density\", \"human_development_index\", \"health_expenditure\", \"employment\", \"b\"], \"mode\": \"lines\", \"line\": {\"shape\": \"spline\", \"color\": \"45B5AA55\"}}, {\"type\": \"scatterpolar\", \"subplot\": \"polar4\", \"r\": [-2.5, 0.33006328806619883, -0.6148633490921689, 0.8542357638416896, 1.3855261434590183, -2.5], \"theta\": [\"b\", \"gdp_per_cap\", \"gdp_growth\", \"sustainable_economic_development_assessment(seda)\", \"overall_economic_freedom\", \"c\"], \"mode\": \"lines\", \"line\": {\"shape\": \"spline\", \"color\": \"ffa60055\"}}, {\"type\": \"scatterpolar\", \"subplot\": \"polar4\", \"r\": [-2.5, 1.268167871140079, 2.1841990629426125, -0.6339790301304763, -1.307144631912052, -2.5], \"theta\": [\"c\", \"political_stability&absence_of_violence\", \"control_of_corruption\", \"tax_burden\", \"government_spending\", \"d\"], \"mode\": \"lines\", \"line\": {\"shape\": \"spline\", \"color\": \"ff636155\"}}, {\"type\": \"scatterpolar\", \"subplot\": \"polar4\", \"r\": [-2.5, 2.042100533046475, 2.7572071991964413, 1.8396230771617033, 1.531123071383693, -2.5], \"theta\": [\"d\", \"property_rights\", \"government_integrity\", \"judicial_effectiveness\", \"financial_freedom\", \"e\"], \"mode\": \"lines\", \"line\": {\"shape\": \"spline\", \"color\": \"bc509055\"}}, {\"type\": \"scatterpolar\", \"subplot\": \"polar4\", \"r\": [-2.5, -0.0229739399703052, -0.0011660708415778987, -0.38842571446424473, -0.6860360978372452, -2.5], \"theta\": [\"e\", \"total_foreign_born\", \"per_foreign_born\", \"population_living_abroad_diaspora\", \"population_living_abroad\", \"f\"], \"mode\": \"lines\", \"line\": {\"shape\": \"spline\", \"color\": \"003f5c55\"}}, {\"type\": \"scatterpolar\", \"subplot\": \"polar4\", \"mode\": \"lines\", \"marker\": {\"color\": \"rgba(180,120,150,0)\"}, \"r\": [0, 0, 0, 0, 0], \"theta\": [\"f\", \"g\", \"h\", \"i\", \"j\"], \"line\": {\"color\": [\"003f5c55\"], \"smoothing\": 1.3}, \"hoverlabel\": {\"namelength\": 20}}, {\"type\": \"scatterpolar\", \"subplot\": \"polar5\", \"r\": [-2.5, -0.41872290435119547, 0.15101058224427813, -0.6974058707242727, -1.4844706715454759, -2.5], \"theta\": [\"a\", \"population_density\", \"human_development_index\", \"health_expenditure\", \"employment\", \"b\"], \"mode\": \"lines\", \"line\": {\"shape\": \"spline\", \"color\": \"45B5AA55\"}}, {\"type\": \"scatterpolar\", \"subplot\": \"polar5\", \"r\": [-2.5, -0.4831033042679851, -0.8208742697722283, -0.1731942819624169, 0.9824481406409432, -2.5], \"theta\": [\"b\", \"gdp_per_cap\", \"gdp_growth\", \"sustainable_economic_development_assessment(seda)\", \"overall_economic_freedom\", \"c\"], \"mode\": \"lines\", \"line\": {\"shape\": \"spline\", \"color\": \"ffa60055\"}}, {\"type\": \"scatterpolar\", \"subplot\": \"polar5\", \"r\": [-2.5, 1.2248521115674562, 0.8031372757212367, 0.13567631809136216, 0.4861711755912531, -2.5], \"theta\": [\"c\", \"political_stability&absence_of_violence\", \"control_of_corruption\", \"tax_burden\", \"government_spending\", \"d\"], \"mode\": \"lines\", \"line\": {\"shape\": \"spline\", \"color\": \"ff636155\"}}, {\"type\": \"scatterpolar\", \"subplot\": \"polar5\", \"r\": [-2.5, 0.4283922185736542, 0.8662001723382715, 0.4438777841360441, 1.018117918600497, -2.5], \"theta\": [\"d\", \"property_rights\", \"government_integrity\", \"judicial_effectiveness\", \"financial_freedom\", \"e\"], \"mode\": \"lines\", \"line\": {\"shape\": \"spline\", \"color\": \"bc509055\"}}, {\"type\": \"scatterpolar\", \"subplot\": \"polar5\", \"r\": [-2.5, -0.44795632895700627, -0.5982010828613276, -0.2013152383085681, 0.4433245949331882, -2.5], \"theta\": [\"e\", \"total_foreign_born\", \"per_foreign_born\", \"population_living_abroad_diaspora\", \"population_living_abroad\", \"f\"], \"mode\": \"lines\", \"line\": {\"shape\": \"spline\", \"color\": \"003f5c55\"}}, {\"type\": \"scatterpolar\", \"subplot\": \"polar5\", \"r\": [-2.5, -0.07076007936983879, -0.8315860653033608, -0.835412224758436, 0.3048115669311323, -2.5], \"theta\": [\"a\", \"population_density\", \"human_development_index\", \"health_expenditure\", \"employment\", \"b\"], \"mode\": \"lines\", \"line\": {\"shape\": \"spline\", \"color\": \"45B5AA55\"}}, {\"type\": \"scatterpolar\", \"subplot\": \"polar5\", \"r\": [-2.5, -0.5968623702342307, -0.37942229062148486, null, 1.7310216790460538, -2.5], \"theta\": [\"b\", \"gdp_per_cap\", \"gdp_growth\", \"sustainable_economic_development_assessment(seda)\", \"overall_economic_freedom\", \"c\"], \"mode\": \"lines\", \"line\": {\"shape\": \"spline\", \"color\": \"ffa60055\"}}, {\"type\": \"scatterpolar\", \"subplot\": \"polar5\", \"r\": [-2.5, 1.3114835016219402, 1.8924253797889852, 0.18377966266762477, -2.819346262476537, -2.5], \"theta\": [\"c\", \"political_stability&absence_of_violence\", \"control_of_corruption\", \"tax_burden\", \"government_spending\", \"d\"], \"mode\": \"lines\", \"line\": {\"shape\": \"spline\", \"color\": \"ff636155\"}}, {\"type\": \"scatterpolar\", \"subplot\": \"polar5\", \"r\": [-2.5, 1.964766266889587, 2.102189795267609, 1.5604740565876176, 1.531123071383693, -2.5], \"theta\": [\"d\", \"property_rights\", \"government_integrity\", \"judicial_effectiveness\", \"financial_freedom\", \"e\"], \"mode\": \"lines\", \"line\": {\"shape\": \"spline\", \"color\": \"bc509055\"}}, {\"type\": \"scatterpolar\", \"subplot\": \"polar5\", \"r\": [-2.5, -0.46822482279622085, -0.5914166007056183, -0.7826369781828947, -0.8725782084425755, -2.5], \"theta\": [\"e\", \"total_foreign_born\", \"per_foreign_born\", \"population_living_abroad_diaspora\", \"population_living_abroad\", \"f\"], \"mode\": \"lines\", \"line\": {\"shape\": \"spline\", \"color\": \"003f5c55\"}}, {\"type\": \"scatterpolar\", \"subplot\": \"polar5\", \"r\": [-2.5, -0.044605621643263725, -0.7173307573120679, -0.599490748029643, 0.7956762316257682, -2.5], \"theta\": [\"a\", \"population_density\", \"human_development_index\", \"health_expenditure\", \"employment\", \"b\"], \"mode\": \"lines\", \"line\": {\"shape\": \"spline\", \"color\": \"45B5AA55\"}}, {\"type\": \"scatterpolar\", \"subplot\": \"polar5\", \"r\": [-2.5, -0.5954579372280553, 0.5034815624296525, null, 1.3951230992973922, -2.5], \"theta\": [\"b\", \"gdp_per_cap\", \"gdp_growth\", \"sustainable_economic_development_assessment(seda)\", \"overall_economic_freedom\", \"c\"], \"mode\": \"lines\", \"line\": {\"shape\": \"spline\", \"color\": \"ffa60055\"}}, {\"type\": \"scatterpolar\", \"subplot\": \"polar5\", \"r\": [-2.5, 1.214023203946991, 0.5794441534189143, 0.6808491877349044, -2.460683059375458, -2.5], \"theta\": [\"c\", \"political_stability&absence_of_violence\", \"control_of_corruption\", \"tax_burden\", \"government_spending\", \"d\"], \"mode\": \"lines\", \"line\": {\"shape\": \"spline\", \"color\": \"ff636155\"}}, {\"type\": \"scatterpolar\", \"subplot\": \"polar5\", \"r\": [-2.5, 1.21720169403967, 0.5529309791549168, 0.6033915916734779, 1.531123071383693, -2.5], \"theta\": [\"d\", \"property_rights\", \"government_integrity\", \"judicial_effectiveness\", \"financial_freedom\", \"e\"], \"mode\": \"lines\", \"line\": {\"shape\": \"spline\", \"color\": \"bc509055\"}}, {\"type\": \"scatterpolar\", \"subplot\": \"polar5\", \"r\": [-2.5, -0.46898407850995627, -0.5914166007056183, -0.738849921344341, 0.1740791729571317, -2.5], \"theta\": [\"e\", \"total_foreign_born\", \"per_foreign_born\", \"population_living_abroad_diaspora\", \"population_living_abroad\", \"f\"], \"mode\": \"lines\", \"line\": {\"shape\": \"spline\", \"color\": \"003f5c55\"}}, {\"type\": \"scatterpolar\", \"subplot\": \"polar5\", \"r\": [-2.5, -0.5346227980733632, 1.4916074672374433, 1.7689758418751036, 0.5739950645834635, -2.5], \"theta\": [\"a\", \"population_density\", \"human_development_index\", \"health_expenditure\", \"employment\", \"b\"], \"mode\": \"lines\", \"line\": {\"shape\": \"spline\", \"color\": \"45B5AA55\"}}, {\"type\": \"scatterpolar\", \"subplot\": \"polar5\", \"r\": [-2.5, 1.8861749626412556, -0.7325838739420796, 1.1154468093247856, -1.0713318934053173, -2.5], \"theta\": [\"b\", \"gdp_per_cap\", \"gdp_growth\", \"sustainable_economic_development_assessment(seda)\", \"overall_economic_freedom\", \"c\"], \"mode\": \"lines\", \"line\": {\"shape\": \"spline\", \"color\": \"ffa60055\"}}, {\"type\": \"scatterpolar\", \"subplot\": \"polar5\", \"r\": [-2.5, 0.0011844128425425639, -0.558472955811314, 0.4002456307616249, -0.42018027265206237, -2.5], \"theta\": [\"c\", \"political_stability&absence_of_violence\", \"control_of_corruption\", \"tax_burden\", \"government_spending\", \"d\"], \"mode\": \"lines\", \"line\": {\"shape\": \"spline\", \"color\": \"ff636155\"}}, {\"type\": \"scatterpolar\", \"subplot\": \"polar5\", \"r\": [-2.5, -0.6542875076227775, -0.6374918245752341, -1.1213511552074755, -0.5208975397490914, -2.5], \"theta\": [\"d\", \"property_rights\", \"government_integrity\", \"judicial_effectiveness\", \"financial_freedom\", \"e\"], \"mode\": \"lines\", \"line\": {\"shape\": \"spline\", \"color\": \"bc509055\"}}, {\"type\": \"scatterpolar\", \"subplot\": \"polar5\", \"r\": [-2.5, 1.5142224454935056, 0.9350933724732653, 1.5332137413618026, 0.10791643622488503, -2.5], \"theta\": [\"e\", \"total_foreign_born\", \"per_foreign_born\", \"population_living_abroad_diaspora\", \"population_living_abroad\", \"f\"], \"mode\": \"lines\", \"line\": {\"shape\": \"spline\", \"color\": \"003f5c55\"}}, {\"type\": \"scatterpolar\", \"subplot\": \"polar5\", \"r\": [-2.5, -0.34534759396463854, -0.06226617427689652, -0.693550944633933, -2.5770411884884856, -2.5], \"theta\": [\"a\", \"population_density\", \"human_development_index\", \"health_expenditure\", \"employment\", \"b\"], \"mode\": \"lines\", \"line\": {\"shape\": \"spline\", \"color\": \"45B5AA55\"}}, {\"type\": \"scatterpolar\", \"subplot\": \"polar5\", \"r\": [-2.5, -0.584222474015759, -0.23227163675181203, null, -0.3611461783537025, -2.5], \"theta\": [\"b\", \"gdp_per_cap\", \"gdp_growth\", \"sustainable_economic_development_assessment(seda)\", \"overall_economic_freedom\", \"c\"], \"mode\": \"lines\", \"line\": {\"shape\": \"spline\", \"color\": \"ffa60055\"}}, {\"type\": \"scatterpolar\", \"subplot\": \"polar5\", \"r\": [-2.5, -0.21539395740742331, -0.26669933062789536, 0.03145250678732858, -0.14875954775953146, -2.5], \"theta\": [\"c\", \"political_stability&absence_of_violence\", \"control_of_corruption\", \"tax_burden\", \"government_spending\", \"d\"], \"mode\": \"lines\", \"line\": {\"shape\": \"spline\", \"color\": \"ff636155\"}}, {\"type\": \"scatterpolar\", \"subplot\": \"polar5\", \"r\": [-2.5, 0.3046573140541498, -0.8254534056685452, -0.5231745195585226, -0.5208975397490914, -2.5], \"theta\": [\"d\", \"property_rights\", \"government_integrity\", \"judicial_effectiveness\", \"financial_freedom\", \"e\"], \"mode\": \"lines\", \"line\": {\"shape\": \"spline\", \"color\": \"bc509055\"}}, {\"type\": \"scatterpolar\", \"subplot\": \"polar5\", \"r\": [-2.5, -0.46482825315492576, -0.5642786397318182, -0.467838206446957, 2.1001492425621353, -2.5], \"theta\": [\"e\", \"total_foreign_born\", \"per_foreign_born\", \"population_living_abroad_diaspora\", \"population_living_abroad\", \"f\"], \"mode\": \"lines\", \"line\": {\"shape\": \"spline\", \"color\": \"003f5c55\"}}, {\"type\": \"scatterpolar\", \"subplot\": \"polar5\", \"r\": [-2.5, -0.521186199007307, -1.3343097836732387, -0.8192215351790091, -0.1543848773568192, -2.5], \"theta\": [\"a\", \"population_density\", \"human_development_index\", \"health_expenditure\", \"employment\", \"b\"], \"mode\": \"lines\", \"line\": {\"shape\": \"spline\", \"color\": \"45B5AA55\"}}, {\"type\": \"scatterpolar\", \"subplot\": \"polar5\", \"r\": [-2.5, -0.5828180408003067, -0.4088524284121094, null, 0.4066220039289522, -2.5], \"theta\": [\"b\", \"gdp_per_cap\", \"gdp_growth\", \"sustainable_economic_development_assessment(seda)\", \"overall_economic_freedom\", \"c\"], \"mode\": \"lines\", \"line\": {\"shape\": \"spline\", \"color\": \"ffa60055\"}}, {\"type\": \"scatterpolar\", \"subplot\": \"polar5\", \"r\": [-2.5, 0.33688086373569776, 1.2505234623556727, -2.1732900324077593, -1.0938855437509911, -2.5], \"theta\": [\"c\", \"political_stability&absence_of_violence\", \"control_of_corruption\", \"tax_burden\", \"government_spending\", \"d\"], \"mode\": \"lines\", \"line\": {\"shape\": \"spline\", \"color\": \"ff636155\"}}, {\"type\": \"scatterpolar\", \"subplot\": \"polar5\", \"r\": [-2.5, 1.7843196458568484, 1.350343470894365, 1.3411425474542422, 1.018117918600497, -2.5], \"theta\": [\"d\", \"property_rights\", \"government_integrity\", \"judicial_effectiveness\", \"financial_freedom\", \"e\"], \"mode\": \"lines\", \"line\": {\"shape\": \"spline\", \"color\": \"bc509055\"}}, {\"type\": \"scatterpolar\", \"subplot\": \"polar5\", \"r\": [-2.5, -0.46931111308690526, -0.6728304593637963, -0.7852036354500045, -1.2107431770599442, -2.5], \"theta\": [\"e\", \"total_foreign_born\", \"per_foreign_born\", \"population_living_abroad_diaspora\", \"population_living_abroad\", \"f\"], \"mode\": \"lines\", \"line\": {\"shape\": \"spline\", \"color\": \"003f5c55\"}}, {\"type\": \"scatterpolar\", \"subplot\": \"polar5\", \"r\": [-2.5, -0.04737550904125829, 0.03675527425298516, -0.7028027672507484, -0.40773426480580816, -2.5], \"theta\": [\"a\", \"population_density\", \"human_development_index\", \"health_expenditure\", \"employment\", \"b\"], \"mode\": \"lines\", \"line\": {\"shape\": \"spline\", \"color\": \"45B5AA55\"}}, {\"type\": \"scatterpolar\", \"subplot\": \"polar5\", \"r\": [-2.5, -0.5912446384188058, 0.09145977369470834, null, 1.587065144868056, -2.5], \"theta\": [\"b\", \"gdp_per_cap\", \"gdp_growth\", \"sustainable_economic_development_assessment(seda)\", \"overall_economic_freedom\", \"c\"], \"mode\": \"lines\", \"line\": {\"shape\": \"spline\", \"color\": \"ffa60055\"}}, {\"type\": \"scatterpolar\", \"subplot\": \"polar5\", \"r\": [-2.5, -0.29119637529606107, 0.7447825506845529, 1.0095560892844466, 0.5104051754884701, -2.5], \"theta\": [\"c\", \"political_stability&absence_of_violence\", \"control_of_corruption\", \"tax_burden\", \"government_spending\", \"d\"], \"mode\": \"lines\", \"line\": {\"shape\": \"spline\", \"color\": \"ff636155\"}}, {\"type\": \"scatterpolar\", \"subplot\": \"polar5\", \"r\": [-2.5, 0.6913286448385897, 1.1623819984398844, 0.9174340972029006, 0.5051127658173008, -2.5], \"theta\": [\"d\", \"property_rights\", \"government_integrity\", \"judicial_effectiveness\", \"financial_freedom\", \"e\"], \"mode\": \"lines\", \"line\": {\"shape\": \"spline\", \"color\": \"bc509055\"}}, {\"type\": \"scatterpolar\", \"subplot\": \"polar5\", \"r\": [-2.5, -0.4632944418642058, -0.44215783152519944, -0.6322175064214097, 1.9843642999182887, -2.5], \"theta\": [\"e\", \"total_foreign_born\", \"per_foreign_born\", \"population_living_abroad_diaspora\", \"population_living_abroad\", \"f\"], \"mode\": \"lines\", \"line\": {\"shape\": \"spline\", \"color\": \"003f5c55\"}}, {\"type\": \"scatterpolar\", \"subplot\": \"polar5\", \"r\": [-2.5, -0.51815508541315, -0.9001393409001838, -0.8708775447895618, -2.355360021446181, -2.5], \"theta\": [\"a\", \"population_density\", \"human_development_index\", \"health_expenditure\", \"employment\", \"b\"], \"mode\": \"lines\", \"line\": {\"shape\": \"spline\", \"color\": \"45B5AA55\"}}, {\"type\": \"scatterpolar\", \"subplot\": \"polar5\", \"r\": [-2.5, -0.5898402060404607, -0.791444136367035, -5.114436559017648, -0.22678696611447682, -2.5], \"theta\": [\"b\", \"gdp_per_cap\", \"gdp_growth\", \"sustainable_economic_development_assessment(seda)\", \"overall_economic_freedom\", \"c\"], \"mode\": \"lines\", \"line\": {\"shape\": \"spline\", \"color\": \"ffa60055\"}}, {\"type\": \"scatterpolar\", \"subplot\": \"polar5\", \"r\": [-2.5, -0.031302334223371094, -0.11108672569922136, -1.1230308213790352, 0.9853917213865185, -2.5], \"theta\": [\"c\", \"political_stability&absence_of_violence\", \"control_of_corruption\", \"tax_burden\", \"government_spending\", \"d\"], \"mode\": \"lines\", \"line\": {\"shape\": \"spline\", \"color\": \"ff636155\"}}, {\"type\": \"scatterpolar\", \"subplot\": \"polar5\", \"r\": [-2.5, 0.14998878174037383, -0.19891491066300554, 0.658224373879206, -0.5208975397490914, -2.5], \"theta\": [\"d\", \"property_rights\", \"government_integrity\", \"judicial_effectiveness\", \"financial_freedom\", \"e\"], \"mode\": \"lines\", \"line\": {\"shape\": \"spline\", \"color\": \"bc509055\"}}, {\"type\": \"scatterpolar\", \"subplot\": \"polar5\", \"r\": [-2.5, -0.46815979837741223, -0.6796149496072463, -0.7714122078269602, -0.9580383625857418, -2.5], \"theta\": [\"e\", \"total_foreign_born\", \"per_foreign_born\", \"population_living_abroad_diaspora\", \"population_living_abroad\", \"f\"], \"mode\": \"lines\", \"line\": {\"shape\": \"spline\", \"color\": \"003f5c55\"}}, {\"type\": \"scatterpolar\", \"subplot\": \"polar5\", \"mode\": \"lines\", \"marker\": {\"color\": \"rgba(180,120,150,0)\"}, \"r\": [0, 0, 0, 0, 0], \"theta\": [\"f\", \"g\", \"h\", \"i\", \"j\"], \"line\": {\"color\": [\"003f5c55\"], \"smoothing\": 1.3}, \"hoverlabel\": {\"namelength\": 20}}], {\"showlegend\": false, \"paper_bgcolor\": \"rgb(224,225,227)\", \"polar\": {\"domain\": {\"x\": [0.0, 0.475], \"y\": [0.6833333333333333, 1.0]}, \"bgcolor\": \"rgb(224,225,227)\", \"sector\": [119, 420], \"angularaxis\": {\"showline\": false, \"visible\": false, \"showticklabels\": false, \"tickfont\": {\"size\": 8}, \"ticks\": \"outside\", \"nticks\": 6, \"direction\": \"clockwise\", \"rotation\": 60, \"gridcolor\": \"rgba(255,255,255,0.5)\", \"gridwidth\": 1}, \"radialaxis\": {\"angle\": 60, \"showline\": false, \"showticklabels\": false, \"visible\": true, \"nticks\": 4, \"range\": [-5, 5], \"gridwidth\": 4, \"gridcolor\": \"white\"}}, \"polar2\": {\"domain\": {\"x\": [0.475, 0.95], \"y\": [0.6833333333333333, 1.0]}, \"bgcolor\": \"rgb(224,225,227)\", \"sector\": [119, 420], \"angularaxis\": {\"showline\": false, \"visible\": false, \"showticklabels\": false, \"tickfont\": {\"size\": 8}, \"ticks\": \"outside\", \"nticks\": 6, \"direction\": \"clockwise\", \"rotation\": 60, \"gridcolor\": \"rgba(255,255,255,0.5)\", \"gridwidth\": 1}, \"radialaxis\": {\"angle\": 60, \"showline\": false, \"showticklabels\": false, \"visible\": true, \"nticks\": 4, \"range\": [-5, 5], \"gridwidth\": 4, \"gridcolor\": \"white\"}}, \"polar3\": {\"domain\": {\"x\": [0.0, 0.475], \"y\": [0.3666666666666667, 0.6833333333333333]}, \"bgcolor\": \"rgb(224,225,227)\", \"sector\": [119, 420], \"angularaxis\": {\"showline\": false, \"visible\": false, \"showticklabels\": false, \"tickfont\": {\"size\": 8}, \"ticks\": \"outside\", \"nticks\": 6, \"direction\": \"clockwise\", \"rotation\": 60, \"gridcolor\": \"rgba(255,255,255,0.5)\", \"gridwidth\": 1}, \"radialaxis\": {\"angle\": 60, \"showline\": false, \"showticklabels\": false, \"visible\": true, \"nticks\": 4, \"range\": [-5, 5], \"gridwidth\": 4, \"gridcolor\": \"white\"}}, \"polar4\": {\"domain\": {\"x\": [0.475, 0.95], \"y\": [0.3666666666666667, 0.6833333333333333]}, \"bgcolor\": \"rgb(224,225,227)\", \"sector\": [119, 420], \"angularaxis\": {\"showline\": false, \"visible\": false, \"showticklabels\": false, \"tickfont\": {\"size\": 8}, \"ticks\": \"outside\", \"nticks\": 6, \"direction\": \"clockwise\", \"rotation\": 60, \"gridcolor\": \"rgba(255,255,255,0.5)\", \"gridwidth\": 1}, \"radialaxis\": {\"angle\": 60, \"showline\": false, \"showticklabels\": false, \"visible\": true, \"nticks\": 4, \"range\": [-5, 5], \"gridwidth\": 4, \"gridcolor\": \"white\"}}, \"polar5\": {\"domain\": {\"x\": [0.0, 0.475], \"y\": [0.050000000000000044, 0.3666666666666667]}, \"bgcolor\": \"rgb(224,225,227)\", \"sector\": [119, 420], \"angularaxis\": {\"showline\": false, \"visible\": false, \"showticklabels\": false, \"tickfont\": {\"size\": 8}, \"ticks\": \"outside\", \"nticks\": 6, \"direction\": \"clockwise\", \"rotation\": 60, \"gridcolor\": \"rgba(255,255,255,0.5)\", \"gridwidth\": 1}, \"radialaxis\": {\"angle\": 60, \"showline\": false, \"showticklabels\": false, \"visible\": true, \"nticks\": 4, \"range\": [-5, 5], \"gridwidth\": 4, \"gridcolor\": \"white\"}}, \"width\": 1200, \"height\": 1500}, {\"showLink\": true, \"linkText\": \"Export to plot.ly\"})});</script>"
      ],
      "text/vnd.plotly.v1+html": [
       "<div id=\"519b05d9-7741-423c-ac40-f9f00643e69f\" style=\"height: 1500px; width: 1200px;\" class=\"plotly-graph-div\"></div><script type=\"text/javascript\">require([\"plotly\"], function(Plotly) { window.PLOTLYENV=window.PLOTLYENV || {};window.PLOTLYENV.BASE_URL=\"https://plot.ly\";Plotly.newPlot(\"519b05d9-7741-423c-ac40-f9f00643e69f\", [{\"type\": \"scatterpolar\", \"subplot\": \"polar\", \"r\": [-2.5, -0.586971692703689, -0.031798001343837846, -0.20474631637885185, 0.526492733973437, -2.5], \"theta\": [\"a\", \"population_density\", \"human_development_index\", \"health_expenditure\", \"employment\", \"b\"], \"mode\": \"lines\", \"line\": {\"shape\": \"spline\", \"color\": \"45B5AA55\"}}, {\"type\": \"scatterpolar\", \"subplot\": \"polar\", \"r\": [-2.5, -0.08424435813869854, 0.0031693954062845626, -0.3865167022030159, 2.0381293912795932, -2.5], \"theta\": [\"b\", \"gdp_per_cap\", \"gdp_growth\", \"sustainable_economic_development_assessment(seda)\", \"overall_economic_freedom\", \"c\"], \"mode\": \"lines\", \"line\": {\"shape\": \"spline\", \"color\": \"ffa60055\"}}, {\"type\": \"scatterpolar\", \"subplot\": \"polar\", \"r\": [-2.5, 1.084076183410646, 1.7757159297156175, -0.9145825871037558, 0.2535249984468663, -2.5], \"theta\": [\"c\", \"political_stability&absence_of_violence\", \"control_of_corruption\", \"tax_burden\", \"government_spending\", \"d\"], \"mode\": \"lines\", \"line\": {\"shape\": \"spline\", \"color\": \"ff636155\"}}, {\"type\": \"scatterpolar\", \"subplot\": \"polar\", \"r\": [-2.5, 1.511071748098877, 2.050927476744723, 2.372997472134964, 2.044128224166889, -2.5], \"theta\": [\"d\", \"property_rights\", \"government_integrity\", \"judicial_effectiveness\", \"financial_freedom\", \"e\"], \"mode\": \"lines\", \"line\": {\"shape\": \"spline\", \"color\": \"bc509055\"}}, {\"type\": \"scatterpolar\", \"subplot\": \"polar\", \"r\": [-2.5, -0.16702597742617586, -0.2793301303843248, -0.6269274051310547, -1.0398228359102368, -2.5], \"theta\": [\"e\", \"total_foreign_born\", \"per_foreign_born\", \"population_living_abroad_diaspora\", \"population_living_abroad\", \"f\"], \"mode\": \"lines\", \"line\": {\"shape\": \"spline\", \"color\": \"003f5c55\"}}, {\"type\": \"scatterpolar\", \"subplot\": \"polar\", \"r\": [-2.5, -0.1007777491510052, -0.5116709305215988, -0.7135965603036998, 0.6214986032586615, -2.5], \"theta\": [\"a\", \"population_density\", \"human_development_index\", \"health_expenditure\", \"employment\", \"b\"], \"mode\": \"lines\", \"line\": {\"shape\": \"spline\", \"color\": \"45B5AA55\"}}, {\"type\": \"scatterpolar\", \"subplot\": \"polar\", \"r\": [-2.5, -0.5505160852159773, -0.4088524284121094, null, 0.4450105594832442, -2.5], \"theta\": [\"b\", \"gdp_per_cap\", \"gdp_growth\", \"sustainable_economic_development_assessment(seda)\", \"overall_economic_freedom\", \"c\"], \"mode\": \"lines\", \"line\": {\"shape\": \"spline\", \"color\": \"ffa60055\"}}, {\"type\": \"scatterpolar\", \"subplot\": \"polar\", \"r\": [-2.5, -0.713524159766492, -0.8307949673356989, 1.0496423117092006, 0.6461157228254818, -2.5], \"theta\": [\"c\", \"political_stability&absence_of_violence\", \"control_of_corruption\", \"tax_burden\", \"government_spending\", \"d\"], \"mode\": \"lines\", \"line\": {\"shape\": \"spline\", \"color\": \"ff636155\"}}, {\"type\": \"scatterpolar\", \"subplot\": \"polar\", \"r\": [-2.5, 0.21701177307543493, -0.08499884041451294, -0.44840244010240343, 0.5051127658173008, -2.5], \"theta\": [\"d\", \"property_rights\", \"government_integrity\", \"judicial_effectiveness\", \"financial_freedom\", \"e\"], \"mode\": \"lines\", \"line\": {\"shape\": \"spline\", \"color\": \"bc509055\"}}, {\"type\": \"scatterpolar\", \"subplot\": \"polar\", \"r\": [-2.5, -0.4457129865081104, -0.5642786397318182, -0.3151366163461641, 0.9349503386531386, -2.5], \"theta\": [\"e\", \"total_foreign_born\", \"per_foreign_born\", \"population_living_abroad_diaspora\", \"population_living_abroad\", \"f\"], \"mode\": \"lines\", \"line\": {\"shape\": \"spline\", \"color\": \"003f5c55\"}}, {\"type\": \"scatterpolar\", \"subplot\": \"polar\", \"r\": [-2.5, -0.5742748573480835, -2.697757684863639, -0.9279304509265902, -0.99360600685084, -2.5], \"theta\": [\"a\", \"population_density\", \"human_development_index\", \"health_expenditure\", \"employment\", \"b\"], \"mode\": \"lines\", \"line\": {\"shape\": \"spline\", \"color\": \"45B5AA55\"}}, {\"type\": \"scatterpolar\", \"subplot\": \"polar\", \"r\": [-2.5, -0.5547293831881196, -0.5854332200724067, -1.605501498087375, 0.34903917059751416, -2.5], \"theta\": [\"b\", \"gdp_per_cap\", \"gdp_growth\", \"sustainable_economic_development_assessment(seda)\", \"overall_economic_freedom\", \"c\"], \"mode\": \"lines\", \"line\": {\"shape\": \"spline\", \"color\": \"ffa60055\"}}, {\"type\": \"scatterpolar\", \"subplot\": \"polar\", \"r\": [-2.5, 1.1923653887060603, 1.162991345815543, 1.7711943153547767, 1.7657264441206046, -2.5], \"theta\": [\"c\", \"political_stability&absence_of_violence\", \"control_of_corruption\", \"tax_burden\", \"government_spending\", \"d\"], \"mode\": \"lines\", \"line\": {\"shape\": \"spline\", \"color\": \"ff636155\"}}, {\"type\": \"scatterpolar\", \"subplot\": \"polar\", \"r\": [-2.5, -0.14903700806535122, 0.5415395459521963, 0.38406008254010254, 0.5051127658173008, -2.5], \"theta\": [\"d\", \"property_rights\", \"government_integrity\", \"judicial_effectiveness\", \"financial_freedom\", \"e\"], \"mode\": \"lines\", \"line\": {\"shape\": \"spline\", \"color\": \"bc509055\"}}, {\"type\": \"scatterpolar\", \"subplot\": \"polar\", \"r\": [-2.5, -0.31820010122449177, -0.5710631218875275, 0.4833522015267348, -0.5197103960514807, -2.5], \"theta\": [\"e\", \"total_foreign_born\", \"per_foreign_born\", \"population_living_abroad_diaspora\", \"population_living_abroad\", \"f\"], \"mode\": \"lines\", \"line\": {\"shape\": \"spline\", \"color\": \"003f5c55\"}}, {\"type\": \"scatterpolar\", \"subplot\": \"polar\", \"r\": [-2.5, 1.0146512416959448, 0.23479771730251242, -0.8593127665185425, 1.223203247441864, -2.5], \"theta\": [\"a\", \"population_density\", \"human_development_index\", \"health_expenditure\", \"employment\", \"b\"], \"mode\": \"lines\", \"line\": {\"shape\": \"spline\", \"color\": \"45B5AA55\"}}, {\"type\": \"scatterpolar\", \"subplot\": \"polar\", \"r\": [-2.5, -0.5814136092590689, 0.20918032485720645, null, 0.7713114511927354, -2.5], \"theta\": [\"b\", \"gdp_per_cap\", \"gdp_growth\", \"sustainable_economic_development_assessment(seda)\", \"overall_economic_freedom\", \"c\"], \"mode\": \"lines\", \"line\": {\"shape\": \"spline\", \"color\": \"ffa60055\"}}, {\"type\": \"scatterpolar\", \"subplot\": \"polar\", \"r\": [-2.5, -0.9192735981914748, -0.11108672569922136, 2.043780750176548, 0.9514642694430119, -2.5], \"theta\": [\"c\", \"political_stability&absence_of_violence\", \"control_of_corruption\", \"tax_burden\", \"government_spending\", \"d\"], \"mode\": \"lines\", \"line\": {\"shape\": \"spline\", \"color\": \"ff636155\"}}, {\"type\": \"scatterpolar\", \"subplot\": \"polar\", \"r\": [-2.5, 0.6552392812978002, 0.5928016471974215, 0.46381689123120373, 1.531123071383693, -2.5], \"theta\": [\"d\", \"property_rights\", \"government_integrity\", \"judicial_effectiveness\", \"financial_freedom\", \"e\"], \"mode\": \"lines\", \"line\": {\"shape\": \"spline\", \"color\": \"bc509055\"}}, {\"type\": \"scatterpolar\", \"subplot\": \"polar\", \"r\": [-2.5, -0.4502436585127433, -0.6524769886334463, -0.4580332272715843, -0.09976098697299174, -2.5], \"theta\": [\"e\", \"total_foreign_born\", \"per_foreign_born\", \"population_living_abroad_diaspora\", \"population_living_abroad\", \"f\"], \"mode\": \"lines\", \"line\": {\"shape\": \"spline\", \"color\": \"003f5c55\"}}, {\"type\": \"scatterpolar\", \"subplot\": \"polar\", \"r\": [-2.5, -0.5449777592278037, -0.8772880976978308, -0.7960919786369706, 0.779842121422426, -2.5], \"theta\": [\"a\", \"population_density\", \"human_development_index\", \"health_expenditure\", \"employment\", \"b\"], \"mode\": \"lines\", \"line\": {\"shape\": \"spline\", \"color\": \"45B5AA55\"}}, {\"type\": \"scatterpolar\", \"subplot\": \"polar\", \"r\": [-2.5, -0.18115024833068918, 1.1509445236564926, -0.8828175889767921, -0.4379232894622865, -2.5], \"theta\": [\"b\", \"gdp_per_cap\", \"gdp_growth\", \"sustainable_economic_development_assessment(seda)\", \"overall_economic_freedom\", \"c\"], \"mode\": \"lines\", \"line\": {\"shape\": \"spline\", \"color\": \"ffa60055\"}}, {\"type\": \"scatterpolar\", \"subplot\": \"polar\", \"r\": [-2.5, -1.2441411495323373, -0.7821660201434276, -0.13691011673040895, -1.2005149953861485, -2.5], \"theta\": [\"c\", \"political_stability&absence_of_violence\", \"control_of_corruption\", \"tax_burden\", \"government_spending\", \"d\"], \"mode\": \"lines\", \"line\": {\"shape\": \"spline\", \"color\": \"ff636155\"}}, {\"type\": \"scatterpolar\", \"subplot\": \"polar\", \"r\": [-2.5, -0.8759790312716147, -1.1501141406934507, -0.6577643006105832, -1.0339026925322876, -2.5], \"theta\": [\"d\", \"property_rights\", \"government_integrity\", \"judicial_effectiveness\", \"financial_freedom\", \"e\"], \"mode\": \"lines\", \"line\": {\"shape\": \"spline\", \"color\": \"bc509055\"}}, {\"type\": \"scatterpolar\", \"subplot\": \"polar\", \"r\": [-2.5, 0.2773432507800117, -0.10971791473677803, -0.15611710066479337, -0.851442895850029, -2.5], \"theta\": [\"e\", \"total_foreign_born\", \"per_foreign_born\", \"population_living_abroad_diaspora\", \"population_living_abroad\", \"f\"], \"mode\": \"lines\", \"line\": {\"shape\": \"spline\", \"color\": \"003f5c55\"}}, {\"type\": \"scatterpolar\", \"subplot\": \"polar\", \"r\": [-2.5, -0.4493179747602654, -1.8675016749761755, -0.8392671508487758, -0.31272839552058374, -2.5], \"theta\": [\"a\", \"population_density\", \"human_development_index\", \"health_expenditure\", \"employment\", \"b\"], \"mode\": \"lines\", \"line\": {\"shape\": \"spline\", \"color\": \"45B5AA55\"}}, {\"type\": \"scatterpolar\", \"subplot\": \"polar\", \"r\": [-2.5, -0.5533249516468818, -0.2911319123330611, null, -0.24598124389162282, -2.5], \"theta\": [\"b\", \"gdp_per_cap\", \"gdp_growth\", \"sustainable_economic_development_assessment(seda)\", \"overall_economic_freedom\", \"c\"], \"mode\": \"lines\", \"line\": {\"shape\": \"spline\", \"color\": \"ffa60055\"}}, {\"type\": \"scatterpolar\", \"subplot\": \"polar\", \"r\": [-2.5, 0.1636181844788875, -0.23752196810955348, 0.4483489753378875, -1.5010166310897874, -2.5], \"theta\": [\"c\", \"political_stability&absence_of_violence\", \"control_of_corruption\", \"tax_burden\", \"government_spending\", \"d\"], \"mode\": \"lines\", \"line\": {\"shape\": \"spline\", \"color\": \"ff636155\"}}, {\"type\": \"scatterpolar\", \"subplot\": \"polar\", \"r\": [-2.5, -0.3758842674607063, -0.38118066651612587, 0.38406008254010254, -0.007892386965895297, -2.5], \"theta\": [\"d\", \"property_rights\", \"government_integrity\", \"judicial_effectiveness\", \"financial_freedom\", \"e\"], \"mode\": \"lines\", \"line\": {\"shape\": \"spline\", \"color\": \"bc509055\"}}, {\"type\": \"scatterpolar\", \"subplot\": \"polar\", \"r\": [-2.5, -0.2593855144121343, 0.19558407342880613, -0.7500892089925103, -1.1087423277792579, -2.5], \"theta\": [\"e\", \"total_foreign_born\", \"per_foreign_born\", \"population_living_abroad_diaspora\", \"population_living_abroad\", \"f\"], \"mode\": \"lines\", \"line\": {\"shape\": \"spline\", \"color\": \"003f5c55\"}}, {\"type\": \"scatterpolar\", \"subplot\": \"polar\", \"r\": [-2.5, -0.434869408830604, -0.9915434056891238, -0.3435236556310831, 1.049025619074757, -2.5], \"theta\": [\"a\", \"population_density\", \"human_development_index\", \"health_expenditure\", \"employment\", \"b\"], \"mode\": \"lines\", \"line\": {\"shape\": \"spline\", \"color\": \"45B5AA55\"}}, {\"type\": \"scatterpolar\", \"subplot\": \"polar\", \"r\": [-2.5, -0.15446600216916637, 1.5335361395173623, null, 0.20508263641951643, -2.5], \"theta\": [\"b\", \"gdp_per_cap\", \"gdp_growth\", \"sustainable_economic_development_assessment(seda)\", \"overall_economic_freedom\", \"c\"], \"mode\": \"lines\", \"line\": {\"shape\": \"spline\", \"color\": \"ffa60055\"}}, {\"type\": \"scatterpolar\", \"subplot\": \"polar\", \"r\": [-2.5, 1.3331413168628707, 1.5520229233537126, 0.6888663098864128, 0.13720172498392663, -2.5], \"theta\": [\"c\", \"political_stability&absence_of_violence\", \"control_of_corruption\", \"tax_burden\", \"government_spending\", \"d\"], \"mode\": \"lines\", \"line\": {\"shape\": \"spline\", \"color\": \"ff636155\"}}, {\"type\": \"scatterpolar\", \"subplot\": \"polar\", \"r\": [-2.5, 0.5933720257092571, 0.5415395459521963, 0.2893487058335924, -1.0339026925322876, -2.5], \"theta\": [\"d\", \"property_rights\", \"government_integrity\", \"judicial_effectiveness\", \"financial_freedom\", \"e\"], \"mode\": \"lines\", \"line\": {\"shape\": \"spline\", \"color\": \"bc509055\"}}, {\"type\": \"scatterpolar\", \"subplot\": \"polar\", \"r\": [-2.5, -0.45355225394035614, -0.6796149496072463, -0.5610682571787362, -0.46641266268362436, -2.5], \"theta\": [\"e\", \"total_foreign_born\", \"per_foreign_born\", \"population_living_abroad_diaspora\", \"population_living_abroad\", \"f\"], \"mode\": \"lines\", \"line\": {\"shape\": \"spline\", \"color\": \"003f5c55\"}}, {\"type\": \"scatterpolar\", \"subplot\": \"polar\", \"r\": [-2.5, -0.3080963280778665, -1.0143946488914768, null, -2.656212947570368, -2.5], \"theta\": [\"a\", \"population_density\", \"human_development_index\", \"health_expenditure\", \"employment\", \"b\"], \"mode\": \"lines\", \"line\": {\"shape\": \"spline\", \"color\": \"45B5AA55\"}}, {\"type\": \"scatterpolar\", \"subplot\": \"polar\", \"r\": [-2.5, -0.44377918093218, 0.09145977369470834, null, 0.1666944469656226, -2.5], \"theta\": [\"b\", \"gdp_per_cap\", \"gdp_growth\", \"sustainable_economic_development_assessment(seda)\", \"overall_economic_freedom\", \"c\"], \"mode\": \"lines\", \"line\": {\"shape\": \"spline\", \"color\": \"ffa60055\"}}, {\"type\": \"scatterpolar\", \"subplot\": \"polar\", \"r\": [-2.5, -0.30202528291652636, -0.48066661711559655, 0.728952532311167, 0.34076717620795166, -2.5], \"theta\": [\"c\", \"political_stability&absence_of_violence\", \"control_of_corruption\", \"tax_burden\", \"government_spending\", \"d\"], \"mode\": \"lines\", \"line\": {\"shape\": \"spline\", \"color\": \"ff636155\"}}, {\"type\": \"scatterpolar\", \"subplot\": \"polar\", \"r\": [-2.5, -0.5099302501308285, -0.7400163529821757, -0.10445079854216287, 0.5051127658173008, -2.5], \"theta\": [\"d\", \"property_rights\", \"government_integrity\", \"judicial_effectiveness\", \"financial_freedom\", \"e\"], \"mode\": \"lines\", \"line\": {\"shape\": \"spline\", \"color\": \"bc509055\"}}, {\"type\": \"scatterpolar\", \"subplot\": \"polar\", \"r\": [-2.5, -0.4138605837064386, -0.632123525990837, -0.5185558185983964, -0.6345762158331827, -2.5], \"theta\": [\"e\", \"total_foreign_born\", \"per_foreign_born\", \"population_living_abroad_diaspora\", \"population_living_abroad\", \"f\"], \"mode\": \"lines\", \"line\": {\"shape\": \"spline\", \"color\": \"003f5c55\"}}, {\"type\": \"scatterpolar\", \"subplot\": \"polar\", \"r\": [-2.5, -0.5728676089941835, -0.14605330933513083, -0.58175808801408, -0.391900154602466, -2.5], \"theta\": [\"a\", \"population_density\", \"human_development_index\", \"health_expenditure\", \"employment\", \"b\"], \"mode\": \"lines\", \"line\": {\"shape\": \"spline\", \"color\": \"45B5AA55\"}}, {\"type\": \"scatterpolar\", \"subplot\": \"polar\", \"r\": [-2.5, -0.09547981046860085, -1.8509288293182131, -0.5258291269351923, -0.7930157808876958, -2.5], \"theta\": [\"b\", \"gdp_per_cap\", \"gdp_growth\", \"sustainable_economic_development_assessment(seda)\", \"overall_economic_freedom\", \"c\"], \"mode\": \"lines\", \"line\": {\"shape\": \"spline\", \"color\": \"ffa60055\"}}, {\"type\": \"scatterpolar\", \"subplot\": \"polar\", \"r\": [-2.5, -0.33451203805061264, -0.4903923949600091, -0.3052721285809342, 1.2810464461762663, -2.5], \"theta\": [\"c\", \"political_stability&absence_of_violence\", \"control_of_corruption\", \"tax_burden\", \"government_spending\", \"d\"], \"mode\": \"lines\", \"line\": {\"shape\": \"spline\", \"color\": \"ff636155\"}}, {\"type\": \"scatterpolar\", \"subplot\": \"polar\", \"r\": [-2.5, 0.33043540277311245, -0.5691422476094369, 0.4837561884815947, -0.007892386965895297, -2.5], \"theta\": [\"d\", \"property_rights\", \"government_integrity\", \"judicial_effectiveness\", \"financial_freedom\", \"e\"], \"mode\": \"lines\", \"line\": {\"shape\": \"spline\", \"color\": \"bc509055\"}}, {\"type\": \"scatterpolar\", \"subplot\": \"polar\", \"r\": [-2.5, 0.039024930880766404, 0.8333260430847372, -0.6128078867035043, -0.9460923287210814, -2.5], \"theta\": [\"e\", \"total_foreign_born\", \"per_foreign_born\", \"population_living_abroad_diaspora\", \"population_living_abroad\", \"f\"], \"mode\": \"lines\", \"line\": {\"shape\": \"spline\", \"color\": \"003f5c55\"}}, {\"type\": \"scatterpolar\", \"subplot\": \"polar\", \"r\": [-2.5, 0.16530115031062356, -1.989374139703292, null, 1.1123632679532973, -2.5], \"theta\": [\"a\", \"population_density\", \"human_development_index\", \"health_expenditure\", \"employment\", \"b\"], \"mode\": \"lines\", \"line\": {\"shape\": \"spline\", \"color\": \"45B5AA55\"}}, {\"type\": \"scatterpolar\", \"subplot\": \"polar\", \"r\": [-2.5, -0.5519205167572151, -0.791444136367035, -0.5258291269351923, 0.4354128714440739, -2.5], \"theta\": [\"b\", \"gdp_per_cap\", \"gdp_growth\", \"sustainable_economic_development_assessment(seda)\", \"overall_economic_freedom\", \"c\"], \"mode\": \"lines\", \"line\": {\"shape\": \"spline\", \"color\": \"ffa60055\"}}, {\"type\": \"scatterpolar\", \"subplot\": \"polar\", \"r\": [-2.5, 1.3981148916764239, 0.7156051591811068, 0.8973145441616922, 0.7672857223115663, -2.5], \"theta\": [\"c\", \"political_stability&absence_of_violence\", \"control_of_corruption\", \"tax_burden\", \"government_spending\", \"d\"], \"mode\": \"lines\", \"line\": {\"shape\": \"spline\", \"color\": \"ff636155\"}}, {\"type\": \"scatterpolar\", \"subplot\": \"polar\", \"r\": [-2.5, 0.37168030538921093, 0.2282703527688417, 0.5635129971726959, -0.007892386965895297, -2.5], \"theta\": [\"d\", \"property_rights\", \"government_integrity\", \"judicial_effectiveness\", \"financial_freedom\", \"e\"], \"mode\": \"lines\", \"line\": {\"shape\": \"spline\", \"color\": \"bc509055\"}}, {\"type\": \"scatterpolar\", \"subplot\": \"polar\", \"r\": [-2.5, -0.10602542265210653, -0.17077828648912466, -0.5360694799504391, -0.8744160598063694, -2.5], \"theta\": [\"e\", \"total_foreign_born\", \"per_foreign_born\", \"population_living_abroad_diaspora\", \"population_living_abroad\", \"f\"], \"mode\": \"lines\", \"line\": {\"shape\": \"spline\", \"color\": \"003f5c55\"}}, {\"type\": \"scatterpolar\", \"subplot\": \"polar\", \"r\": [-2.5, -0.3572595874704182, -2.0274592423670565, -0.8755034560979695, 0.9540197497895327, -2.5], \"theta\": [\"a\", \"population_density\", \"human_development_index\", \"health_expenditure\", \"employment\", \"b\"], \"mode\": \"lines\", \"line\": {\"shape\": \"spline\", \"color\": \"45B5AA55\"}}, {\"type\": \"scatterpolar\", \"subplot\": \"polar\", \"r\": [-2.5, -0.5589426811602619, 0.4446213570153031, null, 0.03233486862599877, -2.5], \"theta\": [\"b\", \"gdp_per_cap\", \"gdp_growth\", \"sustainable_economic_development_assessment(seda)\", \"overall_economic_freedom\", \"c\"], \"mode\": \"lines\", \"line\": {\"shape\": \"spline\", \"color\": \"ffa60055\"}}, {\"type\": \"scatterpolar\", \"subplot\": \"polar\", \"r\": [-2.5, -0.8867868753300789, -0.08190936318087949, 0.4964523199141501, 1.3295144459707002, -2.5], \"theta\": [\"c\", \"political_stability&absence_of_violence\", \"control_of_corruption\", \"tax_burden\", \"government_spending\", \"d\"], \"mode\": \"lines\", \"line\": {\"shape\": \"spline\", \"color\": \"ff636155\"}}, {\"type\": \"scatterpolar\", \"subplot\": \"polar\", \"r\": [-2.5, -0.3758842674607063, -0.5463590552875044, 0.06503246746523501, -0.5208975397490914, -2.5], \"theta\": [\"d\", \"property_rights\", \"government_integrity\", \"judicial_effectiveness\", \"financial_freedom\", \"e\"], \"mode\": \"lines\", \"line\": {\"shape\": \"spline\", \"color\": \"bc509055\"}}, {\"type\": \"scatterpolar\", \"subplot\": \"polar\", \"r\": [-2.5, -0.4315434006565591, -0.6931839220064057, -0.5006792249404841, -0.7494420356148845, -2.5], \"theta\": [\"e\", \"total_foreign_born\", \"per_foreign_born\", \"population_living_abroad_diaspora\", \"population_living_abroad\", \"f\"], \"mode\": \"lines\", \"line\": {\"shape\": \"spline\", \"color\": \"003f5c55\"}}, {\"type\": \"scatterpolar\", \"subplot\": \"polar\", \"r\": [-2.5, -0.33001377910648705, -1.5323526807330021, -0.7590846881697089, -0.13855076715347706, -2.5], \"theta\": [\"a\", \"population_density\", \"human_development_index\", \"health_expenditure\", \"employment\", \"b\"], \"mode\": \"lines\", \"line\": {\"shape\": \"spline\", \"color\": \"45B5AA55\"}}, {\"type\": \"scatterpolar\", \"subplot\": \"polar\", \"r\": [-2.5, -0.5013609343946499, 0.17975015198313213, -1.0221301797824787, 0.8864771178556113, -2.5], \"theta\": [\"b\", \"gdp_per_cap\", \"gdp_growth\", \"sustainable_economic_development_assessment(seda)\", \"overall_economic_freedom\", \"c\"], \"mode\": \"lines\", \"line\": {\"shape\": \"spline\", \"color\": \"ffa60055\"}}, {\"type\": \"scatterpolar\", \"subplot\": \"polar\", \"r\": [-2.5, -0.7460109471732685, -0.33477983350899154, 0.47240095345962496, -1.665807904347161, -2.5], \"theta\": [\"c\", \"political_stability&absence_of_violence\", \"control_of_corruption\", \"tax_burden\", \"government_spending\", \"d\"], \"mode\": \"lines\", \"line\": {\"shape\": \"spline\", \"color\": \"ff636155\"}}, {\"type\": \"scatterpolar\", \"subplot\": \"polar\", \"r\": [-2.5, 0.5830607508874301, -0.45522606872211385, -0.46834154719756305, 1.018117918600497, -2.5], \"theta\": [\"d\", \"property_rights\", \"government_integrity\", \"judicial_effectiveness\", \"financial_freedom\", \"e\"], \"mode\": \"lines\", \"line\": {\"shape\": \"spline\", \"color\": \"bc509055\"}}, {\"type\": \"scatterpolar\", \"subplot\": \"polar\", \"r\": [-2.5, -0.4616860437401466, -0.7610288097818757, 0.25983816336311527, 0.06748370622141889, -2.5], \"theta\": [\"e\", \"total_foreign_born\", \"per_foreign_born\", \"population_living_abroad_diaspora\", \"population_living_abroad\", \"f\"], \"mode\": \"lines\", \"line\": {\"shape\": \"spline\", \"color\": \"003f5c55\"}}, {\"type\": \"scatterpolar\", \"subplot\": \"polar\", \"r\": [-2.5, -0.42033189923401176, -2.1797998800272316, -0.8539158699920669, -1.7378200589944648, -2.5], \"theta\": [\"a\", \"population_density\", \"human_development_index\", \"health_expenditure\", \"employment\", \"b\"], \"mode\": \"lines\", \"line\": {\"shape\": \"spline\", \"color\": \"45B5AA55\"}}, {\"type\": \"scatterpolar\", \"subplot\": \"polar\", \"r\": [-2.5, -0.5463027872438351, -0.4382825662027339, -0.9742414715032266, -0.33235494473818256, -2.5], \"theta\": [\"b\", \"gdp_per_cap\", \"gdp_growth\", \"sustainable_economic_development_assessment(seda)\", \"overall_economic_freedom\", \"c\"], \"mode\": \"lines\", \"line\": {\"shape\": \"spline\", \"color\": \"ffa60055\"}}, {\"type\": \"scatterpolar\", \"subplot\": \"polar\", \"r\": [-2.5, 0.1419603470504823, -0.6362792365368227, -1.1791515939404125, 0.059652999269131014, -2.5], \"theta\": [\"c\", \"political_stability&absence_of_violence\", \"control_of_corruption\", \"tax_burden\", \"government_spending\", \"d\"], \"mode\": \"lines\", \"line\": {\"shape\": \"spline\", \"color\": \"ff636155\"}}, {\"type\": \"scatterpolar\", \"subplot\": \"polar\", \"r\": [-2.5, -0.6542875076227775, -0.7912785628662313, -0.8770956195887272, -1.0339026925322876, -2.5], \"theta\": [\"d\", \"property_rights\", \"government_integrity\", \"judicial_effectiveness\", \"financial_freedom\", \"e\"], \"mode\": \"lines\", \"line\": {\"shape\": \"spline\", \"color\": \"bc509055\"}}, {\"type\": \"scatterpolar\", \"subplot\": \"polar\", \"r\": [-2.5, -0.2566544888221741, -0.4082353883956901, 0.006851118504438402, -0.738414927432121, -2.5], \"theta\": [\"e\", \"total_foreign_born\", \"per_foreign_born\", \"population_living_abroad_diaspora\", \"population_living_abroad\", \"f\"], \"mode\": \"lines\", \"line\": {\"shape\": \"spline\", \"color\": \"003f5c55\"}}, {\"type\": \"scatterpolar\", \"subplot\": \"polar\", \"r\": [-2.5, -0.5860665872566582, -1.5323526807330021, -0.8161375943067373, 0.9698538599928749, -2.5], \"theta\": [\"a\", \"population_density\", \"human_development_index\", \"health_expenditure\", \"employment\", \"b\"], \"mode\": \"lines\", \"line\": {\"shape\": \"spline\", \"color\": \"45B5AA55\"}}, {\"type\": \"scatterpolar\", \"subplot\": \"polar\", \"r\": [-2.5, -0.3693442489748566, 0.5329118054706264, -1.0482513009381391, -2.6644509082518657, -2.5], \"theta\": [\"b\", \"gdp_per_cap\", \"gdp_growth\", \"sustainable_economic_development_assessment(seda)\", \"overall_economic_freedom\", \"c\"], \"mode\": \"lines\", \"line\": {\"shape\": \"spline\", \"color\": \"ffa60055\"}}, {\"type\": \"scatterpolar\", \"subplot\": \"polar\", \"r\": [-2.5, 0.8566689297447326, 0.28767055722060003, -2.036996814996874, 0.7091242704708428, -2.5], \"theta\": [\"c\", \"political_stability&absence_of_violence\", \"control_of_corruption\", \"tax_burden\", \"government_spending\", \"d\"], \"mode\": \"lines\", \"line\": {\"shape\": \"spline\", \"color\": \"ff636155\"}}, {\"type\": \"scatterpolar\", \"subplot\": \"polar\", \"r\": [-2.5, -1.0151807496882548, -0.18752347746028494, -1.7843302216873522, -2.05991299809868, -2.5], \"theta\": [\"d\", \"property_rights\", \"government_integrity\", \"judicial_effectiveness\", \"financial_freedom\", \"e\"], \"mode\": \"lines\", \"line\": {\"shape\": \"spline\", \"color\": \"bc509055\"}}, {\"type\": \"scatterpolar\", \"subplot\": \"polar\", \"r\": [-2.5, -0.21002241812189404, -0.6117700633482276, -0.44985128136806035, -1.0085793408168238, -2.5], \"theta\": [\"e\", \"total_foreign_born\", \"per_foreign_born\", \"population_living_abroad_diaspora\", \"population_living_abroad\", \"f\"], \"mode\": \"lines\", \"line\": {\"shape\": \"spline\", \"color\": \"003f5c55\"}}, {\"type\": \"scatterpolar\", \"subplot\": \"polar\", \"r\": [-2.5, 1.700715763142587, 0.5242451331614518, -0.10528922324808615, -0.42356837500915034, -2.5], \"theta\": [\"a\", \"population_density\", \"human_development_index\", \"health_expenditure\", \"employment\", \"b\"], \"mode\": \"lines\", \"line\": {\"shape\": \"spline\", \"color\": \"45B5AA55\"}}, {\"type\": \"scatterpolar\", \"subplot\": \"polar\", \"r\": [-2.5, -0.23592312531696782, -0.2617017745424366, 0.3143997028207308, 0.7809091392319056, -2.5], \"theta\": [\"b\", \"gdp_per_cap\", \"gdp_growth\", \"sustainable_economic_development_assessment(seda)\", \"overall_economic_freedom\", \"c\"], \"mode\": \"lines\", \"line\": {\"shape\": \"spline\", \"color\": \"ffa60055\"}}, {\"type\": \"scatterpolar\", \"subplot\": \"polar\", \"r\": [-2.5, 0.7592086966151642, 0.783685662062203, 0.06352099539336212, 1.092021173021676, -2.5], \"theta\": [\"c\", \"political_stability&absence_of_violence\", \"control_of_corruption\", \"tax_burden\", \"government_spending\", \"d\"], \"mode\": \"lines\", \"line\": {\"shape\": \"spline\", \"color\": \"ff636155\"}}, {\"type\": \"scatterpolar\", \"subplot\": \"polar\", \"r\": [-2.5, 1.124400417314437, -0.005257721607164634, 0.5435738900775363, 0.5051127658173008, -2.5], \"theta\": [\"d\", \"property_rights\", \"government_integrity\", \"judicial_effectiveness\", \"financial_freedom\", \"e\"], \"mode\": \"lines\", \"line\": {\"shape\": \"spline\", \"color\": \"bc509055\"}}, {\"type\": \"scatterpolar\", \"subplot\": \"polar\", \"r\": [-2.5, -0.4195865575274056, -0.5235717144465996, -0.30781119068449236, -0.18889680002591308, -2.5], \"theta\": [\"e\", \"total_foreign_born\", \"per_foreign_born\", \"population_living_abroad_diaspora\", \"population_living_abroad\", \"f\"], \"mode\": \"lines\", \"line\": {\"shape\": \"spline\", \"color\": \"003f5c55\"}}, {\"type\": \"scatterpolar\", \"subplot\": \"polar\", \"r\": [-2.5, -0.5905423277877929, -0.5649898926467745, -0.2263339024847545, -0.8510965988904176, -2.5], \"theta\": [\"a\", \"population_density\", \"human_development_index\", \"health_expenditure\", \"employment\", \"b\"], \"mode\": \"lines\", \"line\": {\"shape\": \"spline\", \"color\": \"45B5AA55\"}}, {\"type\": \"scatterpolar\", \"subplot\": \"polar\", \"r\": [-2.5, -0.2345186870788722, 1.3275252802333402, -0.6041925734389292, 0.1858883586423704, -2.5], \"theta\": [\"b\", \"gdp_per_cap\", \"gdp_growth\", \"sustainable_economic_development_assessment(seda)\", \"overall_economic_freedom\", \"c\"], \"mode\": \"lines\", \"line\": {\"shape\": \"spline\", \"color\": \"ffa60055\"}}, {\"type\": \"scatterpolar\", \"subplot\": \"polar\", \"r\": [-2.5, 0.28273627722433575, -0.6946339615735064, 0.8171420993121838, -0.37655899888077343, -2.5], \"theta\": [\"c\", \"political_stability&absence_of_violence\", \"control_of_corruption\", \"tax_burden\", \"government_spending\", \"d\"], \"mode\": \"lines\", \"line\": {\"shape\": \"spline\", \"color\": \"ff636155\"}}, {\"type\": \"scatterpolar\", \"subplot\": \"polar\", \"r\": [-2.5, 0.11905515394610228, -0.8653239650722193, -1.1313207087550554, -0.5208975397490914, -2.5], \"theta\": [\"d\", \"property_rights\", \"government_integrity\", \"judicial_effectiveness\", \"financial_freedom\", \"e\"], \"mode\": \"lines\", \"line\": {\"shape\": \"spline\", \"color\": \"bc509055\"}}, {\"type\": \"scatterpolar\", \"subplot\": \"polar\", \"r\": [-2.5, -0.2946956863080975, -0.618554545503937, -0.372857370271663, -0.7558745372970797, -2.5], \"theta\": [\"e\", \"total_foreign_born\", \"per_foreign_born\", \"population_living_abroad_diaspora\", \"population_living_abroad\", \"f\"], \"mode\": \"lines\", \"line\": {\"shape\": \"spline\", \"color\": \"003f5c55\"}}, {\"type\": \"scatterpolar\", \"subplot\": \"polar\", \"r\": [-2.5, 0.18479752314108047, -1.0067777191607712, -0.7151385307398357, 0.526492733973437, -2.5], \"theta\": [\"a\", \"population_density\", \"human_development_index\", \"health_expenditure\", \"employment\", \"b\"], \"mode\": \"lines\", \"line\": {\"shape\": \"spline\", \"color\": \"45B5AA55\"}}, {\"type\": \"scatterpolar\", \"subplot\": \"polar\", \"r\": [-2.5, -0.5912446384188058, 2.2692894088657263, null, -0.6586565686484701, -2.5], \"theta\": [\"b\", \"gdp_per_cap\", \"gdp_growth\", \"sustainable_economic_development_assessment(seda)\", \"overall_economic_freedom\", \"c\"], \"mode\": \"lines\", \"line\": {\"shape\": \"spline\", \"color\": \"ffa60055\"}}, {\"type\": \"scatterpolar\", \"subplot\": \"polar\", \"r\": [-2.5, -1.7206136011958562, -0.5195697864634552, 0.167745418364608, 0.5491797232366141, -2.5], \"theta\": [\"c\", \"political_stability&absence_of_violence\", \"control_of_corruption\", \"tax_burden\", \"government_spending\", \"d\"], \"mode\": \"lines\", \"line\": {\"shape\": \"spline\", \"color\": \"ff636155\"}}, {\"type\": \"scatterpolar\", \"subplot\": \"polar\", \"r\": [-2.5, -0.9430021209422803, -0.21030656114338694, -0.4085240357568528, -1.5469078453154836, -2.5], \"theta\": [\"d\", \"property_rights\", \"government_integrity\", \"judicial_effectiveness\", \"financial_freedom\", \"e\"], \"mode\": \"lines\", \"line\": {\"shape\": \"spline\", \"color\": \"bc509055\"}}, {\"type\": \"scatterpolar\", \"subplot\": \"polar\", \"r\": [-2.5, -0.46967639732197697, -0.543925177089209, -0.6922929651473905, 0.18418733354908182, -2.5], \"theta\": [\"e\", \"total_foreign_born\", \"per_foreign_born\", \"population_living_abroad_diaspora\", \"population_living_abroad\", \"f\"], \"mode\": \"lines\", \"line\": {\"shape\": \"spline\", \"color\": \"003f5c55\"}}, {\"type\": \"scatterpolar\", \"subplot\": \"polar\", \"r\": [-2.5, 0.1682150847126392, 0.5775640952866274, -0.28415779383985085, 0.17813626917405206, -2.5], \"theta\": [\"a\", \"population_density\", \"human_development_index\", \"health_expenditure\", \"employment\", \"b\"], \"mode\": \"lines\", \"line\": {\"shape\": \"spline\", \"color\": \"45B5AA55\"}}, {\"type\": \"scatterpolar\", \"subplot\": \"polar\", \"r\": [-2.5, -0.5631559824808331, 0.5329118054706264, 0.26651091150472384, 0.22427691419666243, -2.5], \"theta\": [\"b\", \"gdp_per_cap\", \"gdp_growth\", \"sustainable_economic_development_assessment(seda)\", \"overall_economic_freedom\", \"c\"], \"mode\": \"lines\", \"line\": {\"shape\": \"spline\", \"color\": \"ffa60055\"}}, {\"type\": \"scatterpolar\", \"subplot\": \"polar\", \"r\": [-2.5, 0.964958135040147, 0.3752026447756256, 0.5605905204606417, 0.23413772457279428, -2.5], \"theta\": [\"c\", \"political_stability&absence_of_violence\", \"control_of_corruption\", \"tax_burden\", \"government_spending\", \"d\"], \"mode\": \"lines\", \"line\": {\"shape\": \"spline\", \"color\": \"ff636155\"}}, {\"type\": \"scatterpolar\", \"subplot\": \"polar\", \"r\": [-2.5, 0.9748878174183881, -0.37548494991476555, 0.06503246746523501, -0.007892386965895297, -2.5], \"theta\": [\"d\", \"property_rights\", \"government_integrity\", \"judicial_effectiveness\", \"financial_freedom\", \"e\"], \"mode\": \"lines\", \"line\": {\"shape\": \"spline\", \"color\": \"bc509055\"}}, {\"type\": \"scatterpolar\", \"subplot\": \"polar\", \"r\": [-2.5, -0.4497923125468955, 0.1141702228583688, -0.7621530788396154, -0.22841067007423155, -2.5], \"theta\": [\"e\", \"total_foreign_born\", \"per_foreign_born\", \"population_living_abroad_diaspora\", \"population_living_abroad\", \"f\"], \"mode\": \"lines\", \"line\": {\"shape\": \"spline\", \"color\": \"003f5c55\"}}, {\"type\": \"scatterpolar\", \"subplot\": \"polar\", \"mode\": \"lines\", \"marker\": {\"color\": \"rgba(180,120,150,0)\"}, \"r\": [0, 0, 0, 0, 0], \"theta\": [\"f\", \"g\", \"h\", \"i\", \"j\"], \"line\": {\"color\": [\"003f5c55\"], \"smoothing\": 1.3}, \"hoverlabel\": {\"namelength\": 20}}, {\"type\": \"scatterpolar\", \"subplot\": \"polar2\", \"r\": [-2.5, -0.4559281473893844, 0.653734300614156, 0.35730190759268465, -0.34439661592726806, -2.5], \"theta\": [\"a\", \"population_density\", \"human_development_index\", \"health_expenditure\", \"employment\", \"b\"], \"mode\": \"lines\", \"line\": {\"shape\": \"spline\", \"color\": \"45B5AA55\"}}, {\"type\": \"scatterpolar\", \"subplot\": \"polar2\", \"r\": [-2.5, -0.47327227678246275, 0.3563309787268793, 0.3231067708848694, -1.4360217067694987, -2.5], \"theta\": [\"b\", \"gdp_per_cap\", \"gdp_growth\", \"sustainable_economic_development_assessment(seda)\", \"overall_economic_freedom\", \"c\"], \"mode\": \"lines\", \"line\": {\"shape\": \"spline\", \"color\": \"ffa60055\"}}, {\"type\": \"scatterpolar\", \"subplot\": \"polar2\", \"r\": [-2.5, -0.9301025058119401, -0.5681987336557265, -0.032685693759163074, 1.198650994438326, -2.5], \"theta\": [\"c\", \"political_stability&absence_of_violence\", \"control_of_corruption\", \"tax_burden\", \"government_spending\", \"d\"], \"mode\": \"lines\", \"line\": {\"shape\": \"spline\", \"color\": \"ff636155\"}}, {\"type\": \"scatterpolar\", \"subplot\": \"polar2\", \"r\": [-2.5, -1.1131375654887967, -0.7058415101798619, -0.5281592487935046, -1.0339026925322876, -2.5], \"theta\": [\"d\", \"property_rights\", \"government_integrity\", \"judicial_effectiveness\", \"financial_freedom\", \"e\"], \"mode\": \"lines\", \"line\": {\"shape\": \"spline\", \"color\": \"bc509055\"}}, {\"type\": \"scatterpolar\", \"subplot\": \"polar2\", \"r\": [-2.5, -0.3608331701680444, 0.3380582957515901, -0.6799184252464612, -0.4112770341341412, -2.5], \"theta\": [\"e\", \"total_foreign_born\", \"per_foreign_born\", \"population_living_abroad_diaspora\", \"population_living_abroad\", \"f\"], \"mode\": \"lines\", \"line\": {\"shape\": \"spline\", \"color\": \"003f5c55\"}}, {\"type\": \"scatterpolar\", \"subplot\": \"polar2\", \"r\": [-2.5, 1.8541133015029718, 0.6004153384889804, -0.0012062188089127172, 0.3839833260130146, -2.5], \"theta\": [\"a\", \"population_density\", \"human_development_index\", \"health_expenditure\", \"employment\", \"b\"], \"mode\": \"lines\", \"line\": {\"shape\": \"spline\", \"color\": \"45B5AA55\"}}, {\"type\": \"scatterpolar\", \"subplot\": \"polar2\", \"r\": [-2.5, -0.5322584550893126, 0.1503200492759574, 0.34052074093963636, -1.0617349375669434, -2.5], \"theta\": [\"b\", \"gdp_per_cap\", \"gdp_growth\", \"sustainable_economic_development_assessment(seda)\", \"overall_economic_freedom\", \"c\"], \"mode\": \"lines\", \"line\": {\"shape\": \"spline\", \"color\": \"ffa60055\"}}, {\"type\": \"scatterpolar\", \"subplot\": \"polar2\", \"r\": [-2.5, -0.20456501751426764, -1.3462616568512311, 0.6407629653101502, -0.9145539075334367, -2.5], \"theta\": [\"c\", \"political_stability&absence_of_violence\", \"control_of_corruption\", \"tax_burden\", \"government_spending\", \"d\"], \"mode\": \"lines\", \"line\": {\"shape\": \"spline\", \"color\": \"ff636155\"}}, {\"type\": \"scatterpolar\", \"subplot\": \"polar2\", \"r\": [-2.5, -0.6903768711635672, -1.2811176866625156, -1.0166702249533857, -0.5208975397490914, -2.5], \"theta\": [\"d\", \"property_rights\", \"government_integrity\", \"judicial_effectiveness\", \"financial_freedom\", \"e\"], \"mode\": \"lines\", \"line\": {\"shape\": \"spline\", \"color\": \"bc509055\"}}, {\"type\": \"scatterpolar\", \"subplot\": \"polar2\", \"r\": [-2.5, -0.4083220332102728, -0.0011660708415778987, -0.5104464591560464, 1.1334384612142128, -2.5], \"theta\": [\"e\", \"total_foreign_born\", \"per_foreign_born\", \"population_living_abroad_diaspora\", \"population_living_abroad\", \"f\"], \"mode\": \"lines\", \"line\": {\"shape\": \"spline\", \"color\": \"003f5c55\"}}, {\"type\": \"scatterpolar\", \"subplot\": \"polar2\", \"r\": [-2.5, -0.24678633609154157, 0.5547133060945105, 0.03888501253062075, -0.3760660443991239, -2.5], \"theta\": [\"a\", \"population_density\", \"human_development_index\", \"health_expenditure\", \"employment\", \"b\"], \"mode\": \"lines\", \"line\": {\"shape\": \"spline\", \"color\": \"45B5AA55\"}}, {\"type\": \"scatterpolar\", \"subplot\": \"polar2\", \"r\": [-2.5, 0.5337060557545554, -0.5854332200724067, 0.25780400951409543, -0.25557819972999674, -2.5], \"theta\": [\"b\", \"gdp_per_cap\", \"gdp_growth\", \"sustainable_economic_development_assessment(seda)\", \"overall_economic_freedom\", \"c\"], \"mode\": \"lines\", \"line\": {\"shape\": \"spline\", \"color\": \"ffa60055\"}}, {\"type\": \"scatterpolar\", \"subplot\": \"polar2\", \"r\": [-2.5, 1.1707075734651298, 1.4061360238066902, -0.032685693759163074, 1.489458993204929, -2.5], \"theta\": [\"c\", \"political_stability&absence_of_violence\", \"control_of_corruption\", \"tax_burden\", \"government_spending\", \"d\"], \"mode\": \"lines\", \"line\": {\"shape\": \"spline\", \"color\": \"ff636155\"}}, {\"type\": \"scatterpolar\", \"subplot\": \"polar2\", \"r\": [-2.5, 0.1035883400489665, 0.706717717445914, 0.42892340627586656, 0.5051127658173008, -2.5], \"theta\": [\"d\", \"property_rights\", \"government_integrity\", \"judicial_effectiveness\", \"financial_freedom\", \"e\"], \"mode\": \"lines\", \"line\": {\"shape\": \"spline\", \"color\": \"bc509055\"}}, {\"type\": \"scatterpolar\", \"subplot\": \"polar2\", \"r\": [-2.5, 0.332233422668981, -0.17756280099579674, -0.4096354784192633, -1.0223632260452782, -2.5], \"theta\": [\"e\", \"total_foreign_born\", \"per_foreign_born\", \"population_living_abroad_diaspora\", \"population_living_abroad\", \"f\"], \"mode\": \"lines\", \"line\": {\"shape\": \"spline\", \"color\": \"003f5c55\"}}, {\"type\": \"scatterpolar\", \"subplot\": \"polar2\", \"r\": [-2.5, -0.2375894650499646, -0.04703231481548522, -0.5008046401169451, 1.2707067861170618, -2.5], \"theta\": [\"a\", \"population_density\", \"human_development_index\", \"health_expenditure\", \"employment\", \"b\"], \"mode\": \"lines\", \"line\": {\"shape\": \"spline\", \"color\": \"45B5AA55\"}}, {\"type\": \"scatterpolar\", \"subplot\": \"polar2\", \"r\": [-2.5, -0.5884357728250085, 0.7977828701689982, null, -0.2843694333455166, -2.5], \"theta\": [\"b\", \"gdp_per_cap\", \"gdp_growth\", \"sustainable_economic_development_assessment(seda)\", \"overall_economic_freedom\", \"c\"], \"mode\": \"lines\", \"line\": {\"shape\": \"spline\", \"color\": \"ffa60055\"}}, {\"type\": \"scatterpolar\", \"subplot\": \"polar2\", \"r\": [-2.5, 0.1636181844788875, -0.5098440086190428, -0.5618237074324762, 0.3213802721153722, -2.5], \"theta\": [\"c\", \"political_stability&absence_of_violence\", \"control_of_corruption\", \"tax_burden\", \"government_spending\", \"d\"], \"mode\": \"lines\", \"line\": {\"shape\": \"spline\", \"color\": \"ff636155\"}}, {\"type\": \"scatterpolar\", \"subplot\": \"polar2\", \"r\": [-2.5, -0.7161549598825298, -0.6374918245752341, -0.7225667314415068, -0.007892386965895297, -2.5], \"theta\": [\"d\", \"property_rights\", \"government_integrity\", \"judicial_effectiveness\", \"financial_freedom\", \"e\"], \"mode\": \"lines\", \"line\": {\"shape\": \"spline\", \"color\": \"bc509055\"}}, {\"type\": \"scatterpolar\", \"subplot\": \"polar2\", \"r\": [-2.5, -0.46140299627003867, -0.16399383668437809, -0.5936218332860145, 3.242374982514792, -2.5], \"theta\": [\"e\", \"total_foreign_born\", \"per_foreign_born\", \"population_living_abroad_diaspora\", \"population_living_abroad\", \"f\"], \"mode\": \"lines\", \"line\": {\"shape\": \"spline\", \"color\": \"003f5c55\"}}, {\"type\": \"scatterpolar\", \"subplot\": \"polar2\", \"r\": [-2.5, -0.5873122083789333, -0.5116709305215988, -0.693550944633933, 1.1757009168318375, -2.5], \"theta\": [\"a\", \"population_density\", \"human_development_index\", \"health_expenditure\", \"employment\", \"b\"], \"mode\": \"lines\", \"line\": {\"shape\": \"spline\", \"color\": \"45B5AA55\"}}, {\"type\": \"scatterpolar\", \"subplot\": \"polar2\", \"r\": [-2.5, -0.5154052632007434, -1.939219207606637, -0.44311239550965137, -0.8410012922803617, -2.5], \"theta\": [\"b\", \"gdp_per_cap\", \"gdp_growth\", \"sustainable_economic_development_assessment(seda)\", \"overall_economic_freedom\", \"c\"], \"mode\": \"lines\", \"line\": {\"shape\": \"spline\", \"color\": \"ffa60055\"}}, {\"type\": \"scatterpolar\", \"subplot\": \"polar2\", \"r\": [-2.5, -2.0238232727504073, -1.2198264289334513, -0.2732030283076884, 0.6121882708819751, -2.5], \"theta\": [\"c\", \"political_stability&absence_of_violence\", \"control_of_corruption\", \"tax_burden\", \"government_spending\", \"d\"], \"mode\": \"lines\", \"line\": {\"shape\": \"spline\", \"color\": \"ff636155\"}}, {\"type\": \"scatterpolar\", \"subplot\": \"polar2\", \"r\": [-2.5, -1.6390105163542723, -0.8653239650722193, -1.2011079638985769, -1.0339026925322876, -2.5], \"theta\": [\"d\", \"property_rights\", \"government_integrity\", \"judicial_effectiveness\", \"financial_freedom\", \"e\"], \"mode\": \"lines\", \"line\": {\"shape\": \"spline\", \"color\": \"bc509055\"}}, {\"type\": \"scatterpolar\", \"subplot\": \"polar2\", \"r\": [-2.5, -0.44483324437128846, -0.6524769886334463, 0.5400886830387154, 2.1323115318839467, -2.5], \"theta\": [\"e\", \"total_foreign_born\", \"per_foreign_born\", \"population_living_abroad_diaspora\", \"population_living_abroad\", \"f\"], \"mode\": \"lines\", \"line\": {\"shape\": \"spline\", \"color\": \"003f5c55\"}}, {\"type\": \"scatterpolar\", \"subplot\": \"polar2\", \"r\": [-2.5, 0.3845375319998872, 0.08245730664745513, -0.5586285314720415, 0.7165044725438859, -2.5], \"theta\": [\"a\", \"population_density\", \"human_development_index\", \"health_expenditure\", \"employment\", \"b\"], \"mode\": \"lines\", \"line\": {\"shape\": \"spline\", \"color\": \"45B5AA55\"}}, {\"type\": \"scatterpolar\", \"subplot\": \"polar2\", \"r\": [-2.5, -0.2429452897200146, 1.0037938697868196, -0.142719626774687, -0.7450302694950298, -2.5], \"theta\": [\"b\", \"gdp_per_cap\", \"gdp_growth\", \"sustainable_economic_development_assessment(seda)\", \"overall_economic_freedom\", \"c\"], \"mode\": \"lines\", \"line\": {\"shape\": \"spline\", \"color\": \"ffa60055\"}}, {\"type\": \"scatterpolar\", \"subplot\": \"polar2\", \"r\": [-2.5, -1.0600495908936658, -1.122568534548909, -0.05673767188090052, 0.9223831737411575, -2.5], \"theta\": [\"c\", \"political_stability&absence_of_violence\", \"control_of_corruption\", \"tax_burden\", \"government_spending\", \"d\"], \"mode\": \"lines\", \"line\": {\"shape\": \"spline\", \"color\": \"ff636155\"}}, {\"type\": \"scatterpolar\", \"subplot\": \"polar2\", \"r\": [-2.5, -0.4532185336175943, -1.0248065286034072, -0.8172780130704014, -0.007892386965895297, -2.5], \"theta\": [\"d\", \"property_rights\", \"government_integrity\", \"judicial_effectiveness\", \"financial_freedom\", \"e\"], \"mode\": \"lines\", \"line\": {\"shape\": \"spline\", \"color\": \"bc509055\"}}, {\"type\": \"scatterpolar\", \"subplot\": \"polar2\", \"r\": [-2.5, -0.42994838991284284, -0.6796149496072463, 2.302978644818959, 1.2666828822695195, -2.5], \"theta\": [\"e\", \"total_foreign_born\", \"per_foreign_born\", \"population_living_abroad_diaspora\", \"population_living_abroad\", \"f\"], \"mode\": \"lines\", \"line\": {\"shape\": \"spline\", \"color\": \"003f5c55\"}}, {\"type\": \"scatterpolar\", \"subplot\": \"polar2\", \"r\": [-2.5, -0.3981318814512231, 0.51662774942051, 0.23702821357408424, 0.43148565662304106, -2.5], \"theta\": [\"a\", \"population_density\", \"human_development_index\", \"health_expenditure\", \"employment\", \"b\"], \"mode\": \"lines\", \"line\": {\"shape\": \"spline\", \"color\": \"45B5AA55\"}}, {\"type\": \"scatterpolar\", \"subplot\": \"polar2\", \"r\": [-2.5, 0.7050469314787322, -0.026260707300890158, 0.06624917639708769, 0.33944221475914027, -2.5], \"theta\": [\"b\", \"gdp_per_cap\", \"gdp_growth\", \"sustainable_economic_development_assessment(seda)\", \"overall_economic_freedom\", \"c\"], \"mode\": \"lines\", \"line\": {\"shape\": \"spline\", \"color\": \"ffa60055\"}}, {\"type\": \"scatterpolar\", \"subplot\": \"polar2\", \"r\": [-2.5, -0.16124935475971608, -0.470940839271184, 0.3601594083368707, 1.2568124462790495, -2.5], \"theta\": [\"c\", \"political_stability&absence_of_violence\", \"control_of_corruption\", \"tax_burden\", \"government_spending\", \"d\"], \"mode\": \"lines\", \"line\": {\"shape\": \"spline\", \"color\": \"ff636155\"}}, {\"type\": \"scatterpolar\", \"subplot\": \"polar2\", \"r\": [-2.5, -0.623353879828506, -0.9222820001964657, -0.5181896001683092, 0.5051127658173008, -2.5], \"theta\": [\"d\", \"property_rights\", \"government_integrity\", \"judicial_effectiveness\", \"financial_freedom\", \"e\"], \"mode\": \"lines\", \"line\": {\"shape\": \"spline\", \"color\": \"bc509055\"}}, {\"type\": \"scatterpolar\", \"subplot\": \"polar2\", \"r\": [-2.5, -0.12100016380714047, -0.44894234603187155, -0.3819916505457887, -0.9488491057667723, -2.5], \"theta\": [\"e\", \"total_foreign_born\", \"per_foreign_born\", \"population_living_abroad_diaspora\", \"population_living_abroad\", \"f\"], \"mode\": \"lines\", \"line\": {\"shape\": \"spline\", \"color\": \"003f5c55\"}}, {\"type\": \"scatterpolar\", \"subplot\": \"polar2\", \"r\": [-2.5, 0.481778735006456, 0.1967126146387481, -0.4275610444004898, 0.2731421384592765, -2.5], \"theta\": [\"a\", \"population_density\", \"human_development_index\", \"health_expenditure\", \"employment\", \"b\"], \"mode\": \"lines\", \"line\": {\"shape\": \"spline\", \"color\": \"45B5AA55\"}}, {\"type\": \"scatterpolar\", \"subplot\": \"polar2\", \"r\": [-2.5, -0.5701781468838799, 0.6800624593402993, null, -1.723934775125494, -2.5], \"theta\": [\"b\", \"gdp_per_cap\", \"gdp_growth\", \"sustainable_economic_development_assessment(seda)\", \"overall_economic_freedom\", \"c\"], \"mode\": \"lines\", \"line\": {\"shape\": \"spline\", \"color\": \"ffa60055\"}}, {\"type\": \"scatterpolar\", \"subplot\": \"polar2\", \"r\": [-2.5, -0.6052350190164583, -1.1420202061781513, 0.44033185318637913, 0.6897369965967708, -2.5], \"theta\": [\"c\", \"political_stability&absence_of_violence\", \"control_of_corruption\", \"tax_burden\", \"government_spending\", \"d\"], \"mode\": \"lines\", \"line\": {\"shape\": \"spline\", \"color\": \"ff636155\"}}, {\"type\": \"scatterpolar\", \"subplot\": \"polar2\", \"r\": [-2.5, -0.7161549598825298, -1.0248065286034072, -1.5949076108907556, -1.5469078453154836, -2.5], \"theta\": [\"d\", \"property_rights\", \"government_integrity\", \"judicial_effectiveness\", \"financial_freedom\", \"e\"], \"mode\": \"lines\", \"line\": {\"shape\": \"spline\", \"color\": \"bc509055\"}}, {\"type\": \"scatterpolar\", \"subplot\": \"polar2\", \"r\": [-2.5, -0.4498305622050182, -0.3132525735138341, -0.6354403452975317, 0.8595983889197552, -2.5], \"theta\": [\"e\", \"total_foreign_born\", \"per_foreign_born\", \"population_living_abroad_diaspora\", \"population_living_abroad\", \"f\"], \"mode\": \"lines\", \"line\": {\"shape\": \"spline\", \"color\": \"003f5c55\"}}, {\"type\": \"scatterpolar\", \"subplot\": \"polar2\", \"r\": [-2.5, 0.43964233550445936, 0.013904031050632128, -0.5902389254128275, 0.33647978733781664, -2.5], \"theta\": [\"a\", \"population_density\", \"human_development_index\", \"health_expenditure\", \"employment\", \"b\"], \"mode\": \"lines\", \"line\": {\"shape\": \"spline\", \"color\": \"45B5AA55\"}}, {\"type\": \"scatterpolar\", \"subplot\": \"polar2\", \"r\": [-2.5, -0.5828180408003067, -0.4088524284121094, null, 1.8365903898705558, -2.5], \"theta\": [\"b\", \"gdp_per_cap\", \"gdp_growth\", \"sustainable_economic_development_assessment(seda)\", \"overall_economic_freedom\", \"c\"], \"mode\": \"lines\", \"line\": {\"shape\": \"spline\", \"color\": \"ffa60055\"}}, {\"type\": \"scatterpolar\", \"subplot\": \"polar2\", \"r\": [-2.5, 0.8241822068833367, 1.2310719066668478, 0.5044694420656585, 0.7042771746662053, -2.5], \"theta\": [\"c\", \"political_stability&absence_of_violence\", \"control_of_corruption\", \"tax_burden\", \"government_spending\", \"d\"], \"mode\": \"lines\", \"line\": {\"shape\": \"spline\", \"color\": \"ff636155\"}}, {\"type\": \"scatterpolar\", \"subplot\": \"polar2\", \"r\": [-2.5, 1.598717485748801, 1.9540985563003115, 1.8994409689128762, 1.531123071383693, -2.5], \"theta\": [\"d\", \"property_rights\", \"government_integrity\", \"judicial_effectiveness\", \"financial_freedom\", \"e\"], \"mode\": \"lines\", \"line\": {\"shape\": \"spline\", \"color\": \"bc509055\"}}, {\"type\": \"scatterpolar\", \"subplot\": \"polar2\", \"r\": [-2.5, -0.46550144713788516, -0.13007139355486874, -0.6208940184782786, 2.1267981968817296, -2.5], \"theta\": [\"e\", \"total_foreign_born\", \"per_foreign_born\", \"population_living_abroad_diaspora\", \"population_living_abroad\", \"f\"], \"mode\": \"lines\", \"line\": {\"shape\": \"spline\", \"color\": \"003f5c55\"}}, {\"type\": \"scatterpolar\", \"subplot\": \"polar2\", \"r\": [-2.5, -0.5885688663837844, -0.008946758141484818, -0.16851001112965816, -1.500304781748818, -2.5], \"theta\": [\"a\", \"population_density\", \"human_development_index\", \"health_expenditure\", \"employment\", \"b\"], \"mode\": \"lines\", \"line\": {\"shape\": \"spline\", \"color\": \"45B5AA55\"}}, {\"type\": \"scatterpolar\", \"subplot\": \"polar2\", \"r\": [-2.5, -0.4887210371297941, 0.4446213570153031, -0.012114104033139053, -0.1596071769446649, -2.5], \"theta\": [\"b\", \"gdp_per_cap\", \"gdp_growth\", \"sustainable_economic_development_assessment(seda)\", \"overall_economic_freedom\", \"c\"], \"mode\": \"lines\", \"line\": {\"shape\": \"spline\", \"color\": \"ffa60055\"}}, {\"type\": \"scatterpolar\", \"subplot\": \"polar2\", \"r\": [-2.5, 0.012013328531180449, -0.7627144644546027, -0.008633715637425632, -1.6948886302675228, -2.5], \"theta\": [\"c\", \"political_stability&absence_of_violence\", \"control_of_corruption\", \"tax_burden\", \"government_spending\", \"d\"], \"mode\": \"lines\", \"line\": {\"shape\": \"spline\", \"color\": \"ff636155\"}}, {\"type\": \"scatterpolar\", \"subplot\": \"polar2\", \"r\": [-2.5, -1.0048695732020325, -0.45522606872211385, -0.8970349168391182, -0.5208975397490914, -2.5], \"theta\": [\"d\", \"property_rights\", \"government_integrity\", \"judicial_effectiveness\", \"financial_freedom\", \"e\"], \"mode\": \"lines\", \"line\": {\"shape\": \"spline\", \"color\": \"bc509055\"}}, {\"type\": \"scatterpolar\", \"subplot\": \"polar2\", \"r\": [-2.5, -0.3846818320075429, -0.25897665156623406, -0.01878641958218913, 1.521225405699559, -2.5], \"theta\": [\"e\", \"total_foreign_born\", \"per_foreign_born\", \"population_living_abroad_diaspora\", \"population_living_abroad\", \"f\"], \"mode\": \"lines\", \"line\": {\"shape\": \"spline\", \"color\": \"003f5c55\"}}, {\"type\": \"scatterpolar\", \"subplot\": \"polar2\", \"r\": [-2.5, 0.38456347625276494, 0.47854264675674574, 0.7466494427170001, 0.7481726929505702, -2.5], \"theta\": [\"a\", \"population_density\", \"human_development_index\", \"health_expenditure\", \"employment\", \"b\"], \"mode\": \"lines\", \"line\": {\"shape\": \"spline\", \"color\": \"45B5AA55\"}}, {\"type\": \"scatterpolar\", \"subplot\": \"polar2\", \"r\": [-2.5, 0.012661478478429414, -0.2911319123330611, 0.24909694144995684, 1.3951230992973922, -2.5], \"theta\": [\"b\", \"gdp_per_cap\", \"gdp_growth\", \"sustainable_economic_development_assessment(seda)\", \"overall_economic_freedom\", \"c\"], \"mode\": \"lines\", \"line\": {\"shape\": \"spline\", \"color\": \"ffa60055\"}}, {\"type\": \"scatterpolar\", \"subplot\": \"polar2\", \"r\": [-2.5, 0.7375508168288528, 1.814619157033685, -1.0508758045146414, -0.18268699970303812, -2.5], \"theta\": [\"c\", \"political_stability&absence_of_violence\", \"control_of_corruption\", \"tax_burden\", \"government_spending\", \"d\"], \"mode\": \"lines\", \"line\": {\"shape\": \"spline\", \"color\": \"ff636155\"}}, {\"type\": \"scatterpolar\", \"subplot\": \"polar2\", \"r\": [-2.5, 1.6296511135430725, 1.9313156898948702, 1.6053373803233817, 1.018117918600497, -2.5], \"theta\": [\"d\", \"property_rights\", \"government_integrity\", \"judicial_effectiveness\", \"financial_freedom\", \"e\"], \"mode\": \"lines\", \"line\": {\"shape\": \"spline\", \"color\": \"bc509055\"}}, {\"type\": \"scatterpolar\", \"subplot\": \"polar2\", \"r\": [-2.5, -0.37885449659255077, -0.6049855650170369, 0.25858677277247694, 0.6491641229494383, -2.5], \"theta\": [\"e\", \"total_foreign_born\", \"per_foreign_born\", \"population_living_abroad_diaspora\", \"population_living_abroad\", \"f\"], \"mode\": \"lines\", \"line\": {\"shape\": \"spline\", \"color\": \"003f5c55\"}}, {\"type\": \"scatterpolar\", \"subplot\": \"polar2\", \"r\": [-2.5, -0.5289146394361428, 0.6308835114220391, 0.39508018327801425, 0.5106574157049233, -2.5], \"theta\": [\"a\", \"population_density\", \"human_development_index\", \"health_expenditure\", \"employment\", \"b\"], \"mode\": \"lines\", \"line\": {\"shape\": \"spline\", \"color\": \"45B5AA55\"}}, {\"type\": \"scatterpolar\", \"subplot\": \"polar2\", \"r\": [-2.5, 0.45224901296904807, 0.29747070314563023, 0.4885402337359513, -0.35154922251532855, -2.5], \"theta\": [\"b\", \"gdp_per_cap\", \"gdp_growth\", \"sustainable_economic_development_assessment(seda)\", \"overall_economic_freedom\", \"c\"], \"mode\": \"lines\", \"line\": {\"shape\": \"spline\", \"color\": \"ffa60055\"}}, {\"type\": \"scatterpolar\", \"subplot\": \"polar2\", \"r\": [-2.5, 0.20693385933569794, -0.19861881325424693, 0.728952532311167, 0.5055584494653251, -2.5], \"theta\": [\"c\", \"political_stability&absence_of_violence\", \"control_of_corruption\", \"tax_burden\", \"government_spending\", \"d\"], \"mode\": \"lines\", \"line\": {\"shape\": \"spline\", \"color\": \"ff636155\"}}, {\"type\": \"scatterpolar\", \"subplot\": \"polar2\", \"r\": [-2.5, -0.02530210354584681, -0.48370508628423703, -0.10445079854216287, 0.5051127658173008, -2.5], \"theta\": [\"d\", \"property_rights\", \"government_integrity\", \"judicial_effectiveness\", \"financial_freedom\", \"e\"], \"mode\": \"lines\", \"line\": {\"shape\": \"spline\", \"color\": \"bc509055\"}}, {\"type\": \"scatterpolar\", \"subplot\": \"polar2\", \"r\": [-2.5, -0.33694052122170476, -0.6117700633482276, 0.21109780641405337, -0.4268987926353059, -2.5], \"theta\": [\"e\", \"total_foreign_born\", \"per_foreign_born\", \"population_living_abroad_diaspora\", \"population_living_abroad\", \"f\"], \"mode\": \"lines\", \"line\": {\"shape\": \"spline\", \"color\": \"003f5c55\"}}, {\"type\": \"scatterpolar\", \"subplot\": \"polar2\", \"mode\": \"lines\", \"marker\": {\"color\": \"rgba(180,120,150,0)\"}, \"r\": [0, 0, 0, 0, 0], \"theta\": [\"f\", \"g\", \"h\", \"i\", \"j\"], \"line\": {\"color\": [\"003f5c55\"], \"smoothing\": 1.3}, \"hoverlabel\": {\"namelength\": 20}}, {\"type\": \"scatterpolar\", \"subplot\": \"polar3\", \"r\": [-2.5, -0.2214571594089517, 0.25764896050486547, -0.27182203035076363, -1.1519495250146046, -2.5], \"theta\": [\"a\", \"population_density\", \"human_development_index\", \"health_expenditure\", \"employment\", \"b\"], \"mode\": \"lines\", \"line\": {\"shape\": \"spline\", \"color\": \"45B5AA55\"}}, {\"type\": \"scatterpolar\", \"subplot\": \"polar3\", \"r\": [-2.5, -0.23732756355506343, 0.03259949811345928, -0.05564927828032171, 0.464204471159992, -2.5], \"theta\": [\"b\", \"gdp_per_cap\", \"gdp_growth\", \"sustainable_economic_development_assessment(seda)\", \"overall_economic_freedom\", \"c\"], \"mode\": \"lines\", \"line\": {\"shape\": \"spline\", \"color\": \"ffa60055\"}}, {\"type\": \"scatterpolar\", \"subplot\": \"polar3\", \"r\": [-2.5, 0.5426303182970258, -0.38340875171615846, 0.8572283217369381, 1.0580937210781693, -2.5], \"theta\": [\"c\", \"political_stability&absence_of_violence\", \"control_of_corruption\", \"tax_burden\", \"government_spending\", \"d\"], \"mode\": \"lines\", \"line\": {\"shape\": \"spline\", \"color\": \"ff636155\"}}, {\"type\": \"scatterpolar\", \"subplot\": \"polar3\", \"r\": [-2.5, 0.2427898617943976, -0.08499884041451294, -1.0166702249533857, 1.018117918600497, -2.5], \"theta\": [\"d\", \"property_rights\", \"government_integrity\", \"judicial_effectiveness\", \"financial_freedom\", \"e\"], \"mode\": \"lines\", \"line\": {\"shape\": \"spline\", \"color\": \"bc509055\"}}, {\"type\": \"scatterpolar\", \"subplot\": \"polar3\", \"r\": [-2.5, -0.10859006222923304, -0.048657478282505884, 1.9250761071968647, 0.9073826120140627, -2.5], \"theta\": [\"e\", \"total_foreign_born\", \"per_foreign_born\", \"population_living_abroad_diaspora\", \"population_living_abroad\", \"f\"], \"mode\": \"lines\", \"line\": {\"shape\": \"spline\", \"color\": \"003f5c55\"}}, {\"type\": \"scatterpolar\", \"subplot\": \"polar3\", \"r\": [-2.5, -0.5236028920627288, -0.8315860653033608, -0.7313292203192626, 0.3839833260130146, -2.5], \"theta\": [\"a\", \"population_density\", \"human_development_index\", \"health_expenditure\", \"employment\", \"b\"], \"mode\": \"lines\", \"line\": {\"shape\": \"spline\", \"color\": \"45B5AA55\"}}, {\"type\": \"scatterpolar\", \"subplot\": \"polar3\", \"r\": [-2.5, -0.5083830987976966, -0.37942229062148486, -0.22978997526905232, -0.706642080041136, -2.5], \"theta\": [\"b\", \"gdp_per_cap\", \"gdp_growth\", \"sustainable_economic_development_assessment(seda)\", \"overall_economic_freedom\", \"c\"], \"mode\": \"lines\", \"line\": {\"shape\": \"spline\", \"color\": \"ffa60055\"}}, {\"type\": \"scatterpolar\", \"subplot\": \"polar3\", \"r\": [-2.5, 0.3043941247379567, -0.22779616128003663, -0.698117230676968, 0.6800431747689885, -2.5], \"theta\": [\"c\", \"political_stability&absence_of_violence\", \"control_of_corruption\", \"tax_burden\", \"government_spending\", \"d\"], \"mode\": \"lines\", \"line\": {\"shape\": \"spline\", \"color\": \"ff636155\"}}, {\"type\": \"scatterpolar\", \"subplot\": \"polar3\", \"r\": [-2.5, -0.4429072587957674, -0.5007926706436395, -0.06457239419661226, 0.5051127658173008, -2.5], \"theta\": [\"d\", \"property_rights\", \"government_integrity\", \"judicial_effectiveness\", \"financial_freedom\", \"e\"], \"mode\": \"lines\", \"line\": {\"shape\": \"spline\", \"color\": \"bc509055\"}}, {\"type\": \"scatterpolar\", \"subplot\": \"polar3\", \"r\": [-2.5, -0.37651552999834814, -0.3132525735138341, -0.6680287629061735, -0.7742530509350188, -2.5], \"theta\": [\"e\", \"total_foreign_born\", \"per_foreign_born\", \"population_living_abroad_diaspora\", \"population_living_abroad\", \"f\"], \"mode\": \"lines\", \"line\": {\"shape\": \"spline\", \"color\": \"003f5c55\"}}, {\"type\": \"scatterpolar\", \"subplot\": \"polar3\", \"r\": [-2.5, -0.3012391210409119, 1.0041176083289767, 0.6533602313307779, 0.4631550850948969, -2.5], \"theta\": [\"a\", \"population_density\", \"human_development_index\", \"health_expenditure\", \"employment\", \"b\"], \"mode\": \"lines\", \"line\": {\"shape\": \"spline\", \"color\": \"45B5AA55\"}}, {\"type\": \"scatterpolar\", \"subplot\": \"polar3\", \"r\": [-2.5, -0.14323054983926403, -0.46771270399335846, 0.8498823128463754, 1.164793230373233, -2.5], \"theta\": [\"b\", \"gdp_per_cap\", \"gdp_growth\", \"sustainable_economic_development_assessment(seda)\", \"overall_economic_freedom\", \"c\"], \"mode\": \"lines\", \"line\": {\"shape\": \"spline\", \"color\": \"ffa60055\"}}, {\"type\": \"scatterpolar\", \"subplot\": \"polar3\", \"r\": [-2.5, 1.2356810191879215, 1.5131196960356452, -1.9648414922988737, -0.022742637359555746, -2.5], \"theta\": [\"c\", \"political_stability&absence_of_violence\", \"control_of_corruption\", \"tax_burden\", \"government_spending\", \"d\"], \"mode\": \"lines\", \"line\": {\"shape\": \"spline\", \"color\": \"ff636155\"}}, {\"type\": \"scatterpolar\", \"subplot\": \"polar3\", \"r\": [-2.5, 1.7585415571378857, 1.8287910528490983, 1.7498968100006378, 1.018117918600497, -2.5], \"theta\": [\"d\", \"property_rights\", \"government_integrity\", \"judicial_effectiveness\", \"financial_freedom\", \"e\"], \"mode\": \"lines\", \"line\": {\"shape\": \"spline\", \"color\": \"bc509055\"}}, {\"type\": \"scatterpolar\", \"subplot\": \"polar3\", \"r\": [-2.5, -0.27777977500333695, 2.576939542299207, -0.6620853834652531, -0.3653307062214604, -2.5], \"theta\": [\"e\", \"total_foreign_born\", \"per_foreign_born\", \"population_living_abroad_diaspora\", \"population_living_abroad\", \"f\"], \"mode\": \"lines\", \"line\": {\"shape\": \"spline\", \"color\": \"003f5c55\"}}, {\"type\": \"scatterpolar\", \"subplot\": \"polar3\", \"r\": [-2.5, -0.13006370640019543, 1.1259903000612115, 0.6949934331064473, 0.11479862029551195, -2.5], \"theta\": [\"a\", \"population_density\", \"human_development_index\", \"health_expenditure\", \"employment\", \"b\"], \"mode\": \"lines\", \"line\": {\"shape\": \"spline\", \"color\": \"45B5AA55\"}}, {\"type\": \"scatterpolar\", \"subplot\": \"polar3\", \"r\": [-2.5, -0.18255465978135346, -0.3205620501236856, 0.5625502292443739, 0.7521175395159875, -2.5], \"theta\": [\"b\", \"gdp_per_cap\", \"gdp_growth\", \"sustainable_economic_development_assessment(seda)\", \"overall_economic_freedom\", \"c\"], \"mode\": \"lines\", \"line\": {\"shape\": \"spline\", \"color\": \"ffa60055\"}}, {\"type\": \"scatterpolar\", \"subplot\": \"polar3\", \"r\": [-2.5, 0.5642881335379564, 1.4839423625024077, -2.437859039244416, -0.25538899939468884, -2.5], \"theta\": [\"c\", \"political_stability&absence_of_violence\", \"control_of_corruption\", \"tax_burden\", \"government_spending\", \"d\"], \"mode\": \"lines\", \"line\": {\"shape\": \"spline\", \"color\": \"ff636155\"}}, {\"type\": \"scatterpolar\", \"subplot\": \"polar3\", \"r\": [-2.5, 1.6399621916936902, 1.6807002484371223, 1.18162893007204, 1.018117918600497, -2.5], \"theta\": [\"d\", \"property_rights\", \"government_integrity\", \"judicial_effectiveness\", \"financial_freedom\", \"e\"], \"mode\": \"lines\", \"line\": {\"shape\": \"spline\", \"color\": \"bc509055\"}}, {\"type\": \"scatterpolar\", \"subplot\": \"polar3\", \"r\": [-2.5, -0.09908884715155632, 0.4669636831668065, -0.28188330675316914, -0.05749036178789882, -2.5], \"theta\": [\"e\", \"total_foreign_born\", \"per_foreign_born\", \"population_living_abroad_diaspora\", \"population_living_abroad\", \"f\"], \"mode\": \"lines\", \"line\": {\"shape\": \"spline\", \"color\": \"003f5c55\"}}, {\"type\": \"scatterpolar\", \"subplot\": \"polar3\", \"r\": [-2.5, -0.3615424760155815, 0.4480744738236871, -0.3990345913319756, 0.16230215897070993, -2.5], \"theta\": [\"a\", \"population_density\", \"human_development_index\", \"health_expenditure\", \"employment\", \"b\"], \"mode\": \"lines\", \"line\": {\"shape\": \"spline\", \"color\": \"45B5AA55\"}}, {\"type\": \"scatterpolar\", \"subplot\": \"polar3\", \"r\": [-2.5, -0.07722219373565177, 0.1503200492759574, 0.10543089964895613, 0.8288946506245716, -2.5], \"theta\": [\"b\", \"gdp_per_cap\", \"gdp_growth\", \"sustainable_economic_development_assessment(seda)\", \"overall_economic_freedom\", \"c\"], \"mode\": \"lines\", \"line\": {\"shape\": \"spline\", \"color\": \"ffa60055\"}}, {\"type\": \"scatterpolar\", \"subplot\": \"polar3\", \"r\": [-2.5, 0.5101435631629395, -0.13053829588059854, 1.3222287465309719, 0.7333582703680597, -2.5], \"theta\": [\"c\", \"political_stability&absence_of_violence\", \"control_of_corruption\", \"tax_burden\", \"government_spending\", \"d\"], \"mode\": \"lines\", \"line\": {\"shape\": \"spline\", \"color\": \"ff636155\"}}, {\"type\": \"scatterpolar\", \"subplot\": \"polar3\", \"r\": [-2.5, 0.7325735474546882, -0.18182754358126382, -0.16426850013810443, 0.5051127658173008, -2.5], \"theta\": [\"d\", \"property_rights\", \"government_integrity\", \"judicial_effectiveness\", \"financial_freedom\", \"e\"], \"mode\": \"lines\", \"line\": {\"shape\": \"spline\", \"color\": \"bc509055\"}}, {\"type\": \"scatterpolar\", \"subplot\": \"polar3\", \"r\": [-2.5, -0.15142394187792976, -0.4692957924989995, 1.6380140740047042, 0.32202631728712405, -2.5], \"theta\": [\"e\", \"total_foreign_born\", \"per_foreign_born\", \"population_living_abroad_diaspora\", \"population_living_abroad\", \"f\"], \"mode\": \"lines\", \"line\": {\"shape\": \"spline\", \"color\": \"003f5c55\"}}, {\"type\": \"scatterpolar\", \"subplot\": \"polar3\", \"r\": [-2.5, 0.2560902996292531, 0.6232661276810973, 1.3433920015015943, 0.5106574157049233, -2.5], \"theta\": [\"a\", \"population_density\", \"human_development_index\", \"health_expenditure\", \"employment\", \"b\"], \"mode\": \"lines\", \"line\": {\"shape\": \"spline\", \"color\": \"45B5AA55\"}}, {\"type\": \"scatterpolar\", \"subplot\": \"polar3\", \"r\": [-2.5, 3.6655915938128705, -0.20284153404463734, 0.5538429951067253, -0.9945551483971315, -2.5], \"theta\": [\"b\", \"gdp_per_cap\", \"gdp_growth\", \"sustainable_economic_development_assessment(seda)\", \"overall_economic_freedom\", \"c\"], \"mode\": \"lines\", \"line\": {\"shape\": \"spline\", \"color\": \"ffa60055\"}}, {\"type\": \"scatterpolar\", \"subplot\": \"polar3\", \"r\": [-2.5, -1.3416014472072864, -1.3657132125400562, -2.3737211445315305, -1.8257522666906434, -2.5], \"theta\": [\"c\", \"political_stability&absence_of_violence\", \"control_of_corruption\", \"tax_burden\", \"government_spending\", \"d\"], \"mode\": \"lines\", \"line\": {\"shape\": \"spline\", \"color\": \"ff636155\"}}, {\"type\": \"scatterpolar\", \"subplot\": \"polar3\", \"r\": [-2.5, -1.2523391855698323, -1.041893895685149, -1.0814726557843093, -0.5208975397490914, -2.5], \"theta\": [\"d\", \"property_rights\", \"government_integrity\", \"judicial_effectiveness\", \"financial_freedom\", \"e\"], \"mode\": \"lines\", \"line\": {\"shape\": \"spline\", \"color\": \"bc509055\"}}, {\"type\": \"scatterpolar\", \"subplot\": \"polar3\", \"r\": [-2.5, 5.007181225257747, 3.981328739622435, -0.25085694978899004, -0.8845242642161524, -2.5], \"theta\": [\"e\", \"total_foreign_born\", \"per_foreign_born\", \"population_living_abroad_diaspora\", \"population_living_abroad\", \"f\"], \"mode\": \"lines\", \"line\": {\"shape\": \"spline\", \"color\": \"003f5c55\"}}, {\"type\": \"scatterpolar\", \"subplot\": \"polar3\", \"r\": [-2.5, 1.5957369687179883, 0.27288327397651285, -0.09141148932286303, 0.7006703623405437, -2.5], \"theta\": [\"a\", \"population_density\", \"human_development_index\", \"health_expenditure\", \"employment\", \"b\"], \"mode\": \"lines\", \"line\": {\"shape\": \"spline\", \"color\": \"45B5AA55\"}}, {\"type\": \"scatterpolar\", \"subplot\": \"polar3\", \"r\": [-2.5, 0.5969055353819765, 1.2980951775261653, -0.3560420470152861, -0.17880145472181092, -2.5], \"theta\": [\"b\", \"gdp_per_cap\", \"gdp_growth\", \"sustainable_economic_development_assessment(seda)\", \"overall_economic_freedom\", \"c\"], \"mode\": \"lines\", \"line\": {\"shape\": \"spline\", \"color\": \"ffa60055\"}}, {\"type\": \"scatterpolar\", \"subplot\": \"polar3\", \"r\": [-2.5, -0.16124935475971608, -0.23752196810955348, -0.321306372883951, 0.9708511735355914, -2.5], \"theta\": [\"c\", \"political_stability&absence_of_violence\", \"control_of_corruption\", \"tax_burden\", \"government_spending\", \"d\"], \"mode\": \"lines\", \"line\": {\"shape\": \"spline\", \"color\": \"ff636155\"}}, {\"type\": \"scatterpolar\", \"subplot\": \"polar3\", \"r\": [-2.5, -0.13872573324352436, 0.33649048913831314, 0.9772519889540735, -1.5469078453154836, -2.5], \"theta\": [\"d\", \"property_rights\", \"government_integrity\", \"judicial_effectiveness\", \"financial_freedom\", \"e\"], \"mode\": \"lines\", \"line\": {\"shape\": \"spline\", \"color\": \"bc509055\"}}, {\"type\": \"scatterpolar\", \"subplot\": \"polar3\", \"r\": [-2.5, 3.3464575688867018, 1.491421362154908, 1.5210337331768193, -0.1714372339787873, -2.5], \"theta\": [\"e\", \"total_foreign_born\", \"per_foreign_born\", \"population_living_abroad_diaspora\", \"population_living_abroad\", \"f\"], \"mode\": \"lines\", \"line\": {\"shape\": \"spline\", \"color\": \"003f5c55\"}}, {\"type\": \"scatterpolar\", \"subplot\": \"polar3\", \"r\": [-2.5, 4.774055038871884, -0.031798001343837846, 0.21466964225011365, -0.043544897868252615, -2.5], \"theta\": [\"a\", \"population_density\", \"human_development_index\", \"health_expenditure\", \"employment\", \"b\"], \"mode\": \"lines\", \"line\": {\"shape\": \"spline\", \"color\": \"45B5AA55\"}}, {\"type\": \"scatterpolar\", \"subplot\": \"polar3\", \"r\": [-2.5, -0.5224274276037902, 1.7984074848833325, null, 0.22427691419666243, -2.5], \"theta\": [\"b\", \"gdp_per_cap\", \"gdp_growth\", \"sustainable_economic_development_assessment(seda)\", \"overall_economic_freedom\", \"c\"], \"mode\": \"lines\", \"line\": {\"shape\": \"spline\", \"color\": \"ffa60055\"}}, {\"type\": \"scatterpolar\", \"subplot\": \"polar3\", \"r\": [-2.5, -1.070878498514131, -0.48066661711559655, 0.1597282962130996, -0.6140522718297977, -2.5], \"theta\": [\"c\", \"political_stability&absence_of_violence\", \"control_of_corruption\", \"tax_burden\", \"government_spending\", \"d\"], \"mode\": \"lines\", \"line\": {\"shape\": \"spline\", \"color\": \"ff636155\"}}, {\"type\": \"scatterpolar\", \"subplot\": \"polar3\", \"r\": [-2.5, -0.5150857892061373, -0.2729605301466544, -0.07952677205678982, -0.007892386965895297, -2.5], \"theta\": [\"d\", \"property_rights\", \"government_integrity\", \"judicial_effectiveness\", \"financial_freedom\", \"e\"], \"mode\": \"lines\", \"line\": {\"shape\": \"spline\", \"color\": \"bc509055\"}}, {\"type\": \"scatterpolar\", \"subplot\": \"polar3\", \"r\": [-2.5, -0.29431701469268284, 0.8876019003304118, -0.7880751558540446, -1.1951214240360086, -2.5], \"theta\": [\"e\", \"total_foreign_born\", \"per_foreign_born\", \"population_living_abroad_diaspora\", \"population_living_abroad\", \"f\"], \"mode\": \"lines\", \"line\": {\"shape\": \"spline\", \"color\": \"003f5c55\"}}, {\"type\": \"scatterpolar\", \"subplot\": \"polar3\", \"r\": [-2.5, -0.5946004707173687, 0.15101058224427813, -0.5902389254128275, 0.3839833260130146, -2.5], \"theta\": [\"a\", \"population_density\", \"human_development_index\", \"health_expenditure\", \"employment\", \"b\"], \"mode\": \"lines\", \"line\": {\"shape\": \"spline\", \"color\": \"45B5AA55\"}}, {\"type\": \"scatterpolar\", \"subplot\": \"polar3\", \"r\": [-2.5, -0.08003107021184301, 1.1803746263636672, -0.10353806959632872, -1.397633517315605, -2.5], \"theta\": [\"b\", \"gdp_per_cap\", \"gdp_growth\", \"sustainable_economic_development_assessment(seda)\", \"overall_economic_freedom\", \"c\"], \"mode\": \"lines\", \"line\": {\"shape\": \"spline\", \"color\": \"ffa60055\"}}, {\"type\": \"scatterpolar\", \"subplot\": \"polar3\", \"r\": [-2.5, -0.6593795571187847, -0.597376067188964, -0.36940971746021356, -0.051823548170663813, -2.5], \"theta\": [\"c\", \"political_stability&absence_of_violence\", \"control_of_corruption\", \"tax_burden\", \"government_spending\", \"d\"], \"mode\": \"lines\", \"line\": {\"shape\": \"spline\", \"color\": \"ff636155\"}}, {\"type\": \"scatterpolar\", \"subplot\": \"polar3\", \"r\": [-2.5, -1.5668318876082976, -0.7058415101798619, -1.5949076108907556, -0.007892386965895297, -2.5], \"theta\": [\"d\", \"property_rights\", \"government_integrity\", \"judicial_effectiveness\", \"financial_freedom\", \"e\"], \"mode\": \"lines\", \"line\": {\"shape\": \"spline\", \"color\": \"bc509055\"}}, {\"type\": \"scatterpolar\", \"subplot\": \"polar3\", \"r\": [-2.5, -0.4405569325931715, -0.727106365135915, -0.6242562233598545, -1.0903637922324023, -2.5], \"theta\": [\"e\", \"total_foreign_born\", \"per_foreign_born\", \"population_living_abroad_diaspora\", \"population_living_abroad\", \"f\"], \"mode\": \"lines\", \"line\": {\"shape\": \"spline\", \"color\": \"003f5c55\"}}, {\"type\": \"scatterpolar\", \"subplot\": \"polar3\", \"r\": [-2.5, -0.5465486238139652, 0.7603726788747434, 0.3087298388544037, -0.4710719136843483, -2.5], \"theta\": [\"a\", \"population_density\", \"human_development_index\", \"health_expenditure\", \"employment\", \"b\"], \"mode\": \"lines\", \"line\": {\"shape\": \"spline\", \"color\": \"45B5AA55\"}}, {\"type\": \"scatterpolar\", \"subplot\": \"polar3\", \"r\": [-2.5, 1.9957207701886754, 0.5034815624296525, 0.39711643424627174, -0.601073735317032, -2.5], \"theta\": [\"b\", \"gdp_per_cap\", \"gdp_growth\", \"sustainable_economic_development_assessment(seda)\", \"overall_economic_freedom\", \"c\"], \"mode\": \"lines\", \"line\": {\"shape\": \"spline\", \"color\": \"ffa60055\"}}, {\"type\": \"scatterpolar\", \"subplot\": \"polar3\", \"r\": [-2.5, -1.4282327081710087, -0.5001182307746302, 0.785072999038938, -1.607646267615691, -2.5], \"theta\": [\"c\", \"political_stability&absence_of_violence\", \"control_of_corruption\", \"tax_burden\", \"government_spending\", \"d\"], \"mode\": \"lines\", \"line\": {\"shape\": \"spline\", \"color\": \"ff636155\"}}, {\"type\": \"scatterpolar\", \"subplot\": \"polar3\", \"r\": [-2.5, -0.8605122173744789, -0.5235757543267415, 0.3342120295693564, -0.007892386965895297, -2.5], \"theta\": [\"d\", \"property_rights\", \"government_integrity\", \"judicial_effectiveness\", \"financial_freedom\", \"e\"], \"mode\": \"lines\", \"line\": {\"shape\": \"spline\", \"color\": \"bc509055\"}}, {\"type\": \"scatterpolar\", \"subplot\": \"polar3\", \"r\": [-2.5, 3.0542340057951467, 1.3082402468978682, -0.7343931126282625, -1.2456623830967886, -2.5], \"theta\": [\"e\", \"total_foreign_born\", \"per_foreign_born\", \"population_living_abroad_diaspora\", \"population_living_abroad\", \"f\"], \"mode\": \"lines\", \"line\": {\"shape\": \"spline\", \"color\": \"003f5c55\"}}, {\"type\": \"scatterpolar\", \"subplot\": \"polar3\", \"r\": [-2.5, 0.23832536727508535, 1.0269688515313298, 2.0542403725602454, 0.2731421384592765, -2.5], \"theta\": [\"a\", \"population_density\", \"human_development_index\", \"health_expenditure\", \"employment\", \"b\"], \"mode\": \"lines\", \"line\": {\"shape\": \"spline\", \"color\": \"45B5AA55\"}}, {\"type\": \"scatterpolar\", \"subplot\": \"polar3\", \"r\": [-2.5, 4.023721978368256, -4.323059772228577, 0.775872649484973, -1.6951435415099743, -2.5], \"theta\": [\"b\", \"gdp_per_cap\", \"gdp_growth\", \"sustainable_economic_development_assessment(seda)\", \"overall_economic_freedom\", \"c\"], \"mode\": \"lines\", \"line\": {\"shape\": \"spline\", \"color\": \"ffa60055\"}}, {\"type\": \"scatterpolar\", \"subplot\": \"polar3\", \"r\": [-2.5, -0.05296018173699205, -1.7547447900782258, -0.38544457343044264, 0.09842736212652882, -2.5], \"theta\": [\"c\", \"political_stability&absence_of_violence\", \"control_of_corruption\", \"tax_burden\", \"government_spending\", \"d\"], \"mode\": \"lines\", \"line\": {\"shape\": \"spline\", \"color\": \"ff636155\"}}, {\"type\": \"scatterpolar\", \"subplot\": \"polar3\", \"r\": [-2.5, -1.010025210612946, -0.8653239650722193, -1.405485000094159, -1.0339026925322876, -2.5], \"theta\": [\"d\", \"property_rights\", \"government_integrity\", \"judicial_effectiveness\", \"financial_freedom\", \"e\"], \"mode\": \"lines\", \"line\": {\"shape\": \"spline\", \"color\": \"bc509055\"}}, {\"type\": \"scatterpolar\", \"subplot\": \"polar3\", \"r\": [-2.5, 2.7533277703097405, 4.239139514452868, -0.7217688753008948, -1.2070674688551273, -2.5], \"theta\": [\"e\", \"total_foreign_born\", \"per_foreign_born\", \"population_living_abroad_diaspora\", \"population_living_abroad\", \"f\"], \"mode\": \"lines\", \"line\": {\"shape\": \"spline\", \"color\": \"003f5c55\"}}, {\"type\": \"scatterpolar\", \"subplot\": \"polar3\", \"r\": [-2.5, -0.27969143201634855, -0.7325646167734792, -0.8438930621571835, -3.2737517019569125, -2.5], \"theta\": [\"a\", \"population_density\", \"human_development_index\", \"health_expenditure\", \"employment\", \"b\"], \"mode\": \"lines\", \"line\": {\"shape\": \"spline\", \"color\": \"45B5AA55\"}}, {\"type\": \"scatterpolar\", \"subplot\": \"polar3\", \"r\": [-2.5, -0.5294495920068369, 0.5623419081778012, null, -0.706642080041136, -2.5], \"theta\": [\"b\", \"gdp_per_cap\", \"gdp_growth\", \"sustainable_economic_development_assessment(seda)\", \"overall_economic_freedom\", \"c\"], \"mode\": \"lines\", \"line\": {\"shape\": \"spline\", \"color\": \"ffa60055\"}}, {\"type\": \"scatterpolar\", \"subplot\": \"polar3\", \"r\": [-2.5, null, null, -0.20104770560968832, -1.3216850873176063, -2.5], \"theta\": [\"c\", \"political_stability&absence_of_violence\", \"control_of_corruption\", \"tax_burden\", \"government_spending\", \"d\"], \"mode\": \"lines\", \"line\": {\"shape\": \"spline\", \"color\": \"ff636155\"}}, {\"type\": \"scatterpolar\", \"subplot\": \"polar3\", \"r\": [-2.5, -0.772866676395764, -0.26156887966627296, -0.34870633416091124, -0.007892386965895297, -2.5], \"theta\": [\"d\", \"property_rights\", \"government_integrity\", \"judicial_effectiveness\", \"financial_freedom\", \"e\"], \"mode\": \"lines\", \"line\": {\"shape\": \"spline\", \"color\": \"bc509055\"}}, {\"type\": \"scatterpolar\", \"subplot\": \"polar3\", \"r\": [-2.5, -0.45353504159420094, -0.6999684122498556, -0.6880016535627885, -0.993876507997556, -2.5], \"theta\": [\"e\", \"total_foreign_born\", \"per_foreign_born\", \"population_living_abroad_diaspora\", \"population_living_abroad\", \"f\"], \"mode\": \"lines\", \"line\": {\"shape\": \"spline\", \"color\": \"003f5c55\"}}, {\"type\": \"scatterpolar\", \"subplot\": \"polar3\", \"mode\": \"lines\", \"marker\": {\"color\": \"rgba(180,120,150,0)\"}, \"r\": [0, 0, 0, 0, 0], \"theta\": [\"f\", \"g\", \"h\", \"i\", \"j\"], \"line\": {\"color\": [\"003f5c55\"], \"smoothing\": 1.3}, \"hoverlabel\": {\"namelength\": 20}}, {\"type\": \"scatterpolar\", \"subplot\": \"polar4\", \"r\": [-2.5, -0.214288085532242, 0.48616003049768747, -0.35585941912017033, 0.08313039988882764, -2.5], \"theta\": [\"a\", \"population_density\", \"human_development_index\", \"health_expenditure\", \"employment\", \"b\"], \"mode\": \"lines\", \"line\": {\"shape\": \"spline\", \"color\": \"45B5AA55\"}}, {\"type\": \"scatterpolar\", \"subplot\": \"polar4\", \"r\": [-2.5, -0.11935518015393246, -0.2911319123330611, 0.005299866021627912, -0.8026131028264678, -2.5], \"theta\": [\"b\", \"gdp_per_cap\", \"gdp_growth\", \"sustainable_economic_development_assessment(seda)\", \"overall_economic_freedom\", \"c\"], \"mode\": \"lines\", \"line\": {\"shape\": \"spline\", \"color\": \"ffa60055\"}}, {\"type\": \"scatterpolar\", \"subplot\": \"polar4\", \"r\": [-2.5, -2.900965564552665, -1.453245329080186, 1.394384069228972, 0.7042771746662053, -2.5], \"theta\": [\"c\", \"political_stability&absence_of_violence\", \"control_of_corruption\", \"tax_burden\", \"government_spending\", \"d\"], \"mode\": \"lines\", \"line\": {\"shape\": \"spline\", \"color\": \"ff636155\"}}, {\"type\": \"scatterpolar\", \"subplot\": \"polar4\", \"r\": [-2.5, -1.6235437024571364, -0.8653239650722193, -0.8770956195887272, -2.05991299809868, -2.5], \"theta\": [\"d\", \"property_rights\", \"government_integrity\", \"judicial_effectiveness\", \"financial_freedom\", \"e\"], \"mode\": \"lines\", \"line\": {\"shape\": \"spline\", \"color\": \"bc509055\"}}, {\"type\": \"scatterpolar\", \"subplot\": \"polar4\", \"r\": [-2.5, -0.3640652662794119, -0.5574941575761089, 2.463989932994942, 1.2970074516810357, -2.5], \"theta\": [\"e\", \"total_foreign_born\", \"per_foreign_born\", \"population_living_abroad_diaspora\", \"population_living_abroad\", \"f\"], \"mode\": \"lines\", \"line\": {\"shape\": \"spline\", \"color\": \"003f5c55\"}}, {\"type\": \"scatterpolar\", \"subplot\": \"polar4\", \"r\": [-2.5, -0.3487370696017378, 0.3566704090347471, -0.10297626759388229, -1.231121284096487, -2.5], \"theta\": [\"a\", \"population_density\", \"human_development_index\", \"health_expenditure\", \"employment\", \"b\"], \"mode\": \"lines\", \"line\": {\"shape\": \"spline\", \"color\": \"45B5AA55\"}}, {\"type\": \"scatterpolar\", \"subplot\": \"polar4\", \"r\": [-2.5, -0.007000549705183956, 0.1503200492759574, -0.12095203965109567, 0.8672824739780671, -2.5], \"theta\": [\"b\", \"gdp_per_cap\", \"gdp_growth\", \"sustainable_economic_development_assessment(seda)\", \"overall_economic_freedom\", \"c\"], \"mode\": \"lines\", \"line\": {\"shape\": \"spline\", \"color\": \"ffa60055\"}}, {\"type\": \"scatterpolar\", \"subplot\": \"polar4\", \"r\": [-2.5, -0.6593795571187847, -0.5195697864634552, 0.8251592214636922, -0.807924271007533, -2.5], \"theta\": [\"c\", \"political_stability&absence_of_violence\", \"control_of_corruption\", \"tax_burden\", \"government_spending\", \"d\"], \"mode\": \"lines\", \"line\": {\"shape\": \"spline\", \"color\": \"ff636155\"}}, {\"type\": \"scatterpolar\", \"subplot\": \"polar4\", \"r\": [-2.5, 0.3046573140541498, -0.050824106251029504, 0.07998703548064394, 1.018117918600497, -2.5], \"theta\": [\"d\", \"property_rights\", \"government_integrity\", \"judicial_effectiveness\", \"financial_freedom\", \"e\"], \"mode\": \"lines\", \"line\": {\"shape\": \"spline\", \"color\": \"bc509055\"}}, {\"type\": \"scatterpolar\", \"subplot\": \"polar4\", \"r\": [-2.5, -0.4076947388170606, -0.727106365135915, 3.9966153157223916, 1.5074415423800211, -2.5], \"theta\": [\"e\", \"total_foreign_born\", \"per_foreign_born\", \"population_living_abroad_diaspora\", \"population_living_abroad\", \"f\"], \"mode\": \"lines\", \"line\": {\"shape\": \"spline\", \"color\": \"003f5c55\"}}, {\"type\": \"scatterpolar\", \"subplot\": \"polar4\", \"r\": [-2.5, -0.329407642398494, 0.8365428842022721, 0.3241495432157627, 1.3498785451989441, -2.5], \"theta\": [\"a\", \"population_density\", \"human_development_index\", \"health_expenditure\", \"employment\", \"b\"], \"mode\": \"lines\", \"line\": {\"shape\": \"spline\", \"color\": \"45B5AA55\"}}, {\"type\": \"scatterpolar\", \"subplot\": \"polar4\", \"r\": [-2.5, 0.7359444119922478, -1.8803590021922876, 0.5016009188689142, -0.150010221106291, -2.5], \"theta\": [\"b\", \"gdp_per_cap\", \"gdp_growth\", \"sustainable_economic_development_assessment(seda)\", \"overall_economic_freedom\", \"c\"], \"mode\": \"lines\", \"line\": {\"shape\": \"spline\", \"color\": \"ffa60055\"}}, {\"type\": \"scatterpolar\", \"subplot\": \"polar4\", \"r\": [-2.5, 0.1419603470504823, -0.22779616128003663, 1.234039179529955, -1.2441362691574374, -2.5], \"theta\": [\"c\", \"political_stability&absence_of_violence\", \"control_of_corruption\", \"tax_burden\", \"government_spending\", \"d\"], \"mode\": \"lines\", \"line\": {\"shape\": \"spline\", \"color\": \"ff636155\"}}, {\"type\": \"scatterpolar\", \"subplot\": \"polar4\", \"r\": [-2.5, 0.21185623400012604, 0.03461294643533994, 0.5734826457978914, -2.05991299809868, -2.5], \"theta\": [\"d\", \"property_rights\", \"government_integrity\", \"judicial_effectiveness\", \"financial_freedom\", \"e\"], \"mode\": \"lines\", \"line\": {\"shape\": \"spline\", \"color\": \"bc509055\"}}, {\"type\": \"scatterpolar\", \"subplot\": \"polar4\", \"r\": [-2.5, 0.6290239949403856, 0.42625672553062505, 1.7155857733320459, 0.28710718519287254, -2.5], \"theta\": [\"e\", \"total_foreign_born\", \"per_foreign_born\", \"population_living_abroad_diaspora\", \"population_living_abroad\", \"f\"], \"mode\": \"lines\", \"line\": {\"shape\": \"spline\", \"color\": \"003f5c55\"}}, {\"type\": \"scatterpolar\", \"subplot\": \"polar4\", \"r\": [-2.5, -0.48721265811840475, 1.1412241595226227, 0.5022471285894595, 0.8431797703009661, -2.5], \"theta\": [\"a\", \"population_density\", \"human_development_index\", \"health_expenditure\", \"employment\", \"b\"], \"mode\": \"lines\", \"line\": {\"shape\": \"spline\", \"color\": \"45B5AA55\"}}, {\"type\": \"scatterpolar\", \"subplot\": \"polar4\", \"r\": [-2.5, -0.058964577002702676, 0.6800624593402993, 0.775872649484973, -1.4936045401009366, -2.5], \"theta\": [\"b\", \"gdp_per_cap\", \"gdp_growth\", \"sustainable_economic_development_assessment(seda)\", \"overall_economic_freedom\", \"c\"], \"mode\": \"lines\", \"line\": {\"shape\": \"spline\", \"color\": \"ffa60055\"}}, {\"type\": \"scatterpolar\", \"subplot\": \"polar4\", \"r\": [-2.5, -0.21539395740742331, -0.6168276808479977, 0.9053316663132006, -0.269929547245616, -2.5], \"theta\": [\"c\", \"political_stability&absence_of_violence\", \"control_of_corruption\", \"tax_burden\", \"government_spending\", \"d\"], \"mode\": \"lines\", \"line\": {\"shape\": \"spline\", \"color\": \"ff636155\"}}, {\"type\": \"scatterpolar\", \"subplot\": \"polar4\", \"r\": [-2.5, -1.5668318876082976, -1.041893895685149, -1.714542966543831, -0.5208975397490914, -2.5], \"theta\": [\"d\", \"property_rights\", \"government_integrity\", \"judicial_effectiveness\", \"financial_freedom\", \"e\"], \"mode\": \"lines\", \"line\": {\"shape\": \"spline\", \"color\": \"bc509055\"}}, {\"type\": \"scatterpolar\", \"subplot\": \"polar4\", \"r\": [-2.5, -0.08726779030873832, 0.3448428102582622, -0.22132587392499356, -0.06576071483388787, -2.5], \"theta\": [\"e\", \"total_foreign_born\", \"per_foreign_born\", \"population_living_abroad_diaspora\", \"population_living_abroad\", \"f\"], \"mode\": \"lines\", \"line\": {\"shape\": \"spline\", \"color\": \"003f5c55\"}}, {\"type\": \"scatterpolar\", \"subplot\": \"polar4\", \"r\": [-2.5, -0.5893348149307078, 1.6287140184310893, 2.220773179662923, -0.23355663643870148, -2.5], \"theta\": [\"a\", \"population_density\", \"human_development_index\", \"health_expenditure\", \"employment\", \"b\"], \"mode\": \"lines\", \"line\": {\"shape\": \"spline\", \"color\": \"45B5AA55\"}}, {\"type\": \"scatterpolar\", \"subplot\": \"polar4\", \"r\": [-2.5, -0.367939810736761, -0.20284153404463734, 1.3374761315560129, 0.03233486862599877, -2.5], \"theta\": [\"b\", \"gdp_per_cap\", \"gdp_growth\", \"sustainable_economic_development_assessment(seda)\", \"overall_economic_freedom\", \"c\"], \"mode\": \"lines\", \"line\": {\"shape\": \"spline\", \"color\": \"ffa60055\"}}, {\"type\": \"scatterpolar\", \"subplot\": \"polar4\", \"r\": [-2.5, 1.084076183410646, 0.8420403870988867, -0.032685693759163074, -0.6770606345844123, -2.5], \"theta\": [\"c\", \"political_stability&absence_of_violence\", \"control_of_corruption\", \"tax_burden\", \"government_spending\", \"d\"], \"mode\": \"lines\", \"line\": {\"shape\": \"spline\", \"color\": \"ff636155\"}}, {\"type\": \"scatterpolar\", \"subplot\": \"polar4\", \"r\": [-2.5, -0.3758842674607063, 0.0801793310792048, 0.3092880030839834, 0.5051127658173008, -2.5], \"theta\": [\"d\", \"property_rights\", \"government_integrity\", \"judicial_effectiveness\", \"financial_freedom\", \"e\"], \"mode\": \"lines\", \"line\": {\"shape\": \"spline\", \"color\": \"bc509055\"}}, {\"type\": \"scatterpolar\", \"subplot\": \"polar4\", \"r\": [-2.5, -0.40249469779528063, -0.04187302847775933, -0.6845610553031448, -0.30927621771682956, -2.5], \"theta\": [\"e\", \"total_foreign_born\", \"per_foreign_born\", \"population_living_abroad_diaspora\", \"population_living_abroad\", \"f\"], \"mode\": \"lines\", \"line\": {\"shape\": \"spline\", \"color\": \"003f5c55\"}}, {\"type\": \"scatterpolar\", \"subplot\": \"polar4\", \"r\": [-2.5, -0.34364584837778445, 1.6515652616334424, 3.1606041604877557, 1.3815467656056284, -2.5], \"theta\": [\"a\", \"population_density\", \"human_development_index\", \"health_expenditure\", \"employment\", \"b\"], \"mode\": \"lines\", \"line\": {\"shape\": \"spline\", \"color\": \"45B5AA55\"}}, {\"type\": \"scatterpolar\", \"subplot\": \"polar4\", \"r\": [-2.5, 3.963331107342713, 1.2980951775261653, 1.1894568048332081, -0.09242738777485297, -2.5], \"theta\": [\"b\", \"gdp_per_cap\", \"gdp_growth\", \"sustainable_economic_development_assessment(seda)\", \"overall_economic_freedom\", \"c\"], \"mode\": \"lines\", \"line\": {\"shape\": \"spline\", \"color\": \"ffa60055\"}}, {\"type\": \"scatterpolar\", \"subplot\": \"polar4\", \"r\": [-2.5, 0.29356520098114625, -1.2295522067778637, 1.234039179529955, 0.554026449259759, -2.5], \"theta\": [\"c\", \"political_stability&absence_of_violence\", \"control_of_corruption\", \"tax_burden\", \"government_spending\", \"d\"], \"mode\": \"lines\", \"line\": {\"shape\": \"spline\", \"color\": \"ff636155\"}}, {\"type\": \"scatterpolar\", \"subplot\": \"polar4\", \"r\": [-2.5, -0.6903768711635672, -1.349467263628313, -1.061533453611534, -0.007892386965895297, -2.5], \"theta\": [\"d\", \"property_rights\", \"government_integrity\", \"judicial_effectiveness\", \"financial_freedom\", \"e\"], \"mode\": \"lines\", \"line\": {\"shape\": \"spline\", \"color\": \"bc509055\"}}, {\"type\": \"scatterpolar\", \"subplot\": \"polar4\", \"r\": [-2.5, 0.9529546121327466, 0.3109203671287528, 1.76458163462444, 0.18418733354908182, -2.5], \"theta\": [\"e\", \"total_foreign_born\", \"per_foreign_born\", \"population_living_abroad_diaspora\", \"population_living_abroad\", \"f\"], \"mode\": \"lines\", \"line\": {\"shape\": \"spline\", \"color\": \"003f5c55\"}}, {\"type\": \"scatterpolar\", \"subplot\": \"polar4\", \"r\": [-2.5, 0.01962637002368884, null, null, 0.33647978733781664, -2.5], \"theta\": [\"a\", \"population_density\", \"human_development_index\", \"health_expenditure\", \"employment\", \"b\"], \"mode\": \"lines\", \"line\": {\"shape\": \"spline\", \"color\": \"45B5AA55\"}}, {\"type\": \"scatterpolar\", \"subplot\": \"polar4\", \"r\": [-2.5, -0.34125559136266953, 0.5329118054706264, null, -1.0041521042355055, -2.5], \"theta\": [\"b\", \"gdp_per_cap\", \"gdp_growth\", \"sustainable_economic_development_assessment(seda)\", \"overall_economic_freedom\", \"c\"], \"mode\": \"lines\", \"line\": {\"shape\": \"spline\", \"color\": \"ffa60055\"}}, {\"type\": \"scatterpolar\", \"subplot\": \"polar4\", \"r\": [-2.5, -1.9913365498890114, -1.1128427567044963, -0.7863067976779848, 0.9563109954661568, -2.5], \"theta\": [\"c\", \"political_stability&absence_of_violence\", \"control_of_corruption\", \"tax_burden\", \"government_spending\", \"d\"], \"mode\": \"lines\", \"line\": {\"shape\": \"spline\", \"color\": \"ff636155\"}}, {\"type\": \"scatterpolar\", \"subplot\": \"polar4\", \"r\": [-2.5, -1.6235437024571364, -0.9564568429987795, -0.8770956195887272, -1.0339026925322876, -2.5], \"theta\": [\"d\", \"property_rights\", \"government_integrity\", \"judicial_effectiveness\", \"financial_freedom\", \"e\"], \"mode\": \"lines\", \"line\": {\"shape\": \"spline\", \"color\": \"bc509055\"}}, {\"type\": \"scatterpolar\", \"subplot\": \"polar4\", \"r\": [-2.5, null, null, null, null, -2.5], \"theta\": [\"e\", \"total_foreign_born\", \"per_foreign_born\", \"population_living_abroad_diaspora\", \"population_living_abroad\", \"f\"], \"mode\": \"lines\", \"line\": {\"shape\": \"spline\", \"color\": \"003f5c55\"}}, {\"type\": \"scatterpolar\", \"subplot\": \"polar4\", \"r\": [-2.5, -0.48655157317483316, 0.9584155759345068, 0.1491358987143378, 0.3839833260130146, -2.5], \"theta\": [\"a\", \"population_density\", \"human_development_index\", \"health_expenditure\", \"employment\", \"b\"], \"mode\": \"lines\", \"line\": {\"shape\": \"spline\", \"color\": \"45B5AA55\"}}, {\"type\": \"scatterpolar\", \"subplot\": \"polar4\", \"r\": [-2.5, 0.11097178012108434, -0.11455115575621355, 0.5712571312350023, 1.491094122082724, -2.5], \"theta\": [\"b\", \"gdp_per_cap\", \"gdp_growth\", \"sustainable_economic_development_assessment(seda)\", \"overall_economic_freedom\", \"c\"], \"mode\": \"lines\", \"line\": {\"shape\": \"spline\", \"color\": \"ffa60055\"}}, {\"type\": \"scatterpolar\", \"subplot\": \"polar4\", \"r\": [-2.5, 0.5209724707834048, 1.036556117897763, 0.28800408563887064, 0.04026572539505897, -2.5], \"theta\": [\"c\", \"political_stability&absence_of_violence\", \"control_of_corruption\", \"tax_burden\", \"government_spending\", \"d\"], \"mode\": \"lines\", \"line\": {\"shape\": \"spline\", \"color\": \"ff636155\"}}, {\"type\": \"scatterpolar\", \"subplot\": \"polar4\", \"r\": [-2.5, 0.9542652677747343, 1.128207264276401, 0.8775558830125814, 1.018117918600497, -2.5], \"theta\": [\"d\", \"property_rights\", \"government_integrity\", \"judicial_effectiveness\", \"financial_freedom\", \"e\"], \"mode\": \"lines\", \"line\": {\"shape\": \"spline\", \"color\": \"bc509055\"}}, {\"type\": \"scatterpolar\", \"subplot\": \"polar4\", \"r\": [-2.5, 0.02896909576031065, 0.16844614480596887, 0.1841014497742501, 0.07391616408578117, -2.5], \"theta\": [\"e\", \"total_foreign_born\", \"per_foreign_born\", \"population_living_abroad_diaspora\", \"population_living_abroad\", \"f\"], \"mode\": \"lines\", \"line\": {\"shape\": \"spline\", \"color\": \"003f5c55\"}}, {\"type\": \"scatterpolar\", \"subplot\": \"polar4\", \"r\": [-2.5, -0.43508635354515646, 1.042202710992741, 0.49299530597264407, 0.8590138805043083, -2.5], \"theta\": [\"a\", \"population_density\", \"human_development_index\", \"health_expenditure\", \"employment\", \"b\"], \"mode\": \"lines\", \"line\": {\"shape\": \"spline\", \"color\": \"45B5AA55\"}}, {\"type\": \"scatterpolar\", \"subplot\": \"polar4\", \"r\": [-2.5, 0.6095454527374058, 1.5335361395173623, 0.627852990615148, -0.725836357818282, -2.5], \"theta\": [\"b\", \"gdp_per_cap\", \"gdp_growth\", \"sustainable_economic_development_assessment(seda)\", \"overall_economic_freedom\", \"c\"], \"mode\": \"lines\", \"line\": {\"shape\": \"spline\", \"color\": \"ffa60055\"}}, {\"type\": \"scatterpolar\", \"subplot\": \"polar4\", \"r\": [-2.5, -2.381177482407285, -1.3559874346956438, -0.09682389430565475, 0.27775899834408324, -2.5], \"theta\": [\"c\", \"political_stability&absence_of_violence\", \"control_of_corruption\", \"tax_burden\", \"government_spending\", \"d\"], \"mode\": \"lines\", \"line\": {\"shape\": \"spline\", \"color\": \"ff636155\"}}, {\"type\": \"scatterpolar\", \"subplot\": \"polar4\", \"r\": [-2.5, -1.3038953630077577, -0.8026702133466127, -1.0914423044095047, -1.5469078453154836, -2.5], \"theta\": [\"d\", \"property_rights\", \"government_integrity\", \"judicial_effectiveness\", \"financial_freedom\", \"e\"], \"mode\": \"lines\", \"line\": {\"shape\": \"spline\", \"color\": \"bc509055\"}}, {\"type\": \"scatterpolar\", \"subplot\": \"polar4\", \"r\": [-2.5, -0.21408835678033622, -0.4353733493694901, 0.7834972184808822, 0.1906197914134441, -2.5], \"theta\": [\"e\", \"total_foreign_born\", \"per_foreign_born\", \"population_living_abroad_diaspora\", \"population_living_abroad\", \"f\"], \"mode\": \"lines\", \"line\": {\"shape\": \"spline\", \"color\": \"003f5c55\"}}, {\"type\": \"scatterpolar\", \"subplot\": \"polar4\", \"r\": [-2.5, 0.25357348149791575, 1.3925860187075616, 3.9678256838049006, -0.34439661592726806, -2.5], \"theta\": [\"a\", \"population_density\", \"human_development_index\", \"health_expenditure\", \"employment\", \"b\"], \"mode\": \"lines\", \"line\": {\"shape\": \"spline\", \"color\": \"45B5AA55\"}}, {\"type\": \"scatterpolar\", \"subplot\": \"polar4\", \"r\": [-2.5, 0.24158408087764463, 0.0031693954062845626, 1.3157085444324217, -1.9926535657043436, -2.5], \"theta\": [\"b\", \"gdp_per_cap\", \"gdp_growth\", \"sustainable_economic_development_assessment(seda)\", \"overall_economic_freedom\", \"c\"], \"mode\": \"lines\", \"line\": {\"shape\": \"spline\", \"color\": \"ffa60055\"}}, {\"type\": \"scatterpolar\", \"subplot\": \"polar4\", \"r\": [-2.5, -0.4644590263142673, -1.268455434095931, -1.0909620269393956, -0.4686482724464962, -2.5], \"theta\": [\"c\", \"political_stability&absence_of_violence\", \"control_of_corruption\", \"tax_burden\", \"government_spending\", \"d\"], \"mode\": \"lines\", \"line\": {\"shape\": \"spline\", \"color\": \"ff636155\"}}, {\"type\": \"scatterpolar\", \"subplot\": \"polar4\", \"r\": [-2.5, -0.8759790312716147, -0.9564568429987795, -0.8770956195887272, -1.0339026925322876, -2.5], \"theta\": [\"d\", \"property_rights\", \"government_integrity\", \"judicial_effectiveness\", \"financial_freedom\", \"e\"], \"mode\": \"lines\", \"line\": {\"shape\": \"spline\", \"color\": \"bc509055\"}}, {\"type\": \"scatterpolar\", \"subplot\": \"polar4\", \"r\": [-2.5, 0.002574919172746978, 2.169870224745095, -0.6190532258229081, -0.3772767619950373, -2.5], \"theta\": [\"e\", \"total_foreign_born\", \"per_foreign_born\", \"population_living_abroad_diaspora\", \"population_living_abroad\", \"f\"], \"mode\": \"lines\", \"line\": {\"shape\": \"spline\", \"color\": \"003f5c55\"}}, {\"type\": \"scatterpolar\", \"subplot\": \"polar4\", \"r\": [-2.5, -0.29660826930416373, null, -0.29186764602053034, 0.003958640806945368, -2.5], \"theta\": [\"a\", \"population_density\", \"human_development_index\", \"health_expenditure\", \"employment\", \"b\"], \"mode\": \"lines\", \"line\": {\"shape\": \"spline\", \"color\": \"45B5AA55\"}}, {\"type\": \"scatterpolar\", \"subplot\": \"polar4\", \"r\": [-2.5, -0.17412808392764242, 0.3563309787268793, -0.020821172097277615, 0.5697724497836978, -2.5], \"theta\": [\"b\", \"gdp_per_cap\", \"gdp_growth\", \"sustainable_economic_development_assessment(seda)\", \"overall_economic_freedom\", \"c\"], \"mode\": \"lines\", \"line\": {\"shape\": \"spline\", \"color\": \"ffa60055\"}}, {\"type\": \"scatterpolar\", \"subplot\": \"polar4\", \"r\": [-2.5, 0.6617483989402151, 0.4821862880194762, 0.39222850861011654, 0.5879542709847583, -2.5], \"theta\": [\"c\", \"political_stability&absence_of_violence\", \"control_of_corruption\", \"tax_burden\", \"government_spending\", \"d\"], \"mode\": \"lines\", \"line\": {\"shape\": \"spline\", \"color\": \"ff636155\"}}, {\"type\": \"scatterpolar\", \"subplot\": \"polar4\", \"r\": [-2.5, 0.27887922533518716, 0.5928016471974215, 0.5984066722832644, -0.007892386965895297, -2.5], \"theta\": [\"d\", \"property_rights\", \"government_integrity\", \"judicial_effectiveness\", \"financial_freedom\", \"e\"], \"mode\": \"lines\", \"line\": {\"shape\": \"spline\", \"color\": \"bc509055\"}}, {\"type\": \"scatterpolar\", \"subplot\": \"polar4\", \"r\": [-2.5, -0.2242359910802864, -0.32003705566954344, 0.7019216499551871, 0.5572714671240767, -2.5], \"theta\": [\"e\", \"total_foreign_born\", \"per_foreign_born\", \"population_living_abroad_diaspora\", \"population_living_abroad\", \"f\"], \"mode\": \"lines\", \"line\": {\"shape\": \"spline\", \"color\": \"003f5c55\"}}, {\"type\": \"scatterpolar\", \"subplot\": \"polar4\", \"r\": [-2.5, 4.772591783009581, 1.1945435756580345, 1.7234877140090943, -0.7085871909299951, -2.5], \"theta\": [\"a\", \"population_density\", \"human_development_index\", \"health_expenditure\", \"employment\", \"b\"], \"mode\": \"lines\", \"line\": {\"shape\": \"spline\", \"color\": \"45B5AA55\"}}, {\"type\": \"scatterpolar\", \"subplot\": \"polar4\", \"r\": [-2.5, -0.3567043584068587, -0.2617017745424366, 0.6888023009906077, 0.1283058914113306, -2.5], \"theta\": [\"b\", \"gdp_per_cap\", \"gdp_growth\", \"sustainable_economic_development_assessment(seda)\", \"overall_economic_freedom\", \"c\"], \"mode\": \"lines\", \"line\": {\"shape\": \"spline\", \"color\": \"ffa60055\"}}, {\"type\": \"scatterpolar\", \"subplot\": \"polar4\", \"r\": [-2.5, 0.9216424400129051, 0.20986424750998695, -0.6740652525552305, -0.3474782729604116, -2.5], \"theta\": [\"c\", \"political_stability&absence_of_violence\", \"control_of_corruption\", \"tax_burden\", \"government_spending\", \"d\"], \"mode\": \"lines\", \"line\": {\"shape\": \"spline\", \"color\": \"ff636155\"}}, {\"type\": \"scatterpolar\", \"subplot\": \"polar4\", \"r\": [-2.5, 0.8511529128988837, -0.050824106251029504, 0.5336042414523408, 0.5051127658173008, -2.5], \"theta\": [\"d\", \"property_rights\", \"government_integrity\", \"judicial_effectiveness\", \"financial_freedom\", \"e\"], \"mode\": \"lines\", \"line\": {\"shape\": \"spline\", \"color\": \"bc509055\"}}, {\"type\": \"scatterpolar\", \"subplot\": \"polar4\", \"r\": [-2.5, -0.39499776480323295, -0.22505420843672472, -0.49613821592944385, 0.4598653010251663, -2.5], \"theta\": [\"e\", \"total_foreign_born\", \"per_foreign_born\", \"population_living_abroad_diaspora\", \"population_living_abroad\", \"f\"], \"mode\": \"lines\", \"line\": {\"shape\": \"spline\", \"color\": \"003f5c55\"}}, {\"type\": \"scatterpolar\", \"subplot\": \"polar4\", \"r\": [-2.5, -0.14485810640068933, -0.1612876228067782, -0.5555445905997697, 0.4631550850948969, -2.5], \"theta\": [\"a\", \"population_density\", \"human_development_index\", \"health_expenditure\", \"employment\", \"b\"], \"mode\": \"lines\", \"line\": {\"shape\": \"spline\", \"color\": \"45B5AA55\"}}, {\"type\": \"scatterpolar\", \"subplot\": \"polar4\", \"r\": [-2.5, -0.33423342695962277, -0.37942229062148486, -0.18625480102186964, 1.625453700422348, -2.5], \"theta\": [\"b\", \"gdp_per_cap\", \"gdp_growth\", \"sustainable_economic_development_assessment(seda)\", \"overall_economic_freedom\", \"c\"], \"mode\": \"lines\", \"line\": {\"shape\": \"spline\", \"color\": \"ffa60055\"}}, {\"type\": \"scatterpolar\", \"subplot\": \"polar4\", \"r\": [-2.5, 1.0515894605492502, 2.1550217294093748, -2.6463072735196955, -0.07121063715398958, -2.5], \"theta\": [\"c\", \"political_stability&absence_of_violence\", \"control_of_corruption\", \"tax_burden\", \"government_spending\", \"d\"], \"mode\": \"lines\", \"line\": {\"shape\": \"spline\", \"color\": \"ff636155\"}}, {\"type\": \"scatterpolar\", \"subplot\": \"polar4\", \"r\": [-2.5, 1.825564745144156, 2.4325461382550446, 1.884486400897467, 1.531123071383693, -2.5], \"theta\": [\"d\", \"property_rights\", \"government_integrity\", \"judicial_effectiveness\", \"financial_freedom\", \"e\"], \"mode\": \"lines\", \"line\": {\"shape\": \"spline\", \"color\": \"bc509055\"}}, {\"type\": \"scatterpolar\", \"subplot\": \"polar4\", \"r\": [-2.5, -0.20095342418100373, -0.007950585348249979, 1.7837096188729906, 0.3762429982457939, -2.5], \"theta\": [\"e\", \"total_foreign_born\", \"per_foreign_born\", \"population_living_abroad_diaspora\", \"population_living_abroad\", \"f\"], \"mode\": \"lines\", \"line\": {\"shape\": \"spline\", \"color\": \"003f5c55\"}}, {\"type\": \"scatterpolar\", \"subplot\": \"polar4\", \"r\": [-2.5, -0.43085353458801967, 0.7070537167495677, -0.21476912421373523, null, -2.5], \"theta\": [\"a\", \"population_density\", \"human_development_index\", \"health_expenditure\", \"employment\", \"b\"], \"mode\": \"lines\", \"line\": {\"shape\": \"spline\", \"color\": \"45B5AA55\"}}, {\"type\": \"scatterpolar\", \"subplot\": \"polar4\", \"r\": [-2.5, -0.453610221811418, -1.9980795533547857, null, 0.464204471159992, -2.5], \"theta\": [\"b\", \"gdp_per_cap\", \"gdp_growth\", \"sustainable_economic_development_assessment(seda)\", \"overall_economic_freedom\", \"c\"], \"mode\": \"lines\", \"line\": {\"shape\": \"spline\", \"color\": \"ffa60055\"}}, {\"type\": \"scatterpolar\", \"subplot\": \"polar4\", \"r\": [-2.5, 1.2356810191879215, 0.6572504341444231, -0.12087526076017989, -1.0890386328371, -2.5], \"theta\": [\"c\", \"political_stability&absence_of_violence\", \"control_of_corruption\", \"tax_burden\", \"government_spending\", \"d\"], \"mode\": \"lines\", \"line\": {\"shape\": \"spline\", \"color\": \"ff636155\"}}, {\"type\": \"scatterpolar\", \"subplot\": \"polar4\", \"r\": [-2.5, -0.04076911411419169, 0.48458151082795003, 1.166674362056631, -1.0339026925322876, -2.5], \"theta\": [\"d\", \"property_rights\", \"government_integrity\", \"judicial_effectiveness\", \"financial_freedom\", \"e\"], \"mode\": \"lines\", \"line\": {\"shape\": \"spline\", \"color\": \"bc509055\"}}, {\"type\": \"scatterpolar\", \"subplot\": \"polar4\", \"r\": [-2.5, -0.31639662984400685, -0.2114852441253061, -0.39462169479005027, 0.3937026519285854, -2.5], \"theta\": [\"e\", \"total_foreign_born\", \"per_foreign_born\", \"population_living_abroad_diaspora\", \"population_living_abroad\", \"f\"], \"mode\": \"lines\", \"line\": {\"shape\": \"spline\", \"color\": \"003f5c55\"}}, {\"type\": \"scatterpolar\", \"subplot\": \"polar4\", \"r\": [-2.5, -0.22261071985266456, 1.3316501268516805, 1.1552716082930143, 0.003958640806945368, -2.5], \"theta\": [\"a\", \"population_density\", \"human_development_index\", \"health_expenditure\", \"employment\", \"b\"], \"mode\": \"lines\", \"line\": {\"shape\": \"spline\", \"color\": \"45B5AA55\"}}, {\"type\": \"scatterpolar\", \"subplot\": \"polar4\", \"r\": [-2.5, 0.33006328806619883, -0.6148633490921689, 0.8542357638416896, 1.3855261434590183, -2.5], \"theta\": [\"b\", \"gdp_per_cap\", \"gdp_growth\", \"sustainable_economic_development_assessment(seda)\", \"overall_economic_freedom\", \"c\"], \"mode\": \"lines\", \"line\": {\"shape\": \"spline\", \"color\": \"ffa60055\"}}, {\"type\": \"scatterpolar\", \"subplot\": \"polar4\", \"r\": [-2.5, 1.268167871140079, 2.1841990629426125, -0.6339790301304763, -1.307144631912052, -2.5], \"theta\": [\"c\", \"political_stability&absence_of_violence\", \"control_of_corruption\", \"tax_burden\", \"government_spending\", \"d\"], \"mode\": \"lines\", \"line\": {\"shape\": \"spline\", \"color\": \"ff636155\"}}, {\"type\": \"scatterpolar\", \"subplot\": \"polar4\", \"r\": [-2.5, 2.042100533046475, 2.7572071991964413, 1.8396230771617033, 1.531123071383693, -2.5], \"theta\": [\"d\", \"property_rights\", \"government_integrity\", \"judicial_effectiveness\", \"financial_freedom\", \"e\"], \"mode\": \"lines\", \"line\": {\"shape\": \"spline\", \"color\": \"bc509055\"}}, {\"type\": \"scatterpolar\", \"subplot\": \"polar4\", \"r\": [-2.5, -0.0229739399703052, -0.0011660708415778987, -0.38842571446424473, -0.6860360978372452, -2.5], \"theta\": [\"e\", \"total_foreign_born\", \"per_foreign_born\", \"population_living_abroad_diaspora\", \"population_living_abroad\", \"f\"], \"mode\": \"lines\", \"line\": {\"shape\": \"spline\", \"color\": \"003f5c55\"}}, {\"type\": \"scatterpolar\", \"subplot\": \"polar4\", \"mode\": \"lines\", \"marker\": {\"color\": \"rgba(180,120,150,0)\"}, \"r\": [0, 0, 0, 0, 0], \"theta\": [\"f\", \"g\", \"h\", \"i\", \"j\"], \"line\": {\"color\": [\"003f5c55\"], \"smoothing\": 1.3}, \"hoverlabel\": {\"namelength\": 20}}, {\"type\": \"scatterpolar\", \"subplot\": \"polar5\", \"r\": [-2.5, -0.41872290435119547, 0.15101058224427813, -0.6974058707242727, -1.4844706715454759, -2.5], \"theta\": [\"a\", \"population_density\", \"human_development_index\", \"health_expenditure\", \"employment\", \"b\"], \"mode\": \"lines\", \"line\": {\"shape\": \"spline\", \"color\": \"45B5AA55\"}}, {\"type\": \"scatterpolar\", \"subplot\": \"polar5\", \"r\": [-2.5, -0.4831033042679851, -0.8208742697722283, -0.1731942819624169, 0.9824481406409432, -2.5], \"theta\": [\"b\", \"gdp_per_cap\", \"gdp_growth\", \"sustainable_economic_development_assessment(seda)\", \"overall_economic_freedom\", \"c\"], \"mode\": \"lines\", \"line\": {\"shape\": \"spline\", \"color\": \"ffa60055\"}}, {\"type\": \"scatterpolar\", \"subplot\": \"polar5\", \"r\": [-2.5, 1.2248521115674562, 0.8031372757212367, 0.13567631809136216, 0.4861711755912531, -2.5], \"theta\": [\"c\", \"political_stability&absence_of_violence\", \"control_of_corruption\", \"tax_burden\", \"government_spending\", \"d\"], \"mode\": \"lines\", \"line\": {\"shape\": \"spline\", \"color\": \"ff636155\"}}, {\"type\": \"scatterpolar\", \"subplot\": \"polar5\", \"r\": [-2.5, 0.4283922185736542, 0.8662001723382715, 0.4438777841360441, 1.018117918600497, -2.5], \"theta\": [\"d\", \"property_rights\", \"government_integrity\", \"judicial_effectiveness\", \"financial_freedom\", \"e\"], \"mode\": \"lines\", \"line\": {\"shape\": \"spline\", \"color\": \"bc509055\"}}, {\"type\": \"scatterpolar\", \"subplot\": \"polar5\", \"r\": [-2.5, -0.44795632895700627, -0.5982010828613276, -0.2013152383085681, 0.4433245949331882, -2.5], \"theta\": [\"e\", \"total_foreign_born\", \"per_foreign_born\", \"population_living_abroad_diaspora\", \"population_living_abroad\", \"f\"], \"mode\": \"lines\", \"line\": {\"shape\": \"spline\", \"color\": \"003f5c55\"}}, {\"type\": \"scatterpolar\", \"subplot\": \"polar5\", \"r\": [-2.5, -0.07076007936983879, -0.8315860653033608, -0.835412224758436, 0.3048115669311323, -2.5], \"theta\": [\"a\", \"population_density\", \"human_development_index\", \"health_expenditure\", \"employment\", \"b\"], \"mode\": \"lines\", \"line\": {\"shape\": \"spline\", \"color\": \"45B5AA55\"}}, {\"type\": \"scatterpolar\", \"subplot\": \"polar5\", \"r\": [-2.5, -0.5968623702342307, -0.37942229062148486, null, 1.7310216790460538, -2.5], \"theta\": [\"b\", \"gdp_per_cap\", \"gdp_growth\", \"sustainable_economic_development_assessment(seda)\", \"overall_economic_freedom\", \"c\"], \"mode\": \"lines\", \"line\": {\"shape\": \"spline\", \"color\": \"ffa60055\"}}, {\"type\": \"scatterpolar\", \"subplot\": \"polar5\", \"r\": [-2.5, 1.3114835016219402, 1.8924253797889852, 0.18377966266762477, -2.819346262476537, -2.5], \"theta\": [\"c\", \"political_stability&absence_of_violence\", \"control_of_corruption\", \"tax_burden\", \"government_spending\", \"d\"], \"mode\": \"lines\", \"line\": {\"shape\": \"spline\", \"color\": \"ff636155\"}}, {\"type\": \"scatterpolar\", \"subplot\": \"polar5\", \"r\": [-2.5, 1.964766266889587, 2.102189795267609, 1.5604740565876176, 1.531123071383693, -2.5], \"theta\": [\"d\", \"property_rights\", \"government_integrity\", \"judicial_effectiveness\", \"financial_freedom\", \"e\"], \"mode\": \"lines\", \"line\": {\"shape\": \"spline\", \"color\": \"bc509055\"}}, {\"type\": \"scatterpolar\", \"subplot\": \"polar5\", \"r\": [-2.5, -0.46822482279622085, -0.5914166007056183, -0.7826369781828947, -0.8725782084425755, -2.5], \"theta\": [\"e\", \"total_foreign_born\", \"per_foreign_born\", \"population_living_abroad_diaspora\", \"population_living_abroad\", \"f\"], \"mode\": \"lines\", \"line\": {\"shape\": \"spline\", \"color\": \"003f5c55\"}}, {\"type\": \"scatterpolar\", \"subplot\": \"polar5\", \"r\": [-2.5, -0.044605621643263725, -0.7173307573120679, -0.599490748029643, 0.7956762316257682, -2.5], \"theta\": [\"a\", \"population_density\", \"human_development_index\", \"health_expenditure\", \"employment\", \"b\"], \"mode\": \"lines\", \"line\": {\"shape\": \"spline\", \"color\": \"45B5AA55\"}}, {\"type\": \"scatterpolar\", \"subplot\": \"polar5\", \"r\": [-2.5, -0.5954579372280553, 0.5034815624296525, null, 1.3951230992973922, -2.5], \"theta\": [\"b\", \"gdp_per_cap\", \"gdp_growth\", \"sustainable_economic_development_assessment(seda)\", \"overall_economic_freedom\", \"c\"], \"mode\": \"lines\", \"line\": {\"shape\": \"spline\", \"color\": \"ffa60055\"}}, {\"type\": \"scatterpolar\", \"subplot\": \"polar5\", \"r\": [-2.5, 1.214023203946991, 0.5794441534189143, 0.6808491877349044, -2.460683059375458, -2.5], \"theta\": [\"c\", \"political_stability&absence_of_violence\", \"control_of_corruption\", \"tax_burden\", \"government_spending\", \"d\"], \"mode\": \"lines\", \"line\": {\"shape\": \"spline\", \"color\": \"ff636155\"}}, {\"type\": \"scatterpolar\", \"subplot\": \"polar5\", \"r\": [-2.5, 1.21720169403967, 0.5529309791549168, 0.6033915916734779, 1.531123071383693, -2.5], \"theta\": [\"d\", \"property_rights\", \"government_integrity\", \"judicial_effectiveness\", \"financial_freedom\", \"e\"], \"mode\": \"lines\", \"line\": {\"shape\": \"spline\", \"color\": \"bc509055\"}}, {\"type\": \"scatterpolar\", \"subplot\": \"polar5\", \"r\": [-2.5, -0.46898407850995627, -0.5914166007056183, -0.738849921344341, 0.1740791729571317, -2.5], \"theta\": [\"e\", \"total_foreign_born\", \"per_foreign_born\", \"population_living_abroad_diaspora\", \"population_living_abroad\", \"f\"], \"mode\": \"lines\", \"line\": {\"shape\": \"spline\", \"color\": \"003f5c55\"}}, {\"type\": \"scatterpolar\", \"subplot\": \"polar5\", \"r\": [-2.5, -0.5346227980733632, 1.4916074672374433, 1.7689758418751036, 0.5739950645834635, -2.5], \"theta\": [\"a\", \"population_density\", \"human_development_index\", \"health_expenditure\", \"employment\", \"b\"], \"mode\": \"lines\", \"line\": {\"shape\": \"spline\", \"color\": \"45B5AA55\"}}, {\"type\": \"scatterpolar\", \"subplot\": \"polar5\", \"r\": [-2.5, 1.8861749626412556, -0.7325838739420796, 1.1154468093247856, -1.0713318934053173, -2.5], \"theta\": [\"b\", \"gdp_per_cap\", \"gdp_growth\", \"sustainable_economic_development_assessment(seda)\", \"overall_economic_freedom\", \"c\"], \"mode\": \"lines\", \"line\": {\"shape\": \"spline\", \"color\": \"ffa60055\"}}, {\"type\": \"scatterpolar\", \"subplot\": \"polar5\", \"r\": [-2.5, 0.0011844128425425639, -0.558472955811314, 0.4002456307616249, -0.42018027265206237, -2.5], \"theta\": [\"c\", \"political_stability&absence_of_violence\", \"control_of_corruption\", \"tax_burden\", \"government_spending\", \"d\"], \"mode\": \"lines\", \"line\": {\"shape\": \"spline\", \"color\": \"ff636155\"}}, {\"type\": \"scatterpolar\", \"subplot\": \"polar5\", \"r\": [-2.5, -0.6542875076227775, -0.6374918245752341, -1.1213511552074755, -0.5208975397490914, -2.5], \"theta\": [\"d\", \"property_rights\", \"government_integrity\", \"judicial_effectiveness\", \"financial_freedom\", \"e\"], \"mode\": \"lines\", \"line\": {\"shape\": \"spline\", \"color\": \"bc509055\"}}, {\"type\": \"scatterpolar\", \"subplot\": \"polar5\", \"r\": [-2.5, 1.5142224454935056, 0.9350933724732653, 1.5332137413618026, 0.10791643622488503, -2.5], \"theta\": [\"e\", \"total_foreign_born\", \"per_foreign_born\", \"population_living_abroad_diaspora\", \"population_living_abroad\", \"f\"], \"mode\": \"lines\", \"line\": {\"shape\": \"spline\", \"color\": \"003f5c55\"}}, {\"type\": \"scatterpolar\", \"subplot\": \"polar5\", \"r\": [-2.5, -0.34534759396463854, -0.06226617427689652, -0.693550944633933, -2.5770411884884856, -2.5], \"theta\": [\"a\", \"population_density\", \"human_development_index\", \"health_expenditure\", \"employment\", \"b\"], \"mode\": \"lines\", \"line\": {\"shape\": \"spline\", \"color\": \"45B5AA55\"}}, {\"type\": \"scatterpolar\", \"subplot\": \"polar5\", \"r\": [-2.5, -0.584222474015759, -0.23227163675181203, null, -0.3611461783537025, -2.5], \"theta\": [\"b\", \"gdp_per_cap\", \"gdp_growth\", \"sustainable_economic_development_assessment(seda)\", \"overall_economic_freedom\", \"c\"], \"mode\": \"lines\", \"line\": {\"shape\": \"spline\", \"color\": \"ffa60055\"}}, {\"type\": \"scatterpolar\", \"subplot\": \"polar5\", \"r\": [-2.5, -0.21539395740742331, -0.26669933062789536, 0.03145250678732858, -0.14875954775953146, -2.5], \"theta\": [\"c\", \"political_stability&absence_of_violence\", \"control_of_corruption\", \"tax_burden\", \"government_spending\", \"d\"], \"mode\": \"lines\", \"line\": {\"shape\": \"spline\", \"color\": \"ff636155\"}}, {\"type\": \"scatterpolar\", \"subplot\": \"polar5\", \"r\": [-2.5, 0.3046573140541498, -0.8254534056685452, -0.5231745195585226, -0.5208975397490914, -2.5], \"theta\": [\"d\", \"property_rights\", \"government_integrity\", \"judicial_effectiveness\", \"financial_freedom\", \"e\"], \"mode\": \"lines\", \"line\": {\"shape\": \"spline\", \"color\": \"bc509055\"}}, {\"type\": \"scatterpolar\", \"subplot\": \"polar5\", \"r\": [-2.5, -0.46482825315492576, -0.5642786397318182, -0.467838206446957, 2.1001492425621353, -2.5], \"theta\": [\"e\", \"total_foreign_born\", \"per_foreign_born\", \"population_living_abroad_diaspora\", \"population_living_abroad\", \"f\"], \"mode\": \"lines\", \"line\": {\"shape\": \"spline\", \"color\": \"003f5c55\"}}, {\"type\": \"scatterpolar\", \"subplot\": \"polar5\", \"r\": [-2.5, -0.521186199007307, -1.3343097836732387, -0.8192215351790091, -0.1543848773568192, -2.5], \"theta\": [\"a\", \"population_density\", \"human_development_index\", \"health_expenditure\", \"employment\", \"b\"], \"mode\": \"lines\", \"line\": {\"shape\": \"spline\", \"color\": \"45B5AA55\"}}, {\"type\": \"scatterpolar\", \"subplot\": \"polar5\", \"r\": [-2.5, -0.5828180408003067, -0.4088524284121094, null, 0.4066220039289522, -2.5], \"theta\": [\"b\", \"gdp_per_cap\", \"gdp_growth\", \"sustainable_economic_development_assessment(seda)\", \"overall_economic_freedom\", \"c\"], \"mode\": \"lines\", \"line\": {\"shape\": \"spline\", \"color\": \"ffa60055\"}}, {\"type\": \"scatterpolar\", \"subplot\": \"polar5\", \"r\": [-2.5, 0.33688086373569776, 1.2505234623556727, -2.1732900324077593, -1.0938855437509911, -2.5], \"theta\": [\"c\", \"political_stability&absence_of_violence\", \"control_of_corruption\", \"tax_burden\", \"government_spending\", \"d\"], \"mode\": \"lines\", \"line\": {\"shape\": \"spline\", \"color\": \"ff636155\"}}, {\"type\": \"scatterpolar\", \"subplot\": \"polar5\", \"r\": [-2.5, 1.7843196458568484, 1.350343470894365, 1.3411425474542422, 1.018117918600497, -2.5], \"theta\": [\"d\", \"property_rights\", \"government_integrity\", \"judicial_effectiveness\", \"financial_freedom\", \"e\"], \"mode\": \"lines\", \"line\": {\"shape\": \"spline\", \"color\": \"bc509055\"}}, {\"type\": \"scatterpolar\", \"subplot\": \"polar5\", \"r\": [-2.5, -0.46931111308690526, -0.6728304593637963, -0.7852036354500045, -1.2107431770599442, -2.5], \"theta\": [\"e\", \"total_foreign_born\", \"per_foreign_born\", \"population_living_abroad_diaspora\", \"population_living_abroad\", \"f\"], \"mode\": \"lines\", \"line\": {\"shape\": \"spline\", \"color\": \"003f5c55\"}}, {\"type\": \"scatterpolar\", \"subplot\": \"polar5\", \"r\": [-2.5, -0.04737550904125829, 0.03675527425298516, -0.7028027672507484, -0.40773426480580816, -2.5], \"theta\": [\"a\", \"population_density\", \"human_development_index\", \"health_expenditure\", \"employment\", \"b\"], \"mode\": \"lines\", \"line\": {\"shape\": \"spline\", \"color\": \"45B5AA55\"}}, {\"type\": \"scatterpolar\", \"subplot\": \"polar5\", \"r\": [-2.5, -0.5912446384188058, 0.09145977369470834, null, 1.587065144868056, -2.5], \"theta\": [\"b\", \"gdp_per_cap\", \"gdp_growth\", \"sustainable_economic_development_assessment(seda)\", \"overall_economic_freedom\", \"c\"], \"mode\": \"lines\", \"line\": {\"shape\": \"spline\", \"color\": \"ffa60055\"}}, {\"type\": \"scatterpolar\", \"subplot\": \"polar5\", \"r\": [-2.5, -0.29119637529606107, 0.7447825506845529, 1.0095560892844466, 0.5104051754884701, -2.5], \"theta\": [\"c\", \"political_stability&absence_of_violence\", \"control_of_corruption\", \"tax_burden\", \"government_spending\", \"d\"], \"mode\": \"lines\", \"line\": {\"shape\": \"spline\", \"color\": \"ff636155\"}}, {\"type\": \"scatterpolar\", \"subplot\": \"polar5\", \"r\": [-2.5, 0.6913286448385897, 1.1623819984398844, 0.9174340972029006, 0.5051127658173008, -2.5], \"theta\": [\"d\", \"property_rights\", \"government_integrity\", \"judicial_effectiveness\", \"financial_freedom\", \"e\"], \"mode\": \"lines\", \"line\": {\"shape\": \"spline\", \"color\": \"bc509055\"}}, {\"type\": \"scatterpolar\", \"subplot\": \"polar5\", \"r\": [-2.5, -0.4632944418642058, -0.44215783152519944, -0.6322175064214097, 1.9843642999182887, -2.5], \"theta\": [\"e\", \"total_foreign_born\", \"per_foreign_born\", \"population_living_abroad_diaspora\", \"population_living_abroad\", \"f\"], \"mode\": \"lines\", \"line\": {\"shape\": \"spline\", \"color\": \"003f5c55\"}}, {\"type\": \"scatterpolar\", \"subplot\": \"polar5\", \"r\": [-2.5, -0.51815508541315, -0.9001393409001838, -0.8708775447895618, -2.355360021446181, -2.5], \"theta\": [\"a\", \"population_density\", \"human_development_index\", \"health_expenditure\", \"employment\", \"b\"], \"mode\": \"lines\", \"line\": {\"shape\": \"spline\", \"color\": \"45B5AA55\"}}, {\"type\": \"scatterpolar\", \"subplot\": \"polar5\", \"r\": [-2.5, -0.5898402060404607, -0.791444136367035, -5.114436559017648, -0.22678696611447682, -2.5], \"theta\": [\"b\", \"gdp_per_cap\", \"gdp_growth\", \"sustainable_economic_development_assessment(seda)\", \"overall_economic_freedom\", \"c\"], \"mode\": \"lines\", \"line\": {\"shape\": \"spline\", \"color\": \"ffa60055\"}}, {\"type\": \"scatterpolar\", \"subplot\": \"polar5\", \"r\": [-2.5, -0.031302334223371094, -0.11108672569922136, -1.1230308213790352, 0.9853917213865185, -2.5], \"theta\": [\"c\", \"political_stability&absence_of_violence\", \"control_of_corruption\", \"tax_burden\", \"government_spending\", \"d\"], \"mode\": \"lines\", \"line\": {\"shape\": \"spline\", \"color\": \"ff636155\"}}, {\"type\": \"scatterpolar\", \"subplot\": \"polar5\", \"r\": [-2.5, 0.14998878174037383, -0.19891491066300554, 0.658224373879206, -0.5208975397490914, -2.5], \"theta\": [\"d\", \"property_rights\", \"government_integrity\", \"judicial_effectiveness\", \"financial_freedom\", \"e\"], \"mode\": \"lines\", \"line\": {\"shape\": \"spline\", \"color\": \"bc509055\"}}, {\"type\": \"scatterpolar\", \"subplot\": \"polar5\", \"r\": [-2.5, -0.46815979837741223, -0.6796149496072463, -0.7714122078269602, -0.9580383625857418, -2.5], \"theta\": [\"e\", \"total_foreign_born\", \"per_foreign_born\", \"population_living_abroad_diaspora\", \"population_living_abroad\", \"f\"], \"mode\": \"lines\", \"line\": {\"shape\": \"spline\", \"color\": \"003f5c55\"}}, {\"type\": \"scatterpolar\", \"subplot\": \"polar5\", \"mode\": \"lines\", \"marker\": {\"color\": \"rgba(180,120,150,0)\"}, \"r\": [0, 0, 0, 0, 0], \"theta\": [\"f\", \"g\", \"h\", \"i\", \"j\"], \"line\": {\"color\": [\"003f5c55\"], \"smoothing\": 1.3}, \"hoverlabel\": {\"namelength\": 20}}], {\"showlegend\": false, \"paper_bgcolor\": \"rgb(224,225,227)\", \"polar\": {\"domain\": {\"x\": [0.0, 0.475], \"y\": [0.6833333333333333, 1.0]}, \"bgcolor\": \"rgb(224,225,227)\", \"sector\": [119, 420], \"angularaxis\": {\"showline\": false, \"visible\": false, \"showticklabels\": false, \"tickfont\": {\"size\": 8}, \"ticks\": \"outside\", \"nticks\": 6, \"direction\": \"clockwise\", \"rotation\": 60, \"gridcolor\": \"rgba(255,255,255,0.5)\", \"gridwidth\": 1}, \"radialaxis\": {\"angle\": 60, \"showline\": false, \"showticklabels\": false, \"visible\": true, \"nticks\": 4, \"range\": [-5, 5], \"gridwidth\": 4, \"gridcolor\": \"white\"}}, \"polar2\": {\"domain\": {\"x\": [0.475, 0.95], \"y\": [0.6833333333333333, 1.0]}, \"bgcolor\": \"rgb(224,225,227)\", \"sector\": [119, 420], \"angularaxis\": {\"showline\": false, \"visible\": false, \"showticklabels\": false, \"tickfont\": {\"size\": 8}, \"ticks\": \"outside\", \"nticks\": 6, \"direction\": \"clockwise\", \"rotation\": 60, \"gridcolor\": \"rgba(255,255,255,0.5)\", \"gridwidth\": 1}, \"radialaxis\": {\"angle\": 60, \"showline\": false, \"showticklabels\": false, \"visible\": true, \"nticks\": 4, \"range\": [-5, 5], \"gridwidth\": 4, \"gridcolor\": \"white\"}}, \"polar3\": {\"domain\": {\"x\": [0.0, 0.475], \"y\": [0.3666666666666667, 0.6833333333333333]}, \"bgcolor\": \"rgb(224,225,227)\", \"sector\": [119, 420], \"angularaxis\": {\"showline\": false, \"visible\": false, \"showticklabels\": false, \"tickfont\": {\"size\": 8}, \"ticks\": \"outside\", \"nticks\": 6, \"direction\": \"clockwise\", \"rotation\": 60, \"gridcolor\": \"rgba(255,255,255,0.5)\", \"gridwidth\": 1}, \"radialaxis\": {\"angle\": 60, \"showline\": false, \"showticklabels\": false, \"visible\": true, \"nticks\": 4, \"range\": [-5, 5], \"gridwidth\": 4, \"gridcolor\": \"white\"}}, \"polar4\": {\"domain\": {\"x\": [0.475, 0.95], \"y\": [0.3666666666666667, 0.6833333333333333]}, \"bgcolor\": \"rgb(224,225,227)\", \"sector\": [119, 420], \"angularaxis\": {\"showline\": false, \"visible\": false, \"showticklabels\": false, \"tickfont\": {\"size\": 8}, \"ticks\": \"outside\", \"nticks\": 6, \"direction\": \"clockwise\", \"rotation\": 60, \"gridcolor\": \"rgba(255,255,255,0.5)\", \"gridwidth\": 1}, \"radialaxis\": {\"angle\": 60, \"showline\": false, \"showticklabels\": false, \"visible\": true, \"nticks\": 4, \"range\": [-5, 5], \"gridwidth\": 4, \"gridcolor\": \"white\"}}, \"polar5\": {\"domain\": {\"x\": [0.0, 0.475], \"y\": [0.050000000000000044, 0.3666666666666667]}, \"bgcolor\": \"rgb(224,225,227)\", \"sector\": [119, 420], \"angularaxis\": {\"showline\": false, \"visible\": false, \"showticklabels\": false, \"tickfont\": {\"size\": 8}, \"ticks\": \"outside\", \"nticks\": 6, \"direction\": \"clockwise\", \"rotation\": 60, \"gridcolor\": \"rgba(255,255,255,0.5)\", \"gridwidth\": 1}, \"radialaxis\": {\"angle\": 60, \"showline\": false, \"showticklabels\": false, \"visible\": true, \"nticks\": 4, \"range\": [-5, 5], \"gridwidth\": 4, \"gridcolor\": \"white\"}}, \"width\": 1200, \"height\": 1500}, {\"showLink\": true, \"linkText\": \"Export to plot.ly\"})});</script>"
      ]
     },
     "metadata": {},
     "output_type": "display_data"
    }
   ],
   "source": [
    "from plotly import tools\n",
    "from random import randint\n",
    "\n",
    "total= df_norm['continent'].nunique()\n",
    "\n",
    "\n",
    "traces = []\n",
    "subplot_titles = []\n",
    "\n",
    "#format\n",
    "theta = list(df_norm.columns[1:-1])\n",
    "# theta.append(df_norm.columns[1])\n",
    "\n",
    "# print(theta)\n",
    "\n",
    "# colors=['D94F70','45B5AA','F0C05A','5A5B9F','9B1B30']\n",
    "\n",
    "# Plot one subplot \n",
    "def draw_one_nation(data, subplot):\n",
    "    \n",
    "#     format_data=list(data[1:-1])\n",
    "#     format_data.append(format_data[0])\n",
    "\n",
    "    result_list = []\n",
    "    \n",
    "    for index,k in enumerate(directions.keys()):\n",
    "        \n",
    "#         r = data[directions[k]].iloc[i].values\n",
    "        r = data[directions[k]]\n",
    "        theta = directions[k].copy()\n",
    "        \n",
    "        r = list(r)\n",
    "        prevkey = extra_theta[(index)%len(extra_theta)]\n",
    "        nextkey=extra_theta[(index+1)%len(extra_theta)]\n",
    "        r = [range_min+offset] + r + [range_min+offset] \n",
    "        theta = [prevkey] + theta + [nextkey]\n",
    "        \n",
    "        result_list.append(go.Scatterpolar(\n",
    "#             name = data[0], # country name\n",
    "            subplot = subplot,\n",
    "            r = r,\n",
    "            theta = theta,\n",
    "            mode = \"lines\",\n",
    "#             fill = \"toself\",\n",
    "#             fillcolor = \"rgba(180,120,150,0.2)\",\n",
    "            line = dict(\n",
    "                shape = \"spline\",\n",
    "#                 color = \"rgba(180,120,150,0.4)\",\n",
    "                color=colors[index],\n",
    "            ) \n",
    "        )\n",
    "        )\n",
    "        \n",
    "  \n",
    "        \n",
    "    return result_list\n",
    "\n",
    "    \n",
    "\n",
    "# Plot for group of continents\n",
    "continents = df_norm.groupby('continent')\n",
    "data = []\n",
    "    \n",
    "# ga_index = continents.groups['America']\n",
    "# ga = continents.get_group('America')\n",
    "\n",
    "i = 0\n",
    "\n",
    "for continent, nations in continents:\n",
    "\n",
    "    subplot = \"polar\"\n",
    "    if i != 0:\n",
    "        subplot += str(i+1)\n",
    "    i+=1\n",
    "    \n",
    "    for i_nation in range(len(nations)):\n",
    "        nation = nations.iloc[i_nation]\n",
    "        data+=(draw_one_nation(nation, subplot))\n",
    "    \n",
    "    \n",
    "    #Add a blank angle\n",
    "    data.append(go.Scatterpolar(\n",
    "    #         name = df_norm['indicator'].iloc[i], #Nation as the trace name\n",
    "            subplot = subplot,\n",
    "            mode = \"lines\",\n",
    "            marker = dict(\n",
    "                color = \"rgba(180,120,150,0)\",\n",
    "\n",
    "            ),\n",
    "            r=[0,0,0,0,0],\n",
    "            theta=['f','g','h','i','j'],\n",
    "            line = dict(\n",
    "    #             shape = \"spline\",\n",
    "                color=[colors[index]],\n",
    "                smoothing = 1.3\n",
    "            ),\n",
    "            hoverlabel=dict(\n",
    "                namelength=20\n",
    "            )\n",
    "        )\n",
    "    )\n",
    "    \n",
    "\n",
    "\n",
    "    \n",
    "# Subplot format\n",
    "total = 5\n",
    "cols = 2\n",
    "rows = total//cols+1\n",
    "\n",
    "\n",
    "width = 1/cols*0.95\n",
    "height = 1/rows*0.95\n",
    "\n",
    "w_offset = 1/cols*0\n",
    "h_offset = 1/rows*0\n",
    "\n",
    "polars = dict()\n",
    "for i, continent in enumerate(continents):\n",
    "    subplot = \"polar\"\n",
    "\n",
    "    if i!=0:\n",
    "        subplot += str(i+1)\n",
    "        \n",
    "    col = i % cols\n",
    "    row = i // cols\n",
    "\n",
    "    x = [(width+w_offset)*(col), width*(col+1) + w_offset*col]\n",
    "    y = [1-height*(row+1)-h_offset*row, 1-(height+h_offset)*(row)]\n",
    "        \n",
    "    print(continent[0], col, row)\n",
    "\n",
    "    \n",
    "    polars[subplot] = dict(\n",
    "        \n",
    "        domain = dict(\n",
    "            x = x,\n",
    "            y = y\n",
    "        ),\n",
    "#         angularaxis=dict(\n",
    "#             tickfont = dict(\n",
    "#                 size = 10 \n",
    "#             ),\n",
    "#             ticks = \"outside\",\n",
    "#             rotation = 90,\n",
    "#             direction = \"clockwise\"\n",
    "#         ),\n",
    "#         radialaxis = dict(\n",
    "#             visible = True,\n",
    "#             tickfont = dict(\n",
    "#                 size = 6 \n",
    "#             ),\n",
    "#             nticks = 6,\n",
    "#             range = [-3, 3]\n",
    "#         )\n",
    "        bgcolor=bgcolor,\n",
    "        sector=[119,420],\n",
    "        angularaxis=dict(\n",
    "            showline=False, # the grid's outline\n",
    "            visible=False,\n",
    "            showticklabels=False,\n",
    "            tickfont = dict(\n",
    "                size = 8\n",
    "            ),\n",
    "            ticks = \"outside\",\n",
    "#             nticks = 30,\n",
    "            nticks=6,\n",
    "            direction = \"clockwise\",\n",
    "            rotation = 60,\n",
    "#             gridcolor = \"rgb(133,134,136,0.4)\",\n",
    "            gridcolor=\"rgba(255,255,255,0.5)\",\n",
    "            gridwidth = 1\n",
    "        ),\n",
    "        radialaxis=dict(\n",
    "            angle = 60,\n",
    "            showline=False, # the tick line\n",
    "            showticklabels=False,\n",
    "            visible=True,\n",
    "            nticks=4,\n",
    "            range = [range_min,range_max],\n",
    "#             gridcolor = \"rgb(133,134,136)\",\n",
    "            gridwidth = 4,\n",
    "            gridcolor = \"white\", #the tick line\n",
    "        )\n",
    "    )\n",
    "\n",
    "    \n",
    "layout = go.Layout(\n",
    "    showlegend = False,\n",
    "#     title = \"Small Nation in different Continents \",\n",
    "    paper_bgcolor=bgcolor,\n",
    ")\n",
    "\n",
    "\n",
    "fig = go.Figure(data=data, layout=layout)\n",
    "fig['layout'].update(polars)\n",
    "fig['layout'].update(width=max(cols*600,800),height=rows*500)\n",
    "iplot(fig)"
   ]
  },
  {
   "cell_type": "code",
   "execution_count": null,
   "metadata": {},
   "outputs": [],
   "source": []
  }
 ],
 "metadata": {
  "kernelspec": {
   "display_name": "Python 3",
   "language": "python",
   "name": "python3"
  },
  "language_info": {
   "codemirror_mode": {
    "name": "ipython",
    "version": 3
   },
   "file_extension": ".py",
   "mimetype": "text/x-python",
   "name": "python",
   "nbconvert_exporter": "python",
   "pygments_lexer": "ipython3",
   "version": "3.6.6"
  }
 },
 "nbformat": 4,
 "nbformat_minor": 2
}
